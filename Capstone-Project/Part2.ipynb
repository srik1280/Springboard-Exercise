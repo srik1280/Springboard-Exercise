{
 "cells": [
  {
   "cell_type": "markdown",
   "metadata": {},
   "source": [
    "## Logistic Regression"
   ]
  },
  {
   "cell_type": "markdown",
   "metadata": {},
   "source": [
    "#### Import all Libraries needed for the model "
   ]
  },
  {
   "cell_type": "code",
   "execution_count": 1,
   "metadata": {
    "collapsed": true
   },
   "outputs": [],
   "source": [
    "import pandas as pd\n",
    "import numpy as np\n",
    "\n",
    "from matplotlib import pyplot as plt\n",
    "%matplotlib inline\n",
    "import seaborn as sns\n",
    "\n",
    "import statsmodels.api as sm\n",
    "import pylab as pl"
   ]
  },
  {
   "cell_type": "markdown",
   "metadata": {},
   "source": [
    "Import the Open Food Dataset . First import only 10000 records . "
   ]
  },
  {
   "cell_type": "code",
   "execution_count": 2,
   "metadata": {
    "collapsed": false
   },
   "outputs": [
    {
     "name": "stderr",
     "output_type": "stream",
     "text": [
      "/Users/vingadgil/anaconda/lib/python3.5/site-packages/IPython/core/interactiveshell.py:2723: DtypeWarning: Columns (0) have mixed types. Specify dtype option on import or set low_memory=False.\n",
      "  interactivity=interactivity, compiler=compiler, result=result)\n"
     ]
    },
    {
     "data": {
      "text/html": [
       "<div>\n",
       "<table border=\"1\" class=\"dataframe\">\n",
       "  <thead>\n",
       "    <tr style=\"text-align: right;\">\n",
       "      <th></th>\n",
       "      <th>code</th>\n",
       "      <th>url</th>\n",
       "      <th>creator</th>\n",
       "      <th>created_t</th>\n",
       "      <th>created_datetime</th>\n",
       "      <th>last_modified_t</th>\n",
       "      <th>last_modified_datetime</th>\n",
       "      <th>product_name</th>\n",
       "      <th>generic_name</th>\n",
       "      <th>quantity</th>\n",
       "      <th>...</th>\n",
       "      <th>caffeine_100g</th>\n",
       "      <th>taurine_100g</th>\n",
       "      <th>ph_100g</th>\n",
       "      <th>fruits-vegetables-nuts_100g</th>\n",
       "      <th>collagen-meat-protein-ratio_100g</th>\n",
       "      <th>cocoa_100g</th>\n",
       "      <th>chlorophyl_100g</th>\n",
       "      <th>carbon-footprint_100g</th>\n",
       "      <th>nutrition-score-fr_100g</th>\n",
       "      <th>nutrition-score-uk_100g</th>\n",
       "    </tr>\n",
       "  </thead>\n",
       "  <tbody>\n",
       "    <tr>\n",
       "      <th>0</th>\n",
       "      <td>0000000024600</td>\n",
       "      <td>http://world-en.openfoodfacts.org/product/0000...</td>\n",
       "      <td>date-limite-app</td>\n",
       "      <td>1434530704</td>\n",
       "      <td>2015-06-17T08:45:04Z</td>\n",
       "      <td>1434535914</td>\n",
       "      <td>2015-06-17T10:11:54Z</td>\n",
       "      <td>Filet de bœuf</td>\n",
       "      <td>NaN</td>\n",
       "      <td>2.46 kg</td>\n",
       "      <td>...</td>\n",
       "      <td>NaN</td>\n",
       "      <td>NaN</td>\n",
       "      <td>NaN</td>\n",
       "      <td>NaN</td>\n",
       "      <td>NaN</td>\n",
       "      <td>NaN</td>\n",
       "      <td>NaN</td>\n",
       "      <td>NaN</td>\n",
       "      <td>NaN</td>\n",
       "      <td>NaN</td>\n",
       "    </tr>\n",
       "    <tr>\n",
       "      <th>1</th>\n",
       "      <td>0000000027205</td>\n",
       "      <td>http://world-en.openfoodfacts.org/product/0000...</td>\n",
       "      <td>tacinte</td>\n",
       "      <td>1458238630</td>\n",
       "      <td>2016-03-17T18:17:10Z</td>\n",
       "      <td>1458238638</td>\n",
       "      <td>2016-03-17T18:17:18Z</td>\n",
       "      <td>NaN</td>\n",
       "      <td>NaN</td>\n",
       "      <td>NaN</td>\n",
       "      <td>...</td>\n",
       "      <td>NaN</td>\n",
       "      <td>NaN</td>\n",
       "      <td>NaN</td>\n",
       "      <td>NaN</td>\n",
       "      <td>NaN</td>\n",
       "      <td>NaN</td>\n",
       "      <td>NaN</td>\n",
       "      <td>NaN</td>\n",
       "      <td>NaN</td>\n",
       "      <td>NaN</td>\n",
       "    </tr>\n",
       "    <tr>\n",
       "      <th>2</th>\n",
       "      <td>0000000036252</td>\n",
       "      <td>http://world-en.openfoodfacts.org/product/0000...</td>\n",
       "      <td>tacinte</td>\n",
       "      <td>1422221701</td>\n",
       "      <td>2015-01-25T21:35:01Z</td>\n",
       "      <td>1422221855</td>\n",
       "      <td>2015-01-25T21:37:35Z</td>\n",
       "      <td>Lion Peanut x2</td>\n",
       "      <td>NaN</td>\n",
       "      <td>NaN</td>\n",
       "      <td>...</td>\n",
       "      <td>NaN</td>\n",
       "      <td>NaN</td>\n",
       "      <td>NaN</td>\n",
       "      <td>NaN</td>\n",
       "      <td>NaN</td>\n",
       "      <td>NaN</td>\n",
       "      <td>NaN</td>\n",
       "      <td>NaN</td>\n",
       "      <td>NaN</td>\n",
       "      <td>NaN</td>\n",
       "    </tr>\n",
       "    <tr>\n",
       "      <th>3</th>\n",
       "      <td>0000000039259</td>\n",
       "      <td>http://world-en.openfoodfacts.org/product/0000...</td>\n",
       "      <td>tacinte</td>\n",
       "      <td>1422221773</td>\n",
       "      <td>2015-01-25T21:36:13Z</td>\n",
       "      <td>1422221926</td>\n",
       "      <td>2015-01-25T21:38:46Z</td>\n",
       "      <td>Twix x2</td>\n",
       "      <td>NaN</td>\n",
       "      <td>NaN</td>\n",
       "      <td>...</td>\n",
       "      <td>NaN</td>\n",
       "      <td>NaN</td>\n",
       "      <td>NaN</td>\n",
       "      <td>NaN</td>\n",
       "      <td>NaN</td>\n",
       "      <td>NaN</td>\n",
       "      <td>NaN</td>\n",
       "      <td>NaN</td>\n",
       "      <td>NaN</td>\n",
       "      <td>NaN</td>\n",
       "    </tr>\n",
       "    <tr>\n",
       "      <th>4</th>\n",
       "      <td>0000000039529</td>\n",
       "      <td>http://world-en.openfoodfacts.org/product/0000...</td>\n",
       "      <td>teolemon</td>\n",
       "      <td>1420147051</td>\n",
       "      <td>2015-01-01T21:17:31Z</td>\n",
       "      <td>1439141740</td>\n",
       "      <td>2015-08-09T17:35:40Z</td>\n",
       "      <td>Pack de 2 Twix</td>\n",
       "      <td>NaN</td>\n",
       "      <td>NaN</td>\n",
       "      <td>...</td>\n",
       "      <td>NaN</td>\n",
       "      <td>NaN</td>\n",
       "      <td>NaN</td>\n",
       "      <td>NaN</td>\n",
       "      <td>NaN</td>\n",
       "      <td>NaN</td>\n",
       "      <td>NaN</td>\n",
       "      <td>NaN</td>\n",
       "      <td>NaN</td>\n",
       "      <td>NaN</td>\n",
       "    </tr>\n",
       "  </tbody>\n",
       "</table>\n",
       "<p>5 rows × 159 columns</p>\n",
       "</div>"
      ],
      "text/plain": [
       "            code                                                url  \\\n",
       "0  0000000024600  http://world-en.openfoodfacts.org/product/0000...   \n",
       "1  0000000027205  http://world-en.openfoodfacts.org/product/0000...   \n",
       "2  0000000036252  http://world-en.openfoodfacts.org/product/0000...   \n",
       "3  0000000039259  http://world-en.openfoodfacts.org/product/0000...   \n",
       "4  0000000039529  http://world-en.openfoodfacts.org/product/0000...   \n",
       "\n",
       "           creator   created_t      created_datetime  last_modified_t  \\\n",
       "0  date-limite-app  1434530704  2015-06-17T08:45:04Z       1434535914   \n",
       "1          tacinte  1458238630  2016-03-17T18:17:10Z       1458238638   \n",
       "2          tacinte  1422221701  2015-01-25T21:35:01Z       1422221855   \n",
       "3          tacinte  1422221773  2015-01-25T21:36:13Z       1422221926   \n",
       "4         teolemon  1420147051  2015-01-01T21:17:31Z       1439141740   \n",
       "\n",
       "  last_modified_datetime    product_name generic_name quantity  \\\n",
       "0   2015-06-17T10:11:54Z   Filet de bœuf          NaN  2.46 kg   \n",
       "1   2016-03-17T18:17:18Z             NaN          NaN      NaN   \n",
       "2   2015-01-25T21:37:35Z  Lion Peanut x2          NaN      NaN   \n",
       "3   2015-01-25T21:38:46Z         Twix x2          NaN      NaN   \n",
       "4   2015-08-09T17:35:40Z  Pack de 2 Twix          NaN      NaN   \n",
       "\n",
       "            ...           caffeine_100g taurine_100g ph_100g  \\\n",
       "0           ...                     NaN          NaN     NaN   \n",
       "1           ...                     NaN          NaN     NaN   \n",
       "2           ...                     NaN          NaN     NaN   \n",
       "3           ...                     NaN          NaN     NaN   \n",
       "4           ...                     NaN          NaN     NaN   \n",
       "\n",
       "  fruits-vegetables-nuts_100g collagen-meat-protein-ratio_100g cocoa_100g  \\\n",
       "0                         NaN                              NaN        NaN   \n",
       "1                         NaN                              NaN        NaN   \n",
       "2                         NaN                              NaN        NaN   \n",
       "3                         NaN                              NaN        NaN   \n",
       "4                         NaN                              NaN        NaN   \n",
       "\n",
       "  chlorophyl_100g carbon-footprint_100g nutrition-score-fr_100g  \\\n",
       "0             NaN                   NaN                     NaN   \n",
       "1             NaN                   NaN                     NaN   \n",
       "2             NaN                   NaN                     NaN   \n",
       "3             NaN                   NaN                     NaN   \n",
       "4             NaN                   NaN                     NaN   \n",
       "\n",
       "  nutrition-score-uk_100g  \n",
       "0                     NaN  \n",
       "1                     NaN  \n",
       "2                     NaN  \n",
       "3                     NaN  \n",
       "4                     NaN  \n",
       "\n",
       "[5 rows x 159 columns]"
      ]
     },
     "execution_count": 2,
     "metadata": {},
     "output_type": "execute_result"
    }
   ],
   "source": [
    "pd_1 = pd.read_csv('en.openfoodfacts.org.products.csv', sep='\\t',nrows = 10000 )\n",
    "pd_1.head()"
   ]
  },
  {
   "cell_type": "code",
   "execution_count": 3,
   "metadata": {
    "collapsed": false,
    "scrolled": false
   },
   "outputs": [
    {
     "data": {
      "text/html": [
       "<div>\n",
       "<table border=\"1\" class=\"dataframe\">\n",
       "  <thead>\n",
       "    <tr style=\"text-align: right;\">\n",
       "      <th></th>\n",
       "      <th>code</th>\n",
       "      <th>product_name</th>\n",
       "      <th>ingredients_text</th>\n",
       "    </tr>\n",
       "  </thead>\n",
       "  <tbody>\n",
       "    <tr>\n",
       "      <th>1</th>\n",
       "      <td>0000000027205</td>\n",
       "      <td>NaN</td>\n",
       "      <td>NaN</td>\n",
       "    </tr>\n",
       "    <tr>\n",
       "      <th>10</th>\n",
       "      <td>0000007020254</td>\n",
       "      <td>NaN</td>\n",
       "      <td>NaN</td>\n",
       "    </tr>\n",
       "    <tr>\n",
       "      <th>23</th>\n",
       "      <td>0000069105241</td>\n",
       "      <td>NaN</td>\n",
       "      <td>NaN</td>\n",
       "    </tr>\n",
       "    <tr>\n",
       "      <th>28</th>\n",
       "      <td>0000140000083</td>\n",
       "      <td>NaN</td>\n",
       "      <td>NaN</td>\n",
       "    </tr>\n",
       "    <tr>\n",
       "      <th>29</th>\n",
       "      <td>00002523</td>\n",
       "      <td>NaN</td>\n",
       "      <td>NaN</td>\n",
       "    </tr>\n",
       "  </tbody>\n",
       "</table>\n",
       "</div>"
      ],
      "text/plain": [
       "             code product_name ingredients_text\n",
       "1   0000000027205          NaN              NaN\n",
       "10  0000007020254          NaN              NaN\n",
       "23  0000069105241          NaN              NaN\n",
       "28  0000140000083          NaN              NaN\n",
       "29       00002523          NaN              NaN"
      ]
     },
     "execution_count": 3,
     "metadata": {},
     "output_type": "execute_result"
    }
   ],
   "source": [
    "pd_null = pd_1[pd_1.product_name.isnull()]\n",
    "pd_null[['code','product_name','ingredients_text']].head()"
   ]
  },
  {
   "cell_type": "code",
   "execution_count": 4,
   "metadata": {
    "collapsed": false
   },
   "outputs": [
    {
     "data": {
      "text/plain": [
       "5546"
      ]
     },
     "execution_count": 4,
     "metadata": {},
     "output_type": "execute_result"
    }
   ],
   "source": [
    "len(pd_1[pd_1.ingredients_text.isnull()])\n"
   ]
  },
  {
   "cell_type": "code",
   "execution_count": 5,
   "metadata": {
    "collapsed": false
   },
   "outputs": [
    {
     "data": {
      "text/html": [
       "<div>\n",
       "<table border=\"1\" class=\"dataframe\">\n",
       "  <thead>\n",
       "    <tr style=\"text-align: right;\">\n",
       "      <th></th>\n",
       "      <th>code</th>\n",
       "      <th>ingredients_text</th>\n",
       "    </tr>\n",
       "  </thead>\n",
       "  <tbody>\n",
       "    <tr>\n",
       "      <th>0</th>\n",
       "      <td>0000000024600</td>\n",
       "      <td>NaN</td>\n",
       "    </tr>\n",
       "    <tr>\n",
       "      <th>1</th>\n",
       "      <td>0000000027205</td>\n",
       "      <td>NaN</td>\n",
       "    </tr>\n",
       "    <tr>\n",
       "      <th>2</th>\n",
       "      <td>0000000036252</td>\n",
       "      <td>NaN</td>\n",
       "    </tr>\n",
       "    <tr>\n",
       "      <th>3</th>\n",
       "      <td>0000000039259</td>\n",
       "      <td>NaN</td>\n",
       "    </tr>\n",
       "    <tr>\n",
       "      <th>4</th>\n",
       "      <td>0000000039529</td>\n",
       "      <td>NaN</td>\n",
       "    </tr>\n",
       "  </tbody>\n",
       "</table>\n",
       "</div>"
      ],
      "text/plain": [
       "            code ingredients_text\n",
       "0  0000000024600              NaN\n",
       "1  0000000027205              NaN\n",
       "2  0000000036252              NaN\n",
       "3  0000000039259              NaN\n",
       "4  0000000039529              NaN"
      ]
     },
     "execution_count": 5,
     "metadata": {},
     "output_type": "execute_result"
    }
   ],
   "source": [
    "pd_1[pd_1.ingredients_text.isnull()][['code','ingredients_text']].head()"
   ]
  },
  {
   "cell_type": "code",
   "execution_count": 6,
   "metadata": {
    "collapsed": false
   },
   "outputs": [
    {
     "data": {
      "text/plain": [
       "10000"
      ]
     },
     "execution_count": 6,
     "metadata": {},
     "output_type": "execute_result"
    }
   ],
   "source": [
    "len(pd_1)"
   ]
  },
  {
   "cell_type": "markdown",
   "metadata": {},
   "source": [
    "Select only records from data which actually have ingredients i.e. ingredients_text has some values. We shall only be considering such records."
   ]
  },
  {
   "cell_type": "code",
   "execution_count": 7,
   "metadata": {
    "collapsed": false
   },
   "outputs": [
    {
     "data": {
      "text/plain": [
       "4454"
      ]
     },
     "execution_count": 7,
     "metadata": {},
     "output_type": "execute_result"
    }
   ],
   "source": [
    "pd_1 = pd_1[pd_1.ingredients_text.notnull()]\n",
    "len(pd_1)"
   ]
  },
  {
   "cell_type": "markdown",
   "metadata": {},
   "source": [
    "Out of 10000 records there are only 4454 records which has ingredients."
   ]
  },
  {
   "cell_type": "code",
   "execution_count": 8,
   "metadata": {
    "collapsed": false
   },
   "outputs": [
    {
     "data": {
      "text/plain": [
       "['code',\n",
       " 'url',\n",
       " 'creator',\n",
       " 'created_t',\n",
       " 'created_datetime',\n",
       " 'last_modified_t',\n",
       " 'last_modified_datetime',\n",
       " 'product_name',\n",
       " 'generic_name',\n",
       " 'quantity',\n",
       " 'packaging',\n",
       " 'packaging_tags',\n",
       " 'brands',\n",
       " 'brands_tags',\n",
       " 'categories',\n",
       " 'categories_tags',\n",
       " 'categories_en',\n",
       " 'origins',\n",
       " 'origins_tags',\n",
       " 'manufacturing_places',\n",
       " 'manufacturing_places_tags',\n",
       " 'labels',\n",
       " 'labels_tags',\n",
       " 'labels_en',\n",
       " 'emb_codes',\n",
       " 'emb_codes_tags',\n",
       " 'first_packaging_code_geo',\n",
       " 'cities',\n",
       " 'cities_tags',\n",
       " 'purchase_places',\n",
       " 'stores',\n",
       " 'countries',\n",
       " 'countries_tags',\n",
       " 'countries_en',\n",
       " 'ingredients_text',\n",
       " 'allergens',\n",
       " 'allergens_en',\n",
       " 'traces',\n",
       " 'traces_tags',\n",
       " 'traces_en',\n",
       " 'serving_size',\n",
       " 'no_nutriments',\n",
       " 'additives_n',\n",
       " 'additives',\n",
       " 'additives_tags',\n",
       " 'additives_en',\n",
       " 'ingredients_from_palm_oil_n',\n",
       " 'ingredients_from_palm_oil',\n",
       " 'ingredients_from_palm_oil_tags',\n",
       " 'ingredients_that_may_be_from_palm_oil_n',\n",
       " 'ingredients_that_may_be_from_palm_oil',\n",
       " 'ingredients_that_may_be_from_palm_oil_tags',\n",
       " 'nutrition_grade_uk',\n",
       " 'nutrition_grade_fr',\n",
       " 'pnns_groups_1',\n",
       " 'pnns_groups_2',\n",
       " 'states',\n",
       " 'states_tags',\n",
       " 'states_en',\n",
       " 'main_category',\n",
       " 'main_category_en',\n",
       " 'image_url',\n",
       " 'image_small_url',\n",
       " 'energy_100g',\n",
       " 'energy-from-fat_100g',\n",
       " 'fat_100g',\n",
       " 'saturated-fat_100g',\n",
       " '-butyric-acid_100g',\n",
       " '-caproic-acid_100g',\n",
       " '-caprylic-acid_100g',\n",
       " '-capric-acid_100g',\n",
       " '-lauric-acid_100g',\n",
       " '-myristic-acid_100g',\n",
       " '-palmitic-acid_100g',\n",
       " '-stearic-acid_100g',\n",
       " '-arachidic-acid_100g',\n",
       " '-behenic-acid_100g',\n",
       " '-lignoceric-acid_100g',\n",
       " '-cerotic-acid_100g',\n",
       " '-montanic-acid_100g',\n",
       " '-melissic-acid_100g',\n",
       " 'monounsaturated-fat_100g',\n",
       " 'polyunsaturated-fat_100g',\n",
       " 'omega-3-fat_100g',\n",
       " '-alpha-linolenic-acid_100g',\n",
       " '-eicosapentaenoic-acid_100g',\n",
       " '-docosahexaenoic-acid_100g',\n",
       " 'omega-6-fat_100g',\n",
       " '-linoleic-acid_100g',\n",
       " '-arachidonic-acid_100g',\n",
       " '-gamma-linolenic-acid_100g',\n",
       " '-dihomo-gamma-linolenic-acid_100g',\n",
       " 'omega-9-fat_100g',\n",
       " '-oleic-acid_100g',\n",
       " '-elaidic-acid_100g',\n",
       " '-gondoic-acid_100g',\n",
       " '-mead-acid_100g',\n",
       " '-erucic-acid_100g',\n",
       " '-nervonic-acid_100g',\n",
       " 'trans-fat_100g',\n",
       " 'cholesterol_100g',\n",
       " 'carbohydrates_100g',\n",
       " 'sugars_100g',\n",
       " '-sucrose_100g',\n",
       " '-glucose_100g',\n",
       " '-fructose_100g',\n",
       " '-lactose_100g',\n",
       " '-maltose_100g',\n",
       " '-maltodextrins_100g',\n",
       " 'starch_100g',\n",
       " 'polyols_100g',\n",
       " 'fiber_100g',\n",
       " 'proteins_100g',\n",
       " 'casein_100g',\n",
       " 'serum-proteins_100g',\n",
       " 'nucleotides_100g',\n",
       " 'salt_100g',\n",
       " 'sodium_100g',\n",
       " 'alcohol_100g',\n",
       " 'vitamin-a_100g',\n",
       " 'beta-carotene_100g',\n",
       " 'vitamin-d_100g',\n",
       " 'vitamin-e_100g',\n",
       " 'vitamin-k_100g',\n",
       " 'vitamin-c_100g',\n",
       " 'vitamin-b1_100g',\n",
       " 'vitamin-b2_100g',\n",
       " 'vitamin-pp_100g',\n",
       " 'vitamin-b6_100g',\n",
       " 'vitamin-b9_100g',\n",
       " 'vitamin-b12_100g',\n",
       " 'biotin_100g',\n",
       " 'pantothenic-acid_100g',\n",
       " 'silica_100g',\n",
       " 'bicarbonate_100g',\n",
       " 'potassium_100g',\n",
       " 'chloride_100g',\n",
       " 'calcium_100g',\n",
       " 'phosphorus_100g',\n",
       " 'iron_100g',\n",
       " 'magnesium_100g',\n",
       " 'zinc_100g',\n",
       " 'copper_100g',\n",
       " 'manganese_100g',\n",
       " 'fluoride_100g',\n",
       " 'selenium_100g',\n",
       " 'chromium_100g',\n",
       " 'molybdenum_100g',\n",
       " 'iodine_100g',\n",
       " 'caffeine_100g',\n",
       " 'taurine_100g',\n",
       " 'ph_100g',\n",
       " 'fruits-vegetables-nuts_100g',\n",
       " 'collagen-meat-protein-ratio_100g',\n",
       " 'cocoa_100g',\n",
       " 'chlorophyl_100g',\n",
       " 'carbon-footprint_100g',\n",
       " 'nutrition-score-fr_100g',\n",
       " 'nutrition-score-uk_100g']"
      ]
     },
     "execution_count": 8,
     "metadata": {},
     "output_type": "execute_result"
    }
   ],
   "source": [
    "# get col names\n",
    "col_names = pd_1.columns.values.tolist()\n",
    "col_names"
   ]
  },
  {
   "cell_type": "markdown",
   "metadata": {},
   "source": [
    "Selecting only specific columns from the dataset which is required for the logisitic regresssion - Code, Product name,\n",
    "Ingredients, Additives in the dataset and number of additives in each item."
   ]
  },
  {
   "cell_type": "code",
   "execution_count": 8,
   "metadata": {
    "collapsed": false
   },
   "outputs": [
    {
     "data": {
      "text/html": [
       "<div>\n",
       "<table border=\"1\" class=\"dataframe\">\n",
       "  <thead>\n",
       "    <tr style=\"text-align: right;\">\n",
       "      <th></th>\n",
       "      <th>code</th>\n",
       "      <th>product_name</th>\n",
       "      <th>ingredients_text</th>\n",
       "      <th>additives</th>\n",
       "      <th>additives_n</th>\n",
       "    </tr>\n",
       "  </thead>\n",
       "  <tbody>\n",
       "    <tr>\n",
       "      <th>5</th>\n",
       "      <td>0000000056434</td>\n",
       "      <td>diet lemonade by Sainsbury's</td>\n",
       "      <td>carbonated  water, acid: citric acid; flavouri...</td>\n",
       "      <td>[ carbonated-water -&gt; en:carbonated-water  ] ...</td>\n",
       "      <td>4.0</td>\n",
       "    </tr>\n",
       "    <tr>\n",
       "      <th>6</th>\n",
       "      <td>0000001071894</td>\n",
       "      <td>Flute</td>\n",
       "      <td>Wheat</td>\n",
       "      <td>[ wheat -&gt; en:wheat  ]</td>\n",
       "      <td>0.0</td>\n",
       "    </tr>\n",
       "    <tr>\n",
       "      <th>7</th>\n",
       "      <td>0000001471762</td>\n",
       "      <td>still Scottish water</td>\n",
       "      <td>water</td>\n",
       "      <td>[ water -&gt; en:water  ]</td>\n",
       "      <td>0.0</td>\n",
       "    </tr>\n",
       "    <tr>\n",
       "      <th>8</th>\n",
       "      <td>0000001798180</td>\n",
       "      <td>Fairtrade Ground Cinnamon</td>\n",
       "      <td>cinnamon</td>\n",
       "      <td>[ cinnamon -&gt; en:cinnamon  ]</td>\n",
       "      <td>0.0</td>\n",
       "    </tr>\n",
       "    <tr>\n",
       "      <th>9</th>\n",
       "      <td>0000005200016</td>\n",
       "      <td>lentilles vertes</td>\n",
       "      <td>lentilles vertes</td>\n",
       "      <td>[ lentilles-vertes -&gt; fr:lentilles-vertes  ] ...</td>\n",
       "      <td>0.0</td>\n",
       "    </tr>\n",
       "  </tbody>\n",
       "</table>\n",
       "</div>"
      ],
      "text/plain": [
       "            code                  product_name  \\\n",
       "5  0000000056434  diet lemonade by Sainsbury's   \n",
       "6  0000001071894                         Flute   \n",
       "7  0000001471762          still Scottish water   \n",
       "8  0000001798180     Fairtrade Ground Cinnamon   \n",
       "9  0000005200016             lentilles vertes    \n",
       "\n",
       "                                    ingredients_text  \\\n",
       "5  carbonated  water, acid: citric acid; flavouri...   \n",
       "6                                              Wheat   \n",
       "7                                              water   \n",
       "8                                           cinnamon   \n",
       "9                                   lentilles vertes   \n",
       "\n",
       "                                           additives  additives_n  \n",
       "5   [ carbonated-water -> en:carbonated-water  ] ...          4.0  \n",
       "6                            [ wheat -> en:wheat  ]           0.0  \n",
       "7                            [ water -> en:water  ]           0.0  \n",
       "8                      [ cinnamon -> en:cinnamon  ]           0.0  \n",
       "9   [ lentilles-vertes -> fr:lentilles-vertes  ] ...          0.0  "
      ]
     },
     "execution_count": 8,
     "metadata": {},
     "output_type": "execute_result"
    }
   ],
   "source": [
    "pd_new = pd_1[['code' , 'product_name' , 'ingredients_text', 'additives','additives_n']]\n",
    "pd_new = pd_new[pd_new.ingredients_text.notnull()]\n",
    "pd_new.head()"
   ]
  },
  {
   "cell_type": "code",
   "execution_count": null,
   "metadata": {
    "collapsed": false
   },
   "outputs": [],
   "source": []
  },
  {
   "cell_type": "markdown",
   "metadata": {},
   "source": [
    "#### Calculate Top 50 Ingredients from the Ingredients_text"
   ]
  },
  {
   "cell_type": "code",
   "execution_count": 9,
   "metadata": {
    "collapsed": false
   },
   "outputs": [],
   "source": [
    "# Calculate top 50 Ingredients -\n",
    "\n",
    "# get counts by ingredient\n",
    "# taken from http://stackoverflow.com/questions/12680754/split-pandas-dataframe-string-entry-to-separate-rows\n",
    "df_ingredients_tmp = pd_new[['code' , 'ingredients_text']]\n"
   ]
  },
  {
   "cell_type": "markdown",
   "metadata": {},
   "source": [
    "Split all the ingredients_text by comma ','"
   ]
  },
  {
   "cell_type": "code",
   "execution_count": 11,
   "metadata": {
    "collapsed": false
   },
   "outputs": [
    {
     "data": {
      "text/html": [
       "<div>\n",
       "<table border=\"1\" class=\"dataframe\">\n",
       "  <thead>\n",
       "    <tr style=\"text-align: right;\">\n",
       "      <th></th>\n",
       "      <th>ingredients_text</th>\n",
       "      <th>code</th>\n",
       "    </tr>\n",
       "  </thead>\n",
       "  <tbody>\n",
       "    <tr>\n",
       "      <th>0</th>\n",
       "      <td>carbonated  water</td>\n",
       "      <td>0000000056434</td>\n",
       "    </tr>\n",
       "    <tr>\n",
       "      <th>1</th>\n",
       "      <td>acid: citric acid; flavourings</td>\n",
       "      <td>0000000056434</td>\n",
       "    </tr>\n",
       "    <tr>\n",
       "      <th>2</th>\n",
       "      <td>acidity regular: trisodium citrate; sweetener...</td>\n",
       "      <td>0000000056434</td>\n",
       "    </tr>\n",
       "    <tr>\n",
       "      <th>3</th>\n",
       "      <td>Wheat</td>\n",
       "      <td>0000001071894</td>\n",
       "    </tr>\n",
       "    <tr>\n",
       "      <th>4</th>\n",
       "      <td>water</td>\n",
       "      <td>0000001471762</td>\n",
       "    </tr>\n",
       "  </tbody>\n",
       "</table>\n",
       "</div>"
      ],
      "text/plain": [
       "                                    ingredients_text           code\n",
       "0                                  carbonated  water  0000000056434\n",
       "1                     acid: citric acid; flavourings  0000000056434\n",
       "2   acidity regular: trisodium citrate; sweetener...  0000000056434\n",
       "3                                              Wheat  0000001071894\n",
       "4                                              water  0000001471762"
      ]
     },
     "execution_count": 11,
     "metadata": {},
     "output_type": "execute_result"
    }
   ],
   "source": [
    "df_ingredients = df_ingredients_tmp.ingredients_text.str.split(',').tolist()\n",
    "df_tmp = pd.DataFrame(df_ingredients,index=df_ingredients_tmp.code).stack() \n",
    "df_tmp = df_tmp.reset_index()[[0, 'code']] # var1 variable is currently labeled 0\n",
    "df_tmp.columns = ['ingredients_text', 'code'] # renaming var1\n",
    "df_tmp.head()"
   ]
  },
  {
   "cell_type": "code",
   "execution_count": null,
   "metadata": {
    "collapsed": false
   },
   "outputs": [],
   "source": []
  },
  {
   "cell_type": "code",
   "execution_count": 12,
   "metadata": {
    "collapsed": false
   },
   "outputs": [
    {
     "data": {
      "text/plain": [
       "Index([' SEL', ' SALT', ' SUCRE', ' SUGAR', ' EAU', ' WATER', ' DEXTROSE',\n",
       "       ' NIACIN', ' CITRIC ACID', ' SIROP DE GLUCOSE',\n",
       "       ...\n",
       "       '  UNSALTED BUTTER (MILK) (12%)',\n",
       "       ' FESTIGUNGSMITTEL: CALCIUMCHLORID; SÄUERUNGSMITTEL: CITRONENSÄURE',\n",
       "       ' JUS DE CAROTTE À BASE DE CONCENTRÉ 8%', 'ACIDIFIANT E330',\n",
       "       ' ARÔME BERGAMOTE 3%', ' ARÔME ARTIFICIEL DE CREVETTES',\n",
       "       ' DICED TOMATOES', '_EGGS_', ' MALTODEXTRIN CARAMELIZED SUGAR SYRUP',\n",
       "       ' YEAST NUTRIENTS'],\n",
       "      dtype='object', length=17793)"
      ]
     },
     "execution_count": 12,
     "metadata": {},
     "output_type": "execute_result"
    }
   ],
   "source": [
    "# Get the count for each ingredients.\n",
    "df1 = df_tmp['ingredients_text'].str.upper().value_counts()\n",
    "df1.index"
   ]
  },
  {
   "cell_type": "code",
   "execution_count": 13,
   "metadata": {
    "collapsed": false
   },
   "outputs": [],
   "source": [
    "df_tmp['ingredients_text'] = df_tmp['ingredients_text'].str.upper()"
   ]
  },
  {
   "cell_type": "code",
   "execution_count": 17,
   "metadata": {
    "collapsed": false
   },
   "outputs": [],
   "source": [
    "#df1.dtypes"
   ]
  },
  {
   "cell_type": "code",
   "execution_count": 14,
   "metadata": {
    "collapsed": false
   },
   "outputs": [
    {
     "name": "stderr",
     "output_type": "stream",
     "text": [
      "/Users/vingadgil/anaconda/lib/python3.5/site-packages/ipykernel/__main__.py:6: FutureWarning: sort(columns=....) is deprecated, use sort_values(by=.....)\n"
     ]
    },
    {
     "data": {
      "text/html": [
       "<div>\n",
       "<table border=\"1\" class=\"dataframe\">\n",
       "  <thead>\n",
       "    <tr style=\"text-align: right;\">\n",
       "      <th></th>\n",
       "      <th>num_products</th>\n",
       "    </tr>\n",
       "    <tr>\n",
       "      <th>ingredients_text</th>\n",
       "      <th></th>\n",
       "    </tr>\n",
       "  </thead>\n",
       "  <tbody>\n",
       "    <tr>\n",
       "      <th>SEL</th>\n",
       "      <td>701</td>\n",
       "    </tr>\n",
       "    <tr>\n",
       "      <th>SALT</th>\n",
       "      <td>658</td>\n",
       "    </tr>\n",
       "    <tr>\n",
       "      <th>SUCRE</th>\n",
       "      <td>590</td>\n",
       "    </tr>\n",
       "    <tr>\n",
       "      <th>SUGAR</th>\n",
       "      <td>462</td>\n",
       "    </tr>\n",
       "    <tr>\n",
       "      <th>EAU</th>\n",
       "      <td>429</td>\n",
       "    </tr>\n",
       "    <tr>\n",
       "      <th>WATER</th>\n",
       "      <td>280</td>\n",
       "    </tr>\n",
       "    <tr>\n",
       "      <th>DEXTROSE</th>\n",
       "      <td>264</td>\n",
       "    </tr>\n",
       "    <tr>\n",
       "      <th>NIACIN</th>\n",
       "      <td>183</td>\n",
       "    </tr>\n",
       "    <tr>\n",
       "      <th>CITRIC ACID</th>\n",
       "      <td>169</td>\n",
       "    </tr>\n",
       "    <tr>\n",
       "      <th>SIROP DE GLUCOSE</th>\n",
       "      <td>164</td>\n",
       "    </tr>\n",
       "    <tr>\n",
       "      <th>BEURRE DE CACAO</th>\n",
       "      <td>143</td>\n",
       "    </tr>\n",
       "    <tr>\n",
       "      <th>LEVURE</th>\n",
       "      <td>118</td>\n",
       "    </tr>\n",
       "    <tr>\n",
       "      <th>EAU</th>\n",
       "      <td>117</td>\n",
       "    </tr>\n",
       "    <tr>\n",
       "      <th>PÂTE DE CACAO</th>\n",
       "      <td>116</td>\n",
       "    </tr>\n",
       "    <tr>\n",
       "      <th>NATURAL FLAVOR</th>\n",
       "      <td>114</td>\n",
       "    </tr>\n",
       "    <tr>\n",
       "      <th>SUCRE</th>\n",
       "      <td>110</td>\n",
       "    </tr>\n",
       "    <tr>\n",
       "      <th>WATER</th>\n",
       "      <td>109</td>\n",
       "    </tr>\n",
       "    <tr>\n",
       "      <th>HUILE DE COLZA</th>\n",
       "      <td>106</td>\n",
       "    </tr>\n",
       "    <tr>\n",
       "      <th>ÉPICES</th>\n",
       "      <td>105</td>\n",
       "    </tr>\n",
       "    <tr>\n",
       "      <th>ARÔME</th>\n",
       "      <td>104</td>\n",
       "    </tr>\n",
       "    <tr>\n",
       "      <th>REDUCED IRON</th>\n",
       "      <td>103</td>\n",
       "    </tr>\n",
       "    <tr>\n",
       "      <th>FOLIC ACID)</th>\n",
       "      <td>101</td>\n",
       "    </tr>\n",
       "    <tr>\n",
       "      <th>SPICES</th>\n",
       "      <td>96</td>\n",
       "    </tr>\n",
       "    <tr>\n",
       "      <th>COCOA BUTTER</th>\n",
       "      <td>95</td>\n",
       "    </tr>\n",
       "    <tr>\n",
       "      <th>ARÔMES</th>\n",
       "      <td>94</td>\n",
       "    </tr>\n",
       "    <tr>\n",
       "      <th>RIBOFLAVIN</th>\n",
       "      <td>93</td>\n",
       "    </tr>\n",
       "    <tr>\n",
       "      <th>SUGAR</th>\n",
       "      <td>91</td>\n",
       "    </tr>\n",
       "    <tr>\n",
       "      <th>SEA SALT</th>\n",
       "      <td>89</td>\n",
       "    </tr>\n",
       "    <tr>\n",
       "      <th>PALM OIL</th>\n",
       "      <td>88</td>\n",
       "    </tr>\n",
       "    <tr>\n",
       "      <th>YEAST</th>\n",
       "      <td>84</td>\n",
       "    </tr>\n",
       "    <tr>\n",
       "      <th>HIGH FRUCTOSE CORN SYRUP</th>\n",
       "      <td>84</td>\n",
       "    </tr>\n",
       "    <tr>\n",
       "      <th>SIROP DE GLUCOSE-FRUCTOSE</th>\n",
       "      <td>80</td>\n",
       "    </tr>\n",
       "    <tr>\n",
       "      <th>CORN SYRUP</th>\n",
       "      <td>77</td>\n",
       "    </tr>\n",
       "    <tr>\n",
       "      <th>SPEISESALZ</th>\n",
       "      <td>76</td>\n",
       "    </tr>\n",
       "    <tr>\n",
       "      <th>VINEGAR</th>\n",
       "      <td>76</td>\n",
       "    </tr>\n",
       "    <tr>\n",
       "      <th>IRON</th>\n",
       "      <td>72</td>\n",
       "    </tr>\n",
       "    <tr>\n",
       "      <th>AIL</th>\n",
       "      <td>70</td>\n",
       "    </tr>\n",
       "    <tr>\n",
       "      <th>HUILE DE TOURNESOL</th>\n",
       "      <td>69</td>\n",
       "    </tr>\n",
       "    <tr>\n",
       "      <th>GARLIC</th>\n",
       "      <td>67</td>\n",
       "    </tr>\n",
       "    <tr>\n",
       "      <th>VINAIGRE D'ALCOOL</th>\n",
       "      <td>66</td>\n",
       "    </tr>\n",
       "    <tr>\n",
       "      <th>CALCIUM CARBONATE</th>\n",
       "      <td>65</td>\n",
       "    </tr>\n",
       "    <tr>\n",
       "      <th>NATURAL FLAVORS</th>\n",
       "      <td>63</td>\n",
       "    </tr>\n",
       "    <tr>\n",
       "      <th>ARÔME NATUREL</th>\n",
       "      <td>62</td>\n",
       "    </tr>\n",
       "    <tr>\n",
       "      <th>_SOY_ LECITHIN</th>\n",
       "      <td>62</td>\n",
       "    </tr>\n",
       "    <tr>\n",
       "      <th>SEL.</th>\n",
       "      <td>60</td>\n",
       "    </tr>\n",
       "    <tr>\n",
       "      <th>ZUCKER</th>\n",
       "      <td>60</td>\n",
       "    </tr>\n",
       "    <tr>\n",
       "      <th>XANTHAN GUM</th>\n",
       "      <td>59</td>\n",
       "    </tr>\n",
       "    <tr>\n",
       "      <th>SEL)</th>\n",
       "      <td>59</td>\n",
       "    </tr>\n",
       "    <tr>\n",
       "      <th>VITAMIN A PALMITATE</th>\n",
       "      <td>58</td>\n",
       "    </tr>\n",
       "    <tr>\n",
       "      <th>OIGNONS</th>\n",
       "      <td>58</td>\n",
       "    </tr>\n",
       "  </tbody>\n",
       "</table>\n",
       "</div>"
      ],
      "text/plain": [
       "                            num_products\n",
       "ingredients_text                        \n",
       " SEL                                 701\n",
       " SALT                                658\n",
       " SUCRE                               590\n",
       " SUGAR                               462\n",
       " EAU                                 429\n",
       " WATER                               280\n",
       " DEXTROSE                            264\n",
       " NIACIN                              183\n",
       " CITRIC ACID                         169\n",
       " SIROP DE GLUCOSE                    164\n",
       " BEURRE DE CACAO                     143\n",
       " LEVURE                              118\n",
       "EAU                                  117\n",
       " PÂTE DE CACAO                       116\n",
       " NATURAL FLAVOR                      114\n",
       "SUCRE                                110\n",
       "WATER                                109\n",
       " HUILE DE COLZA                      106\n",
       " ÉPICES                              105\n",
       " ARÔME                               104\n",
       " REDUCED IRON                        103\n",
       " FOLIC ACID)                         101\n",
       " SPICES                               96\n",
       " COCOA BUTTER                         95\n",
       " ARÔMES                               94\n",
       " RIBOFLAVIN                           93\n",
       "SUGAR                                 91\n",
       " SEA SALT                             89\n",
       " PALM OIL                             88\n",
       " YEAST                                84\n",
       " HIGH FRUCTOSE CORN SYRUP             84\n",
       " SIROP DE GLUCOSE-FRUCTOSE            80\n",
       " CORN SYRUP                           77\n",
       " SPEISESALZ                           76\n",
       " VINEGAR                              76\n",
       " IRON                                 72\n",
       " AIL                                  70\n",
       " HUILE DE TOURNESOL                   69\n",
       " GARLIC                               67\n",
       " VINAIGRE D'ALCOOL                    66\n",
       " CALCIUM CARBONATE                    65\n",
       " NATURAL FLAVORS                      63\n",
       " ARÔME NATUREL                        62\n",
       " _SOY_ LECITHIN                       62\n",
       " SEL.                                 60\n",
       " ZUCKER                               60\n",
       " XANTHAN GUM                          59\n",
       " SEL)                                 59\n",
       " VITAMIN A PALMITATE                  58\n",
       " OIGNONS                              58"
      ]
     },
     "execution_count": 14,
     "metadata": {},
     "output_type": "execute_result"
    }
   ],
   "source": [
    "# group by each ingredient and count unique number of products ('code')\n",
    "df_ingredients_ranks = pd.DataFrame(df_tmp.groupby('ingredients_text').code.nunique())\n",
    "# rename col\n",
    "df_ingredients_ranks.columns = ['num_products'] # renaming\n",
    "# sort it\n",
    "df_ingredients_ranks = df_ingredients_ranks.sort(['num_products'], ascending=[False])\n",
    "# here is the top 50 ingredients\n",
    "df_ingredients_top50 = df_ingredients_ranks.head(50)\n",
    "df_ingredients_top50"
   ]
  },
  {
   "cell_type": "code",
   "execution_count": 19,
   "metadata": {
    "collapsed": true
   },
   "outputs": [],
   "source": [
    "#df_ingredients_ranks.to_csv('50ingredients.csv')"
   ]
  },
  {
   "cell_type": "code",
   "execution_count": 19,
   "metadata": {
    "collapsed": false
   },
   "outputs": [
    {
     "data": {
      "text/plain": [
       "['num_products']"
      ]
     },
     "execution_count": 19,
     "metadata": {},
     "output_type": "execute_result"
    }
   ],
   "source": []
  },
  {
   "cell_type": "code",
   "execution_count": 15,
   "metadata": {
    "collapsed": false
   },
   "outputs": [
    {
     "data": {
      "text/html": [
       "<div>\n",
       "<table border=\"1\" class=\"dataframe\">\n",
       "  <thead>\n",
       "    <tr style=\"text-align: right;\">\n",
       "      <th></th>\n",
       "      <th>code</th>\n",
       "      <th>product_name</th>\n",
       "      <th>ingredients_text</th>\n",
       "      <th>additives_n</th>\n",
       "      <th>additives</th>\n",
       "    </tr>\n",
       "  </thead>\n",
       "  <tbody>\n",
       "    <tr>\n",
       "      <th>5</th>\n",
       "      <td>0000000056434</td>\n",
       "      <td>diet lemonade by Sainsbury's</td>\n",
       "      <td>carbonated  water, acid: citric acid; flavouri...</td>\n",
       "      <td>4.0</td>\n",
       "      <td>[ carbonated-water -&gt; en:carbonated-water  ] ...</td>\n",
       "    </tr>\n",
       "    <tr>\n",
       "      <th>6</th>\n",
       "      <td>0000001071894</td>\n",
       "      <td>Flute</td>\n",
       "      <td>Wheat</td>\n",
       "      <td>0.0</td>\n",
       "      <td>[ wheat -&gt; en:wheat  ]</td>\n",
       "    </tr>\n",
       "    <tr>\n",
       "      <th>7</th>\n",
       "      <td>0000001471762</td>\n",
       "      <td>still Scottish water</td>\n",
       "      <td>water</td>\n",
       "      <td>0.0</td>\n",
       "      <td>[ water -&gt; en:water  ]</td>\n",
       "    </tr>\n",
       "    <tr>\n",
       "      <th>8</th>\n",
       "      <td>0000001798180</td>\n",
       "      <td>Fairtrade Ground Cinnamon</td>\n",
       "      <td>cinnamon</td>\n",
       "      <td>0.0</td>\n",
       "      <td>[ cinnamon -&gt; en:cinnamon  ]</td>\n",
       "    </tr>\n",
       "    <tr>\n",
       "      <th>9</th>\n",
       "      <td>0000005200016</td>\n",
       "      <td>lentilles vertes</td>\n",
       "      <td>lentilles vertes</td>\n",
       "      <td>0.0</td>\n",
       "      <td>[ lentilles-vertes -&gt; fr:lentilles-vertes  ] ...</td>\n",
       "    </tr>\n",
       "  </tbody>\n",
       "</table>\n",
       "</div>"
      ],
      "text/plain": [
       "            code                  product_name  \\\n",
       "5  0000000056434  diet lemonade by Sainsbury's   \n",
       "6  0000001071894                         Flute   \n",
       "7  0000001471762          still Scottish water   \n",
       "8  0000001798180     Fairtrade Ground Cinnamon   \n",
       "9  0000005200016             lentilles vertes    \n",
       "\n",
       "                                    ingredients_text  additives_n  \\\n",
       "5  carbonated  water, acid: citric acid; flavouri...          4.0   \n",
       "6                                              Wheat          0.0   \n",
       "7                                              water          0.0   \n",
       "8                                           cinnamon          0.0   \n",
       "9                                   lentilles vertes          0.0   \n",
       "\n",
       "                                           additives  \n",
       "5   [ carbonated-water -> en:carbonated-water  ] ...  \n",
       "6                            [ wheat -> en:wheat  ]   \n",
       "7                            [ water -> en:water  ]   \n",
       "8                      [ cinnamon -> en:cinnamon  ]   \n",
       "9   [ lentilles-vertes -> fr:lentilles-vertes  ] ...  "
      ]
     },
     "execution_count": 15,
     "metadata": {},
     "output_type": "execute_result"
    }
   ],
   "source": [
    "pd_new = pd_new[['code' , 'product_name' , 'ingredients_text' ,'additives_n','additives']]\n",
    "pd_new = pd_new[pd_new.ingredients_text.notnull()]\n",
    "pd_new.head()"
   ]
  },
  {
   "cell_type": "code",
   "execution_count": null,
   "metadata": {
    "collapsed": false
   },
   "outputs": [],
   "source": []
  },
  {
   "cell_type": "markdown",
   "metadata": {
    "collapsed": false
   },
   "source": [
    "### Creating the Logistic Regression Model "
   ]
  },
  {
   "cell_type": "markdown",
   "metadata": {},
   "source": [
    "Plotting Additives_N field. In order to plot the additives , we have ignored all entries which are 0. Just plotting values which are above 0."
   ]
  },
  {
   "cell_type": "code",
   "execution_count": 16,
   "metadata": {
    "collapsed": true
   },
   "outputs": [],
   "source": [
    "pd_additive = pd_new[pd_new.additives_n > 0]"
   ]
  },
  {
   "cell_type": "code",
   "execution_count": 17,
   "metadata": {
    "collapsed": false
   },
   "outputs": [
    {
     "data": {
      "text/plain": [
       "<matplotlib.axes._subplots.AxesSubplot at 0x114adde10>"
      ]
     },
     "execution_count": 17,
     "metadata": {},
     "output_type": "execute_result"
    },
    {
     "data": {
      "image/png": "[encoded data removed]",
      "text/plain": [
       "<matplotlib.figure.Figure at 0x110c81b70>"
      ]
     },
     "metadata": {},
     "output_type": "display_data"
    }
   ],
   "source": [
    "pd_additive.additives_n.hist(bins=25)"
   ]
  },
  {
   "cell_type": "markdown",
   "metadata": {},
   "source": [
    "Since We would be using Additives_n column for Regression model we shall create a new column called'High Add' .\n",
    "\n",
    "\n",
    "If Additives_n > 4 ,\n",
    "     \n",
    "   High Add = 1.\n",
    " \n",
    "Else \n",
    "\n",
    "   High Add = 0."
   ]
  },
  {
   "cell_type": "code",
   "execution_count": 18,
   "metadata": {
    "collapsed": true
   },
   "outputs": [],
   "source": [
    "pd_new['high_add'] = np.where(pd_new['additives_n']>4, '1', '0')"
   ]
  },
  {
   "cell_type": "code",
   "execution_count": 19,
   "metadata": {
    "collapsed": false
   },
   "outputs": [
    {
     "data": {
      "text/plain": [
       "505"
      ]
     },
     "execution_count": 19,
     "metadata": {},
     "output_type": "execute_result"
    }
   ],
   "source": [
    "len(pd_new[pd_new['high_add'] == '1'])"
   ]
  },
  {
   "cell_type": "markdown",
   "metadata": {},
   "source": [
    "Around 505 items amont 4000 records have more than 4 additives in ingredients."
   ]
  },
  {
   "cell_type": "markdown",
   "metadata": {},
   "source": [
    "##### Based on the Top 50 ingredients and checking the Top 20 Additives on Web , we create new dummy variables.\n",
    "TOP 20 Additives that we search in the Ingredients are -\n",
    "\n",
    "1. SALT\n",
    "2. SUGAR\n",
    "3. CHOCO / CHOCOLATE\n",
    "4. DEXTROSE\n",
    "5. CITRIC ACID\n",
    "6. AROME\n",
    "7. COCOA BUTTER\n",
    "8. GLUCOSE\n",
    "9. CORN SYRUP\n",
    "10. WHEAT\n",
    "11. CARBONATED WATER\n",
    "12. PALM OIL\n",
    "13. MONOSODIUM GLUTAMATE\n",
    "14. YEAST\n",
    "15. HYDROGENATED OIL\n",
    "16. ARTIFICIAL COLORS\n",
    "17. SODIUM NITRATE / SODIUM NITRITE\n",
    "18. BHA\n",
    "19. BHT\n",
    "20. STARCH\n",
    "21. ARTIFICAL SWEETNERS- Saccharin,Aspartame,Sucralose,Agave nectar,Bleached starch\n",
    "\n",
    "\n",
    "Create new Columns to check if ingredients have additives. For each Additive we add another column if ingredients \n",
    "have that material"
   ]
  },
  {
   "cell_type": "code",
   "execution_count": 21,
   "metadata": {
    "collapsed": true
   },
   "outputs": [],
   "source": [
    "pd_new['ingredients_text'] = pd_new['ingredients_text'].str.upper()"
   ]
  },
  {
   "cell_type": "code",
   "execution_count": null,
   "metadata": {
    "collapsed": false
   },
   "outputs": [],
   "source": []
  },
  {
   "cell_type": "code",
   "execution_count": 29,
   "metadata": {
    "collapsed": true
   },
   "outputs": [],
   "source": [
    "def new_coumn(column_name,label):\n",
    "    \n",
    "    pattern = '|'.join(label)\n",
    "    \n",
    "    pd_new[column_name] = pd_new['ingredients_text'].str.contains(pattern)\n",
    "    pd_new.column_name = pd_new.column_name.astype(int)\n",
    "    \n",
    "    return pd_new[column_name]"
   ]
  },
  {
   "cell_type": "code",
   "execution_count": 22,
   "metadata": {
    "collapsed": false
   },
   "outputs": [],
   "source": [
    "# Check if Ingredients have Wheat .\n",
    "\n",
    "#pd_new['has_wheat'] = pd_new['ingredients_text'].str.match('Wheat|wheat',case = '1', na='0')\n",
    "\n",
    "wheat = ['Wheat','wheat','Weizen','blé','trigo','WHEAT']\n",
    "\n",
    "pattern = '|'.join(wheat)\n",
    "\n",
    "\n",
    "pd_new['has_wheat'] = pd_new['ingredients_text'].str.contains(pattern)\n",
    "pd_new.has_wheat = pd_new.has_wheat.astype(int)\n"
   ]
  },
  {
   "cell_type": "code",
   "execution_count": 23,
   "metadata": {
    "collapsed": true
   },
   "outputs": [],
   "source": [
    "# Check if Ingredients has Salt.\n",
    "\n",
    "#pd_new['has_salt'] = pd_new['ingredients_text'].str.match('Salt|salt|SALT|SEL|SALZ',case = '1', na='0')\n",
    "\n",
    "salt = ['Salt','SALT','SAL','SALZ','SEL']\n",
    "\n",
    "pattern = '|'.join(salt)\n",
    "pd_new['has_salt'] = pd_new['ingredients_text'].str.contains(pattern) \n",
    "pd_new.has_salt = pd_new.has_salt.astype(int)"
   ]
  },
  {
   "cell_type": "code",
   "execution_count": 24,
   "metadata": {
    "collapsed": false
   },
   "outputs": [],
   "source": [
    "# Check if Ingredients has Sugar\n",
    "\n",
    "sugar = ['SUGAR','SUCRE','AZÚCAR','ZUCKER','Sugar']\n",
    "sugar = '|'.join(sugar)\n",
    "\n",
    "pd_new['has_sugar'] = pd_new['ingredients_text'].str.contains(sugar)\n",
    "pd_new.has_sugar = pd_new.has_sugar.astype(int)\n",
    "\n"
   ]
  },
  {
   "cell_type": "code",
   "execution_count": 25,
   "metadata": {
    "collapsed": false
   },
   "outputs": [],
   "source": [
    "# Check if Ingredients has Chocolate .\n",
    "\n",
    "chocolate = ['CHOCO','CHOCOLATE','CHOCOLAT','SCHOKOLADE','Chocolate']\n",
    "\n",
    "chocolate = '|'.join(chocolate)\n",
    "\n",
    "pd_new['has_choco'] = pd_new['ingredients_text'].str.contains(chocolate)\n",
    "pd_new.has_choco = pd_new.has_choco.astype(int)"
   ]
  },
  {
   "cell_type": "code",
   "execution_count": 26,
   "metadata": {
    "collapsed": true
   },
   "outputs": [],
   "source": [
    "# Check if Ingredients has Milk\n",
    "\n",
    "milk = ['MILK','LECHE','MILCHE','LAIT','Milk']\n",
    "milk = '|'.join(milk)\n",
    "\n",
    "pd_new['has_milk'] = pd_new['ingredients_text'].str.contains(milk)\n",
    "pd_new.has_milk = pd_new.has_milk.astype(int)\n"
   ]
  },
  {
   "cell_type": "code",
   "execution_count": 27,
   "metadata": {
    "collapsed": true
   },
   "outputs": [],
   "source": [
    "# Check if Ingredients has Color\n",
    "\n",
    "color = ['Color','COLOR','FARBE','COULEUR']\n",
    "color = '|'.join(color)\n",
    "\n",
    "pd_new['has_color'] = pd_new['ingredients_text'].str.contains(color)\n",
    "pd_new.has_color = pd_new.has_color.astype(int)\n"
   ]
  },
  {
   "cell_type": "code",
   "execution_count": 30,
   "metadata": {
    "collapsed": true
   },
   "outputs": [],
   "source": [
    "# Check if Ingredients has Sodium Nitrate , Sodium Nitrite\n",
    "sodium = ['Sodium Nitrate','SODIUM NITRATE','Sodium Nitrite','SODIUM NITRITE']\n",
    "sodium = '|'.join(sodium)\n",
    "\n",
    "pd_new['has_sodium'] = pd_new['ingredients_text'].str.contains(sodium)\n",
    "pd_new.has_sodium = pd_new.has_sodium.astype(int)\n"
   ]
  },
  {
   "cell_type": "code",
   "execution_count": 31,
   "metadata": {
    "collapsed": true
   },
   "outputs": [],
   "source": [
    "# Check if Ingredients has Corn Syrup\n",
    "\n",
    "corn_syrup = ['Corn Syrup','CORN SYRUP','MAISSIRUP','SIROP DE MAÏS','JARABE DE MAÍZ']\n",
    "corn_syrup = '|'.join(corn_syrup)\n",
    "\n",
    "pd_new['has_corn_syrup'] = pd_new['ingredients_text'].str.contains(corn_syrup)\n",
    "pd_new.has_corn_syrup = pd_new.has_corn_syrup.astype(int)\n",
    "\n"
   ]
  },
  {
   "cell_type": "code",
   "execution_count": 32,
   "metadata": {
    "collapsed": true
   },
   "outputs": [],
   "source": [
    "# Check if Ingredients has BHA\n",
    "\n",
    "bha = ['Bha','BHA']\n",
    "bha = '|'.join(bha)\n",
    "\n",
    "pd_new['has_bha'] = pd_new['ingredients_text'].str.contains(bha)\n",
    "pd_new.has_bha = pd_new.has_bha.astype(int)"
   ]
  },
  {
   "cell_type": "code",
   "execution_count": 33,
   "metadata": {
    "collapsed": true
   },
   "outputs": [],
   "source": [
    "# Check if Ingredients has BHT\n",
    "\n",
    "bht = ['Bht','BHT']\n",
    "bht = '|'.join(bht)\n",
    "\n",
    "pd_new['has_bht'] = pd_new['ingredients_text'].str.contains(bht)\n",
    "pd_new.has_bht = pd_new.has_bht.astype(int)"
   ]
  },
  {
   "cell_type": "code",
   "execution_count": 34,
   "metadata": {
    "collapsed": true
   },
   "outputs": [],
   "source": [
    "# Check if Ingredients has MSG\n",
    "\n",
    "msg = ['MSG','Msg','MONOSODIUM GLUTAMATE']\n",
    "msg = '|'.join(msg)\n",
    "\n",
    "pd_new['has_msg'] = pd_new['ingredients_text'].str.contains(msg)\n",
    "pd_new.has_msg = pd_new.has_msg.astype(int)"
   ]
  },
  {
   "cell_type": "code",
   "execution_count": 35,
   "metadata": {
    "collapsed": true
   },
   "outputs": [],
   "source": [
    "# Check if Ingredients has YEAST\n",
    "\n",
    "yeast = ['Yeast','YEAST','LEVURE','HEFE','LEVADURA']\n",
    "yeast = '|'.join(yeast)\n",
    "\n",
    "pd_new['has_yeast'] = pd_new['ingredients_text'].str.contains(yeast)\n",
    "pd_new.has_yeast = pd_new.has_yeast.astype(int)\n",
    "    "
   ]
  },
  {
   "cell_type": "code",
   "execution_count": 36,
   "metadata": {
    "collapsed": true
   },
   "outputs": [],
   "source": [
    "# Check if Ingredients has Carbonated Water\n",
    "\n",
    "carbon = ['Carbonated Water','CARBONATED WATER','EAU GAZEUSE','AGUA CARBONATADA','WASSER MIT KOHLENSÄURE']\n",
    "carbon = '|'.join(carbon)\n",
    "\n",
    "pd_new['has_carbon'] = pd_new['ingredients_text'].str.contains(carbon)\n",
    "pd_new.has_carbon = pd_new.has_carbon.astype(int)"
   ]
  },
  {
   "cell_type": "code",
   "execution_count": 28,
   "metadata": {
    "collapsed": true
   },
   "outputs": [],
   "source": [
    "# Check if Ingredients has Palm Oil\n",
    "\n",
    "palm = ['Palm Oil','PALM OIL','PALMÖL','HUILE DE PALME','ACEITE DE PALMA']\n",
    "palm = '|'.join(palm)\n",
    "\n",
    "pd_new['has_palm'] = pd_new['ingredients_text'].str.contains(palm)\n",
    "pd_new.has_palm = pd_new.has_palm.astype(int)\n"
   ]
  },
  {
   "cell_type": "code",
   "execution_count": 38,
   "metadata": {
    "collapsed": true
   },
   "outputs": [],
   "source": [
    "# Check if Ingredients has Hydrogenated Oil\n",
    "\n",
    "hyr_oil = ['Hydrogenated','HYDROGENATED','HIDROGENADO','HYDROGENIERT','HYDROGÉNÉ']\n",
    "hyr_oil = '|'.join(hyr_oil)\n",
    "\n",
    "pd_new['has_hyr_oil'] = pd_new['ingredients_text'].str.contains(hyr_oil)\n",
    "pd_new.has_hyr_oil = pd_new.has_hyr_oil.astype(int)\n"
   ]
  },
  {
   "cell_type": "code",
   "execution_count": 39,
   "metadata": {
    "collapsed": true
   },
   "outputs": [],
   "source": [
    "# Check if Ingredients has Artificial Sweetners\n",
    "\n",
    "art_sweet = ['SACCHARIN','ASPARTAME','SUCRALOSE','AGAVE NECTAR']\n",
    "art_sweet = '|'.join(art_sweet)\n",
    "\n",
    "pd_new['has_art_sweet'] = pd_new['ingredients_text'].str.contains(palm)\n",
    "pd_new.has_art_sweet = pd_new.has_art_sweet.astype(int)"
   ]
  },
  {
   "cell_type": "code",
   "execution_count": 40,
   "metadata": {
    "collapsed": true
   },
   "outputs": [],
   "source": [
    "# Check if Ingredients has DEXTROSE\n",
    "\n",
    "dextrose = ['Dextrose','DEXTROSE']\n",
    "dextrose = '|'.join(dextrose)\n",
    "\n",
    "pd_new['has_dextrose'] = pd_new['ingredients_text'].str.contains(dextrose)\n",
    "pd_new.has_dextrose = pd_new.has_dextrose.astype(int)"
   ]
  },
  {
   "cell_type": "code",
   "execution_count": null,
   "metadata": {
    "collapsed": false
   },
   "outputs": [],
   "source": []
  },
  {
   "cell_type": "code",
   "execution_count": 41,
   "metadata": {
    "collapsed": true
   },
   "outputs": [],
   "source": [
    "# Check if Ingredients has GLUCOSE\n",
    "\n",
    "glucose = ['Glucose','GLUCOSE']\n",
    "glucose = '|'.join(glucose)\n",
    "\n",
    "pd_new['has_glucose'] = pd_new['ingredients_text'].str.contains(dextrose)\n",
    "pd_new.has_glucose = pd_new.has_glucose.astype(int)"
   ]
  },
  {
   "cell_type": "code",
   "execution_count": 29,
   "metadata": {
    "collapsed": true
   },
   "outputs": [],
   "source": [
    "# Check if Ingredients has cocoa butter\n",
    "\n",
    "cocoa = ['Cocoa Butter','COCOA BUTTER','COCOA','KAKAOBUTTER','LE BEURRE DE CACAO','CACAO','KAKAO']\n",
    "cocoa = '|'.join(cocoa)\n",
    "\n",
    "pd_new['has_cocoa'] = pd_new['ingredients_text'].str.contains(cocoa)\n",
    "pd_new.has_cocoa = pd_new.has_cocoa.astype(int)"
   ]
  },
  {
   "cell_type": "code",
   "execution_count": 30,
   "metadata": {
    "collapsed": true
   },
   "outputs": [],
   "source": [
    "# manually add the intercept\n",
    "pd_new['intercept'] = 1.0"
   ]
  },
  {
   "cell_type": "code",
   "execution_count": 31,
   "metadata": {
    "collapsed": false
   },
   "outputs": [],
   "source": [
    "pd_new['high_add'] = pd_new['high_add'].astype(int)"
   ]
  },
  {
   "cell_type": "code",
   "execution_count": 32,
   "metadata": {
    "collapsed": false
   },
   "outputs": [
    {
     "name": "stdout",
     "output_type": "stream",
     "text": [
      "<class 'pandas.core.frame.DataFrame'>\n",
      "Int64Index: 4454 entries, 5 to 9999\n",
      "Data columns (total 15 columns):\n",
      "code                4454 non-null object\n",
      "product_name        4417 non-null object\n",
      "ingredients_text    4454 non-null object\n",
      "additives_n         4452 non-null float64\n",
      "additives           3987 non-null object\n",
      "high_add            4454 non-null int64\n",
      "has_wheat           4454 non-null int64\n",
      "has_salt            4454 non-null int64\n",
      "has_sugar           4454 non-null int64\n",
      "has_choco           4454 non-null int64\n",
      "has_milk            4454 non-null int64\n",
      "has_color           4454 non-null int64\n",
      "has_palm            4454 non-null int64\n",
      "has_cocoa           4454 non-null int64\n",
      "intercept           4454 non-null float64\n",
      "dtypes: float64(2), int64(9), object(4)\n",
      "memory usage: 556.8+ KB\n"
     ]
    }
   ],
   "source": [
    "#pd_new.to_csv('abcd.csv')\n",
    "pd_new.info()"
   ]
  },
  {
   "cell_type": "markdown",
   "metadata": {},
   "source": [
    "LOGISTIC REGRESSION MODEL"
   ]
  },
  {
   "cell_type": "code",
   "execution_count": 33,
   "metadata": {
    "collapsed": false
   },
   "outputs": [
    {
     "name": "stdout",
     "output_type": "stream",
     "text": [
      "Optimization terminated successfully.\n",
      "         Current function value: 0.306835\n",
      "         Iterations 7\n"
     ]
    },
    {
     "data": {
      "text/html": [
       "<table class=\"simpletable\">\n",
       "<caption>Logit Regression Results</caption>\n",
       "<tr>\n",
       "  <th>Dep. Variable:</th>     <td>high_add</td>     <th>  No. Observations:  </th>  <td>  4454</td>  \n",
       "</tr>\n",
       "<tr>\n",
       "  <th>Model:</th>               <td>Logit</td>      <th>  Df Residuals:      </th>  <td>  4446</td>  \n",
       "</tr>\n",
       "<tr>\n",
       "  <th>Method:</th>               <td>MLE</td>       <th>  Df Model:          </th>  <td>     7</td>  \n",
       "</tr>\n",
       "<tr>\n",
       "  <th>Date:</th>          <td>Mon, 28 Nov 2016</td> <th>  Pseudo R-squ.:     </th>  <td>0.1321</td>  \n",
       "</tr>\n",
       "<tr>\n",
       "  <th>Time:</th>              <td>16:21:12</td>     <th>  Log-Likelihood:    </th> <td> -1366.6</td> \n",
       "</tr>\n",
       "<tr>\n",
       "  <th>converged:</th>           <td>True</td>       <th>  LL-Null:           </th> <td> -1574.6</td> \n",
       "</tr>\n",
       "<tr>\n",
       "  <th> </th>                      <td> </td>        <th>  LLR p-value:       </th> <td>9.131e-86</td>\n",
       "</tr>\n",
       "</table>\n",
       "<table class=\"simpletable\">\n",
       "<tr>\n",
       "      <td></td>         <th>coef</th>     <th>std err</th>      <th>z</th>      <th>P>|z|</th> <th>[95.0% Conf. Int.]</th> \n",
       "</tr>\n",
       "<tr>\n",
       "  <th>has_wheat</th> <td>    0.7141</td> <td>    0.143</td> <td>    5.005</td> <td> 0.000</td> <td>    0.434     0.994</td>\n",
       "</tr>\n",
       "<tr>\n",
       "  <th>has_salt</th>  <td>    0.8491</td> <td>    0.118</td> <td>    7.204</td> <td> 0.000</td> <td>    0.618     1.080</td>\n",
       "</tr>\n",
       "<tr>\n",
       "  <th>has_sugar</th> <td>    0.7972</td> <td>    0.112</td> <td>    7.092</td> <td> 0.000</td> <td>    0.577     1.018</td>\n",
       "</tr>\n",
       "<tr>\n",
       "  <th>has_choco</th> <td>    0.4492</td> <td>    0.251</td> <td>    1.792</td> <td> 0.073</td> <td>   -0.042     0.941</td>\n",
       "</tr>\n",
       "<tr>\n",
       "  <th>has_milk</th>  <td>    0.8521</td> <td>    0.107</td> <td>    7.935</td> <td> 0.000</td> <td>    0.642     1.063</td>\n",
       "</tr>\n",
       "<tr>\n",
       "  <th>has_cocoa</th> <td>   -0.5877</td> <td>    0.222</td> <td>   -2.652</td> <td> 0.008</td> <td>   -1.022    -0.153</td>\n",
       "</tr>\n",
       "<tr>\n",
       "  <th>has_palm</th>  <td>    0.8585</td> <td>    0.167</td> <td>    5.131</td> <td> 0.000</td> <td>    0.531     1.186</td>\n",
       "</tr>\n",
       "<tr>\n",
       "  <th>intercept</th> <td>   -3.4025</td> <td>    0.111</td> <td>  -30.642</td> <td> 0.000</td> <td>   -3.620    -3.185</td>\n",
       "</tr>\n",
       "</table>"
      ],
      "text/plain": [
       "<class 'statsmodels.iolib.summary.Summary'>\n",
       "\"\"\"\n",
       "                           Logit Regression Results                           \n",
       "==============================================================================\n",
       "Dep. Variable:               high_add   No. Observations:                 4454\n",
       "Model:                          Logit   Df Residuals:                     4446\n",
       "Method:                           MLE   Df Model:                            7\n",
       "Date:                Mon, 28 Nov 2016   Pseudo R-squ.:                  0.1321\n",
       "Time:                        16:21:12   Log-Likelihood:                -1366.6\n",
       "converged:                       True   LL-Null:                       -1574.6\n",
       "                                        LLR p-value:                 9.131e-86\n",
       "==============================================================================\n",
       "                 coef    std err          z      P>|z|      [95.0% Conf. Int.]\n",
       "------------------------------------------------------------------------------\n",
       "has_wheat      0.7141      0.143      5.005      0.000         0.434     0.994\n",
       "has_salt       0.8491      0.118      7.204      0.000         0.618     1.080\n",
       "has_sugar      0.7972      0.112      7.092      0.000         0.577     1.018\n",
       "has_choco      0.4492      0.251      1.792      0.073        -0.042     0.941\n",
       "has_milk       0.8521      0.107      7.935      0.000         0.642     1.063\n",
       "has_cocoa     -0.5877      0.222     -2.652      0.008        -1.022    -0.153\n",
       "has_palm       0.8585      0.167      5.131      0.000         0.531     1.186\n",
       "intercept     -3.4025      0.111    -30.642      0.000        -3.620    -3.185\n",
       "==============================================================================\n",
       "\"\"\""
      ]
     },
     "execution_count": 33,
     "metadata": {},
     "output_type": "execute_result"
    }
   ],
   "source": [
    "train_cols = [ 'has_wheat' , 'has_salt' , 'has_sugar', 'has_choco' ,'has_milk','has_cocoa','has_palm','intercept']\n",
    "\n",
    "\n",
    "logit = sm.Logit(pd_new['high_add'], pd_new[train_cols])\n",
    "\n",
    "# fit the model\n",
    "result = logit.fit()\n",
    "\n",
    "result.summary()"
   ]
  },
  {
   "cell_type": "code",
   "execution_count": 34,
   "metadata": {
    "collapsed": false
   },
   "outputs": [
    {
     "name": "stdout",
     "output_type": "stream",
     "text": [
      "370\n",
      "2198\n",
      "221\n",
      "1765\n",
      "465\n",
      "1103\n",
      "515\n"
     ]
    }
   ],
   "source": [
    "# Find the actual values of ones and zeros in each dummy column\n",
    "print(pd_new.has_wheat.sum())\n",
    "print(pd_new.has_salt.sum())\n",
    "print(pd_new.has_palm.sum())\n",
    "print(pd_new.has_sugar.sum())\n",
    "print(pd_new.has_cocoa.sum())\n",
    "print(pd_new.has_milk.sum())\n",
    "print(pd_new.has_color.sum())"
   ]
  },
  {
   "cell_type": "code",
   "execution_count": 35,
   "metadata": {
    "collapsed": false
   },
   "outputs": [
    {
     "data": {
      "text/html": [
       "<div>\n",
       "<table border=\"1\" class=\"dataframe\">\n",
       "  <thead>\n",
       "    <tr style=\"text-align: right;\">\n",
       "      <th></th>\n",
       "      <th>0</th>\n",
       "      <th>1</th>\n",
       "    </tr>\n",
       "  </thead>\n",
       "  <tbody>\n",
       "    <tr>\n",
       "      <th>has_wheat</th>\n",
       "      <td>0.434454</td>\n",
       "      <td>0.993810</td>\n",
       "    </tr>\n",
       "    <tr>\n",
       "      <th>has_salt</th>\n",
       "      <td>0.618117</td>\n",
       "      <td>1.080173</td>\n",
       "    </tr>\n",
       "    <tr>\n",
       "      <th>has_sugar</th>\n",
       "      <td>0.576910</td>\n",
       "      <td>1.017536</td>\n",
       "    </tr>\n",
       "    <tr>\n",
       "      <th>has_choco</th>\n",
       "      <td>-0.042165</td>\n",
       "      <td>0.940580</td>\n",
       "    </tr>\n",
       "    <tr>\n",
       "      <th>has_milk</th>\n",
       "      <td>0.641628</td>\n",
       "      <td>1.062586</td>\n",
       "    </tr>\n",
       "    <tr>\n",
       "      <th>has_cocoa</th>\n",
       "      <td>-1.021989</td>\n",
       "      <td>-0.153354</td>\n",
       "    </tr>\n",
       "    <tr>\n",
       "      <th>has_palm</th>\n",
       "      <td>0.530542</td>\n",
       "      <td>1.186377</td>\n",
       "    </tr>\n",
       "    <tr>\n",
       "      <th>intercept</th>\n",
       "      <td>-3.620184</td>\n",
       "      <td>-3.184909</td>\n",
       "    </tr>\n",
       "  </tbody>\n",
       "</table>\n",
       "</div>"
      ],
      "text/plain": [
       "                  0         1\n",
       "has_wheat  0.434454  0.993810\n",
       "has_salt   0.618117  1.080173\n",
       "has_sugar  0.576910  1.017536\n",
       "has_choco -0.042165  0.940580\n",
       "has_milk   0.641628  1.062586\n",
       "has_cocoa -1.021989 -0.153354\n",
       "has_palm   0.530542  1.186377\n",
       "intercept -3.620184 -3.184909"
      ]
     },
     "execution_count": 35,
     "metadata": {},
     "output_type": "execute_result"
    }
   ],
   "source": [
    "# look at the confidence interval of each coeffecient\n",
    "result.conf_int()"
   ]
  },
  {
   "cell_type": "code",
   "execution_count": 36,
   "metadata": {
    "collapsed": false
   },
   "outputs": [
    {
     "data": {
      "text/plain": [
       "has_wheat    2.042413\n",
       "has_salt     2.337647\n",
       "has_sugar    2.219369\n",
       "has_choco    1.567070\n",
       "has_milk     2.344581\n",
       "has_cocoa    0.555620\n",
       "has_palm     2.359524\n",
       "intercept    0.033288\n",
       "dtype: float64"
      ]
     },
     "execution_count": 36,
     "metadata": {},
     "output_type": "execute_result"
    }
   ],
   "source": [
    "np.exp(result.params)"
   ]
  },
  {
   "cell_type": "code",
   "execution_count": 64,
   "metadata": {
    "collapsed": false
   },
   "outputs": [],
   "source": [
    "# X - All Values of High Additive\n",
    "\n",
    "X  = pd_new['high_add']\n"
   ]
  },
  {
   "cell_type": "code",
   "execution_count": 76,
   "metadata": {
    "collapsed": false
   },
   "outputs": [],
   "source": [
    "# Predict Y using the logit function.\n",
    "pd_new['ypred'] = result.predict(pd_new[train_cols])\n"
   ]
  },
  {
   "cell_type": "code",
   "execution_count": 78,
   "metadata": {
    "collapsed": false
   },
   "outputs": [
    {
     "data": {
      "text/html": [
       "<div>\n",
       "<table border=\"1\" class=\"dataframe\">\n",
       "  <thead>\n",
       "    <tr style=\"text-align: right;\">\n",
       "      <th></th>\n",
       "      <th>high_add</th>\n",
       "      <th>ypred</th>\n",
       "    </tr>\n",
       "  </thead>\n",
       "  <tbody>\n",
       "    <tr>\n",
       "      <th>5</th>\n",
       "      <td>0</td>\n",
       "      <td>0.032216</td>\n",
       "    </tr>\n",
       "    <tr>\n",
       "      <th>6</th>\n",
       "      <td>0</td>\n",
       "      <td>0.063660</td>\n",
       "    </tr>\n",
       "    <tr>\n",
       "      <th>7</th>\n",
       "      <td>0</td>\n",
       "      <td>0.032216</td>\n",
       "    </tr>\n",
       "    <tr>\n",
       "      <th>8</th>\n",
       "      <td>0</td>\n",
       "      <td>0.032216</td>\n",
       "    </tr>\n",
       "    <tr>\n",
       "      <th>9</th>\n",
       "      <td>0</td>\n",
       "      <td>0.032216</td>\n",
       "    </tr>\n",
       "    <tr>\n",
       "      <th>11</th>\n",
       "      <td>0</td>\n",
       "      <td>0.087556</td>\n",
       "    </tr>\n",
       "    <tr>\n",
       "      <th>12</th>\n",
       "      <td>0</td>\n",
       "      <td>0.032216</td>\n",
       "    </tr>\n",
       "    <tr>\n",
       "      <th>13</th>\n",
       "      <td>0</td>\n",
       "      <td>0.068797</td>\n",
       "    </tr>\n",
       "    <tr>\n",
       "      <th>14</th>\n",
       "      <td>0</td>\n",
       "      <td>0.032216</td>\n",
       "    </tr>\n",
       "    <tr>\n",
       "      <th>16</th>\n",
       "      <td>0</td>\n",
       "      <td>0.032216</td>\n",
       "    </tr>\n",
       "    <tr>\n",
       "      <th>17</th>\n",
       "      <td>1</td>\n",
       "      <td>0.661172</td>\n",
       "    </tr>\n",
       "    <tr>\n",
       "      <th>18</th>\n",
       "      <td>1</td>\n",
       "      <td>0.661172</td>\n",
       "    </tr>\n",
       "    <tr>\n",
       "      <th>20</th>\n",
       "      <td>0</td>\n",
       "      <td>0.068797</td>\n",
       "    </tr>\n",
       "    <tr>\n",
       "      <th>21</th>\n",
       "      <td>0</td>\n",
       "      <td>0.068797</td>\n",
       "    </tr>\n",
       "    <tr>\n",
       "      <th>22</th>\n",
       "      <td>0</td>\n",
       "      <td>0.032216</td>\n",
       "    </tr>\n",
       "    <tr>\n",
       "      <th>24</th>\n",
       "      <td>0</td>\n",
       "      <td>0.032216</td>\n",
       "    </tr>\n",
       "    <tr>\n",
       "      <th>25</th>\n",
       "      <td>0</td>\n",
       "      <td>0.147270</td>\n",
       "    </tr>\n",
       "    <tr>\n",
       "      <th>26</th>\n",
       "      <td>0</td>\n",
       "      <td>0.068797</td>\n",
       "    </tr>\n",
       "    <tr>\n",
       "      <th>27</th>\n",
       "      <td>0</td>\n",
       "      <td>0.032216</td>\n",
       "    </tr>\n",
       "    <tr>\n",
       "      <th>30</th>\n",
       "      <td>0</td>\n",
       "      <td>0.032216</td>\n",
       "    </tr>\n",
       "    <tr>\n",
       "      <th>32</th>\n",
       "      <td>1</td>\n",
       "      <td>0.288214</td>\n",
       "    </tr>\n",
       "    <tr>\n",
       "      <th>33</th>\n",
       "      <td>1</td>\n",
       "      <td>0.072198</td>\n",
       "    </tr>\n",
       "    <tr>\n",
       "      <th>37</th>\n",
       "      <td>1</td>\n",
       "      <td>0.068797</td>\n",
       "    </tr>\n",
       "    <tr>\n",
       "      <th>38</th>\n",
       "      <td>1</td>\n",
       "      <td>0.068797</td>\n",
       "    </tr>\n",
       "    <tr>\n",
       "      <th>45</th>\n",
       "      <td>1</td>\n",
       "      <td>0.288214</td>\n",
       "    </tr>\n",
       "    <tr>\n",
       "      <th>61</th>\n",
       "      <td>0</td>\n",
       "      <td>0.068797</td>\n",
       "    </tr>\n",
       "    <tr>\n",
       "      <th>67</th>\n",
       "      <td>1</td>\n",
       "      <td>0.288214</td>\n",
       "    </tr>\n",
       "    <tr>\n",
       "      <th>75</th>\n",
       "      <td>0</td>\n",
       "      <td>0.032216</td>\n",
       "    </tr>\n",
       "    <tr>\n",
       "      <th>87</th>\n",
       "      <td>0</td>\n",
       "      <td>0.271473</td>\n",
       "    </tr>\n",
       "    <tr>\n",
       "      <th>88</th>\n",
       "      <td>0</td>\n",
       "      <td>0.147270</td>\n",
       "    </tr>\n",
       "    <tr>\n",
       "      <th>...</th>\n",
       "      <td>...</td>\n",
       "      <td>...</td>\n",
       "    </tr>\n",
       "    <tr>\n",
       "      <th>9962</th>\n",
       "      <td>0</td>\n",
       "      <td>0.068797</td>\n",
       "    </tr>\n",
       "    <tr>\n",
       "      <th>9963</th>\n",
       "      <td>0</td>\n",
       "      <td>0.072397</td>\n",
       "    </tr>\n",
       "    <tr>\n",
       "      <th>9964</th>\n",
       "      <td>0</td>\n",
       "      <td>0.068797</td>\n",
       "    </tr>\n",
       "    <tr>\n",
       "      <th>9965</th>\n",
       "      <td>0</td>\n",
       "      <td>0.147270</td>\n",
       "    </tr>\n",
       "    <tr>\n",
       "      <th>9966</th>\n",
       "      <td>0</td>\n",
       "      <td>0.072198</td>\n",
       "    </tr>\n",
       "    <tr>\n",
       "      <th>9967</th>\n",
       "      <td>1</td>\n",
       "      <td>0.154296</td>\n",
       "    </tr>\n",
       "    <tr>\n",
       "      <th>9968</th>\n",
       "      <td>0</td>\n",
       "      <td>0.147270</td>\n",
       "    </tr>\n",
       "    <tr>\n",
       "      <th>9970</th>\n",
       "      <td>0</td>\n",
       "      <td>0.072198</td>\n",
       "    </tr>\n",
       "    <tr>\n",
       "      <th>9973</th>\n",
       "      <td>0</td>\n",
       "      <td>0.260755</td>\n",
       "    </tr>\n",
       "    <tr>\n",
       "      <th>9974</th>\n",
       "      <td>0</td>\n",
       "      <td>0.183660</td>\n",
       "    </tr>\n",
       "    <tr>\n",
       "      <th>9975</th>\n",
       "      <td>0</td>\n",
       "      <td>0.032216</td>\n",
       "    </tr>\n",
       "    <tr>\n",
       "      <th>9976</th>\n",
       "      <td>0</td>\n",
       "      <td>0.032216</td>\n",
       "    </tr>\n",
       "    <tr>\n",
       "      <th>9977</th>\n",
       "      <td>0</td>\n",
       "      <td>0.032216</td>\n",
       "    </tr>\n",
       "    <tr>\n",
       "      <th>9979</th>\n",
       "      <td>0</td>\n",
       "      <td>0.147270</td>\n",
       "    </tr>\n",
       "    <tr>\n",
       "      <th>9980</th>\n",
       "      <td>0</td>\n",
       "      <td>0.032216</td>\n",
       "    </tr>\n",
       "    <tr>\n",
       "      <th>9981</th>\n",
       "      <td>0</td>\n",
       "      <td>0.032216</td>\n",
       "    </tr>\n",
       "    <tr>\n",
       "      <th>9983</th>\n",
       "      <td>0</td>\n",
       "      <td>0.288214</td>\n",
       "    </tr>\n",
       "    <tr>\n",
       "      <th>9985</th>\n",
       "      <td>0</td>\n",
       "      <td>0.147270</td>\n",
       "    </tr>\n",
       "    <tr>\n",
       "      <th>9986</th>\n",
       "      <td>0</td>\n",
       "      <td>0.072198</td>\n",
       "    </tr>\n",
       "    <tr>\n",
       "      <th>9987</th>\n",
       "      <td>0</td>\n",
       "      <td>0.072198</td>\n",
       "    </tr>\n",
       "    <tr>\n",
       "      <th>9989</th>\n",
       "      <td>0</td>\n",
       "      <td>0.072397</td>\n",
       "    </tr>\n",
       "    <tr>\n",
       "      <th>9990</th>\n",
       "      <td>0</td>\n",
       "      <td>0.032216</td>\n",
       "    </tr>\n",
       "    <tr>\n",
       "      <th>9991</th>\n",
       "      <td>0</td>\n",
       "      <td>0.032216</td>\n",
       "    </tr>\n",
       "    <tr>\n",
       "      <th>9993</th>\n",
       "      <td>0</td>\n",
       "      <td>0.032216</td>\n",
       "    </tr>\n",
       "    <tr>\n",
       "      <th>9994</th>\n",
       "      <td>0</td>\n",
       "      <td>0.147270</td>\n",
       "    </tr>\n",
       "    <tr>\n",
       "      <th>9995</th>\n",
       "      <td>0</td>\n",
       "      <td>0.147270</td>\n",
       "    </tr>\n",
       "    <tr>\n",
       "      <th>9996</th>\n",
       "      <td>0</td>\n",
       "      <td>0.260755</td>\n",
       "    </tr>\n",
       "    <tr>\n",
       "      <th>9997</th>\n",
       "      <td>0</td>\n",
       "      <td>0.032216</td>\n",
       "    </tr>\n",
       "    <tr>\n",
       "      <th>9998</th>\n",
       "      <td>0</td>\n",
       "      <td>0.032216</td>\n",
       "    </tr>\n",
       "    <tr>\n",
       "      <th>9999</th>\n",
       "      <td>0</td>\n",
       "      <td>0.032216</td>\n",
       "    </tr>\n",
       "  </tbody>\n",
       "</table>\n",
       "<p>4454 rows × 2 columns</p>\n",
       "</div>"
      ],
      "text/plain": [
       "      high_add     ypred\n",
       "5            0  0.032216\n",
       "6            0  0.063660\n",
       "7            0  0.032216\n",
       "8            0  0.032216\n",
       "9            0  0.032216\n",
       "11           0  0.087556\n",
       "12           0  0.032216\n",
       "13           0  0.068797\n",
       "14           0  0.032216\n",
       "16           0  0.032216\n",
       "17           1  0.661172\n",
       "18           1  0.661172\n",
       "20           0  0.068797\n",
       "21           0  0.068797\n",
       "22           0  0.032216\n",
       "24           0  0.032216\n",
       "25           0  0.147270\n",
       "26           0  0.068797\n",
       "27           0  0.032216\n",
       "30           0  0.032216\n",
       "32           1  0.288214\n",
       "33           1  0.072198\n",
       "37           1  0.068797\n",
       "38           1  0.068797\n",
       "45           1  0.288214\n",
       "61           0  0.068797\n",
       "67           1  0.288214\n",
       "75           0  0.032216\n",
       "87           0  0.271473\n",
       "88           0  0.147270\n",
       "...        ...       ...\n",
       "9962         0  0.068797\n",
       "9963         0  0.072397\n",
       "9964         0  0.068797\n",
       "9965         0  0.147270\n",
       "9966         0  0.072198\n",
       "9967         1  0.154296\n",
       "9968         0  0.147270\n",
       "9970         0  0.072198\n",
       "9973         0  0.260755\n",
       "9974         0  0.183660\n",
       "9975         0  0.032216\n",
       "9976         0  0.032216\n",
       "9977         0  0.032216\n",
       "9979         0  0.147270\n",
       "9980         0  0.032216\n",
       "9981         0  0.032216\n",
       "9983         0  0.288214\n",
       "9985         0  0.147270\n",
       "9986         0  0.072198\n",
       "9987         0  0.072198\n",
       "9989         0  0.072397\n",
       "9990         0  0.032216\n",
       "9991         0  0.032216\n",
       "9993         0  0.032216\n",
       "9994         0  0.147270\n",
       "9995         0  0.147270\n",
       "9996         0  0.260755\n",
       "9997         0  0.032216\n",
       "9998         0  0.032216\n",
       "9999         0  0.032216\n",
       "\n",
       "[4454 rows x 2 columns]"
      ]
     },
     "execution_count": 78,
     "metadata": {},
     "output_type": "execute_result"
    }
   ],
   "source": [
    "pd_new[['high_add','ypred']]"
   ]
  },
  {
   "cell_type": "code",
   "execution_count": 79,
   "metadata": {
    "collapsed": false
   },
   "outputs": [
    {
     "ename": "ValueError",
     "evalue": "shapes (1,4454) and (8,) not aligned: 4454 (dim 1) != 8 (dim 0)",
     "output_type": "error",
     "traceback": [
      "\u001b[0;31m---------------------------------------------------------------------------\u001b[0m",
      "\u001b[0;31mValueError\u001b[0m                                Traceback (most recent call last)",
      "\u001b[0;32m<ipython-input-79-e27bf1d7f870>\u001b[0m in \u001b[0;36m<module>\u001b[0;34m()\u001b[0m\n\u001b[0;32m----> 1\u001b[0;31m \u001b[0mpd_new\u001b[0m\u001b[0;34m[\u001b[0m\u001b[0;34m'ypred1'\u001b[0m\u001b[0;34m]\u001b[0m \u001b[0;34m=\u001b[0m \u001b[0mresult\u001b[0m\u001b[0;34m.\u001b[0m\u001b[0mpredict\u001b[0m\u001b[0;34m(\u001b[0m\u001b[0mpd_new\u001b[0m\u001b[0;34m[\u001b[0m\u001b[0;34m'high_add'\u001b[0m\u001b[0;34m]\u001b[0m\u001b[0;34m)\u001b[0m\u001b[0;34m\u001b[0m\u001b[0m\n\u001b[0m",
      "\u001b[0;32m/Users/vingadgil/anaconda/lib/python3.5/site-packages/statsmodels/base/model.py\u001b[0m in \u001b[0;36mpredict\u001b[0;34m(self, exog, transform, *args, **kwargs)\u001b[0m\n\u001b[1;32m    747\u001b[0m             \u001b[0mexog\u001b[0m \u001b[0;34m=\u001b[0m \u001b[0mnp\u001b[0m\u001b[0;34m.\u001b[0m\u001b[0matleast_2d\u001b[0m\u001b[0;34m(\u001b[0m\u001b[0mexog\u001b[0m\u001b[0;34m)\u001b[0m  \u001b[0;31m# needed in count model shape[1]\u001b[0m\u001b[0;34m\u001b[0m\u001b[0m\n\u001b[1;32m    748\u001b[0m \u001b[0;34m\u001b[0m\u001b[0m\n\u001b[0;32m--> 749\u001b[0;31m         \u001b[0;32mreturn\u001b[0m \u001b[0mself\u001b[0m\u001b[0;34m.\u001b[0m\u001b[0mmodel\u001b[0m\u001b[0;34m.\u001b[0m\u001b[0mpredict\u001b[0m\u001b[0;34m(\u001b[0m\u001b[0mself\u001b[0m\u001b[0;34m.\u001b[0m\u001b[0mparams\u001b[0m\u001b[0;34m,\u001b[0m \u001b[0mexog\u001b[0m\u001b[0;34m,\u001b[0m \u001b[0;34m*\u001b[0m\u001b[0margs\u001b[0m\u001b[0;34m,\u001b[0m \u001b[0;34m**\u001b[0m\u001b[0mkwargs\u001b[0m\u001b[0;34m)\u001b[0m\u001b[0;34m\u001b[0m\u001b[0m\n\u001b[0m\u001b[1;32m    750\u001b[0m \u001b[0;34m\u001b[0m\u001b[0m\n\u001b[1;32m    751\u001b[0m \u001b[0;34m\u001b[0m\u001b[0m\n",
      "\u001b[0;32m/Users/vingadgil/anaconda/lib/python3.5/site-packages/statsmodels/discrete/discrete_model.py\u001b[0m in \u001b[0;36mpredict\u001b[0;34m(self, params, exog, linear)\u001b[0m\n\u001b[1;32m    428\u001b[0m             \u001b[0mexog\u001b[0m \u001b[0;34m=\u001b[0m \u001b[0mself\u001b[0m\u001b[0;34m.\u001b[0m\u001b[0mexog\u001b[0m\u001b[0;34m\u001b[0m\u001b[0m\n\u001b[1;32m    429\u001b[0m         \u001b[0;32mif\u001b[0m \u001b[0;32mnot\u001b[0m \u001b[0mlinear\u001b[0m\u001b[0;34m:\u001b[0m\u001b[0;34m\u001b[0m\u001b[0m\n\u001b[0;32m--> 430\u001b[0;31m             \u001b[0;32mreturn\u001b[0m \u001b[0mself\u001b[0m\u001b[0;34m.\u001b[0m\u001b[0mcdf\u001b[0m\u001b[0;34m(\u001b[0m\u001b[0mnp\u001b[0m\u001b[0;34m.\u001b[0m\u001b[0mdot\u001b[0m\u001b[0;34m(\u001b[0m\u001b[0mexog\u001b[0m\u001b[0;34m,\u001b[0m \u001b[0mparams\u001b[0m\u001b[0;34m)\u001b[0m\u001b[0;34m)\u001b[0m\u001b[0;34m\u001b[0m\u001b[0m\n\u001b[0m\u001b[1;32m    431\u001b[0m         \u001b[0;32melse\u001b[0m\u001b[0;34m:\u001b[0m\u001b[0;34m\u001b[0m\u001b[0m\n\u001b[1;32m    432\u001b[0m             \u001b[0;32mreturn\u001b[0m \u001b[0mnp\u001b[0m\u001b[0;34m.\u001b[0m\u001b[0mdot\u001b[0m\u001b[0;34m(\u001b[0m\u001b[0mexog\u001b[0m\u001b[0;34m,\u001b[0m \u001b[0mparams\u001b[0m\u001b[0;34m)\u001b[0m\u001b[0;34m\u001b[0m\u001b[0m\n",
      "\u001b[0;31mValueError\u001b[0m: shapes (1,4454) and (8,) not aligned: 4454 (dim 1) != 8 (dim 0)"
     ]
    }
   ],
   "source": [
    "pd_new['ypred1'] = result.predict(pd_new['high_add'])"
   ]
  },
  {
   "cell_type": "code",
   "execution_count": 54,
   "metadata": {
    "collapsed": false
   },
   "outputs": [
    {
     "data": {
      "text/plain": [
       "4454"
      ]
     },
     "execution_count": 54,
     "metadata": {},
     "output_type": "execute_result"
    }
   ],
   "source": [
    "#New model - Create a new dataframe with random values in 5 columns and cross check with above logit model\n",
    "\n",
    "pd_random = pd_new[['code','product_name','high_add']]\n",
    "\n",
    "pd_size = len(pd_random)\n",
    "\n",
    "pd_size\n",
    "\n",
    "#train1 = pd_new.columns[6:]\n",
    "#logit1 = sm.Logit(pd_new['high_add'], pd_new[train1])\n",
    "\n",
    "# fit the model\n",
    "#result1 = logit1.fit()\n",
    "\n"
   ]
  },
  {
   "cell_type": "code",
   "execution_count": null,
   "metadata": {
    "collapsed": false
   },
   "outputs": [],
   "source": []
  },
  {
   "cell_type": "code",
   "execution_count": 56,
   "metadata": {
    "collapsed": false
   },
   "outputs": [
    {
     "name": "stderr",
     "output_type": "stream",
     "text": [
      "/Users/vingadgil/anaconda/lib/python3.5/site-packages/ipykernel/__main__.py:1: SettingWithCopyWarning: \n",
      "A value is trying to be set on a copy of a slice from a DataFrame.\n",
      "Try using .loc[row_indexer,col_indexer] = value instead\n",
      "\n",
      "See the caveats in the documentation: http://pandas.pydata.org/pandas-docs/stable/indexing.html#indexing-view-versus-copy\n",
      "  if __name__ == '__main__':\n",
      "/Users/vingadgil/anaconda/lib/python3.5/site-packages/ipykernel/__main__.py:2: SettingWithCopyWarning: \n",
      "A value is trying to be set on a copy of a slice from a DataFrame.\n",
      "Try using .loc[row_indexer,col_indexer] = value instead\n",
      "\n",
      "See the caveats in the documentation: http://pandas.pydata.org/pandas-docs/stable/indexing.html#indexing-view-versus-copy\n",
      "  from ipykernel import kernelapp as app\n",
      "/Users/vingadgil/anaconda/lib/python3.5/site-packages/ipykernel/__main__.py:3: SettingWithCopyWarning: \n",
      "A value is trying to be set on a copy of a slice from a DataFrame.\n",
      "Try using .loc[row_indexer,col_indexer] = value instead\n",
      "\n",
      "See the caveats in the documentation: http://pandas.pydata.org/pandas-docs/stable/indexing.html#indexing-view-versus-copy\n",
      "  app.launch_new_instance()\n",
      "/Users/vingadgil/anaconda/lib/python3.5/site-packages/ipykernel/__main__.py:4: SettingWithCopyWarning: \n",
      "A value is trying to be set on a copy of a slice from a DataFrame.\n",
      "Try using .loc[row_indexer,col_indexer] = value instead\n",
      "\n",
      "See the caveats in the documentation: http://pandas.pydata.org/pandas-docs/stable/indexing.html#indexing-view-versus-copy\n",
      "/Users/vingadgil/anaconda/lib/python3.5/site-packages/ipykernel/__main__.py:5: SettingWithCopyWarning: \n",
      "A value is trying to be set on a copy of a slice from a DataFrame.\n",
      "Try using .loc[row_indexer,col_indexer] = value instead\n",
      "\n",
      "See the caveats in the documentation: http://pandas.pydata.org/pandas-docs/stable/indexing.html#indexing-view-versus-copy\n",
      "/Users/vingadgil/anaconda/lib/python3.5/site-packages/ipykernel/__main__.py:6: SettingWithCopyWarning: \n",
      "A value is trying to be set on a copy of a slice from a DataFrame.\n",
      "Try using .loc[row_indexer,col_indexer] = value instead\n",
      "\n",
      "See the caveats in the documentation: http://pandas.pydata.org/pandas-docs/stable/indexing.html#indexing-view-versus-copy\n",
      "/Users/vingadgil/anaconda/lib/python3.5/site-packages/ipykernel/__main__.py:7: SettingWithCopyWarning: \n",
      "A value is trying to be set on a copy of a slice from a DataFrame.\n",
      "Try using .loc[row_indexer,col_indexer] = value instead\n",
      "\n",
      "See the caveats in the documentation: http://pandas.pydata.org/pandas-docs/stable/indexing.html#indexing-view-versus-copy\n"
     ]
    }
   ],
   "source": [
    "pd_random['col1'] = np.random.randint(2, size=pd_size)\n",
    "pd_random['col2'] = np.random.randint(2, size=pd_size)\n",
    "pd_random['col3'] = np.random.randint(2, size=pd_size)\n",
    "pd_random['col4'] = np.random.randint(2, size=pd_size)\n",
    "pd_random['col5'] = np.random.randint(2, size=pd_size)\n",
    "pd_random['col6'] = np.random.randint(2, size=pd_size)\n",
    "pd_random['col7'] = np.random.randint(2, size=pd_size)"
   ]
  },
  {
   "cell_type": "code",
   "execution_count": 57,
   "metadata": {
    "collapsed": false
   },
   "outputs": [
    {
     "name": "stderr",
     "output_type": "stream",
     "text": [
      "/Users/vingadgil/anaconda/lib/python3.5/site-packages/ipykernel/__main__.py:1: SettingWithCopyWarning: \n",
      "A value is trying to be set on a copy of a slice from a DataFrame.\n",
      "Try using .loc[row_indexer,col_indexer] = value instead\n",
      "\n",
      "See the caveats in the documentation: http://pandas.pydata.org/pandas-docs/stable/indexing.html#indexing-view-versus-copy\n",
      "  if __name__ == '__main__':\n"
     ]
    }
   ],
   "source": [
    "pd_random['intercept'] = 1.0"
   ]
  },
  {
   "cell_type": "code",
   "execution_count": 58,
   "metadata": {
    "collapsed": false
   },
   "outputs": [
    {
     "data": {
      "text/html": [
       "<div>\n",
       "<table border=\"1\" class=\"dataframe\">\n",
       "  <thead>\n",
       "    <tr style=\"text-align: right;\">\n",
       "      <th></th>\n",
       "      <th>code</th>\n",
       "      <th>product_name</th>\n",
       "      <th>high_add</th>\n",
       "      <th>col1</th>\n",
       "      <th>col2</th>\n",
       "      <th>col3</th>\n",
       "      <th>col4</th>\n",
       "      <th>col5</th>\n",
       "      <th>col6</th>\n",
       "      <th>col7</th>\n",
       "      <th>intercept</th>\n",
       "    </tr>\n",
       "  </thead>\n",
       "  <tbody>\n",
       "    <tr>\n",
       "      <th>5</th>\n",
       "      <td>0000000056434</td>\n",
       "      <td>diet lemonade by Sainsbury's</td>\n",
       "      <td>0</td>\n",
       "      <td>0</td>\n",
       "      <td>0</td>\n",
       "      <td>1</td>\n",
       "      <td>0</td>\n",
       "      <td>0</td>\n",
       "      <td>0</td>\n",
       "      <td>0</td>\n",
       "      <td>1.0</td>\n",
       "    </tr>\n",
       "    <tr>\n",
       "      <th>6</th>\n",
       "      <td>0000001071894</td>\n",
       "      <td>Flute</td>\n",
       "      <td>0</td>\n",
       "      <td>1</td>\n",
       "      <td>1</td>\n",
       "      <td>0</td>\n",
       "      <td>0</td>\n",
       "      <td>1</td>\n",
       "      <td>0</td>\n",
       "      <td>1</td>\n",
       "      <td>1.0</td>\n",
       "    </tr>\n",
       "    <tr>\n",
       "      <th>7</th>\n",
       "      <td>0000001471762</td>\n",
       "      <td>still Scottish water</td>\n",
       "      <td>0</td>\n",
       "      <td>0</td>\n",
       "      <td>1</td>\n",
       "      <td>0</td>\n",
       "      <td>1</td>\n",
       "      <td>0</td>\n",
       "      <td>1</td>\n",
       "      <td>0</td>\n",
       "      <td>1.0</td>\n",
       "    </tr>\n",
       "    <tr>\n",
       "      <th>8</th>\n",
       "      <td>0000001798180</td>\n",
       "      <td>Fairtrade Ground Cinnamon</td>\n",
       "      <td>0</td>\n",
       "      <td>0</td>\n",
       "      <td>1</td>\n",
       "      <td>1</td>\n",
       "      <td>1</td>\n",
       "      <td>0</td>\n",
       "      <td>1</td>\n",
       "      <td>0</td>\n",
       "      <td>1.0</td>\n",
       "    </tr>\n",
       "    <tr>\n",
       "      <th>9</th>\n",
       "      <td>0000005200016</td>\n",
       "      <td>lentilles vertes</td>\n",
       "      <td>0</td>\n",
       "      <td>0</td>\n",
       "      <td>0</td>\n",
       "      <td>0</td>\n",
       "      <td>0</td>\n",
       "      <td>1</td>\n",
       "      <td>1</td>\n",
       "      <td>1</td>\n",
       "      <td>1.0</td>\n",
       "    </tr>\n",
       "  </tbody>\n",
       "</table>\n",
       "</div>"
      ],
      "text/plain": [
       "            code                  product_name  high_add  col1  col2  col3  \\\n",
       "5  0000000056434  diet lemonade by Sainsbury's         0     0     0     1   \n",
       "6  0000001071894                         Flute         0     1     1     0   \n",
       "7  0000001471762          still Scottish water         0     0     1     0   \n",
       "8  0000001798180     Fairtrade Ground Cinnamon         0     0     1     1   \n",
       "9  0000005200016             lentilles vertes          0     0     0     0   \n",
       "\n",
       "   col4  col5  col6  col7  intercept  \n",
       "5     0     0     0     0        1.0  \n",
       "6     0     1     0     1        1.0  \n",
       "7     1     0     1     0        1.0  \n",
       "8     1     0     1     0        1.0  \n",
       "9     0     1     1     1        1.0  "
      ]
     },
     "execution_count": 58,
     "metadata": {},
     "output_type": "execute_result"
    }
   ],
   "source": [
    "pd_random.head()"
   ]
  },
  {
   "cell_type": "code",
   "execution_count": 59,
   "metadata": {
    "collapsed": false
   },
   "outputs": [],
   "source": [
    "train_cols_r = [ 'col1' , 'col2' , 'col3', 'col4' ,'col5','col6','col7','intercept']\n"
   ]
  },
  {
   "cell_type": "code",
   "execution_count": 60,
   "metadata": {
    "collapsed": false
   },
   "outputs": [
    {
     "data": {
      "text/plain": [
       "['col1', 'col2', 'col3', 'col4', 'col5', 'col6', 'col7', 'intercept']"
      ]
     },
     "execution_count": 60,
     "metadata": {},
     "output_type": "execute_result"
    }
   ],
   "source": [
    "train_cols_r"
   ]
  },
  {
   "cell_type": "code",
   "execution_count": 61,
   "metadata": {
    "collapsed": false
   },
   "outputs": [],
   "source": [
    "logit_random = sm.Logit(pd_random['high_add'], pd_random[train_cols_r])"
   ]
  },
  {
   "cell_type": "code",
   "execution_count": 62,
   "metadata": {
    "collapsed": false
   },
   "outputs": [
    {
     "name": "stdout",
     "output_type": "stream",
     "text": [
      "Optimization terminated successfully.\n",
      "         Current function value: 0.352804\n",
      "         Iterations 6\n"
     ]
    },
    {
     "data": {
      "text/html": [
       "<table class=\"simpletable\">\n",
       "<caption>Logit Regression Results</caption>\n",
       "<tr>\n",
       "  <th>Dep. Variable:</th>     <td>high_add</td>     <th>  No. Observations:  </th>  <td>  4454</td> \n",
       "</tr>\n",
       "<tr>\n",
       "  <th>Model:</th>               <td>Logit</td>      <th>  Df Residuals:      </th>  <td>  4446</td> \n",
       "</tr>\n",
       "<tr>\n",
       "  <th>Method:</th>               <td>MLE</td>       <th>  Df Model:          </th>  <td>     7</td> \n",
       "</tr>\n",
       "<tr>\n",
       "  <th>Date:</th>          <td>Mon, 28 Nov 2016</td> <th>  Pseudo R-squ.:     </th> <td>0.002044</td>\n",
       "</tr>\n",
       "<tr>\n",
       "  <th>Time:</th>              <td>20:19:01</td>     <th>  Log-Likelihood:    </th> <td> -1571.4</td>\n",
       "</tr>\n",
       "<tr>\n",
       "  <th>converged:</th>           <td>True</td>       <th>  LL-Null:           </th> <td> -1574.6</td>\n",
       "</tr>\n",
       "<tr>\n",
       "  <th> </th>                      <td> </td>        <th>  LLR p-value:       </th>  <td>0.4897</td> \n",
       "</tr>\n",
       "</table>\n",
       "<table class=\"simpletable\">\n",
       "<tr>\n",
       "      <td></td>         <th>coef</th>     <th>std err</th>      <th>z</th>      <th>P>|z|</th> <th>[95.0% Conf. Int.]</th> \n",
       "</tr>\n",
       "<tr>\n",
       "  <th>col1</th>      <td>    0.0445</td> <td>    0.095</td> <td>    0.470</td> <td> 0.638</td> <td>   -0.141     0.230</td>\n",
       "</tr>\n",
       "<tr>\n",
       "  <th>col2</th>      <td>    0.1827</td> <td>    0.095</td> <td>    1.927</td> <td> 0.054</td> <td>   -0.003     0.369</td>\n",
       "</tr>\n",
       "<tr>\n",
       "  <th>col3</th>      <td>    0.0594</td> <td>    0.095</td> <td>    0.626</td> <td> 0.531</td> <td>   -0.127     0.245</td>\n",
       "</tr>\n",
       "<tr>\n",
       "  <th>col4</th>      <td>   -0.0413</td> <td>    0.095</td> <td>   -0.436</td> <td> 0.662</td> <td>   -0.227     0.144</td>\n",
       "</tr>\n",
       "<tr>\n",
       "  <th>col5</th>      <td>    0.1106</td> <td>    0.095</td> <td>    1.166</td> <td> 0.243</td> <td>   -0.075     0.296</td>\n",
       "</tr>\n",
       "<tr>\n",
       "  <th>col6</th>      <td>    0.0657</td> <td>    0.095</td> <td>    0.694</td> <td> 0.488</td> <td>   -0.120     0.251</td>\n",
       "</tr>\n",
       "<tr>\n",
       "  <th>col7</th>      <td>   -0.0529</td> <td>    0.095</td> <td>   -0.559</td> <td> 0.576</td> <td>   -0.239     0.133</td>\n",
       "</tr>\n",
       "<tr>\n",
       "  <th>intercept</th> <td>   -2.2457</td> <td>    0.136</td> <td>  -16.481</td> <td> 0.000</td> <td>   -2.513    -1.979</td>\n",
       "</tr>\n",
       "</table>"
      ],
      "text/plain": [
       "<class 'statsmodels.iolib.summary.Summary'>\n",
       "\"\"\"\n",
       "                           Logit Regression Results                           \n",
       "==============================================================================\n",
       "Dep. Variable:               high_add   No. Observations:                 4454\n",
       "Model:                          Logit   Df Residuals:                     4446\n",
       "Method:                           MLE   Df Model:                            7\n",
       "Date:                Mon, 28 Nov 2016   Pseudo R-squ.:                0.002044\n",
       "Time:                        20:19:01   Log-Likelihood:                -1571.4\n",
       "converged:                       True   LL-Null:                       -1574.6\n",
       "                                        LLR p-value:                    0.4897\n",
       "==============================================================================\n",
       "                 coef    std err          z      P>|z|      [95.0% Conf. Int.]\n",
       "------------------------------------------------------------------------------\n",
       "col1           0.0445      0.095      0.470      0.638        -0.141     0.230\n",
       "col2           0.1827      0.095      1.927      0.054        -0.003     0.369\n",
       "col3           0.0594      0.095      0.626      0.531        -0.127     0.245\n",
       "col4          -0.0413      0.095     -0.436      0.662        -0.227     0.144\n",
       "col5           0.1106      0.095      1.166      0.243        -0.075     0.296\n",
       "col6           0.0657      0.095      0.694      0.488        -0.120     0.251\n",
       "col7          -0.0529      0.095     -0.559      0.576        -0.239     0.133\n",
       "intercept     -2.2457      0.136    -16.481      0.000        -2.513    -1.979\n",
       "==============================================================================\n",
       "\"\"\""
      ]
     },
     "execution_count": 62,
     "metadata": {},
     "output_type": "execute_result"
    }
   ],
   "source": [
    "# fit the model\n",
    "result_random = logit_random.fit()\n",
    "\n",
    "result_random.summary()"
   ]
  },
  {
   "cell_type": "code",
   "execution_count": 80,
   "metadata": {
    "collapsed": false
   },
   "outputs": [
    {
     "name": "stderr",
     "output_type": "stream",
     "text": [
      "/Users/vingadgil/anaconda/lib/python3.5/site-packages/ipykernel/__main__.py:2: SettingWithCopyWarning: \n",
      "A value is trying to be set on a copy of a slice from a DataFrame.\n",
      "Try using .loc[row_indexer,col_indexer] = value instead\n",
      "\n",
      "See the caveats in the documentation: http://pandas.pydata.org/pandas-docs/stable/indexing.html#indexing-view-versus-copy\n",
      "  from ipykernel import kernelapp as app\n"
     ]
    }
   ],
   "source": [
    "# Predict Y using the logit function.\n",
    "pd_random['ypred'] = result.predict(pd_random[train_cols_r])"
   ]
  },
  {
   "cell_type": "code",
   "execution_count": 81,
   "metadata": {
    "collapsed": false
   },
   "outputs": [
    {
     "data": {
      "text/html": [
       "<div>\n",
       "<table border=\"1\" class=\"dataframe\">\n",
       "  <thead>\n",
       "    <tr style=\"text-align: right;\">\n",
       "      <th></th>\n",
       "      <th>high_add</th>\n",
       "      <th>ypred</th>\n",
       "    </tr>\n",
       "  </thead>\n",
       "  <tbody>\n",
       "    <tr>\n",
       "      <th>5</th>\n",
       "      <td>0</td>\n",
       "      <td>0.068797</td>\n",
       "    </tr>\n",
       "    <tr>\n",
       "      <th>6</th>\n",
       "      <td>0</td>\n",
       "      <td>0.467869</td>\n",
       "    </tr>\n",
       "    <tr>\n",
       "      <th>7</th>\n",
       "      <td>0</td>\n",
       "      <td>0.063455</td>\n",
       "    </tr>\n",
       "    <tr>\n",
       "      <th>8</th>\n",
       "      <td>0</td>\n",
       "      <td>0.130716</td>\n",
       "    </tr>\n",
       "    <tr>\n",
       "      <th>9</th>\n",
       "      <td>0</td>\n",
       "      <td>0.092822</td>\n",
       "    </tr>\n",
       "    <tr>\n",
       "      <th>11</th>\n",
       "      <td>0</td>\n",
       "      <td>0.049579</td>\n",
       "    </tr>\n",
       "    <tr>\n",
       "      <th>12</th>\n",
       "      <td>0</td>\n",
       "      <td>0.039430</td>\n",
       "    </tr>\n",
       "    <tr>\n",
       "      <th>13</th>\n",
       "      <td>0</td>\n",
       "      <td>0.155516</td>\n",
       "    </tr>\n",
       "    <tr>\n",
       "      <th>14</th>\n",
       "      <td>0</td>\n",
       "      <td>0.108690</td>\n",
       "    </tr>\n",
       "    <tr>\n",
       "      <th>16</th>\n",
       "      <td>0</td>\n",
       "      <td>0.213491</td>\n",
       "    </tr>\n",
       "    <tr>\n",
       "      <th>17</th>\n",
       "      <td>1</td>\n",
       "      <td>0.520201</td>\n",
       "    </tr>\n",
       "    <tr>\n",
       "      <th>18</th>\n",
       "      <td>1</td>\n",
       "      <td>0.092041</td>\n",
       "    </tr>\n",
       "    <tr>\n",
       "      <th>20</th>\n",
       "      <td>0</td>\n",
       "      <td>0.199398</td>\n",
       "    </tr>\n",
       "    <tr>\n",
       "      <th>21</th>\n",
       "      <td>0</td>\n",
       "      <td>0.390420</td>\n",
       "    </tr>\n",
       "    <tr>\n",
       "      <th>22</th>\n",
       "      <td>0</td>\n",
       "      <td>0.072198</td>\n",
       "    </tr>\n",
       "    <tr>\n",
       "      <th>24</th>\n",
       "      <td>0</td>\n",
       "      <td>0.200889</td>\n",
       "    </tr>\n",
       "    <tr>\n",
       "      <th>25</th>\n",
       "      <td>0</td>\n",
       "      <td>0.316207</td>\n",
       "    </tr>\n",
       "    <tr>\n",
       "      <th>26</th>\n",
       "      <td>0</td>\n",
       "      <td>0.147270</td>\n",
       "    </tr>\n",
       "    <tr>\n",
       "      <th>27</th>\n",
       "      <td>0</td>\n",
       "      <td>0.121877</td>\n",
       "    </tr>\n",
       "    <tr>\n",
       "      <th>30</th>\n",
       "      <td>0</td>\n",
       "      <td>0.148443</td>\n",
       "    </tr>\n",
       "    <tr>\n",
       "      <th>32</th>\n",
       "      <td>1</td>\n",
       "      <td>0.213491</td>\n",
       "    </tr>\n",
       "    <tr>\n",
       "      <th>33</th>\n",
       "      <td>1</td>\n",
       "      <td>0.049579</td>\n",
       "    </tr>\n",
       "    <tr>\n",
       "      <th>37</th>\n",
       "      <td>1</td>\n",
       "      <td>0.077353</td>\n",
       "    </tr>\n",
       "    <tr>\n",
       "      <th>38</th>\n",
       "      <td>1</td>\n",
       "      <td>0.388205</td>\n",
       "    </tr>\n",
       "    <tr>\n",
       "      <th>45</th>\n",
       "      <td>1</td>\n",
       "      <td>0.138185</td>\n",
       "    </tr>\n",
       "    <tr>\n",
       "      <th>61</th>\n",
       "      <td>0</td>\n",
       "      <td>0.131109</td>\n",
       "    </tr>\n",
       "    <tr>\n",
       "      <th>67</th>\n",
       "      <td>1</td>\n",
       "      <td>0.171528</td>\n",
       "    </tr>\n",
       "    <tr>\n",
       "      <th>75</th>\n",
       "      <td>0</td>\n",
       "      <td>0.289520</td>\n",
       "    </tr>\n",
       "    <tr>\n",
       "      <th>87</th>\n",
       "      <td>0</td>\n",
       "      <td>0.087556</td>\n",
       "    </tr>\n",
       "    <tr>\n",
       "      <th>88</th>\n",
       "      <td>0</td>\n",
       "      <td>0.185061</td>\n",
       "    </tr>\n",
       "    <tr>\n",
       "      <th>...</th>\n",
       "      <td>...</td>\n",
       "      <td>...</td>\n",
       "    </tr>\n",
       "    <tr>\n",
       "      <th>9962</th>\n",
       "      <td>0</td>\n",
       "      <td>0.121877</td>\n",
       "    </tr>\n",
       "    <tr>\n",
       "      <th>9963</th>\n",
       "      <td>0</td>\n",
       "      <td>0.096285</td>\n",
       "    </tr>\n",
       "    <tr>\n",
       "      <th>9964</th>\n",
       "      <td>0</td>\n",
       "      <td>0.454232</td>\n",
       "    </tr>\n",
       "    <tr>\n",
       "      <th>9965</th>\n",
       "      <td>0</td>\n",
       "      <td>0.130716</td>\n",
       "    </tr>\n",
       "    <tr>\n",
       "      <th>9966</th>\n",
       "      <td>0</td>\n",
       "      <td>0.193020</td>\n",
       "    </tr>\n",
       "    <tr>\n",
       "      <th>9967</th>\n",
       "      <td>1</td>\n",
       "      <td>0.077353</td>\n",
       "    </tr>\n",
       "    <tr>\n",
       "      <th>9968</th>\n",
       "      <td>0</td>\n",
       "      <td>0.661172</td>\n",
       "    </tr>\n",
       "    <tr>\n",
       "      <th>9970</th>\n",
       "      <td>0</td>\n",
       "      <td>0.028168</td>\n",
       "    </tr>\n",
       "    <tr>\n",
       "      <th>9973</th>\n",
       "      <td>0</td>\n",
       "      <td>0.138185</td>\n",
       "    </tr>\n",
       "    <tr>\n",
       "      <th>9974</th>\n",
       "      <td>0</td>\n",
       "      <td>0.108690</td>\n",
       "    </tr>\n",
       "    <tr>\n",
       "      <th>9975</th>\n",
       "      <td>0</td>\n",
       "      <td>0.063660</td>\n",
       "    </tr>\n",
       "    <tr>\n",
       "      <th>9976</th>\n",
       "      <td>0</td>\n",
       "      <td>0.063455</td>\n",
       "    </tr>\n",
       "    <tr>\n",
       "      <th>9977</th>\n",
       "      <td>0</td>\n",
       "      <td>0.147270</td>\n",
       "    </tr>\n",
       "    <tr>\n",
       "      <th>9979</th>\n",
       "      <td>0</td>\n",
       "      <td>0.138185</td>\n",
       "    </tr>\n",
       "    <tr>\n",
       "      <th>9980</th>\n",
       "      <td>0</td>\n",
       "      <td>0.661172</td>\n",
       "    </tr>\n",
       "    <tr>\n",
       "      <th>9981</th>\n",
       "      <td>0</td>\n",
       "      <td>0.599551</td>\n",
       "    </tr>\n",
       "    <tr>\n",
       "      <th>9983</th>\n",
       "      <td>0</td>\n",
       "      <td>0.370143</td>\n",
       "    </tr>\n",
       "    <tr>\n",
       "      <th>9985</th>\n",
       "      <td>0</td>\n",
       "      <td>0.155127</td>\n",
       "    </tr>\n",
       "    <tr>\n",
       "      <th>9986</th>\n",
       "      <td>0</td>\n",
       "      <td>0.420898</td>\n",
       "    </tr>\n",
       "    <tr>\n",
       "      <th>9987</th>\n",
       "      <td>0</td>\n",
       "      <td>0.041562</td>\n",
       "    </tr>\n",
       "    <tr>\n",
       "      <th>9989</th>\n",
       "      <td>0</td>\n",
       "      <td>0.520201</td>\n",
       "    </tr>\n",
       "    <tr>\n",
       "      <th>9990</th>\n",
       "      <td>0</td>\n",
       "      <td>0.041816</td>\n",
       "    </tr>\n",
       "    <tr>\n",
       "      <th>9991</th>\n",
       "      <td>0</td>\n",
       "      <td>0.488599</td>\n",
       "    </tr>\n",
       "    <tr>\n",
       "      <th>9993</th>\n",
       "      <td>0</td>\n",
       "      <td>0.063660</td>\n",
       "    </tr>\n",
       "    <tr>\n",
       "      <th>9994</th>\n",
       "      <td>0</td>\n",
       "      <td>0.262555</td>\n",
       "    </tr>\n",
       "    <tr>\n",
       "      <th>9995</th>\n",
       "      <td>0</td>\n",
       "      <td>0.109596</td>\n",
       "    </tr>\n",
       "    <tr>\n",
       "      <th>9996</th>\n",
       "      <td>0</td>\n",
       "      <td>0.261327</td>\n",
       "    </tr>\n",
       "    <tr>\n",
       "      <th>9997</th>\n",
       "      <td>0</td>\n",
       "      <td>0.454111</td>\n",
       "    </tr>\n",
       "    <tr>\n",
       "      <th>9998</th>\n",
       "      <td>0</td>\n",
       "      <td>0.271473</td>\n",
       "    </tr>\n",
       "    <tr>\n",
       "      <th>9999</th>\n",
       "      <td>0</td>\n",
       "      <td>0.087556</td>\n",
       "    </tr>\n",
       "  </tbody>\n",
       "</table>\n",
       "<p>4454 rows × 2 columns</p>\n",
       "</div>"
      ],
      "text/plain": [
       "      high_add     ypred\n",
       "5            0  0.068797\n",
       "6            0  0.467869\n",
       "7            0  0.063455\n",
       "8            0  0.130716\n",
       "9            0  0.092822\n",
       "11           0  0.049579\n",
       "12           0  0.039430\n",
       "13           0  0.155516\n",
       "14           0  0.108690\n",
       "16           0  0.213491\n",
       "17           1  0.520201\n",
       "18           1  0.092041\n",
       "20           0  0.199398\n",
       "21           0  0.390420\n",
       "22           0  0.072198\n",
       "24           0  0.200889\n",
       "25           0  0.316207\n",
       "26           0  0.147270\n",
       "27           0  0.121877\n",
       "30           0  0.148443\n",
       "32           1  0.213491\n",
       "33           1  0.049579\n",
       "37           1  0.077353\n",
       "38           1  0.388205\n",
       "45           1  0.138185\n",
       "61           0  0.131109\n",
       "67           1  0.171528\n",
       "75           0  0.289520\n",
       "87           0  0.087556\n",
       "88           0  0.185061\n",
       "...        ...       ...\n",
       "9962         0  0.121877\n",
       "9963         0  0.096285\n",
       "9964         0  0.454232\n",
       "9965         0  0.130716\n",
       "9966         0  0.193020\n",
       "9967         1  0.077353\n",
       "9968         0  0.661172\n",
       "9970         0  0.028168\n",
       "9973         0  0.138185\n",
       "9974         0  0.108690\n",
       "9975         0  0.063660\n",
       "9976         0  0.063455\n",
       "9977         0  0.147270\n",
       "9979         0  0.138185\n",
       "9980         0  0.661172\n",
       "9981         0  0.599551\n",
       "9983         0  0.370143\n",
       "9985         0  0.155127\n",
       "9986         0  0.420898\n",
       "9987         0  0.041562\n",
       "9989         0  0.520201\n",
       "9990         0  0.041816\n",
       "9991         0  0.488599\n",
       "9993         0  0.063660\n",
       "9994         0  0.262555\n",
       "9995         0  0.109596\n",
       "9996         0  0.261327\n",
       "9997         0  0.454111\n",
       "9998         0  0.271473\n",
       "9999         0  0.087556\n",
       "\n",
       "[4454 rows x 2 columns]"
      ]
     },
     "execution_count": 81,
     "metadata": {},
     "output_type": "execute_result"
    }
   ],
   "source": [
    "pd_random[['high_add','ypred']]"
   ]
  },
  {
   "cell_type": "markdown",
   "metadata": {},
   "source": [
    "### Create Additional Dummy Columns in dataframe for TOP 20 CATEGORIES"
   ]
  },
  {
   "cell_type": "markdown",
   "metadata": {
    "collapsed": true
   },
   "source": [
    "Create Dummy Variables for each of the Categories. The Top 20 Categories are -\n",
    "\n",
    "\n",
    "Plant-based foods and beverages                     \n",
    "Sugary snacks                                        \n",
    "Beverages                                            \n",
    "Dairies                                              \n",
    "Groceries                                            \n",
    "Meats                                                \n",
    "Fresh foods                                          \n",
    "Meals                                                \n",
    "Salty snacks                                         \n",
    "Canned foods                                         \n",
    "Frozen foods                                         \n",
    "Fruit juices                                         \n",
    "Breakfasts                                            \n",
    "Seafood                                               \n",
    "Desserts                                              \n",
    "Spreads                                               \n",
    "Sandwiches                                            \n",
    "Sweeteners                                            \n",
    "Baby foods                                            \n",
    "Farming products                                      \n",
    "Fruit juices and nectars                              "
   ]
  },
  {
   "cell_type": "code",
   "execution_count": null,
   "metadata": {
    "collapsed": true
   },
   "outputs": [],
   "source": [
    "\n",
    "\n"
   ]
  }
 ],
 "metadata": {
  "kernelspec": {
   "display_name": "Python 3",
   "language": "python",
   "name": "python3"
  },
  "language_info": {
   "codemirror_mode": {
    "name": "ipython",
    "version": 3
   },
   "file_extension": ".py",
   "mimetype": "text/x-python",
   "name": "python",
   "nbconvert_exporter": "python",
   "pygments_lexer": "ipython3",
   "version": "3.5.2"
  }
 },
 "nbformat": 4,
 "nbformat_minor": 0
}
