{
 "cells": [
  {
   "cell_type": "markdown",
   "metadata": {},
   "source": [
    "## 5. Logistic Regression"
   ]
  },
  {
   "cell_type": "markdown",
   "metadata": {},
   "source": [
    "#### Import all Libraries needed for the model "
   ]
  },
  {
   "cell_type": "code",
   "execution_count": 1,
   "metadata": {
    "collapsed": true
   },
   "outputs": [],
   "source": [
    "import pandas as pd\n",
    "import numpy as np\n",
    "\n",
    "from matplotlib import pyplot as plt\n",
    "%matplotlib inline\n",
    "import seaborn as sns\n",
    "\n",
    "import statsmodels.api as sm\n",
    "import pylab as pl\n",
    "\n",
    "from sklearn.metrics import confusion_matrix\n",
    "\n",
    "from sklearn.metrics import accuracy_score\n",
    "\n",
    "from sklearn.metrics import f1_score\n",
    "\n",
    "from sklearn.metrics import roc_curve, auc\n",
    "\n",
    "from sklearn import metrics\n",
    "\n",
    "from sklearn.model_selection import train_test_split"
   ]
  },
  {
   "cell_type": "markdown",
   "metadata": {},
   "source": [
    "### 5.1 Import the Open Food Dataset .\n",
    "\n",
    "#### First import only 10000 records . We create the sample model using 10000 records and the read the entire dataset to create final model."
   ]
  },
  {
   "cell_type": "code",
   "execution_count": 2,
   "metadata": {
    "collapsed": false
   },
   "outputs": [
    {
     "name": "stderr",
     "output_type": "stream",
     "text": [
      "/Users/vingadgil/anaconda/lib/python3.5/site-packages/IPython/core/interactiveshell.py:2723: DtypeWarning: Columns (0) have mixed types. Specify dtype option on import or set low_memory=False.\n",
      "  interactivity=interactivity, compiler=compiler, result=result)\n"
     ]
    }
   ],
   "source": [
    "pd_1 = pd.read_csv('en.openfoodfacts.org.products.csv', sep='\\t',nrows = 10000 )\n"
   ]
  },
  {
   "cell_type": "code",
   "execution_count": 3,
   "metadata": {
    "collapsed": false,
    "scrolled": false
   },
   "outputs": [],
   "source": [
    "pd_null = pd_1[pd_1.product_name.isnull()]\n",
    "#pd_null[['code','product_name','ingredients_text']].head()"
   ]
  },
  {
   "cell_type": "code",
   "execution_count": 4,
   "metadata": {
    "collapsed": false
   },
   "outputs": [
    {
     "name": "stdout",
     "output_type": "stream",
     "text": [
      "5546\n",
      "10000\n"
     ]
    }
   ],
   "source": [
    "# Total number of records in dataframe and number of records with no ingredients.\n",
    "\n",
    "print(len(pd_1[pd_1.ingredients_text.isnull()]))\n",
    "print(len(pd_1))"
   ]
  },
  {
   "cell_type": "markdown",
   "metadata": {},
   "source": [
    "Select only records from data which actually have ingredients i.e. ingredients_text has some values. We shall only be considering such records."
   ]
  },
  {
   "cell_type": "code",
   "execution_count": 5,
   "metadata": {
    "collapsed": false
   },
   "outputs": [
    {
     "data": {
      "text/plain": [
       "4454"
      ]
     },
     "execution_count": 5,
     "metadata": {},
     "output_type": "execute_result"
    }
   ],
   "source": [
    "pd_1 = pd_1[pd_1.ingredients_text.notnull()]\n",
    "len(pd_1)"
   ]
  },
  {
   "cell_type": "markdown",
   "metadata": {},
   "source": [
    "Out of 10000 records there are only 4454 records which has ingredients. For our sample , we only use 4454 records for modeling"
   ]
  },
  {
   "cell_type": "markdown",
   "metadata": {},
   "source": [
    "Selecting only specific columns from the dataset which is required for the logisitic regresssion - Code, Product name,\n",
    "Ingredients, Additives in the dataset and number of additives in each item."
   ]
  },
  {
   "cell_type": "code",
   "execution_count": 6,
   "metadata": {
    "collapsed": false
   },
   "outputs": [],
   "source": [
    "pd_new = pd_1[['code' , 'product_name' , 'ingredients_text', 'additives','additives_n','main_category_en']]\n",
    "pd_new = pd_new[pd_new.ingredients_text.notnull()]\n"
   ]
  },
  {
   "cell_type": "markdown",
   "metadata": {},
   "source": [
    "### 5.2 Calculate Top 50 Ingredients from the Ingredients_text used across all food items\n",
    "\n",
    "Split all the ingredients_text by comma ','"
   ]
  },
  {
   "cell_type": "code",
   "execution_count": 7,
   "metadata": {
    "collapsed": false
   },
   "outputs": [
    {
     "data": {
      "text/plain": [
       "Index([' SEL', ' SALT', ' SUCRE', ' SUGAR', ' EAU', ' WATER', ' DEXTROSE',\n",
       "       ' NIACIN', ' CITRIC ACID', ' SIROP DE GLUCOSE',\n",
       "       ...\n",
       "       ' EPAISSANTS (E407',\n",
       "       'SUGAR; PARTIALLY DEFATTED _PEANUTS_; PARTIALLY HYDROGENATED VEGETABLE OIL (PALM KERNEL AND _SOYBEAN_ OIL); CORN SYRUP; DEXTROSE; CONTAINS 2% OR LESS OF: ARTIFICIAL COLOR (YELLOW 5 LAKE; RED 40 LAKE; YELLOW 6 LAKE; BLUE 1 LAKE); SALT; RESINOUS GLAZE; _SOY_ LECITHIN; MODIFIED CORNSTARCH; CARNAUBA WAX; VANILLIN; ARTIFICIAL FLAVOR; _MILK_.',\n",
       "       'CAROTTES RÂPÉES 80%', ' WHOLE _WHEAT_ FLOUR*',\n",
       "       ' PANURE AUX PÉTALES DE MAÏS (20%) (MAÏS', ' SUNFLOWER LECITHEN', '08%',\n",
       "       'BLACKEYE PEAS',\n",
       "       ' CARNAUBA WAX*. *ADDS A TRIVIAL AMOUNT OF FAT.  MAY CONTAIN TRACES 0F _MILK_',\n",
       "       ' FLOUR TREATMENT AGENT: ASCORBIC ACID '],\n",
       "      dtype='object', length=17793)"
      ]
     },
     "execution_count": 7,
     "metadata": {},
     "output_type": "execute_result"
    }
   ],
   "source": [
    "# Calculate top 50 Ingredients -\n",
    "\n",
    "# get counts by ingredient\n",
    "# taken from http://stackoverflow.com/questions/12680754/split-pandas-dataframe-string-entry-to-separate-rows\n",
    "df_ingredients_tmp = pd_new[['code' , 'ingredients_text']]\n",
    "\n",
    "df_ingredients = df_ingredients_tmp.ingredients_text.str.split(',').tolist()\n",
    "df_tmp = pd.DataFrame(df_ingredients,index=df_ingredients_tmp.code).stack() \n",
    "df_tmp = df_tmp.reset_index()[[0, 'code']] # var1 variable is currently labeled 0\n",
    "df_tmp.columns = ['ingredients_text', 'code'] # renaming var1\n",
    "\n",
    "# Get the count for each ingredients.\n",
    "df1 = df_tmp['ingredients_text'].str.upper().value_counts()\n",
    "df1.index\n"
   ]
  },
  {
   "cell_type": "code",
   "execution_count": 8,
   "metadata": {
    "collapsed": false
   },
   "outputs": [
    {
     "name": "stderr",
     "output_type": "stream",
     "text": [
      "/Users/vingadgil/anaconda/lib/python3.5/site-packages/ipykernel/__main__.py:8: FutureWarning: sort(columns=....) is deprecated, use sort_values(by=.....)\n"
     ]
    },
    {
     "data": {
      "text/html": [
       "<div>\n",
       "<table border=\"1\" class=\"dataframe\">\n",
       "  <thead>\n",
       "    <tr style=\"text-align: right;\">\n",
       "      <th></th>\n",
       "      <th>num_products</th>\n",
       "    </tr>\n",
       "    <tr>\n",
       "      <th>ingredients_text</th>\n",
       "      <th></th>\n",
       "    </tr>\n",
       "  </thead>\n",
       "  <tbody>\n",
       "    <tr>\n",
       "      <th>SEL</th>\n",
       "      <td>701</td>\n",
       "    </tr>\n",
       "    <tr>\n",
       "      <th>SALT</th>\n",
       "      <td>658</td>\n",
       "    </tr>\n",
       "    <tr>\n",
       "      <th>SUCRE</th>\n",
       "      <td>590</td>\n",
       "    </tr>\n",
       "    <tr>\n",
       "      <th>SUGAR</th>\n",
       "      <td>462</td>\n",
       "    </tr>\n",
       "    <tr>\n",
       "      <th>EAU</th>\n",
       "      <td>429</td>\n",
       "    </tr>\n",
       "    <tr>\n",
       "      <th>WATER</th>\n",
       "      <td>280</td>\n",
       "    </tr>\n",
       "    <tr>\n",
       "      <th>DEXTROSE</th>\n",
       "      <td>264</td>\n",
       "    </tr>\n",
       "    <tr>\n",
       "      <th>NIACIN</th>\n",
       "      <td>183</td>\n",
       "    </tr>\n",
       "    <tr>\n",
       "      <th>CITRIC ACID</th>\n",
       "      <td>169</td>\n",
       "    </tr>\n",
       "    <tr>\n",
       "      <th>SIROP DE GLUCOSE</th>\n",
       "      <td>164</td>\n",
       "    </tr>\n",
       "    <tr>\n",
       "      <th>BEURRE DE CACAO</th>\n",
       "      <td>143</td>\n",
       "    </tr>\n",
       "    <tr>\n",
       "      <th>LEVURE</th>\n",
       "      <td>118</td>\n",
       "    </tr>\n",
       "    <tr>\n",
       "      <th>EAU</th>\n",
       "      <td>117</td>\n",
       "    </tr>\n",
       "    <tr>\n",
       "      <th>PÂTE DE CACAO</th>\n",
       "      <td>116</td>\n",
       "    </tr>\n",
       "    <tr>\n",
       "      <th>NATURAL FLAVOR</th>\n",
       "      <td>114</td>\n",
       "    </tr>\n",
       "    <tr>\n",
       "      <th>SUCRE</th>\n",
       "      <td>110</td>\n",
       "    </tr>\n",
       "    <tr>\n",
       "      <th>WATER</th>\n",
       "      <td>109</td>\n",
       "    </tr>\n",
       "    <tr>\n",
       "      <th>HUILE DE COLZA</th>\n",
       "      <td>106</td>\n",
       "    </tr>\n",
       "    <tr>\n",
       "      <th>ÉPICES</th>\n",
       "      <td>105</td>\n",
       "    </tr>\n",
       "    <tr>\n",
       "      <th>ARÔME</th>\n",
       "      <td>104</td>\n",
       "    </tr>\n",
       "    <tr>\n",
       "      <th>REDUCED IRON</th>\n",
       "      <td>103</td>\n",
       "    </tr>\n",
       "    <tr>\n",
       "      <th>FOLIC ACID)</th>\n",
       "      <td>101</td>\n",
       "    </tr>\n",
       "    <tr>\n",
       "      <th>SPICES</th>\n",
       "      <td>96</td>\n",
       "    </tr>\n",
       "    <tr>\n",
       "      <th>COCOA BUTTER</th>\n",
       "      <td>95</td>\n",
       "    </tr>\n",
       "    <tr>\n",
       "      <th>ARÔMES</th>\n",
       "      <td>94</td>\n",
       "    </tr>\n",
       "    <tr>\n",
       "      <th>RIBOFLAVIN</th>\n",
       "      <td>93</td>\n",
       "    </tr>\n",
       "    <tr>\n",
       "      <th>SUGAR</th>\n",
       "      <td>91</td>\n",
       "    </tr>\n",
       "    <tr>\n",
       "      <th>SEA SALT</th>\n",
       "      <td>89</td>\n",
       "    </tr>\n",
       "    <tr>\n",
       "      <th>PALM OIL</th>\n",
       "      <td>88</td>\n",
       "    </tr>\n",
       "    <tr>\n",
       "      <th>YEAST</th>\n",
       "      <td>84</td>\n",
       "    </tr>\n",
       "    <tr>\n",
       "      <th>HIGH FRUCTOSE CORN SYRUP</th>\n",
       "      <td>84</td>\n",
       "    </tr>\n",
       "    <tr>\n",
       "      <th>SIROP DE GLUCOSE-FRUCTOSE</th>\n",
       "      <td>80</td>\n",
       "    </tr>\n",
       "    <tr>\n",
       "      <th>CORN SYRUP</th>\n",
       "      <td>77</td>\n",
       "    </tr>\n",
       "    <tr>\n",
       "      <th>SPEISESALZ</th>\n",
       "      <td>76</td>\n",
       "    </tr>\n",
       "    <tr>\n",
       "      <th>VINEGAR</th>\n",
       "      <td>76</td>\n",
       "    </tr>\n",
       "    <tr>\n",
       "      <th>IRON</th>\n",
       "      <td>72</td>\n",
       "    </tr>\n",
       "    <tr>\n",
       "      <th>AIL</th>\n",
       "      <td>70</td>\n",
       "    </tr>\n",
       "    <tr>\n",
       "      <th>HUILE DE TOURNESOL</th>\n",
       "      <td>69</td>\n",
       "    </tr>\n",
       "    <tr>\n",
       "      <th>GARLIC</th>\n",
       "      <td>67</td>\n",
       "    </tr>\n",
       "    <tr>\n",
       "      <th>VINAIGRE D'ALCOOL</th>\n",
       "      <td>66</td>\n",
       "    </tr>\n",
       "    <tr>\n",
       "      <th>CALCIUM CARBONATE</th>\n",
       "      <td>65</td>\n",
       "    </tr>\n",
       "    <tr>\n",
       "      <th>NATURAL FLAVORS</th>\n",
       "      <td>63</td>\n",
       "    </tr>\n",
       "    <tr>\n",
       "      <th>ARÔME NATUREL</th>\n",
       "      <td>62</td>\n",
       "    </tr>\n",
       "    <tr>\n",
       "      <th>_SOY_ LECITHIN</th>\n",
       "      <td>62</td>\n",
       "    </tr>\n",
       "    <tr>\n",
       "      <th>SEL.</th>\n",
       "      <td>60</td>\n",
       "    </tr>\n",
       "    <tr>\n",
       "      <th>ZUCKER</th>\n",
       "      <td>60</td>\n",
       "    </tr>\n",
       "    <tr>\n",
       "      <th>XANTHAN GUM</th>\n",
       "      <td>59</td>\n",
       "    </tr>\n",
       "    <tr>\n",
       "      <th>SEL)</th>\n",
       "      <td>59</td>\n",
       "    </tr>\n",
       "    <tr>\n",
       "      <th>VITAMIN A PALMITATE</th>\n",
       "      <td>58</td>\n",
       "    </tr>\n",
       "    <tr>\n",
       "      <th>OIGNONS</th>\n",
       "      <td>58</td>\n",
       "    </tr>\n",
       "  </tbody>\n",
       "</table>\n",
       "</div>"
      ],
      "text/plain": [
       "                            num_products\n",
       "ingredients_text                        \n",
       " SEL                                 701\n",
       " SALT                                658\n",
       " SUCRE                               590\n",
       " SUGAR                               462\n",
       " EAU                                 429\n",
       " WATER                               280\n",
       " DEXTROSE                            264\n",
       " NIACIN                              183\n",
       " CITRIC ACID                         169\n",
       " SIROP DE GLUCOSE                    164\n",
       " BEURRE DE CACAO                     143\n",
       " LEVURE                              118\n",
       "EAU                                  117\n",
       " PÂTE DE CACAO                       116\n",
       " NATURAL FLAVOR                      114\n",
       "SUCRE                                110\n",
       "WATER                                109\n",
       " HUILE DE COLZA                      106\n",
       " ÉPICES                              105\n",
       " ARÔME                               104\n",
       " REDUCED IRON                        103\n",
       " FOLIC ACID)                         101\n",
       " SPICES                               96\n",
       " COCOA BUTTER                         95\n",
       " ARÔMES                               94\n",
       " RIBOFLAVIN                           93\n",
       "SUGAR                                 91\n",
       " SEA SALT                             89\n",
       " PALM OIL                             88\n",
       " YEAST                                84\n",
       " HIGH FRUCTOSE CORN SYRUP             84\n",
       " SIROP DE GLUCOSE-FRUCTOSE            80\n",
       " CORN SYRUP                           77\n",
       " SPEISESALZ                           76\n",
       " VINEGAR                              76\n",
       " IRON                                 72\n",
       " AIL                                  70\n",
       " HUILE DE TOURNESOL                   69\n",
       " GARLIC                               67\n",
       " VINAIGRE D'ALCOOL                    66\n",
       " CALCIUM CARBONATE                    65\n",
       " NATURAL FLAVORS                      63\n",
       " ARÔME NATUREL                        62\n",
       " _SOY_ LECITHIN                       62\n",
       " SEL.                                 60\n",
       " ZUCKER                               60\n",
       " XANTHAN GUM                          59\n",
       " SEL)                                 59\n",
       " VITAMIN A PALMITATE                  58\n",
       " OIGNONS                              58"
      ]
     },
     "execution_count": 8,
     "metadata": {},
     "output_type": "execute_result"
    }
   ],
   "source": [
    "df_tmp['ingredients_text'] = df_tmp['ingredients_text'].str.upper()\n",
    "\n",
    "# group by each ingredient and count unique number of products ('code')\n",
    "df_ingredients_ranks = pd.DataFrame(df_tmp.groupby('ingredients_text').code.nunique())\n",
    "# rename col\n",
    "df_ingredients_ranks.columns = ['num_products'] # renaming\n",
    "# sort it\n",
    "df_ingredients_ranks = df_ingredients_ranks.sort(['num_products'], ascending=[False])\n",
    "# here is the top 50 ingredients\n",
    "df_ingredients_top50 = df_ingredients_ranks.head(50)\n",
    "df_ingredients_top50"
   ]
  },
  {
   "cell_type": "code",
   "execution_count": null,
   "metadata": {
    "collapsed": false
   },
   "outputs": [],
   "source": []
  },
  {
   "cell_type": "markdown",
   "metadata": {
    "collapsed": false
   },
   "source": [
    "### 5.3 Preparing data for  Logistic Regression Model "
   ]
  },
  {
   "cell_type": "markdown",
   "metadata": {},
   "source": [
    "Plotting Additives_N field. In order to plot the additives , we have ignored all entries which are 0. Just plotting values which are above 0."
   ]
  },
  {
   "cell_type": "code",
   "execution_count": 9,
   "metadata": {
    "collapsed": true
   },
   "outputs": [],
   "source": [
    "pd_additive = pd_new[pd_new.additives_n > 0]"
   ]
  },
  {
   "cell_type": "code",
   "execution_count": 10,
   "metadata": {
    "collapsed": false
   },
   "outputs": [
    {
     "data": {
      "text/plain": [
       "<matplotlib.axes._subplots.AxesSubplot at 0x114539588>"
      ]
     },
     "execution_count": 10,
     "metadata": {},
     "output_type": "execute_result"
    },
    {
     "data": {
      "image/png": "[encoded data removed]",
      "text/plain": [
       "<matplotlib.figure.Figure at 0x1133df390>"
      ]
     },
     "metadata": {},
     "output_type": "display_data"
    }
   ],
   "source": [
    "pd_additive.additives_n.hist(bins=25)"
   ]
  },
  {
   "cell_type": "markdown",
   "metadata": {},
   "source": [
    "Since We would be using Additives_n column for Regression model we shall create a new column called'High Add' .\n",
    "\n",
    "\n",
    "If Additives_n > 4 ,\n",
    "     \n",
    "   High Add = 1.\n",
    " \n",
    "Else \n",
    "\n",
    "   High Add = 0."
   ]
  },
  {
   "cell_type": "code",
   "execution_count": 11,
   "metadata": {
    "collapsed": true
   },
   "outputs": [],
   "source": [
    "pd_new['high_add'] = np.where(pd_new['additives_n']>4, '1', '0')"
   ]
  },
  {
   "cell_type": "code",
   "execution_count": 12,
   "metadata": {
    "collapsed": false
   },
   "outputs": [
    {
     "data": {
      "text/plain": [
       "505"
      ]
     },
     "execution_count": 12,
     "metadata": {},
     "output_type": "execute_result"
    }
   ],
   "source": [
    "len(pd_new[pd_new['high_add'] == '1'])"
   ]
  },
  {
   "cell_type": "markdown",
   "metadata": {},
   "source": [
    "Around 505 items out of 4454 records have more than 4 additives in ingredients. Around 12% records have high additives"
   ]
  },
  {
   "cell_type": "markdown",
   "metadata": {},
   "source": [
    "##### Based on the Top 20 ingredients and checking the Top 20 Additives on Web , we create new dummy variables.\n",
    "\n",
    "TOP 15 Additives \n",
    "\n",
    "1. DEXTROSE\n",
    "2. CITRIC ACID\n",
    "3. COCOA BUTTER\n",
    "4. GLUCOSE\n",
    "5. CORN SYRUP\n",
    "6.  CARBONATED WATER\n",
    "7. PALM OIL\n",
    "8. MONOSODIUM GLUTAMATE\n",
    "9. HYDROGENATED OIL\n",
    "10. ARTIFICIAL COLORS\n",
    "11. SODIUM NITRATE / SODIUM NITRITE\n",
    "12. BHA\n",
    "13. BHT\n",
    "14. CORN STARCH\n",
    "15. ARTIFICAL SWEETNERS- Saccharin,Aspartame,Sucralose,Agave nectar,Bleached starch\n",
    "\n"
   ]
  },
  {
   "cell_type": "code",
   "execution_count": 13,
   "metadata": {
    "collapsed": true
   },
   "outputs": [],
   "source": [
    "pd_new['ingredients_text'] = pd_new['ingredients_text'].str.upper()"
   ]
  },
  {
   "cell_type": "code",
   "execution_count": 14,
   "metadata": {
    "collapsed": true
   },
   "outputs": [],
   "source": [
    "def new_column(column_name,label):\n",
    "    \n",
    "    pattern = '|'.join(label)\n",
    "    \n",
    "    pd_new[column_name] = pd_new['ingredients_text'].str.contains(pattern)\n",
    "    pd_new.column_name = pd_new.column_name.astype(int)\n",
    "    \n",
    "    return pd_new[column_name]"
   ]
  },
  {
   "cell_type": "markdown",
   "metadata": {},
   "source": [
    "### 5.3.2 - Create dummy variables for Ingredients and Categories"
   ]
  },
  {
   "cell_type": "code",
   "execution_count": null,
   "metadata": {
    "collapsed": false
   },
   "outputs": [],
   "source": []
  },
  {
   "cell_type": "code",
   "execution_count": 16,
   "metadata": {
    "collapsed": false
   },
   "outputs": [],
   "source": [
    "# Check if Ingredients have Wheat .\n",
    "\n",
    "#pd_new['has_wheat'] = pd_new['ingredients_text'].str.match('Wheat|wheat',case = '1', na='0')\n",
    "\n",
    "wheat = ['Wheat','wheat','Weizen','blé','trigo','WHEAT']\n",
    "pattern = '|'.join(wheat)\n",
    "pd_new['has_wheat'] = pd_new['ingredients_text'].str.contains(pattern)\n",
    "pd_new.has_wheat = pd_new.has_wheat.astype(int)\n",
    "\n",
    "\n",
    "# Check if Ingredients has Salt.\n",
    "\n",
    "salt = ['Salt','SALT','SAL','SALZ','SEL']\n",
    "pattern = '|'.join(salt)\n",
    "pd_new['has_salt'] = pd_new['ingredients_text'].str.contains(pattern) \n",
    "pd_new.has_salt = pd_new.has_salt.astype(int)\n",
    "\n",
    "# Check if Ingredients has Sugar\n",
    "\n",
    "sugar = ['SUGAR','SUCRE','AZÚCAR','ZUCKER','Sugar']\n",
    "sugar = '|'.join(sugar)\n",
    "pd_new['has_sugar'] = pd_new['ingredients_text'].str.contains(sugar)\n",
    "pd_new.has_sugar = pd_new.has_sugar.astype(int)\n",
    "\n",
    "# Check if Ingredients has Chocolate .\n",
    "\n",
    "chocolate = ['CHOCO','CHOCOLATE','CHOCOLAT','SCHOKOLADE','Chocolate']\n",
    "chocolate = '|'.join(chocolate)\n",
    "pd_new['has_choco'] = pd_new['ingredients_text'].str.contains(chocolate)\n",
    "pd_new.has_choco = pd_new.has_choco.astype(int)\n",
    "\n",
    "# Check if Ingredients has Milk\n",
    "\n",
    "milk = ['MILK','LECHE','MILCHE','LAIT','Milk']\n",
    "milk = '|'.join(milk)\n",
    "\n",
    "pd_new['has_milk'] = pd_new['ingredients_text'].str.contains(milk)\n",
    "pd_new.has_milk = pd_new.has_milk.astype(int)\n",
    "\n",
    "# Check if Ingredients has Color\n",
    "\n",
    "color = ['Color','COLOR','FARBE','COULEUR']\n",
    "color = '|'.join(color)\n",
    "\n",
    "pd_new['has_color'] = pd_new['ingredients_text'].str.contains(color)\n",
    "pd_new.has_color = pd_new.has_color.astype(int)\n",
    "\n",
    "# Check if Ingredients has MSG\n",
    "\n",
    "msg = ['MSG','Msg','MONOSODIUM GLUTAMATE']\n",
    "msg = '|'.join(msg)\n",
    "\n",
    "pd_new['has_msg'] = pd_new['ingredients_text'].str.contains(msg)\n",
    "pd_new.has_msg = pd_new.has_msg.astype(int)\n",
    "\n",
    "# Check if Ingredients has YEAST\n",
    "\n",
    "yeast = ['Yeast','YEAST','LEVURE','HEFE','LEVADURA']\n",
    "yeast = '|'.join(yeast)\n",
    "\n",
    "pd_new['has_yeast'] = pd_new['ingredients_text'].str.contains(yeast)\n",
    "pd_new.has_yeast = pd_new.has_yeast.astype(int)\n",
    "\n",
    "# Check if Ingredients has cocoa butter\n",
    "\n",
    "cocoa = ['Cocoa Butter','COCOA BUTTER','COCOA','KAKAOBUTTER','LE BEURRE DE CACAO','CACAO','KAKAO']\n",
    "cocoa = '|'.join(cocoa)\n",
    "\n",
    "pd_new['has_cocoa'] = pd_new['ingredients_text'].str.contains(cocoa)\n",
    "pd_new.has_cocoa = pd_new.has_cocoa.astype(int)\n",
    "\n",
    "# Check if Ingredients has Palm Oil\n",
    "\n",
    "palm = ['Palm Oil','PALM OIL','PALMÖL','HUILE DE PALME','ACEITE DE PALMA']\n",
    "palm = '|'.join(palm)\n",
    "\n",
    "pd_new['has_palm'] = pd_new['ingredients_text'].str.contains(palm)\n",
    "pd_new.has_palm = pd_new.has_palm.astype(int)\n",
    "    \n"
   ]
  },
  {
   "cell_type": "code",
   "execution_count": 17,
   "metadata": {
    "collapsed": true
   },
   "outputs": [],
   "source": [
    "# Additional Columns\n",
    "# Check if Ingredients has Water\n",
    "\n",
    "water = ['WATER','water','WASSER','AGUA','EAU']\n",
    "water = '|'.join(water)\n",
    "\n",
    "pd_new['has_water'] = pd_new['ingredients_text'].str.contains(water)\n",
    "pd_new.has_water = pd_new.has_water.astype(int)\n",
    "\n",
    "# Check if Ingredients has Garlic\n",
    "\n",
    "garlic = ['Garlic','GARLIC','AIL','KNOBLAUCH','AJO']\n",
    "garlic = '|'.join(garlic)\n",
    "\n",
    "pd_new['has_garlic'] = pd_new['ingredients_text'].str.contains(garlic)\n",
    "pd_new.has_garlic = pd_new.has_garlic.astype(int)\n",
    "\n",
    "# Check if Ingredients has Flour\n",
    "\n",
    "flour = ['Flour','FLOUR','MEHL','FARINE','HARINA']\n",
    "flour = '|'.join(flour)\n",
    "\n",
    "pd_new['has_flour'] = pd_new['ingredients_text'].str.contains(flour)\n",
    "pd_new.has_flour = pd_new.has_flour.astype(int)\n",
    "\n",
    "# Check if Ingredients has Ginger\n",
    "\n",
    "ginger = ['Ginger','GINGER','GINGREMBRE','INGWER','JINGIBRE']\n",
    "ginger = '|'.join(ginger)\n",
    "\n",
    "pd_new['has_ginger'] = pd_new['ingredients_text'].str.contains(ginger)\n",
    "pd_new.has_ginger = pd_new.has_ginger.astype(int)\n",
    "\n",
    "# Check if Ingredients has honey\n",
    "\n",
    "honey = ['Honey','HONEY','HONIG','MIEL']\n",
    "honey = '|'.join(honey)\n",
    "\n",
    "pd_new['has_honey'] = pd_new['ingredients_text'].str.contains(honey)\n",
    "pd_new.has_honey = pd_new.has_honey.astype(int)\n",
    "\n",
    "# Check if Ingredients has Spices\n",
    "\n",
    "spice = ['Spices','SPICES','ÉPICES','GEWÜRZE','Especias']\n",
    "spice = '|'.join(spice)\n",
    "\n",
    "pd_new['has_spice'] = pd_new['ingredients_text'].str.contains(spice)\n",
    "pd_new.has_spice = pd_new.has_spice.astype(int)\n",
    "\n",
    "# Check if Ingredients has Onion\n",
    "\n",
    "onion = ['Onion','ONION','OIGNON','ZWIEBEL','CEBOLLA']\n",
    "onion = '|'.join(onion)\n",
    "\n",
    "pd_new['has_onion'] = pd_new['ingredients_text'].str.contains(onion)\n",
    "pd_new.has_onion = pd_new.has_onion.astype(int)\n",
    "\n"
   ]
  },
  {
   "cell_type": "code",
   "execution_count": 18,
   "metadata": {
    "collapsed": false
   },
   "outputs": [
    {
     "data": {
      "text/html": [
       "<div>\n",
       "<table border=\"1\" class=\"dataframe\">\n",
       "  <thead>\n",
       "    <tr style=\"text-align: right;\">\n",
       "      <th></th>\n",
       "      <th>code</th>\n",
       "      <th>product_name</th>\n",
       "      <th>ingredients_text</th>\n",
       "      <th>additives</th>\n",
       "      <th>additives_n</th>\n",
       "      <th>main_category_en</th>\n",
       "      <th>high_add</th>\n",
       "      <th>has_wheat</th>\n",
       "      <th>has_salt</th>\n",
       "      <th>has_sugar</th>\n",
       "      <th>...</th>\n",
       "      <th>has_yeast</th>\n",
       "      <th>has_cocoa</th>\n",
       "      <th>has_palm</th>\n",
       "      <th>has_water</th>\n",
       "      <th>has_garlic</th>\n",
       "      <th>has_flour</th>\n",
       "      <th>has_ginger</th>\n",
       "      <th>has_honey</th>\n",
       "      <th>has_spice</th>\n",
       "      <th>has_onion</th>\n",
       "    </tr>\n",
       "  </thead>\n",
       "  <tbody>\n",
       "    <tr>\n",
       "      <th>5</th>\n",
       "      <td>0000000056434</td>\n",
       "      <td>diet lemonade by Sainsbury's</td>\n",
       "      <td>CARBONATED  WATER, ACID: CITRIC ACID; FLAVOURI...</td>\n",
       "      <td>[ carbonated-water -&gt; en:carbonated-water  ] ...</td>\n",
       "      <td>4.0</td>\n",
       "      <td>NaN</td>\n",
       "      <td>0</td>\n",
       "      <td>0</td>\n",
       "      <td>0</td>\n",
       "      <td>0</td>\n",
       "      <td>...</td>\n",
       "      <td>0</td>\n",
       "      <td>0</td>\n",
       "      <td>0</td>\n",
       "      <td>1</td>\n",
       "      <td>0</td>\n",
       "      <td>0</td>\n",
       "      <td>0</td>\n",
       "      <td>0</td>\n",
       "      <td>0</td>\n",
       "      <td>0</td>\n",
       "    </tr>\n",
       "    <tr>\n",
       "      <th>6</th>\n",
       "      <td>0000001071894</td>\n",
       "      <td>Flute</td>\n",
       "      <td>WHEAT</td>\n",
       "      <td>[ wheat -&gt; en:wheat  ]</td>\n",
       "      <td>0.0</td>\n",
       "      <td>Plant-based foods and beverages</td>\n",
       "      <td>0</td>\n",
       "      <td>1</td>\n",
       "      <td>0</td>\n",
       "      <td>0</td>\n",
       "      <td>...</td>\n",
       "      <td>0</td>\n",
       "      <td>0</td>\n",
       "      <td>0</td>\n",
       "      <td>0</td>\n",
       "      <td>0</td>\n",
       "      <td>0</td>\n",
       "      <td>0</td>\n",
       "      <td>0</td>\n",
       "      <td>0</td>\n",
       "      <td>0</td>\n",
       "    </tr>\n",
       "    <tr>\n",
       "      <th>7</th>\n",
       "      <td>0000001471762</td>\n",
       "      <td>still Scottish water</td>\n",
       "      <td>WATER</td>\n",
       "      <td>[ water -&gt; en:water  ]</td>\n",
       "      <td>0.0</td>\n",
       "      <td>NaN</td>\n",
       "      <td>0</td>\n",
       "      <td>0</td>\n",
       "      <td>0</td>\n",
       "      <td>0</td>\n",
       "      <td>...</td>\n",
       "      <td>0</td>\n",
       "      <td>0</td>\n",
       "      <td>0</td>\n",
       "      <td>1</td>\n",
       "      <td>0</td>\n",
       "      <td>0</td>\n",
       "      <td>0</td>\n",
       "      <td>0</td>\n",
       "      <td>0</td>\n",
       "      <td>0</td>\n",
       "    </tr>\n",
       "    <tr>\n",
       "      <th>8</th>\n",
       "      <td>0000001798180</td>\n",
       "      <td>Fairtrade Ground Cinnamon</td>\n",
       "      <td>CINNAMON</td>\n",
       "      <td>[ cinnamon -&gt; en:cinnamon  ]</td>\n",
       "      <td>0.0</td>\n",
       "      <td>NaN</td>\n",
       "      <td>0</td>\n",
       "      <td>0</td>\n",
       "      <td>0</td>\n",
       "      <td>0</td>\n",
       "      <td>...</td>\n",
       "      <td>0</td>\n",
       "      <td>0</td>\n",
       "      <td>0</td>\n",
       "      <td>0</td>\n",
       "      <td>0</td>\n",
       "      <td>0</td>\n",
       "      <td>0</td>\n",
       "      <td>0</td>\n",
       "      <td>0</td>\n",
       "      <td>0</td>\n",
       "    </tr>\n",
       "    <tr>\n",
       "      <th>9</th>\n",
       "      <td>0000005200016</td>\n",
       "      <td>lentilles vertes</td>\n",
       "      <td>LENTILLES VERTES</td>\n",
       "      <td>[ lentilles-vertes -&gt; fr:lentilles-vertes  ] ...</td>\n",
       "      <td>0.0</td>\n",
       "      <td>Plant-based foods and beverages</td>\n",
       "      <td>0</td>\n",
       "      <td>0</td>\n",
       "      <td>0</td>\n",
       "      <td>0</td>\n",
       "      <td>...</td>\n",
       "      <td>0</td>\n",
       "      <td>0</td>\n",
       "      <td>0</td>\n",
       "      <td>0</td>\n",
       "      <td>0</td>\n",
       "      <td>0</td>\n",
       "      <td>0</td>\n",
       "      <td>0</td>\n",
       "      <td>0</td>\n",
       "      <td>0</td>\n",
       "    </tr>\n",
       "  </tbody>\n",
       "</table>\n",
       "<p>5 rows × 24 columns</p>\n",
       "</div>"
      ],
      "text/plain": [
       "            code                  product_name  \\\n",
       "5  0000000056434  diet lemonade by Sainsbury's   \n",
       "6  0000001071894                         Flute   \n",
       "7  0000001471762          still Scottish water   \n",
       "8  0000001798180     Fairtrade Ground Cinnamon   \n",
       "9  0000005200016             lentilles vertes    \n",
       "\n",
       "                                    ingredients_text  \\\n",
       "5  CARBONATED  WATER, ACID: CITRIC ACID; FLAVOURI...   \n",
       "6                                              WHEAT   \n",
       "7                                              WATER   \n",
       "8                                           CINNAMON   \n",
       "9                                   LENTILLES VERTES   \n",
       "\n",
       "                                           additives  additives_n  \\\n",
       "5   [ carbonated-water -> en:carbonated-water  ] ...          4.0   \n",
       "6                            [ wheat -> en:wheat  ]           0.0   \n",
       "7                            [ water -> en:water  ]           0.0   \n",
       "8                      [ cinnamon -> en:cinnamon  ]           0.0   \n",
       "9   [ lentilles-vertes -> fr:lentilles-vertes  ] ...          0.0   \n",
       "\n",
       "                  main_category_en high_add  has_wheat  has_salt  has_sugar  \\\n",
       "5                              NaN        0          0         0          0   \n",
       "6  Plant-based foods and beverages        0          1         0          0   \n",
       "7                              NaN        0          0         0          0   \n",
       "8                              NaN        0          0         0          0   \n",
       "9  Plant-based foods and beverages        0          0         0          0   \n",
       "\n",
       "     ...      has_yeast  has_cocoa  has_palm  has_water  has_garlic  \\\n",
       "5    ...              0          0         0          1           0   \n",
       "6    ...              0          0         0          0           0   \n",
       "7    ...              0          0         0          1           0   \n",
       "8    ...              0          0         0          0           0   \n",
       "9    ...              0          0         0          0           0   \n",
       "\n",
       "   has_flour  has_ginger  has_honey  has_spice  has_onion  \n",
       "5          0           0          0          0          0  \n",
       "6          0           0          0          0          0  \n",
       "7          0           0          0          0          0  \n",
       "8          0           0          0          0          0  \n",
       "9          0           0          0          0          0  \n",
       "\n",
       "[5 rows x 24 columns]"
      ]
     },
     "execution_count": 18,
     "metadata": {},
     "output_type": "execute_result"
    }
   ],
   "source": [
    "pd_new.head()"
   ]
  },
  {
   "cell_type": "markdown",
   "metadata": {
    "collapsed": true
   },
   "source": [
    "Create Dummy Variables for each of the Categories. The Top 20 Categories are -\n",
    "\n",
    "Plant-based foods and beverages                     \n",
    "Sugary snacks                                        \n",
    "Beverages                                            \n",
    "Dairies                                              \n",
    "Groceries                                            \n",
    "Meats                                                \n",
    "Fresh foods                                          \n",
    "Meals                                                \n",
    "Salty snacks                                         \n",
    "Canned foods                                         \n",
    "Frozen foods                                         \n",
    "Fruit juices                                         \n",
    "Breakfasts                                            \n",
    "Seafood                                               \n",
    "Desserts                                              \n",
    "          "
   ]
  },
  {
   "cell_type": "markdown",
   "metadata": {},
   "source": [
    "### Create Additional Dummy Columns in dataframe for TOP 20 CATEGORIES"
   ]
  },
  {
   "cell_type": "code",
   "execution_count": 19,
   "metadata": {
    "collapsed": false
   },
   "outputs": [],
   "source": [
    "# Create columns on Categories \n",
    "pd_new['is_plant'] =  np.where(pd_new['main_category_en'] == 'Plant-based foods and beverages', '1', '0')\n",
    "pd_new.is_plant = pd_new.is_plant.astype(int)\n",
    "\n",
    "pd_new['is_bev'] = np.where(pd_new['main_category_en'] == 'Beverages','1','0')\n",
    "pd_new.is_bev = pd_new.is_bev.astype(int)\n",
    "\n",
    "pd_new['is_sugar'] = np.where(pd_new['main_category_en'] == 'Sugary snacks','1','0')\n",
    "pd_new.is_sugar = pd_new.is_sugar.astype(int)\n",
    "\n",
    "pd_new['is_salt'] = np.where(pd_new['main_category_en'] == 'Salty snacks','1','0')\n",
    "pd_new.is_salt = pd_new.is_salt.astype(int)\n",
    "\n",
    "pd_new['is_dairy'] = np.where(pd_new['main_category_en'] == 'Dairies','1','0')\n",
    "pd_new.is_dairy = pd_new.is_dairy.astype(int)\n",
    "\n",
    "pd_new['is_meat'] = np.where(pd_new['main_category_en'] == 'Meats|Seafood','1','0')\n",
    "pd_new.is_meat = pd_new.is_meat.astype(int)\n",
    "\n",
    "pd_new['is_fresh'] = np.where(pd_new['main_category_en'] == 'Fresh foods','1','0')\n",
    "pd_new.is_fresh = pd_new.is_fresh.astype(int)\n",
    "\n",
    "pd_new['is_break'] = np.where(pd_new['main_category_en'] == 'Breakfasts','1','0')\n",
    "pd_new.is_break = pd_new.is_break.astype(int)\n",
    "\n",
    "pd_new['is_frozen'] = np.where(pd_new['main_category_en'] == 'Frozen foods','1','0')\n",
    "pd_new.is_frozen = pd_new.is_frozen.astype(int)\n",
    "\n",
    "pd_new['is_juices'] = np.where(pd_new['main_category_en'] == 'Fruit Juices','1','0')\n",
    "pd_new.is_juices = pd_new.is_juices.astype(int)\n",
    "\n"
   ]
  },
  {
   "cell_type": "code",
   "execution_count": 20,
   "metadata": {
    "collapsed": true
   },
   "outputs": [],
   "source": [
    "# manually add the intercept\n",
    "pd_new['intercept'] = 1.0"
   ]
  },
  {
   "cell_type": "code",
   "execution_count": 21,
   "metadata": {
    "collapsed": false
   },
   "outputs": [],
   "source": [
    "pd_new['high_add'] = pd_new['high_add'].astype(int)"
   ]
  },
  {
   "cell_type": "code",
   "execution_count": 22,
   "metadata": {
    "collapsed": true
   },
   "outputs": [],
   "source": [
    "pd_new['text_count'] = pd_new['ingredients_text'].apply(lambda x: x.count(',') + 1)"
   ]
  },
  {
   "cell_type": "code",
   "execution_count": 23,
   "metadata": {
    "collapsed": false
   },
   "outputs": [
    {
     "name": "stdout",
     "output_type": "stream",
     "text": [
      "<class 'pandas.core.frame.DataFrame'>\n",
      "Int64Index: 4454 entries, 5 to 9999\n",
      "Data columns (total 36 columns):\n",
      "code                4454 non-null object\n",
      "product_name        4417 non-null object\n",
      "ingredients_text    4454 non-null object\n",
      "additives           3987 non-null object\n",
      "additives_n         4452 non-null float64\n",
      "main_category_en    4192 non-null object\n",
      "high_add            4454 non-null int64\n",
      "has_wheat           4454 non-null int64\n",
      "has_salt            4454 non-null int64\n",
      "has_sugar           4454 non-null int64\n",
      "has_choco           4454 non-null int64\n",
      "has_milk            4454 non-null int64\n",
      "has_color           4454 non-null int64\n",
      "has_msg             4454 non-null int64\n",
      "has_yeast           4454 non-null int64\n",
      "has_cocoa           4454 non-null int64\n",
      "has_palm            4454 non-null int64\n",
      "has_water           4454 non-null int64\n",
      "has_garlic          4454 non-null int64\n",
      "has_flour           4454 non-null int64\n",
      "has_ginger          4454 non-null int64\n",
      "has_honey           4454 non-null int64\n",
      "has_spice           4454 non-null int64\n",
      "has_onion           4454 non-null int64\n",
      "is_plant            4454 non-null int64\n",
      "is_bev              4454 non-null int64\n",
      "is_sugar            4454 non-null int64\n",
      "is_salt             4454 non-null int64\n",
      "is_dairy            4454 non-null int64\n",
      "is_meat             4454 non-null int64\n",
      "is_fresh            4454 non-null int64\n",
      "is_break            4454 non-null int64\n",
      "is_frozen           4454 non-null int64\n",
      "is_juices           4454 non-null int64\n",
      "intercept           4454 non-null float64\n",
      "text_count          4454 non-null int64\n",
      "dtypes: float64(2), int64(29), object(5)\n",
      "memory usage: 1.3+ MB\n"
     ]
    }
   ],
   "source": [
    "#pd_new.to_csv('abcd.csv')\n",
    "pd_new.info()"
   ]
  },
  {
   "cell_type": "code",
   "execution_count": 24,
   "metadata": {
    "collapsed": false
   },
   "outputs": [
    {
     "data": {
      "text/html": [
       "<div>\n",
       "<table border=\"1\" class=\"dataframe\">\n",
       "  <thead>\n",
       "    <tr style=\"text-align: right;\">\n",
       "      <th></th>\n",
       "      <th>code</th>\n",
       "      <th>product_name</th>\n",
       "      <th>ingredients_text</th>\n",
       "      <th>additives</th>\n",
       "      <th>additives_n</th>\n",
       "      <th>main_category_en</th>\n",
       "      <th>high_add</th>\n",
       "      <th>has_wheat</th>\n",
       "      <th>has_salt</th>\n",
       "      <th>has_sugar</th>\n",
       "      <th>...</th>\n",
       "      <th>is_sugar</th>\n",
       "      <th>is_salt</th>\n",
       "      <th>is_dairy</th>\n",
       "      <th>is_meat</th>\n",
       "      <th>is_fresh</th>\n",
       "      <th>is_break</th>\n",
       "      <th>is_frozen</th>\n",
       "      <th>is_juices</th>\n",
       "      <th>intercept</th>\n",
       "      <th>text_count</th>\n",
       "    </tr>\n",
       "  </thead>\n",
       "  <tbody>\n",
       "    <tr>\n",
       "      <th>5</th>\n",
       "      <td>0000000056434</td>\n",
       "      <td>diet lemonade by Sainsbury's</td>\n",
       "      <td>CARBONATED  WATER, ACID: CITRIC ACID; FLAVOURI...</td>\n",
       "      <td>[ carbonated-water -&gt; en:carbonated-water  ] ...</td>\n",
       "      <td>4.0</td>\n",
       "      <td>NaN</td>\n",
       "      <td>0</td>\n",
       "      <td>0</td>\n",
       "      <td>0</td>\n",
       "      <td>0</td>\n",
       "      <td>...</td>\n",
       "      <td>0</td>\n",
       "      <td>0</td>\n",
       "      <td>0</td>\n",
       "      <td>0</td>\n",
       "      <td>0</td>\n",
       "      <td>0</td>\n",
       "      <td>0</td>\n",
       "      <td>0</td>\n",
       "      <td>1.0</td>\n",
       "      <td>3</td>\n",
       "    </tr>\n",
       "    <tr>\n",
       "      <th>6</th>\n",
       "      <td>0000001071894</td>\n",
       "      <td>Flute</td>\n",
       "      <td>WHEAT</td>\n",
       "      <td>[ wheat -&gt; en:wheat  ]</td>\n",
       "      <td>0.0</td>\n",
       "      <td>Plant-based foods and beverages</td>\n",
       "      <td>0</td>\n",
       "      <td>1</td>\n",
       "      <td>0</td>\n",
       "      <td>0</td>\n",
       "      <td>...</td>\n",
       "      <td>0</td>\n",
       "      <td>0</td>\n",
       "      <td>0</td>\n",
       "      <td>0</td>\n",
       "      <td>0</td>\n",
       "      <td>0</td>\n",
       "      <td>0</td>\n",
       "      <td>0</td>\n",
       "      <td>1.0</td>\n",
       "      <td>1</td>\n",
       "    </tr>\n",
       "    <tr>\n",
       "      <th>7</th>\n",
       "      <td>0000001471762</td>\n",
       "      <td>still Scottish water</td>\n",
       "      <td>WATER</td>\n",
       "      <td>[ water -&gt; en:water  ]</td>\n",
       "      <td>0.0</td>\n",
       "      <td>NaN</td>\n",
       "      <td>0</td>\n",
       "      <td>0</td>\n",
       "      <td>0</td>\n",
       "      <td>0</td>\n",
       "      <td>...</td>\n",
       "      <td>0</td>\n",
       "      <td>0</td>\n",
       "      <td>0</td>\n",
       "      <td>0</td>\n",
       "      <td>0</td>\n",
       "      <td>0</td>\n",
       "      <td>0</td>\n",
       "      <td>0</td>\n",
       "      <td>1.0</td>\n",
       "      <td>1</td>\n",
       "    </tr>\n",
       "    <tr>\n",
       "      <th>8</th>\n",
       "      <td>0000001798180</td>\n",
       "      <td>Fairtrade Ground Cinnamon</td>\n",
       "      <td>CINNAMON</td>\n",
       "      <td>[ cinnamon -&gt; en:cinnamon  ]</td>\n",
       "      <td>0.0</td>\n",
       "      <td>NaN</td>\n",
       "      <td>0</td>\n",
       "      <td>0</td>\n",
       "      <td>0</td>\n",
       "      <td>0</td>\n",
       "      <td>...</td>\n",
       "      <td>0</td>\n",
       "      <td>0</td>\n",
       "      <td>0</td>\n",
       "      <td>0</td>\n",
       "      <td>0</td>\n",
       "      <td>0</td>\n",
       "      <td>0</td>\n",
       "      <td>0</td>\n",
       "      <td>1.0</td>\n",
       "      <td>1</td>\n",
       "    </tr>\n",
       "    <tr>\n",
       "      <th>9</th>\n",
       "      <td>0000005200016</td>\n",
       "      <td>lentilles vertes</td>\n",
       "      <td>LENTILLES VERTES</td>\n",
       "      <td>[ lentilles-vertes -&gt; fr:lentilles-vertes  ] ...</td>\n",
       "      <td>0.0</td>\n",
       "      <td>Plant-based foods and beverages</td>\n",
       "      <td>0</td>\n",
       "      <td>0</td>\n",
       "      <td>0</td>\n",
       "      <td>0</td>\n",
       "      <td>...</td>\n",
       "      <td>0</td>\n",
       "      <td>0</td>\n",
       "      <td>0</td>\n",
       "      <td>0</td>\n",
       "      <td>0</td>\n",
       "      <td>0</td>\n",
       "      <td>0</td>\n",
       "      <td>0</td>\n",
       "      <td>1.0</td>\n",
       "      <td>1</td>\n",
       "    </tr>\n",
       "  </tbody>\n",
       "</table>\n",
       "<p>5 rows × 36 columns</p>\n",
       "</div>"
      ],
      "text/plain": [
       "            code                  product_name  \\\n",
       "5  0000000056434  diet lemonade by Sainsbury's   \n",
       "6  0000001071894                         Flute   \n",
       "7  0000001471762          still Scottish water   \n",
       "8  0000001798180     Fairtrade Ground Cinnamon   \n",
       "9  0000005200016             lentilles vertes    \n",
       "\n",
       "                                    ingredients_text  \\\n",
       "5  CARBONATED  WATER, ACID: CITRIC ACID; FLAVOURI...   \n",
       "6                                              WHEAT   \n",
       "7                                              WATER   \n",
       "8                                           CINNAMON   \n",
       "9                                   LENTILLES VERTES   \n",
       "\n",
       "                                           additives  additives_n  \\\n",
       "5   [ carbonated-water -> en:carbonated-water  ] ...          4.0   \n",
       "6                            [ wheat -> en:wheat  ]           0.0   \n",
       "7                            [ water -> en:water  ]           0.0   \n",
       "8                      [ cinnamon -> en:cinnamon  ]           0.0   \n",
       "9   [ lentilles-vertes -> fr:lentilles-vertes  ] ...          0.0   \n",
       "\n",
       "                  main_category_en  high_add  has_wheat  has_salt  has_sugar  \\\n",
       "5                              NaN         0          0         0          0   \n",
       "6  Plant-based foods and beverages         0          1         0          0   \n",
       "7                              NaN         0          0         0          0   \n",
       "8                              NaN         0          0         0          0   \n",
       "9  Plant-based foods and beverages         0          0         0          0   \n",
       "\n",
       "      ...      is_sugar  is_salt  is_dairy  is_meat  is_fresh  is_break  \\\n",
       "5     ...             0        0         0        0         0         0   \n",
       "6     ...             0        0         0        0         0         0   \n",
       "7     ...             0        0         0        0         0         0   \n",
       "8     ...             0        0         0        0         0         0   \n",
       "9     ...             0        0         0        0         0         0   \n",
       "\n",
       "   is_frozen  is_juices  intercept  text_count  \n",
       "5          0          0        1.0           3  \n",
       "6          0          0        1.0           1  \n",
       "7          0          0        1.0           1  \n",
       "8          0          0        1.0           1  \n",
       "9          0          0        1.0           1  \n",
       "\n",
       "[5 rows x 36 columns]"
      ]
     },
     "execution_count": 24,
     "metadata": {},
     "output_type": "execute_result"
    }
   ],
   "source": [
    "pd_new.head()"
   ]
  },
  {
   "cell_type": "code",
   "execution_count": 25,
   "metadata": {
    "collapsed": false
   },
   "outputs": [
    {
     "data": {
      "text/html": [
       "<div>\n",
       "<table border=\"1\" class=\"dataframe\">\n",
       "  <thead>\n",
       "    <tr style=\"text-align: right;\">\n",
       "      <th></th>\n",
       "      <th>ingredients_text</th>\n",
       "      <th>text_count</th>\n",
       "    </tr>\n",
       "  </thead>\n",
       "  <tbody>\n",
       "    <tr>\n",
       "      <th>5</th>\n",
       "      <td>CARBONATED  WATER, ACID: CITRIC ACID; FLAVOURI...</td>\n",
       "      <td>3</td>\n",
       "    </tr>\n",
       "    <tr>\n",
       "      <th>6</th>\n",
       "      <td>WHEAT</td>\n",
       "      <td>1</td>\n",
       "    </tr>\n",
       "    <tr>\n",
       "      <th>7</th>\n",
       "      <td>WATER</td>\n",
       "      <td>1</td>\n",
       "    </tr>\n",
       "    <tr>\n",
       "      <th>8</th>\n",
       "      <td>CINNAMON</td>\n",
       "      <td>1</td>\n",
       "    </tr>\n",
       "    <tr>\n",
       "      <th>9</th>\n",
       "      <td>LENTILLES VERTES</td>\n",
       "      <td>1</td>\n",
       "    </tr>\n",
       "    <tr>\n",
       "      <th>11</th>\n",
       "      <td>SUCRE, FARINE DE _BLÉ_, GRAISSE ET HUILES VÉGÉ...</td>\n",
       "      <td>15</td>\n",
       "    </tr>\n",
       "    <tr>\n",
       "      <th>12</th>\n",
       "      <td>THÉ NOIR DE CHINE, ZESTES D'ORANGES 7,5 %, ARÔ...</td>\n",
       "      <td>9</td>\n",
       "    </tr>\n",
       "    <tr>\n",
       "      <th>13</th>\n",
       "      <td>SIROP SAVEUR PISTACHE 5 CL : SIROP 99,16 % (SU...</td>\n",
       "      <td>39</td>\n",
       "    </tr>\n",
       "    <tr>\n",
       "      <th>14</th>\n",
       "      <td>ตีนไก่</td>\n",
       "      <td>1</td>\n",
       "    </tr>\n",
       "    <tr>\n",
       "      <th>16</th>\n",
       "      <td>77</td>\n",
       "      <td>1</td>\n",
       "    </tr>\n",
       "  </tbody>\n",
       "</table>\n",
       "</div>"
      ],
      "text/plain": [
       "                                     ingredients_text  text_count\n",
       "5   CARBONATED  WATER, ACID: CITRIC ACID; FLAVOURI...           3\n",
       "6                                               WHEAT           1\n",
       "7                                               WATER           1\n",
       "8                                            CINNAMON           1\n",
       "9                                    LENTILLES VERTES           1\n",
       "11  SUCRE, FARINE DE _BLÉ_, GRAISSE ET HUILES VÉGÉ...          15\n",
       "12  THÉ NOIR DE CHINE, ZESTES D'ORANGES 7,5 %, ARÔ...           9\n",
       "13  SIROP SAVEUR PISTACHE 5 CL : SIROP 99,16 % (SU...          39\n",
       "14                                             ตีนไก่           1\n",
       "16                                                 77           1"
      ]
     },
     "execution_count": 25,
     "metadata": {},
     "output_type": "execute_result"
    }
   ],
   "source": [
    "pd_new[['ingredients_text','text_count']].head(10)"
   ]
  },
  {
   "cell_type": "markdown",
   "metadata": {},
   "source": [
    "### 5.4 LOGISTIC REGRESSION MODEL"
   ]
  },
  {
   "cell_type": "markdown",
   "metadata": {},
   "source": [
    "### 5.4.1  - Baseline Model"
   ]
  },
  {
   "cell_type": "code",
   "execution_count": 26,
   "metadata": {
    "collapsed": false
   },
   "outputs": [
    {
     "name": "stdout",
     "output_type": "stream",
     "text": [
      "Optimization terminated successfully.\n",
      "         Current function value: 0.306835\n",
      "         Iterations 7\n"
     ]
    },
    {
     "data": {
      "text/html": [
       "<table class=\"simpletable\">\n",
       "<caption>Logit Regression Results</caption>\n",
       "<tr>\n",
       "  <th>Dep. Variable:</th>     <td>high_add</td>     <th>  No. Observations:  </th>  <td>  4454</td>  \n",
       "</tr>\n",
       "<tr>\n",
       "  <th>Model:</th>               <td>Logit</td>      <th>  Df Residuals:      </th>  <td>  4446</td>  \n",
       "</tr>\n",
       "<tr>\n",
       "  <th>Method:</th>               <td>MLE</td>       <th>  Df Model:          </th>  <td>     7</td>  \n",
       "</tr>\n",
       "<tr>\n",
       "  <th>Date:</th>          <td>Tue, 06 Dec 2016</td> <th>  Pseudo R-squ.:     </th>  <td>0.1321</td>  \n",
       "</tr>\n",
       "<tr>\n",
       "  <th>Time:</th>              <td>23:30:19</td>     <th>  Log-Likelihood:    </th> <td> -1366.6</td> \n",
       "</tr>\n",
       "<tr>\n",
       "  <th>converged:</th>           <td>True</td>       <th>  LL-Null:           </th> <td> -1574.6</td> \n",
       "</tr>\n",
       "<tr>\n",
       "  <th> </th>                      <td> </td>        <th>  LLR p-value:       </th> <td>9.131e-86</td>\n",
       "</tr>\n",
       "</table>\n",
       "<table class=\"simpletable\">\n",
       "<tr>\n",
       "      <td></td>         <th>coef</th>     <th>std err</th>      <th>z</th>      <th>P>|z|</th> <th>[95.0% Conf. Int.]</th> \n",
       "</tr>\n",
       "<tr>\n",
       "  <th>has_wheat</th> <td>    0.7141</td> <td>    0.143</td> <td>    5.005</td> <td> 0.000</td> <td>    0.434     0.994</td>\n",
       "</tr>\n",
       "<tr>\n",
       "  <th>has_salt</th>  <td>    0.8491</td> <td>    0.118</td> <td>    7.204</td> <td> 0.000</td> <td>    0.618     1.080</td>\n",
       "</tr>\n",
       "<tr>\n",
       "  <th>has_sugar</th> <td>    0.7972</td> <td>    0.112</td> <td>    7.092</td> <td> 0.000</td> <td>    0.577     1.018</td>\n",
       "</tr>\n",
       "<tr>\n",
       "  <th>has_choco</th> <td>    0.4492</td> <td>    0.251</td> <td>    1.792</td> <td> 0.073</td> <td>   -0.042     0.941</td>\n",
       "</tr>\n",
       "<tr>\n",
       "  <th>has_milk</th>  <td>    0.8521</td> <td>    0.107</td> <td>    7.935</td> <td> 0.000</td> <td>    0.642     1.063</td>\n",
       "</tr>\n",
       "<tr>\n",
       "  <th>has_cocoa</th> <td>   -0.5877</td> <td>    0.222</td> <td>   -2.652</td> <td> 0.008</td> <td>   -1.022    -0.153</td>\n",
       "</tr>\n",
       "<tr>\n",
       "  <th>has_palm</th>  <td>    0.8585</td> <td>    0.167</td> <td>    5.131</td> <td> 0.000</td> <td>    0.531     1.186</td>\n",
       "</tr>\n",
       "<tr>\n",
       "  <th>intercept</th> <td>   -3.4025</td> <td>    0.111</td> <td>  -30.642</td> <td> 0.000</td> <td>   -3.620    -3.185</td>\n",
       "</tr>\n",
       "</table>"
      ],
      "text/plain": [
       "<class 'statsmodels.iolib.summary.Summary'>\n",
       "\"\"\"\n",
       "                           Logit Regression Results                           \n",
       "==============================================================================\n",
       "Dep. Variable:               high_add   No. Observations:                 4454\n",
       "Model:                          Logit   Df Residuals:                     4446\n",
       "Method:                           MLE   Df Model:                            7\n",
       "Date:                Tue, 06 Dec 2016   Pseudo R-squ.:                  0.1321\n",
       "Time:                        23:30:19   Log-Likelihood:                -1366.6\n",
       "converged:                       True   LL-Null:                       -1574.6\n",
       "                                        LLR p-value:                 9.131e-86\n",
       "==============================================================================\n",
       "                 coef    std err          z      P>|z|      [95.0% Conf. Int.]\n",
       "------------------------------------------------------------------------------\n",
       "has_wheat      0.7141      0.143      5.005      0.000         0.434     0.994\n",
       "has_salt       0.8491      0.118      7.204      0.000         0.618     1.080\n",
       "has_sugar      0.7972      0.112      7.092      0.000         0.577     1.018\n",
       "has_choco      0.4492      0.251      1.792      0.073        -0.042     0.941\n",
       "has_milk       0.8521      0.107      7.935      0.000         0.642     1.063\n",
       "has_cocoa     -0.5877      0.222     -2.652      0.008        -1.022    -0.153\n",
       "has_palm       0.8585      0.167      5.131      0.000         0.531     1.186\n",
       "intercept     -3.4025      0.111    -30.642      0.000        -3.620    -3.185\n",
       "==============================================================================\n",
       "\"\"\""
      ]
     },
     "execution_count": 26,
     "metadata": {},
     "output_type": "execute_result"
    }
   ],
   "source": [
    "# Creating the model with 7 dependant columns\n",
    "\n",
    "train_cols = [ 'has_wheat' , 'has_salt' , 'has_sugar', 'has_choco' ,'has_milk','has_cocoa','has_palm','intercept']\n",
    "#               'has_water', 'has_garlic','has_flour' ,'has_ginger','has_honey',\n",
    "\n",
    "logit = sm.Logit(pd_new['high_add'], pd_new[train_cols])\n",
    "\n",
    "# fit the model\n",
    "result = logit.fit()\n",
    "result.summary()"
   ]
  },
  {
   "cell_type": "code",
   "execution_count": 33,
   "metadata": {
    "collapsed": false
   },
   "outputs": [],
   "source": [
    "# Find the actual values of ones and zeros in each dummy column\n",
    "#print(pd_new.has_wheat.sum())\n",
    "#print(pd_new.has_salt.sum())\n",
    "#print(pd_new.has_palm.sum())\n",
    "#print(pd_new.has_sugar.sum())\n",
    "#print(pd_new.has_cocoa.sum())\n",
    "#print(pd_new.has_milk.sum())\n",
    "#print(pd_new.has_color.sum())"
   ]
  },
  {
   "cell_type": "code",
   "execution_count": 27,
   "metadata": {
    "collapsed": false
   },
   "outputs": [
    {
     "data": {
      "text/html": [
       "<div>\n",
       "<table border=\"1\" class=\"dataframe\">\n",
       "  <thead>\n",
       "    <tr style=\"text-align: right;\">\n",
       "      <th></th>\n",
       "      <th>0</th>\n",
       "      <th>1</th>\n",
       "    </tr>\n",
       "  </thead>\n",
       "  <tbody>\n",
       "    <tr>\n",
       "      <th>has_wheat</th>\n",
       "      <td>0.434454</td>\n",
       "      <td>0.993810</td>\n",
       "    </tr>\n",
       "    <tr>\n",
       "      <th>has_salt</th>\n",
       "      <td>0.618117</td>\n",
       "      <td>1.080173</td>\n",
       "    </tr>\n",
       "    <tr>\n",
       "      <th>has_sugar</th>\n",
       "      <td>0.576910</td>\n",
       "      <td>1.017536</td>\n",
       "    </tr>\n",
       "    <tr>\n",
       "      <th>has_choco</th>\n",
       "      <td>-0.042165</td>\n",
       "      <td>0.940580</td>\n",
       "    </tr>\n",
       "    <tr>\n",
       "      <th>has_milk</th>\n",
       "      <td>0.641628</td>\n",
       "      <td>1.062586</td>\n",
       "    </tr>\n",
       "    <tr>\n",
       "      <th>has_cocoa</th>\n",
       "      <td>-1.021989</td>\n",
       "      <td>-0.153354</td>\n",
       "    </tr>\n",
       "    <tr>\n",
       "      <th>has_palm</th>\n",
       "      <td>0.530542</td>\n",
       "      <td>1.186377</td>\n",
       "    </tr>\n",
       "    <tr>\n",
       "      <th>intercept</th>\n",
       "      <td>-3.620184</td>\n",
       "      <td>-3.184909</td>\n",
       "    </tr>\n",
       "  </tbody>\n",
       "</table>\n",
       "</div>"
      ],
      "text/plain": [
       "                  0         1\n",
       "has_wheat  0.434454  0.993810\n",
       "has_salt   0.618117  1.080173\n",
       "has_sugar  0.576910  1.017536\n",
       "has_choco -0.042165  0.940580\n",
       "has_milk   0.641628  1.062586\n",
       "has_cocoa -1.021989 -0.153354\n",
       "has_palm   0.530542  1.186377\n",
       "intercept -3.620184 -3.184909"
      ]
     },
     "execution_count": 27,
     "metadata": {},
     "output_type": "execute_result"
    }
   ],
   "source": [
    "# look at the confidence interval of each coeffecient\n",
    "result.conf_int()"
   ]
  },
  {
   "cell_type": "markdown",
   "metadata": {},
   "source": [
    "###### Odds Ratio"
   ]
  },
  {
   "cell_type": "code",
   "execution_count": 28,
   "metadata": {
    "collapsed": false
   },
   "outputs": [
    {
     "data": {
      "text/plain": [
       "has_wheat    2.042413\n",
       "has_salt     2.337647\n",
       "has_sugar    2.219369\n",
       "has_choco    1.567070\n",
       "has_milk     2.344581\n",
       "has_cocoa    0.555620\n",
       "has_palm     2.359524\n",
       "intercept    0.033288\n",
       "dtype: float64"
      ]
     },
     "execution_count": 28,
     "metadata": {},
     "output_type": "execute_result"
    }
   ],
   "source": [
    "np.exp(result.params)"
   ]
  },
  {
   "cell_type": "code",
   "execution_count": 29,
   "metadata": {
    "collapsed": false
   },
   "outputs": [
    {
     "name": "stdout",
     "output_type": "stream",
     "text": [
      "               2.5%     97.5%        OR\n",
      "has_wheat  1.544120  2.701508  2.042413\n",
      "has_salt   1.855430  2.945190  2.337647\n",
      "has_sugar  1.780528  2.766370  2.219369\n",
      "has_choco  0.958712  2.561468  1.567070\n",
      "has_milk   1.899571  2.893844  2.344581\n",
      "has_cocoa  0.359879  0.857826  0.555620\n",
      "has_palm   1.699854  3.275195  2.359524\n",
      "intercept  0.026778  0.041382  0.033288\n"
     ]
    }
   ],
   "source": [
    "params = result.params\n",
    "\n",
    "conf = result.conf_int()\n",
    "conf['OR'] = params\n",
    "conf.columns = ['2.5%', '97.5%', 'OR']\n",
    "print (np.exp(conf))"
   ]
  },
  {
   "cell_type": "code",
   "execution_count": 30,
   "metadata": {
    "collapsed": false
   },
   "outputs": [],
   "source": [
    "# Predict Y column using the logit function.\n",
    "pd_new['ypred'] = result.predict(pd_new[train_cols])\n"
   ]
  },
  {
   "cell_type": "code",
   "execution_count": 31,
   "metadata": {
    "collapsed": false
   },
   "outputs": [
    {
     "data": {
      "text/html": [
       "<div>\n",
       "<table border=\"1\" class=\"dataframe\">\n",
       "  <thead>\n",
       "    <tr style=\"text-align: right;\">\n",
       "      <th></th>\n",
       "      <th>high_add</th>\n",
       "      <th>ypred</th>\n",
       "    </tr>\n",
       "  </thead>\n",
       "  <tbody>\n",
       "    <tr>\n",
       "      <th>5</th>\n",
       "      <td>0</td>\n",
       "      <td>0.032216</td>\n",
       "    </tr>\n",
       "    <tr>\n",
       "      <th>6</th>\n",
       "      <td>0</td>\n",
       "      <td>0.063660</td>\n",
       "    </tr>\n",
       "    <tr>\n",
       "      <th>7</th>\n",
       "      <td>0</td>\n",
       "      <td>0.032216</td>\n",
       "    </tr>\n",
       "    <tr>\n",
       "      <th>8</th>\n",
       "      <td>0</td>\n",
       "      <td>0.032216</td>\n",
       "    </tr>\n",
       "    <tr>\n",
       "      <th>9</th>\n",
       "      <td>0</td>\n",
       "      <td>0.032216</td>\n",
       "    </tr>\n",
       "  </tbody>\n",
       "</table>\n",
       "</div>"
      ],
      "text/plain": [
       "   high_add     ypred\n",
       "5         0  0.032216\n",
       "6         0  0.063660\n",
       "7         0  0.032216\n",
       "8         0  0.032216\n",
       "9         0  0.032216"
      ]
     },
     "execution_count": 31,
     "metadata": {},
     "output_type": "execute_result"
    }
   ],
   "source": [
    "pd_new[['high_add','ypred']].head()"
   ]
  },
  {
   "cell_type": "markdown",
   "metadata": {},
   "source": [
    "Converting the ypred probability into value of 0 and 1"
   ]
  },
  {
   "cell_type": "code",
   "execution_count": 32,
   "metadata": {
    "collapsed": false
   },
   "outputs": [],
   "source": [
    "pd_new['ypred_class'] = np.where(pd_new['ypred']>0.12, '1', '0')\n",
    "pd_new['ypred_class'] = pd_new['ypred_class'].astype(int)\n"
   ]
  },
  {
   "cell_type": "code",
   "execution_count": 33,
   "metadata": {
    "collapsed": false
   },
   "outputs": [
    {
     "name": "stdout",
     "output_type": "stream",
     "text": [
      "[[2699 1250]\n",
      " [ 144  361]]\n"
     ]
    }
   ],
   "source": [
    "# Create confusin matrix from Scikit\n",
    "matrix = confusion_matrix(pd_new['high_add'], pd_new['ypred_class'])\n",
    "print(matrix)\n"
   ]
  },
  {
   "cell_type": "code",
   "execution_count": 34,
   "metadata": {
    "collapsed": false
   },
   "outputs": [
    {
     "name": "stdout",
     "output_type": "stream",
     "text": [
      "Confusion matrix:\n",
      "Predicted     0     1  __all__\n",
      "Actual                        \n",
      "0          2699  1250     3949\n",
      "1           144   361      505\n",
      "__all__    2843  1611     4454\n"
     ]
    }
   ],
   "source": [
    "# Using Pandas confusion create the confusion matrix\n",
    "\n",
    "from pandas_confusion import ConfusionMatrix\n",
    "\n",
    "confusion_matrix = ConfusionMatrix(pd_new['high_add'], pd_new['ypred_class'])\n",
    "print(\"Confusion matrix:\\n%s\" % confusion_matrix)"
   ]
  },
  {
   "cell_type": "code",
   "execution_count": 35,
   "metadata": {
    "collapsed": false
   },
   "outputs": [
    {
     "data": {
      "image/png": "[encoded data removed]",
      "text/plain": [
       "<matplotlib.figure.Figure at 0x1127d9240>"
      ]
     },
     "metadata": {},
     "output_type": "display_data"
    }
   ],
   "source": [
    "confusion_matrix.plot()\n",
    "plt.show()"
   ]
  },
  {
   "cell_type": "markdown",
   "metadata": {},
   "source": [
    "Statistics of the Model"
   ]
  },
  {
   "cell_type": "code",
   "execution_count": 36,
   "metadata": {
    "collapsed": false
   },
   "outputs": [
    {
     "name": "stdout",
     "output_type": "stream",
     "text": [
      "Confusion Matrix:\n",
      "\n",
      "Predicted     0     1  __all__\n",
      "Actual                        \n",
      "0          2699  1250     3949\n",
      "1           144   361      505\n",
      "__all__    2843  1611     4454\n",
      "\n",
      "\n",
      "Overall Statistics:\n",
      "\n",
      "Accuracy: 0.687022900763\n",
      "95% CI: (0.67317322857085415, 0.70062694192579322)\n",
      "No Information Rate: ToDo\n",
      "P-Value [Acc > NIR]: 4.45220001629e-12\n",
      "Kappa: 0.203740557616\n",
      "Mcnemar's Test P-Value: ToDo\n",
      "\n",
      "\n",
      "Class Statistics:\n",
      "\n",
      "Classes                                        0          1\n",
      "Population                                  4454       4454\n",
      "P: Condition positive                       3949        505\n",
      "N: Condition negative                        505       3949\n",
      "Test outcome positive                       2843       1611\n",
      "Test outcome negative                       1611       2843\n",
      "TP: True Positive                           2699        361\n",
      "TN: True Negative                            361       2699\n",
      "FP: False Positive                           144       1250\n",
      "FN: False Negative                          1250        144\n",
      "TPR: (Sensitivity, hit rate, recall)    0.683464   0.714851\n",
      "TNR=SPC: (Specificity)                  0.714851   0.683464\n",
      "PPV: Pos Pred Value (Precision)         0.949349   0.224084\n",
      "NPV: Neg Pred Value                     0.224084   0.949349\n",
      "FPR: False-out                          0.285149   0.316536\n",
      "FDR: False Discovery Rate              0.0506507   0.775916\n",
      "FNR: Miss Rate                          0.316536   0.285149\n",
      "ACC: Accuracy                           0.687023   0.687023\n",
      "F1 score                                0.794759    0.34121\n",
      "MCC: Matthews correlation coefficient   0.262833   0.262833\n",
      "Informedness                            0.398316   0.398316\n",
      "Markedness                              0.173434   0.173434\n",
      "Prevalence                              0.886619   0.113381\n",
      "LR+: Positive likelihood ratio           2.39687    2.25836\n",
      "LR-: Negative likelihood ratio          0.442799   0.417211\n",
      "DOR: Diagnostic odds ratio               5.41299    5.41299\n",
      "FOR: False omission rate                0.775916  0.0506507\n"
     ]
    }
   ],
   "source": [
    "confusion_matrix.print_stats()"
   ]
  },
  {
   "cell_type": "code",
   "execution_count": 45,
   "metadata": {
    "collapsed": false
   },
   "outputs": [],
   "source": [
    "# Another way of calculating accuracy score\n",
    "#X.mean()\n",
    "#Ypred = (result.predict(pd_new[train_cols]) >= 0.12)\n",
    "#true_pos = Ypred * X\n",
    "#true_neg = (1 - Ypred) * (1 - X)\n",
    "#acc = (sum(true_pos) + sum(true_neg))/len(X)\n",
    "#acc"
   ]
  },
  {
   "cell_type": "code",
   "execution_count": 37,
   "metadata": {
    "collapsed": false
   },
   "outputs": [
    {
     "data": {
      "text/plain": [
       "0.75054268658063572"
      ]
     },
     "execution_count": 37,
     "metadata": {},
     "output_type": "execute_result"
    }
   ],
   "source": [
    "# Create ROC curve for Baseline model\n",
    "false_positive_rate, true_positive_rate, thresholds = roc_curve(pd_new['high_add'], pd_new['ypred'])\n",
    "roc_auc = auc(false_positive_rate, true_positive_rate)\n",
    "roc_auc\n"
   ]
  },
  {
   "cell_type": "markdown",
   "metadata": {
    "collapsed": false
   },
   "source": [
    "Overall Accuracy of the Model above is around 68% which is a good, so these predictor variables do have some\n",
    "influence on high additives.\n",
    "\n",
    "Model was able to predict around 2699 true positives out of 4454 records which is a good sign"
   ]
  },
  {
   "cell_type": "markdown",
   "metadata": {},
   "source": [
    "### 5.4.2 Random Model created using Random Values for predictor variables"
   ]
  },
  {
   "cell_type": "code",
   "execution_count": 38,
   "metadata": {
    "collapsed": false
   },
   "outputs": [
    {
     "name": "stderr",
     "output_type": "stream",
     "text": [
      "/Users/vingadgil/anaconda/lib/python3.5/site-packages/ipykernel/__main__.py:6: SettingWithCopyWarning: \n",
      "A value is trying to be set on a copy of a slice from a DataFrame.\n",
      "Try using .loc[row_indexer,col_indexer] = value instead\n",
      "\n",
      "See the caveats in the documentation: http://pandas.pydata.org/pandas-docs/stable/indexing.html#indexing-view-versus-copy\n",
      "/Users/vingadgil/anaconda/lib/python3.5/site-packages/ipykernel/__main__.py:7: SettingWithCopyWarning: \n",
      "A value is trying to be set on a copy of a slice from a DataFrame.\n",
      "Try using .loc[row_indexer,col_indexer] = value instead\n",
      "\n",
      "See the caveats in the documentation: http://pandas.pydata.org/pandas-docs/stable/indexing.html#indexing-view-versus-copy\n",
      "/Users/vingadgil/anaconda/lib/python3.5/site-packages/ipykernel/__main__.py:8: SettingWithCopyWarning: \n",
      "A value is trying to be set on a copy of a slice from a DataFrame.\n",
      "Try using .loc[row_indexer,col_indexer] = value instead\n",
      "\n",
      "See the caveats in the documentation: http://pandas.pydata.org/pandas-docs/stable/indexing.html#indexing-view-versus-copy\n",
      "/Users/vingadgil/anaconda/lib/python3.5/site-packages/ipykernel/__main__.py:9: SettingWithCopyWarning: \n",
      "A value is trying to be set on a copy of a slice from a DataFrame.\n",
      "Try using .loc[row_indexer,col_indexer] = value instead\n",
      "\n",
      "See the caveats in the documentation: http://pandas.pydata.org/pandas-docs/stable/indexing.html#indexing-view-versus-copy\n",
      "/Users/vingadgil/anaconda/lib/python3.5/site-packages/ipykernel/__main__.py:10: SettingWithCopyWarning: \n",
      "A value is trying to be set on a copy of a slice from a DataFrame.\n",
      "Try using .loc[row_indexer,col_indexer] = value instead\n",
      "\n",
      "See the caveats in the documentation: http://pandas.pydata.org/pandas-docs/stable/indexing.html#indexing-view-versus-copy\n",
      "/Users/vingadgil/anaconda/lib/python3.5/site-packages/ipykernel/__main__.py:11: SettingWithCopyWarning: \n",
      "A value is trying to be set on a copy of a slice from a DataFrame.\n",
      "Try using .loc[row_indexer,col_indexer] = value instead\n",
      "\n",
      "See the caveats in the documentation: http://pandas.pydata.org/pandas-docs/stable/indexing.html#indexing-view-versus-copy\n",
      "/Users/vingadgil/anaconda/lib/python3.5/site-packages/ipykernel/__main__.py:12: SettingWithCopyWarning: \n",
      "A value is trying to be set on a copy of a slice from a DataFrame.\n",
      "Try using .loc[row_indexer,col_indexer] = value instead\n",
      "\n",
      "See the caveats in the documentation: http://pandas.pydata.org/pandas-docs/stable/indexing.html#indexing-view-versus-copy\n"
     ]
    }
   ],
   "source": [
    "#New model - Create a new dataframe with random values in 7 columns and cross check with above logit model\n",
    "\n",
    "pd_random = pd_new[['code','product_name','high_add']]\n",
    "pd_size = len(pd_random)\n",
    "\n",
    "pd_random['col1'] = np.random.randint(2, size=pd_size)\n",
    "pd_random['col2'] = np.random.randint(2, size=pd_size)\n",
    "pd_random['col3'] = np.random.randint(2, size=pd_size)\n",
    "pd_random['col4'] = np.random.randint(2, size=pd_size)\n",
    "pd_random['col5'] = np.random.randint(2, size=pd_size)\n",
    "pd_random['col6'] = np.random.randint(2, size=pd_size)\n",
    "pd_random['col7'] = np.random.randint(2, size=pd_size)\n"
   ]
  },
  {
   "cell_type": "code",
   "execution_count": 39,
   "metadata": {
    "collapsed": false
   },
   "outputs": [
    {
     "name": "stderr",
     "output_type": "stream",
     "text": [
      "/Users/vingadgil/anaconda/lib/python3.5/site-packages/ipykernel/__main__.py:1: SettingWithCopyWarning: \n",
      "A value is trying to be set on a copy of a slice from a DataFrame.\n",
      "Try using .loc[row_indexer,col_indexer] = value instead\n",
      "\n",
      "See the caveats in the documentation: http://pandas.pydata.org/pandas-docs/stable/indexing.html#indexing-view-versus-copy\n",
      "  if __name__ == '__main__':\n"
     ]
    },
    {
     "data": {
      "text/html": [
       "<div>\n",
       "<table border=\"1\" class=\"dataframe\">\n",
       "  <thead>\n",
       "    <tr style=\"text-align: right;\">\n",
       "      <th></th>\n",
       "      <th>code</th>\n",
       "      <th>product_name</th>\n",
       "      <th>high_add</th>\n",
       "      <th>col1</th>\n",
       "      <th>col2</th>\n",
       "      <th>col3</th>\n",
       "      <th>col4</th>\n",
       "      <th>col5</th>\n",
       "      <th>col6</th>\n",
       "      <th>col7</th>\n",
       "      <th>intercept</th>\n",
       "    </tr>\n",
       "  </thead>\n",
       "  <tbody>\n",
       "    <tr>\n",
       "      <th>5</th>\n",
       "      <td>0000000056434</td>\n",
       "      <td>diet lemonade by Sainsbury's</td>\n",
       "      <td>0</td>\n",
       "      <td>1</td>\n",
       "      <td>1</td>\n",
       "      <td>0</td>\n",
       "      <td>1</td>\n",
       "      <td>0</td>\n",
       "      <td>0</td>\n",
       "      <td>0</td>\n",
       "      <td>1.0</td>\n",
       "    </tr>\n",
       "    <tr>\n",
       "      <th>6</th>\n",
       "      <td>0000001071894</td>\n",
       "      <td>Flute</td>\n",
       "      <td>0</td>\n",
       "      <td>0</td>\n",
       "      <td>1</td>\n",
       "      <td>1</td>\n",
       "      <td>0</td>\n",
       "      <td>1</td>\n",
       "      <td>0</td>\n",
       "      <td>1</td>\n",
       "      <td>1.0</td>\n",
       "    </tr>\n",
       "    <tr>\n",
       "      <th>7</th>\n",
       "      <td>0000001471762</td>\n",
       "      <td>still Scottish water</td>\n",
       "      <td>0</td>\n",
       "      <td>1</td>\n",
       "      <td>0</td>\n",
       "      <td>0</td>\n",
       "      <td>0</td>\n",
       "      <td>1</td>\n",
       "      <td>0</td>\n",
       "      <td>1</td>\n",
       "      <td>1.0</td>\n",
       "    </tr>\n",
       "    <tr>\n",
       "      <th>8</th>\n",
       "      <td>0000001798180</td>\n",
       "      <td>Fairtrade Ground Cinnamon</td>\n",
       "      <td>0</td>\n",
       "      <td>0</td>\n",
       "      <td>1</td>\n",
       "      <td>1</td>\n",
       "      <td>0</td>\n",
       "      <td>1</td>\n",
       "      <td>0</td>\n",
       "      <td>0</td>\n",
       "      <td>1.0</td>\n",
       "    </tr>\n",
       "    <tr>\n",
       "      <th>9</th>\n",
       "      <td>0000005200016</td>\n",
       "      <td>lentilles vertes</td>\n",
       "      <td>0</td>\n",
       "      <td>0</td>\n",
       "      <td>1</td>\n",
       "      <td>1</td>\n",
       "      <td>0</td>\n",
       "      <td>1</td>\n",
       "      <td>1</td>\n",
       "      <td>0</td>\n",
       "      <td>1.0</td>\n",
       "    </tr>\n",
       "  </tbody>\n",
       "</table>\n",
       "</div>"
      ],
      "text/plain": [
       "            code                  product_name  high_add  col1  col2  col3  \\\n",
       "5  0000000056434  diet lemonade by Sainsbury's         0     1     1     0   \n",
       "6  0000001071894                         Flute         0     0     1     1   \n",
       "7  0000001471762          still Scottish water         0     1     0     0   \n",
       "8  0000001798180     Fairtrade Ground Cinnamon         0     0     1     1   \n",
       "9  0000005200016             lentilles vertes          0     0     1     1   \n",
       "\n",
       "   col4  col5  col6  col7  intercept  \n",
       "5     1     0     0     0        1.0  \n",
       "6     0     1     0     1        1.0  \n",
       "7     0     1     0     1        1.0  \n",
       "8     0     1     0     0        1.0  \n",
       "9     0     1     1     0        1.0  "
      ]
     },
     "execution_count": 39,
     "metadata": {},
     "output_type": "execute_result"
    }
   ],
   "source": [
    "pd_random['intercept'] = 1.0\n",
    "pd_random.head()"
   ]
  },
  {
   "cell_type": "code",
   "execution_count": 40,
   "metadata": {
    "collapsed": false
   },
   "outputs": [
    {
     "name": "stdout",
     "output_type": "stream",
     "text": [
      "Optimization terminated successfully.\n",
      "         Current function value: 0.352574\n",
      "         Iterations 6\n"
     ]
    },
    {
     "data": {
      "text/html": [
       "<table class=\"simpletable\">\n",
       "<caption>Logit Regression Results</caption>\n",
       "<tr>\n",
       "  <th>Dep. Variable:</th>     <td>high_add</td>     <th>  No. Observations:  </th>  <td>  4454</td> \n",
       "</tr>\n",
       "<tr>\n",
       "  <th>Model:</th>               <td>Logit</td>      <th>  Df Residuals:      </th>  <td>  4446</td> \n",
       "</tr>\n",
       "<tr>\n",
       "  <th>Method:</th>               <td>MLE</td>       <th>  Df Model:          </th>  <td>     7</td> \n",
       "</tr>\n",
       "<tr>\n",
       "  <th>Date:</th>          <td>Tue, 06 Dec 2016</td> <th>  Pseudo R-squ.:     </th> <td>0.002694</td>\n",
       "</tr>\n",
       "<tr>\n",
       "  <th>Time:</th>              <td>23:40:18</td>     <th>  Log-Likelihood:    </th> <td> -1570.4</td>\n",
       "</tr>\n",
       "<tr>\n",
       "  <th>converged:</th>           <td>True</td>       <th>  LL-Null:           </th> <td> -1574.6</td>\n",
       "</tr>\n",
       "<tr>\n",
       "  <th> </th>                      <td> </td>        <th>  LLR p-value:       </th>  <td>0.2920</td> \n",
       "</tr>\n",
       "</table>\n",
       "<table class=\"simpletable\">\n",
       "<tr>\n",
       "      <td></td>         <th>coef</th>     <th>std err</th>      <th>z</th>      <th>P>|z|</th> <th>[95.0% Conf. Int.]</th> \n",
       "</tr>\n",
       "<tr>\n",
       "  <th>col1</th>      <td>    0.0534</td> <td>    0.095</td> <td>    0.564</td> <td> 0.572</td> <td>   -0.132     0.239</td>\n",
       "</tr>\n",
       "<tr>\n",
       "  <th>col2</th>      <td>    0.1811</td> <td>    0.095</td> <td>    1.909</td> <td> 0.056</td> <td>   -0.005     0.367</td>\n",
       "</tr>\n",
       "<tr>\n",
       "  <th>col3</th>      <td>    0.0772</td> <td>    0.095</td> <td>    0.815</td> <td> 0.415</td> <td>   -0.108     0.263</td>\n",
       "</tr>\n",
       "<tr>\n",
       "  <th>col4</th>      <td>   -0.1476</td> <td>    0.095</td> <td>   -1.558</td> <td> 0.119</td> <td>   -0.333     0.038</td>\n",
       "</tr>\n",
       "<tr>\n",
       "  <th>col5</th>      <td>    0.0308</td> <td>    0.095</td> <td>    0.325</td> <td> 0.745</td> <td>   -0.155     0.216</td>\n",
       "</tr>\n",
       "<tr>\n",
       "  <th>col6</th>      <td>   -0.0281</td> <td>    0.095</td> <td>   -0.297</td> <td> 0.766</td> <td>   -0.214     0.157</td>\n",
       "</tr>\n",
       "<tr>\n",
       "  <th>col7</th>      <td>   -0.0960</td> <td>    0.095</td> <td>   -1.013</td> <td> 0.311</td> <td>   -0.282     0.090</td>\n",
       "</tr>\n",
       "<tr>\n",
       "  <th>intercept</th> <td>   -2.0967</td> <td>    0.133</td> <td>  -15.749</td> <td> 0.000</td> <td>   -2.358    -1.836</td>\n",
       "</tr>\n",
       "</table>"
      ],
      "text/plain": [
       "<class 'statsmodels.iolib.summary.Summary'>\n",
       "\"\"\"\n",
       "                           Logit Regression Results                           \n",
       "==============================================================================\n",
       "Dep. Variable:               high_add   No. Observations:                 4454\n",
       "Model:                          Logit   Df Residuals:                     4446\n",
       "Method:                           MLE   Df Model:                            7\n",
       "Date:                Tue, 06 Dec 2016   Pseudo R-squ.:                0.002694\n",
       "Time:                        23:40:18   Log-Likelihood:                -1570.4\n",
       "converged:                       True   LL-Null:                       -1574.6\n",
       "                                        LLR p-value:                    0.2920\n",
       "==============================================================================\n",
       "                 coef    std err          z      P>|z|      [95.0% Conf. Int.]\n",
       "------------------------------------------------------------------------------\n",
       "col1           0.0534      0.095      0.564      0.572        -0.132     0.239\n",
       "col2           0.1811      0.095      1.909      0.056        -0.005     0.367\n",
       "col3           0.0772      0.095      0.815      0.415        -0.108     0.263\n",
       "col4          -0.1476      0.095     -1.558      0.119        -0.333     0.038\n",
       "col5           0.0308      0.095      0.325      0.745        -0.155     0.216\n",
       "col6          -0.0281      0.095     -0.297      0.766        -0.214     0.157\n",
       "col7          -0.0960      0.095     -1.013      0.311        -0.282     0.090\n",
       "intercept     -2.0967      0.133    -15.749      0.000        -2.358    -1.836\n",
       "==============================================================================\n",
       "\"\"\""
      ]
     },
     "execution_count": 40,
     "metadata": {},
     "output_type": "execute_result"
    }
   ],
   "source": [
    "train_cols_r = [ 'col1' , 'col2' , 'col3', 'col4' ,'col5','col6','col7','intercept']\n",
    "logit_random = sm.Logit(pd_random['high_add'], pd_random[train_cols_r])\n",
    "\n",
    "# fit the model\n",
    "result_random = logit_random.fit()\n",
    "result_random.summary()"
   ]
  },
  {
   "cell_type": "code",
   "execution_count": 41,
   "metadata": {
    "collapsed": false
   },
   "outputs": [
    {
     "name": "stderr",
     "output_type": "stream",
     "text": [
      "/Users/vingadgil/anaconda/lib/python3.5/site-packages/ipykernel/__main__.py:2: SettingWithCopyWarning: \n",
      "A value is trying to be set on a copy of a slice from a DataFrame.\n",
      "Try using .loc[row_indexer,col_indexer] = value instead\n",
      "\n",
      "See the caveats in the documentation: http://pandas.pydata.org/pandas-docs/stable/indexing.html#indexing-view-versus-copy\n",
      "  from ipykernel import kernelapp as app\n"
     ]
    }
   ],
   "source": [
    "# Predict Y using the logit function.\n",
    "pd_random['ypred'] = result.predict(pd_random[train_cols_r])"
   ]
  },
  {
   "cell_type": "code",
   "execution_count": 43,
   "metadata": {
    "collapsed": false
   },
   "outputs": [
    {
     "name": "stderr",
     "output_type": "stream",
     "text": [
      "/Users/vingadgil/anaconda/lib/python3.5/site-packages/ipykernel/__main__.py:1: SettingWithCopyWarning: \n",
      "A value is trying to be set on a copy of a slice from a DataFrame.\n",
      "Try using .loc[row_indexer,col_indexer] = value instead\n",
      "\n",
      "See the caveats in the documentation: http://pandas.pydata.org/pandas-docs/stable/indexing.html#indexing-view-versus-copy\n",
      "  if __name__ == '__main__':\n",
      "/Users/vingadgil/anaconda/lib/python3.5/site-packages/ipykernel/__main__.py:2: SettingWithCopyWarning: \n",
      "A value is trying to be set on a copy of a slice from a DataFrame.\n",
      "Try using .loc[row_indexer,col_indexer] = value instead\n",
      "\n",
      "See the caveats in the documentation: http://pandas.pydata.org/pandas-docs/stable/indexing.html#indexing-view-versus-copy\n",
      "  from ipykernel import kernelapp as app\n"
     ]
    }
   ],
   "source": [
    "pd_random['ypred_class'] = np.where(pd_random['ypred']>0.12, '1', '0')\n",
    "pd_random['ypred_class'] = pd_random['ypred_class'].astype(int)"
   ]
  },
  {
   "cell_type": "code",
   "execution_count": 44,
   "metadata": {
    "collapsed": false
   },
   "outputs": [
    {
     "name": "stdout",
     "output_type": "stream",
     "text": [
      "Confusion matrix:\n",
      "Predicted     0     1  __all__\n",
      "Actual                        \n",
      "0          1076  2873     3949\n",
      "1           129   376      505\n",
      "__all__    1205  3249     4454\n"
     ]
    }
   ],
   "source": [
    "from pandas_confusion import ConfusionMatrix\n",
    "\n",
    "matrix_random = ConfusionMatrix(pd_random['high_add'], pd_random['ypred_class'])\n",
    "print(\"Confusion matrix:\\n%s\" % matrix_random)\n"
   ]
  },
  {
   "cell_type": "code",
   "execution_count": 46,
   "metadata": {
    "collapsed": false
   },
   "outputs": [],
   "source": [
    "#matrix_random.plot()\n",
    "#plt.show()"
   ]
  },
  {
   "cell_type": "code",
   "execution_count": 45,
   "metadata": {
    "collapsed": false
   },
   "outputs": [
    {
     "name": "stdout",
     "output_type": "stream",
     "text": [
      "Confusion Matrix:\n",
      "\n",
      "Predicted     0     1  __all__\n",
      "Actual                        \n",
      "0          1076  2873     3949\n",
      "1           129   376      505\n",
      "__all__    1205  3249     4454\n",
      "\n",
      "\n",
      "Overall Statistics:\n",
      "\n",
      "Accuracy: 0.325999101931\n",
      "95% CI: (0.31223851519123996, 0.33998819058965579)\n",
      "No Information Rate: ToDo\n",
      "P-Value [Acc > NIR]: 1.0\n",
      "Kappa: 0.00505386408009\n",
      "Mcnemar's Test P-Value: ToDo\n",
      "\n",
      "\n",
      "Class Statistics:\n",
      "\n",
      "Classes                                         0           1\n",
      "Population                                   4454        4454\n",
      "P: Condition positive                        3949         505\n",
      "N: Condition negative                         505        3949\n",
      "Test outcome positive                        1205        3249\n",
      "Test outcome negative                        3249        1205\n",
      "TP: True Positive                            1076         376\n",
      "TN: True Negative                             376        1076\n",
      "FP: False Positive                            129        2873\n",
      "FN: False Negative                           2873         129\n",
      "TPR: (Sensitivity, hit rate, recall)     0.272474    0.744554\n",
      "TNR=SPC: (Specificity)                   0.744554    0.272474\n",
      "PPV: Pos Pred Value (Precision)          0.892946    0.115728\n",
      "NPV: Neg Pred Value                      0.115728    0.892946\n",
      "FPR: False-out                           0.255446    0.727526\n",
      "FDR: False Discovery Rate                0.107054    0.884272\n",
      "FNR: Miss Rate                           0.727526    0.255446\n",
      "ACC: Accuracy                            0.325999    0.325999\n",
      "F1 score                                  0.41754     0.20032\n",
      "MCC: Matthews correlation coefficient   0.0121534   0.0121534\n",
      "Informedness                            0.0170285   0.0170285\n",
      "Markedness                             0.00867397  0.00867397\n",
      "Prevalence                               0.886619    0.113381\n",
      "LR+: Positive likelihood ratio            1.06666     1.02341\n",
      "LR-: Negative likelihood ratio           0.977129    0.937504\n",
      "DOR: Diagnostic odds ratio                1.09163     1.09163\n",
      "FOR: False omission rate                 0.884272    0.107054\n"
     ]
    }
   ],
   "source": [
    "# Calculate the accuracy score\n",
    "matrix_random.print_stats()"
   ]
  },
  {
   "cell_type": "code",
   "execution_count": null,
   "metadata": {
    "collapsed": true
   },
   "outputs": [],
   "source": []
  },
  {
   "cell_type": "code",
   "execution_count": 46,
   "metadata": {
    "collapsed": false
   },
   "outputs": [
    {
     "data": {
      "text/plain": [
       "0.51191779345065425"
      ]
     },
     "execution_count": 46,
     "metadata": {},
     "output_type": "execute_result"
    }
   ],
   "source": [
    "# ROC values for Random Model\n",
    "false_positive_ran, true_positive_ran, thresholds_ran = roc_curve(pd_random['high_add'], pd_random['ypred'])\n",
    "roc_auc_ran = auc(false_positive_ran, true_positive_ran)\n",
    "roc_auc_ran"
   ]
  },
  {
   "cell_type": "code",
   "execution_count": 47,
   "metadata": {
    "collapsed": false
   },
   "outputs": [
    {
     "name": "stdout",
     "output_type": "stream",
     "text": [
      "             precision    recall  f1-score   support\n",
      "\n",
      "          0       0.95      0.68      0.79      3949\n",
      "          1       0.22      0.71      0.34       505\n",
      "\n",
      "avg / total       0.87      0.69      0.74      4454\n",
      "\n"
     ]
    }
   ],
   "source": [
    "print(metrics.classification_report(pd_new['high_add'], pd_new['ypred_class']))"
   ]
  },
  {
   "cell_type": "markdown",
   "metadata": {
    "collapsed": false
   },
   "source": [
    "Accuracy of the Random model is around 32% which is half that of that Baseline model. So Baseline Model looks better than random model, it has predicted more False Negatives. Model has predicted more Wrong values.\n"
   ]
  },
  {
   "cell_type": "markdown",
   "metadata": {
    "collapsed": true
   },
   "source": [
    "### 5.4.3 Model with 12 Dependant Variable"
   ]
  },
  {
   "cell_type": "code",
   "execution_count": 48,
   "metadata": {
    "collapsed": false
   },
   "outputs": [
    {
     "name": "stdout",
     "output_type": "stream",
     "text": [
      "Optimization terminated successfully.\n",
      "         Current function value: 0.291784\n",
      "         Iterations 7\n"
     ]
    },
    {
     "data": {
      "text/html": [
       "<table class=\"simpletable\">\n",
       "<caption>Logit Regression Results</caption>\n",
       "<tr>\n",
       "  <th>Dep. Variable:</th>     <td>high_add</td>     <th>  No. Observations:  </th>   <td>  4454</td>  \n",
       "</tr>\n",
       "<tr>\n",
       "  <th>Model:</th>               <td>Logit</td>      <th>  Df Residuals:      </th>   <td>  4441</td>  \n",
       "</tr>\n",
       "<tr>\n",
       "  <th>Method:</th>               <td>MLE</td>       <th>  Df Model:          </th>   <td>    12</td>  \n",
       "</tr>\n",
       "<tr>\n",
       "  <th>Date:</th>          <td>Tue, 06 Dec 2016</td> <th>  Pseudo R-squ.:     </th>   <td>0.1746</td>  \n",
       "</tr>\n",
       "<tr>\n",
       "  <th>Time:</th>              <td>23:44:01</td>     <th>  Log-Likelihood:    </th>  <td> -1299.6</td> \n",
       "</tr>\n",
       "<tr>\n",
       "  <th>converged:</th>           <td>True</td>       <th>  LL-Null:           </th>  <td> -1574.6</td> \n",
       "</tr>\n",
       "<tr>\n",
       "  <th> </th>                      <td> </td>        <th>  LLR p-value:       </th> <td>4.930e-110</td>\n",
       "</tr>\n",
       "</table>\n",
       "<table class=\"simpletable\">\n",
       "<tr>\n",
       "       <td></td>         <th>coef</th>     <th>std err</th>      <th>z</th>      <th>P>|z|</th> <th>[95.0% Conf. Int.]</th> \n",
       "</tr>\n",
       "<tr>\n",
       "  <th>has_wheat</th>  <td>    0.5492</td> <td>    0.163</td> <td>    3.370</td> <td> 0.001</td> <td>    0.230     0.869</td>\n",
       "</tr>\n",
       "<tr>\n",
       "  <th>has_salt</th>   <td>    0.4594</td> <td>    0.131</td> <td>    3.505</td> <td> 0.000</td> <td>    0.203     0.716</td>\n",
       "</tr>\n",
       "<tr>\n",
       "  <th>has_sugar</th>  <td>    0.5677</td> <td>    0.118</td> <td>    4.818</td> <td> 0.000</td> <td>    0.337     0.799</td>\n",
       "</tr>\n",
       "<tr>\n",
       "  <th>has_choco</th>  <td>    0.2472</td> <td>    0.262</td> <td>    0.945</td> <td> 0.345</td> <td>   -0.266     0.760</td>\n",
       "</tr>\n",
       "<tr>\n",
       "  <th>has_milk</th>   <td>    0.8951</td> <td>    0.112</td> <td>    7.985</td> <td> 0.000</td> <td>    0.675     1.115</td>\n",
       "</tr>\n",
       "<tr>\n",
       "  <th>has_cocoa</th>  <td>   -0.2960</td> <td>    0.234</td> <td>   -1.263</td> <td> 0.207</td> <td>   -0.756     0.163</td>\n",
       "</tr>\n",
       "<tr>\n",
       "  <th>has_palm</th>   <td>    0.9538</td> <td>    0.178</td> <td>    5.365</td> <td> 0.000</td> <td>    0.605     1.302</td>\n",
       "</tr>\n",
       "<tr>\n",
       "  <th>has_water</th>  <td>    1.0891</td> <td>    0.111</td> <td>    9.793</td> <td> 0.000</td> <td>    0.871     1.307</td>\n",
       "</tr>\n",
       "<tr>\n",
       "  <th>has_garlic</th> <td>   -0.2728</td> <td>    0.163</td> <td>   -1.671</td> <td> 0.095</td> <td>   -0.593     0.047</td>\n",
       "</tr>\n",
       "<tr>\n",
       "  <th>has_flour</th>  <td>    0.6211</td> <td>    0.133</td> <td>    4.684</td> <td> 0.000</td> <td>    0.361     0.881</td>\n",
       "</tr>\n",
       "<tr>\n",
       "  <th>has_ginger</th> <td>   -0.0389</td> <td>    0.317</td> <td>   -0.123</td> <td> 0.902</td> <td>   -0.660     0.582</td>\n",
       "</tr>\n",
       "<tr>\n",
       "  <th>has_honey</th>  <td>   -0.5302</td> <td>    0.310</td> <td>   -1.711</td> <td> 0.087</td> <td>   -1.138     0.077</td>\n",
       "</tr>\n",
       "<tr>\n",
       "  <th>intercept</th>  <td>   -3.6988</td> <td>    0.122</td> <td>  -30.410</td> <td> 0.000</td> <td>   -3.937    -3.460</td>\n",
       "</tr>\n",
       "</table>"
      ],
      "text/plain": [
       "<class 'statsmodels.iolib.summary.Summary'>\n",
       "\"\"\"\n",
       "                           Logit Regression Results                           \n",
       "==============================================================================\n",
       "Dep. Variable:               high_add   No. Observations:                 4454\n",
       "Model:                          Logit   Df Residuals:                     4441\n",
       "Method:                           MLE   Df Model:                           12\n",
       "Date:                Tue, 06 Dec 2016   Pseudo R-squ.:                  0.1746\n",
       "Time:                        23:44:01   Log-Likelihood:                -1299.6\n",
       "converged:                       True   LL-Null:                       -1574.6\n",
       "                                        LLR p-value:                4.930e-110\n",
       "==============================================================================\n",
       "                 coef    std err          z      P>|z|      [95.0% Conf. Int.]\n",
       "------------------------------------------------------------------------------\n",
       "has_wheat      0.5492      0.163      3.370      0.001         0.230     0.869\n",
       "has_salt       0.4594      0.131      3.505      0.000         0.203     0.716\n",
       "has_sugar      0.5677      0.118      4.818      0.000         0.337     0.799\n",
       "has_choco      0.2472      0.262      0.945      0.345        -0.266     0.760\n",
       "has_milk       0.8951      0.112      7.985      0.000         0.675     1.115\n",
       "has_cocoa     -0.2960      0.234     -1.263      0.207        -0.756     0.163\n",
       "has_palm       0.9538      0.178      5.365      0.000         0.605     1.302\n",
       "has_water      1.0891      0.111      9.793      0.000         0.871     1.307\n",
       "has_garlic    -0.2728      0.163     -1.671      0.095        -0.593     0.047\n",
       "has_flour      0.6211      0.133      4.684      0.000         0.361     0.881\n",
       "has_ginger    -0.0389      0.317     -0.123      0.902        -0.660     0.582\n",
       "has_honey     -0.5302      0.310     -1.711      0.087        -1.138     0.077\n",
       "intercept     -3.6988      0.122    -30.410      0.000        -3.937    -3.460\n",
       "==============================================================================\n",
       "\"\"\""
      ]
     },
     "execution_count": 48,
     "metadata": {},
     "output_type": "execute_result"
    }
   ],
   "source": [
    "# 12 Ingredients variables\n",
    "\n",
    "train_cols_12 = [ 'has_wheat' , 'has_salt' , 'has_sugar', 'has_choco' ,'has_milk','has_cocoa','has_palm',\n",
    "               'has_water', 'has_garlic','has_flour' ,'has_ginger','has_honey','intercept']\n",
    "\n",
    "logit_12 = sm.Logit(pd_new['high_add'], pd_new[train_cols_12])\n",
    "\n",
    "# fit the model\n",
    "result_12 = logit_12.fit()\n",
    "result_12.summary()"
   ]
  },
  {
   "cell_type": "code",
   "execution_count": 49,
   "metadata": {
    "collapsed": false
   },
   "outputs": [
    {
     "data": {
      "text/html": [
       "<div>\n",
       "<table border=\"1\" class=\"dataframe\">\n",
       "  <thead>\n",
       "    <tr style=\"text-align: right;\">\n",
       "      <th></th>\n",
       "      <th>0</th>\n",
       "      <th>1</th>\n",
       "    </tr>\n",
       "  </thead>\n",
       "  <tbody>\n",
       "    <tr>\n",
       "      <th>has_wheat</th>\n",
       "      <td>0.229763</td>\n",
       "      <td>0.868601</td>\n",
       "    </tr>\n",
       "    <tr>\n",
       "      <th>has_salt</th>\n",
       "      <td>0.202514</td>\n",
       "      <td>0.716287</td>\n",
       "    </tr>\n",
       "    <tr>\n",
       "      <th>has_sugar</th>\n",
       "      <td>0.336761</td>\n",
       "      <td>0.798678</td>\n",
       "    </tr>\n",
       "    <tr>\n",
       "      <th>has_choco</th>\n",
       "      <td>-0.265737</td>\n",
       "      <td>0.760091</td>\n",
       "    </tr>\n",
       "    <tr>\n",
       "      <th>has_milk</th>\n",
       "      <td>0.675382</td>\n",
       "      <td>1.114768</td>\n",
       "    </tr>\n",
       "    <tr>\n",
       "      <th>has_cocoa</th>\n",
       "      <td>-0.755525</td>\n",
       "      <td>0.163443</td>\n",
       "    </tr>\n",
       "    <tr>\n",
       "      <th>has_palm</th>\n",
       "      <td>0.605317</td>\n",
       "      <td>1.302232</td>\n",
       "    </tr>\n",
       "    <tr>\n",
       "      <th>has_water</th>\n",
       "      <td>0.871106</td>\n",
       "      <td>1.307058</td>\n",
       "    </tr>\n",
       "    <tr>\n",
       "      <th>has_garlic</th>\n",
       "      <td>-0.592678</td>\n",
       "      <td>0.047123</td>\n",
       "    </tr>\n",
       "    <tr>\n",
       "      <th>has_flour</th>\n",
       "      <td>0.361219</td>\n",
       "      <td>0.880945</td>\n",
       "    </tr>\n",
       "    <tr>\n",
       "      <th>has_ginger</th>\n",
       "      <td>-0.659928</td>\n",
       "      <td>0.582186</td>\n",
       "    </tr>\n",
       "    <tr>\n",
       "      <th>has_honey</th>\n",
       "      <td>-1.137763</td>\n",
       "      <td>0.077285</td>\n",
       "    </tr>\n",
       "    <tr>\n",
       "      <th>intercept</th>\n",
       "      <td>-3.937194</td>\n",
       "      <td>-3.460406</td>\n",
       "    </tr>\n",
       "  </tbody>\n",
       "</table>\n",
       "</div>"
      ],
      "text/plain": [
       "                   0         1\n",
       "has_wheat   0.229763  0.868601\n",
       "has_salt    0.202514  0.716287\n",
       "has_sugar   0.336761  0.798678\n",
       "has_choco  -0.265737  0.760091\n",
       "has_milk    0.675382  1.114768\n",
       "has_cocoa  -0.755525  0.163443\n",
       "has_palm    0.605317  1.302232\n",
       "has_water   0.871106  1.307058\n",
       "has_garlic -0.592678  0.047123\n",
       "has_flour   0.361219  0.880945\n",
       "has_ginger -0.659928  0.582186\n",
       "has_honey  -1.137763  0.077285\n",
       "intercept  -3.937194 -3.460406"
      ]
     },
     "execution_count": 49,
     "metadata": {},
     "output_type": "execute_result"
    }
   ],
   "source": [
    "result_12.conf_int()"
   ]
  },
  {
   "cell_type": "code",
   "execution_count": 50,
   "metadata": {
    "collapsed": false
   },
   "outputs": [
    {
     "data": {
      "text/plain": [
       "has_wheat     1.731836\n",
       "has_salt      1.583124\n",
       "has_sugar     1.764239\n",
       "has_choco     1.280406\n",
       "has_milk      2.447519\n",
       "has_cocoa     0.743757\n",
       "has_palm      2.595489\n",
       "has_water     2.971545\n",
       "has_garlic    0.761262\n",
       "has_flour     1.860940\n",
       "has_ginger    0.961875\n",
       "has_honey     0.588464\n",
       "intercept     0.024753\n",
       "dtype: float64"
      ]
     },
     "execution_count": 50,
     "metadata": {},
     "output_type": "execute_result"
    }
   ],
   "source": [
    "np.exp(result_12.params)"
   ]
  },
  {
   "cell_type": "code",
   "execution_count": 51,
   "metadata": {
    "collapsed": false
   },
   "outputs": [],
   "source": [
    "# Predict Y using the logit function.\n",
    "pd_new['ypred_12'] = result_12.predict(pd_new[train_cols_12])\n",
    "\n",
    "pd_new['ypred_class_12'] = np.where(pd_new['ypred_12']>0.12, '1', '0')\n",
    "pd_new['ypred_class_12'] = pd_new['ypred_class_12'].astype(int)\n"
   ]
  },
  {
   "cell_type": "code",
   "execution_count": 52,
   "metadata": {
    "collapsed": false
   },
   "outputs": [
    {
     "name": "stdout",
     "output_type": "stream",
     "text": [
      "Confusion Matrix:\n",
      "\n",
      "Predicted     0     1  __all__\n",
      "Actual                        \n",
      "0          3121   828     3949\n",
      "1           168   337      505\n",
      "__all__    3289  1165     4454\n",
      "\n",
      "\n",
      "Overall Statistics:\n",
      "\n",
      "Accuracy: 0.77638078132\n",
      "95% CI: (0.76385270352273649, 0.78854542877754974)\n",
      "No Information Rate: ToDo\n",
      "P-Value [Acc > NIR]: 2.62514302925e-09\n",
      "Kappa: 0.29151756839\n",
      "Mcnemar's Test P-Value: ToDo\n",
      "\n",
      "\n",
      "Class Statistics:\n",
      "\n",
      "Classes                                        0          1\n",
      "Population                                  4454       4454\n",
      "P: Condition positive                       3949        505\n",
      "N: Condition negative                        505       3949\n",
      "Test outcome positive                       3289       1165\n",
      "Test outcome negative                       1165       3289\n",
      "TP: True Positive                           3121        337\n",
      "TN: True Negative                            337       3121\n",
      "FP: False Positive                           168        828\n",
      "FN: False Negative                           828        168\n",
      "TPR: (Sensitivity, hit rate, recall)    0.790327   0.667327\n",
      "TNR=SPC: (Specificity)                  0.667327   0.790327\n",
      "PPV: Pos Pred Value (Precision)         0.948921    0.28927\n",
      "NPV: Neg Pred Value                      0.28927   0.948921\n",
      "FPR: False-out                          0.332673   0.209673\n",
      "FDR: False Discovery Rate              0.0510794    0.71073\n",
      "FNR: Miss Rate                          0.209673   0.332673\n",
      "ACC: Accuracy                           0.776381   0.776381\n",
      "F1 score                                0.862393   0.403593\n",
      "MCC: Matthews correlation coefficient   0.330165   0.330165\n",
      "Informedness                            0.457653   0.457653\n",
      "Markedness                              0.238191   0.238191\n",
      "Prevalence                              0.886619   0.113381\n",
      "LR+: Positive likelihood ratio           2.37568     3.1827\n",
      "LR-: Negative likelihood ratio          0.314199   0.420931\n",
      "DOR: Diagnostic odds ratio               7.56108    7.56108\n",
      "FOR: False omission rate                 0.71073  0.0510794\n"
     ]
    }
   ],
   "source": [
    "confusion_matrix_12 = ConfusionMatrix(pd_new['high_add'], pd_new['ypred_class_12'])\n",
    "#print(\"Confusion matrix:\\n%s\" % confusion_matrix_12)\n",
    "\n",
    "confusion_matrix_12.print_stats()"
   ]
  },
  {
   "cell_type": "code",
   "execution_count": 53,
   "metadata": {
    "collapsed": false
   },
   "outputs": [
    {
     "data": {
      "text/plain": [
       "0.79125333146127974"
      ]
     },
     "execution_count": 53,
     "metadata": {},
     "output_type": "execute_result"
    }
   ],
   "source": [
    "# Create ROC curve for 12 model\n",
    "false_positive_rate_12, true_positive_rate_12, thresholds = roc_curve(pd_new['high_add'], pd_new['ypred_12'])\n",
    "roc_auc_12 = auc(false_positive_rate_12, true_positive_rate_12)\n",
    "roc_auc_12"
   ]
  },
  {
   "cell_type": "markdown",
   "metadata": {
    "collapsed": false
   },
   "source": [
    "Accuracy of this Model is now 77% which is better than Baseline model. We are able to predict more True Positives \n",
    "in this model"
   ]
  },
  {
   "cell_type": "markdown",
   "metadata": {
    "collapsed": false
   },
   "source": [
    "### 5.4.4 Model with Ingredients and Categories\n",
    "\n",
    "Create Logitistic Regression with Ingredients and Category Dependant Variable"
   ]
  },
  {
   "cell_type": "code",
   "execution_count": 54,
   "metadata": {
    "collapsed": false
   },
   "outputs": [
    {
     "name": "stdout",
     "output_type": "stream",
     "text": [
      "Optimization terminated successfully.\n",
      "         Current function value: 0.287132\n",
      "         Iterations 7\n"
     ]
    },
    {
     "data": {
      "text/html": [
       "<table class=\"simpletable\">\n",
       "<caption>Logit Regression Results</caption>\n",
       "<tr>\n",
       "  <th>Dep. Variable:</th>      <td>Actual</td>      <th>  No. Observations:  </th>   <td>  4454</td>  \n",
       "</tr>\n",
       "<tr>\n",
       "  <th>Model:</th>               <td>Logit</td>      <th>  Df Residuals:      </th>   <td>  4433</td>  \n",
       "</tr>\n",
       "<tr>\n",
       "  <th>Method:</th>               <td>MLE</td>       <th>  Df Model:          </th>   <td>    20</td>  \n",
       "</tr>\n",
       "<tr>\n",
       "  <th>Date:</th>          <td>Tue, 06 Dec 2016</td> <th>  Pseudo R-squ.:     </th>   <td>0.1878</td>  \n",
       "</tr>\n",
       "<tr>\n",
       "  <th>Time:</th>              <td>23:48:26</td>     <th>  Log-Likelihood:    </th>  <td> -1278.9</td> \n",
       "</tr>\n",
       "<tr>\n",
       "  <th>converged:</th>           <td>True</td>       <th>  LL-Null:           </th>  <td> -1574.6</td> \n",
       "</tr>\n",
       "<tr>\n",
       "  <th> </th>                      <td> </td>        <th>  LLR p-value:       </th> <td>1.825e-112</td>\n",
       "</tr>\n",
       "</table>\n",
       "<table class=\"simpletable\">\n",
       "<tr>\n",
       "       <td></td>         <th>coef</th>     <th>std err</th>      <th>z</th>      <th>P>|z|</th> <th>[95.0% Conf. Int.]</th> \n",
       "</tr>\n",
       "<tr>\n",
       "  <th>has_wheat</th>  <td>    0.5827</td> <td>    0.168</td> <td>    3.464</td> <td> 0.001</td> <td>    0.253     0.912</td>\n",
       "</tr>\n",
       "<tr>\n",
       "  <th>has_salt</th>   <td>    0.3723</td> <td>    0.141</td> <td>    2.634</td> <td> 0.008</td> <td>    0.095     0.649</td>\n",
       "</tr>\n",
       "<tr>\n",
       "  <th>has_sugar</th>  <td>    0.4756</td> <td>    0.121</td> <td>    3.922</td> <td> 0.000</td> <td>    0.238     0.713</td>\n",
       "</tr>\n",
       "<tr>\n",
       "  <th>has_choco</th>  <td>    0.1431</td> <td>    0.261</td> <td>    0.548</td> <td> 0.584</td> <td>   -0.369     0.655</td>\n",
       "</tr>\n",
       "<tr>\n",
       "  <th>has_milk</th>   <td>    0.8027</td> <td>    0.120</td> <td>    6.687</td> <td> 0.000</td> <td>    0.567     1.038</td>\n",
       "</tr>\n",
       "<tr>\n",
       "  <th>has_cocoa</th>  <td>   -0.5811</td> <td>    0.245</td> <td>   -2.375</td> <td> 0.018</td> <td>   -1.061    -0.102</td>\n",
       "</tr>\n",
       "<tr>\n",
       "  <th>has_palm</th>   <td>    0.9487</td> <td>    0.181</td> <td>    5.243</td> <td> 0.000</td> <td>    0.594     1.303</td>\n",
       "</tr>\n",
       "<tr>\n",
       "  <th>has_water</th>  <td>    1.1756</td> <td>    0.121</td> <td>    9.715</td> <td> 0.000</td> <td>    0.938     1.413</td>\n",
       "</tr>\n",
       "<tr>\n",
       "  <th>has_garlic</th> <td>   -0.1770</td> <td>    0.166</td> <td>   -1.069</td> <td> 0.285</td> <td>   -0.502     0.148</td>\n",
       "</tr>\n",
       "<tr>\n",
       "  <th>has_flour</th>  <td>    0.6421</td> <td>    0.141</td> <td>    4.556</td> <td> 0.000</td> <td>    0.366     0.918</td>\n",
       "</tr>\n",
       "<tr>\n",
       "  <th>has_ginger</th> <td>   -0.2097</td> <td>    0.328</td> <td>   -0.640</td> <td> 0.522</td> <td>   -0.852     0.433</td>\n",
       "</tr>\n",
       "<tr>\n",
       "  <th>has_honey</th>  <td>   -0.4887</td> <td>    0.314</td> <td>   -1.554</td> <td> 0.120</td> <td>   -1.105     0.128</td>\n",
       "</tr>\n",
       "<tr>\n",
       "  <th>is_plant</th>   <td>   -0.7324</td> <td>    0.174</td> <td>   -4.203</td> <td> 0.000</td> <td>   -1.074    -0.391</td>\n",
       "</tr>\n",
       "<tr>\n",
       "  <th>is_bev</th>     <td>   -0.2957</td> <td>    0.233</td> <td>   -1.272</td> <td> 0.204</td> <td>   -0.751     0.160</td>\n",
       "</tr>\n",
       "<tr>\n",
       "  <th>is_sugar</th>   <td>    0.5346</td> <td>    0.180</td> <td>    2.975</td> <td> 0.003</td> <td>    0.182     0.887</td>\n",
       "</tr>\n",
       "<tr>\n",
       "  <th>is_salt</th>    <td>   -0.0245</td> <td>    0.333</td> <td>   -0.074</td> <td> 0.941</td> <td>   -0.677     0.628</td>\n",
       "</tr>\n",
       "<tr>\n",
       "  <th>is_frozen</th>  <td>   -0.8833</td> <td>    0.442</td> <td>   -1.999</td> <td> 0.046</td> <td>   -1.749    -0.017</td>\n",
       "</tr>\n",
       "<tr>\n",
       "  <th>is_break</th>   <td>    0.3012</td> <td>    0.428</td> <td>    0.704</td> <td> 0.481</td> <td>   -0.537     1.139</td>\n",
       "</tr>\n",
       "<tr>\n",
       "  <th>is_dairy</th>   <td>   -0.1105</td> <td>    0.238</td> <td>   -0.463</td> <td> 0.643</td> <td>   -0.578     0.357</td>\n",
       "</tr>\n",
       "<tr>\n",
       "  <th>is_fresh</th>   <td>    0.0597</td> <td>    0.276</td> <td>    0.216</td> <td> 0.829</td> <td>   -0.481     0.600</td>\n",
       "</tr>\n",
       "<tr>\n",
       "  <th>intercept</th>  <td>   -3.5088</td> <td>    0.144</td> <td>  -24.354</td> <td> 0.000</td> <td>   -3.791    -3.226</td>\n",
       "</tr>\n",
       "</table>"
      ],
      "text/plain": [
       "<class 'statsmodels.iolib.summary.Summary'>\n",
       "\"\"\"\n",
       "                           Logit Regression Results                           \n",
       "==============================================================================\n",
       "Dep. Variable:                 Actual   No. Observations:                 4454\n",
       "Model:                          Logit   Df Residuals:                     4433\n",
       "Method:                           MLE   Df Model:                           20\n",
       "Date:                Tue, 06 Dec 2016   Pseudo R-squ.:                  0.1878\n",
       "Time:                        23:48:26   Log-Likelihood:                -1278.9\n",
       "converged:                       True   LL-Null:                       -1574.6\n",
       "                                        LLR p-value:                1.825e-112\n",
       "==============================================================================\n",
       "                 coef    std err          z      P>|z|      [95.0% Conf. Int.]\n",
       "------------------------------------------------------------------------------\n",
       "has_wheat      0.5827      0.168      3.464      0.001         0.253     0.912\n",
       "has_salt       0.3723      0.141      2.634      0.008         0.095     0.649\n",
       "has_sugar      0.4756      0.121      3.922      0.000         0.238     0.713\n",
       "has_choco      0.1431      0.261      0.548      0.584        -0.369     0.655\n",
       "has_milk       0.8027      0.120      6.687      0.000         0.567     1.038\n",
       "has_cocoa     -0.5811      0.245     -2.375      0.018        -1.061    -0.102\n",
       "has_palm       0.9487      0.181      5.243      0.000         0.594     1.303\n",
       "has_water      1.1756      0.121      9.715      0.000         0.938     1.413\n",
       "has_garlic    -0.1770      0.166     -1.069      0.285        -0.502     0.148\n",
       "has_flour      0.6421      0.141      4.556      0.000         0.366     0.918\n",
       "has_ginger    -0.2097      0.328     -0.640      0.522        -0.852     0.433\n",
       "has_honey     -0.4887      0.314     -1.554      0.120        -1.105     0.128\n",
       "is_plant      -0.7324      0.174     -4.203      0.000        -1.074    -0.391\n",
       "is_bev        -0.2957      0.233     -1.272      0.204        -0.751     0.160\n",
       "is_sugar       0.5346      0.180      2.975      0.003         0.182     0.887\n",
       "is_salt       -0.0245      0.333     -0.074      0.941        -0.677     0.628\n",
       "is_frozen     -0.8833      0.442     -1.999      0.046        -1.749    -0.017\n",
       "is_break       0.3012      0.428      0.704      0.481        -0.537     1.139\n",
       "is_dairy      -0.1105      0.238     -0.463      0.643        -0.578     0.357\n",
       "is_fresh       0.0597      0.276      0.216      0.829        -0.481     0.600\n",
       "intercept     -3.5088      0.144    -24.354      0.000        -3.791    -3.226\n",
       "==============================================================================\n",
       "\"\"\""
      ]
     },
     "execution_count": 54,
     "metadata": {},
     "output_type": "execute_result"
    }
   ],
   "source": [
    "train_cols_20 = [ 'has_wheat' , 'has_salt' , 'has_sugar', 'has_choco' ,'has_milk','has_cocoa','has_palm',\n",
    "               'has_water', 'has_garlic','has_flour' ,'has_ginger','has_honey','is_plant','is_bev',\n",
    "                 'is_sugar','is_salt','is_frozen','is_break','is_dairy','is_fresh','intercept']\n",
    "\n",
    "#'is_frozen' ,'is_break' ,'is_dairy', 'is_fresh' ,'is_meat'\n",
    "\n",
    "logit_20 = sm.Logit(pd_new['high_add'], pd_new[train_cols_20])\n",
    "\n",
    "# fit the model\n",
    "result_20 = logit_20.fit()\n",
    "result_20.summary()"
   ]
  },
  {
   "cell_type": "code",
   "execution_count": 55,
   "metadata": {
    "collapsed": false
   },
   "outputs": [
    {
     "data": {
      "text/html": [
       "<div>\n",
       "<table border=\"1\" class=\"dataframe\">\n",
       "  <thead>\n",
       "    <tr style=\"text-align: right;\">\n",
       "      <th></th>\n",
       "      <th>0</th>\n",
       "      <th>1</th>\n",
       "    </tr>\n",
       "  </thead>\n",
       "  <tbody>\n",
       "    <tr>\n",
       "      <th>has_wheat</th>\n",
       "      <td>0.253020</td>\n",
       "      <td>0.912417</td>\n",
       "    </tr>\n",
       "    <tr>\n",
       "      <th>has_salt</th>\n",
       "      <td>0.095318</td>\n",
       "      <td>0.649277</td>\n",
       "    </tr>\n",
       "    <tr>\n",
       "      <th>has_sugar</th>\n",
       "      <td>0.237938</td>\n",
       "      <td>0.713354</td>\n",
       "    </tr>\n",
       "    <tr>\n",
       "      <th>has_choco</th>\n",
       "      <td>-0.368682</td>\n",
       "      <td>0.654917</td>\n",
       "    </tr>\n",
       "    <tr>\n",
       "      <th>has_milk</th>\n",
       "      <td>0.567461</td>\n",
       "      <td>1.038025</td>\n",
       "    </tr>\n",
       "    <tr>\n",
       "      <th>has_cocoa</th>\n",
       "      <td>-1.060728</td>\n",
       "      <td>-0.101528</td>\n",
       "    </tr>\n",
       "    <tr>\n",
       "      <th>has_palm</th>\n",
       "      <td>0.594078</td>\n",
       "      <td>1.303353</td>\n",
       "    </tr>\n",
       "    <tr>\n",
       "      <th>has_water</th>\n",
       "      <td>0.938459</td>\n",
       "      <td>1.412801</td>\n",
       "    </tr>\n",
       "    <tr>\n",
       "      <th>has_garlic</th>\n",
       "      <td>-0.501608</td>\n",
       "      <td>0.147577</td>\n",
       "    </tr>\n",
       "    <tr>\n",
       "      <th>has_flour</th>\n",
       "      <td>0.365864</td>\n",
       "      <td>0.918319</td>\n",
       "    </tr>\n",
       "    <tr>\n",
       "      <th>has_ginger</th>\n",
       "      <td>-0.852009</td>\n",
       "      <td>0.432585</td>\n",
       "    </tr>\n",
       "    <tr>\n",
       "      <th>has_honey</th>\n",
       "      <td>-1.105093</td>\n",
       "      <td>0.127709</td>\n",
       "    </tr>\n",
       "    <tr>\n",
       "      <th>is_plant</th>\n",
       "      <td>-1.073960</td>\n",
       "      <td>-0.390866</td>\n",
       "    </tr>\n",
       "    <tr>\n",
       "      <th>is_bev</th>\n",
       "      <td>-0.751420</td>\n",
       "      <td>0.160057</td>\n",
       "    </tr>\n",
       "    <tr>\n",
       "      <th>is_sugar</th>\n",
       "      <td>0.182358</td>\n",
       "      <td>0.886919</td>\n",
       "    </tr>\n",
       "    <tr>\n",
       "      <th>is_salt</th>\n",
       "      <td>-0.677015</td>\n",
       "      <td>0.627997</td>\n",
       "    </tr>\n",
       "    <tr>\n",
       "      <th>is_frozen</th>\n",
       "      <td>-1.749497</td>\n",
       "      <td>-0.017111</td>\n",
       "    </tr>\n",
       "    <tr>\n",
       "      <th>is_break</th>\n",
       "      <td>-0.536739</td>\n",
       "      <td>1.139085</td>\n",
       "    </tr>\n",
       "    <tr>\n",
       "      <th>is_dairy</th>\n",
       "      <td>-0.577922</td>\n",
       "      <td>0.356898</td>\n",
       "    </tr>\n",
       "    <tr>\n",
       "      <th>is_fresh</th>\n",
       "      <td>-0.480851</td>\n",
       "      <td>0.600159</td>\n",
       "    </tr>\n",
       "    <tr>\n",
       "      <th>intercept</th>\n",
       "      <td>-3.791172</td>\n",
       "      <td>-3.226402</td>\n",
       "    </tr>\n",
       "  </tbody>\n",
       "</table>\n",
       "</div>"
      ],
      "text/plain": [
       "                   0         1\n",
       "has_wheat   0.253020  0.912417\n",
       "has_salt    0.095318  0.649277\n",
       "has_sugar   0.237938  0.713354\n",
       "has_choco  -0.368682  0.654917\n",
       "has_milk    0.567461  1.038025\n",
       "has_cocoa  -1.060728 -0.101528\n",
       "has_palm    0.594078  1.303353\n",
       "has_water   0.938459  1.412801\n",
       "has_garlic -0.501608  0.147577\n",
       "has_flour   0.365864  0.918319\n",
       "has_ginger -0.852009  0.432585\n",
       "has_honey  -1.105093  0.127709\n",
       "is_plant   -1.073960 -0.390866\n",
       "is_bev     -0.751420  0.160057\n",
       "is_sugar    0.182358  0.886919\n",
       "is_salt    -0.677015  0.627997\n",
       "is_frozen  -1.749497 -0.017111\n",
       "is_break   -0.536739  1.139085\n",
       "is_dairy   -0.577922  0.356898\n",
       "is_fresh   -0.480851  0.600159\n",
       "intercept  -3.791172 -3.226402"
      ]
     },
     "execution_count": 55,
     "metadata": {},
     "output_type": "execute_result"
    }
   ],
   "source": [
    "result_20.conf_int()"
   ]
  },
  {
   "cell_type": "code",
   "execution_count": 56,
   "metadata": {
    "collapsed": false
   },
   "outputs": [
    {
     "data": {
      "text/plain": [
       "has_wheat     1.790901\n",
       "has_salt      1.451064\n",
       "has_sugar     1.609053\n",
       "has_choco     1.153865\n",
       "has_milk      2.231654\n",
       "has_cocoa     0.559267\n",
       "has_palm      2.582391\n",
       "has_water     3.240182\n",
       "has_garlic    0.837767\n",
       "has_flour     1.900451\n",
       "has_ginger    0.810818\n",
       "has_honey     0.613428\n",
       "is_plant      0.480748\n",
       "is_bev        0.744024\n",
       "is_sugar      1.706830\n",
       "is_salt       0.975789\n",
       "is_frozen     0.413415\n",
       "is_break      1.351443\n",
       "is_dairy      0.895376\n",
       "is_fresh      1.061469\n",
       "intercept     0.029933\n",
       "dtype: float64"
      ]
     },
     "execution_count": 56,
     "metadata": {},
     "output_type": "execute_result"
    }
   ],
   "source": [
    "np.exp(result_20.params)\n"
   ]
  },
  {
   "cell_type": "code",
   "execution_count": 57,
   "metadata": {
    "collapsed": true
   },
   "outputs": [],
   "source": [
    "# Predict Y using the logit function.\n",
    "pd_new['ypred_20'] = result_20.predict(pd_new[train_cols_20])\n",
    "\n",
    "pd_new['ypred_class_20'] = np.where(pd_new['ypred_20']>0.12, '1', '0')\n",
    "pd_new['ypred_class_20'] = pd_new['ypred_class_20'].astype(int)"
   ]
  },
  {
   "cell_type": "code",
   "execution_count": 58,
   "metadata": {
    "collapsed": false
   },
   "outputs": [
    {
     "name": "stdout",
     "output_type": "stream",
     "text": [
      "Confusion Matrix:\n",
      "\n",
      "Predicted     0     1  __all__\n",
      "Actual                        \n",
      "0          2992   957     3949\n",
      "1           141   364      505\n",
      "__all__    3133  1321     4454\n",
      "\n",
      "\n",
      "Overall Statistics:\n",
      "\n",
      "Accuracy: 0.753480017961\n",
      "95% CI: (0.74054692050475879, 0.76607993050642931)\n",
      "No Information Rate: ToDo\n",
      "P-Value [Acc > NIR]: 5.49273631902e-14\n",
      "Kappa: 0.280682426913\n",
      "Mcnemar's Test P-Value: ToDo\n",
      "\n",
      "\n",
      "Class Statistics:\n",
      "\n",
      "Classes                                        0          1\n",
      "Population                                  4454       4454\n",
      "P: Condition positive                       3949        505\n",
      "N: Condition negative                        505       3949\n",
      "Test outcome positive                       3133       1321\n",
      "Test outcome negative                       1321       3133\n",
      "TP: True Positive                           2992        364\n",
      "TN: True Negative                            364       2992\n",
      "FP: False Positive                           141        957\n",
      "FN: False Negative                           957        141\n",
      "TPR: (Sensitivity, hit rate, recall)     0.75766   0.720792\n",
      "TNR=SPC: (Specificity)                  0.720792    0.75766\n",
      "PPV: Pos Pred Value (Precision)         0.954995   0.275549\n",
      "NPV: Neg Pred Value                     0.275549   0.954995\n",
      "FPR: False-out                          0.279208    0.24234\n",
      "FDR: False Discovery Rate              0.0450048   0.724451\n",
      "FNR: Miss Rate                           0.24234   0.279208\n",
      "ACC: Accuracy                            0.75348    0.75348\n",
      "F1 score                                0.844959   0.398686\n",
      "MCC: Matthews correlation coefficient   0.332121   0.332121\n",
      "Informedness                            0.478452   0.478452\n",
      "Markedness                              0.230544   0.230544\n",
      "Prevalence                              0.886619   0.113381\n",
      "LR+: Positive likelihood ratio           2.71361     2.9743\n",
      "LR-: Negative likelihood ratio          0.336213   0.368513\n",
      "DOR: Diagnostic odds ratio               8.07109    8.07109\n",
      "FOR: False omission rate                0.724451  0.0450048\n"
     ]
    }
   ],
   "source": [
    "confusion_matrix_20 = ConfusionMatrix(pd_new['high_add'], pd_new['ypred_class_20'])\n",
    "#print(\"Confusion matrix:\\n%s\" % confusion_matrix_20)\n",
    "\n",
    "confusion_matrix_20.print_stats()"
   ]
  },
  {
   "cell_type": "code",
   "execution_count": 59,
   "metadata": {
    "collapsed": false
   },
   "outputs": [
    {
     "data": {
      "text/plain": [
       "0.8082016001043002"
      ]
     },
     "execution_count": 59,
     "metadata": {},
     "output_type": "execute_result"
    }
   ],
   "source": [
    "# Create ROC curve for  model with 20 dependant variables\n",
    "false_positive_rate_20, true_positive_rate_20, thresholds = roc_curve(pd_new['high_add'], pd_new['ypred_20'])\n",
    "roc_auc_20 = auc(false_positive_rate_20, true_positive_rate_20)\n",
    "roc_auc_20"
   ]
  },
  {
   "cell_type": "markdown",
   "metadata": {},
   "source": [
    "Acurracy is around 75 % which is a good fit Model ."
   ]
  },
  {
   "cell_type": "markdown",
   "metadata": {},
   "source": [
    "### 5.4.5 Model with Ingredients text , Categories and Ingredients Count"
   ]
  },
  {
   "cell_type": "code",
   "execution_count": 60,
   "metadata": {
    "collapsed": false
   },
   "outputs": [
    {
     "name": "stdout",
     "output_type": "stream",
     "text": [
      "Optimization terminated successfully.\n",
      "         Current function value: 0.225210\n",
      "         Iterations 8\n"
     ]
    },
    {
     "data": {
      "text/html": [
       "<table class=\"simpletable\">\n",
       "<caption>Logit Regression Results</caption>\n",
       "<tr>\n",
       "  <th>Dep. Variable:</th>      <td>Actual</td>      <th>  No. Observations:  </th>   <td>  4454</td>  \n",
       "</tr>\n",
       "<tr>\n",
       "  <th>Model:</th>               <td>Logit</td>      <th>  Df Residuals:      </th>   <td>  4432</td>  \n",
       "</tr>\n",
       "<tr>\n",
       "  <th>Method:</th>               <td>MLE</td>       <th>  Df Model:          </th>   <td>    21</td>  \n",
       "</tr>\n",
       "<tr>\n",
       "  <th>Date:</th>          <td>Tue, 06 Dec 2016</td> <th>  Pseudo R-squ.:     </th>   <td>0.3630</td>  \n",
       "</tr>\n",
       "<tr>\n",
       "  <th>Time:</th>              <td>23:51:50</td>     <th>  Log-Likelihood:    </th>  <td> -1003.1</td> \n",
       "</tr>\n",
       "<tr>\n",
       "  <th>converged:</th>           <td>True</td>       <th>  LL-Null:           </th>  <td> -1574.6</td> \n",
       "</tr>\n",
       "<tr>\n",
       "  <th> </th>                      <td> </td>        <th>  LLR p-value:       </th> <td>8.604e-229</td>\n",
       "</tr>\n",
       "</table>\n",
       "<table class=\"simpletable\">\n",
       "<tr>\n",
       "       <td></td>         <th>coef</th>     <th>std err</th>      <th>z</th>      <th>P>|z|</th> <th>[95.0% Conf. Int.]</th> \n",
       "</tr>\n",
       "<tr>\n",
       "  <th>has_wheat</th>  <td>   -0.1230</td> <td>    0.208</td> <td>   -0.591</td> <td> 0.555</td> <td>   -0.531     0.285</td>\n",
       "</tr>\n",
       "<tr>\n",
       "  <th>has_salt</th>   <td>   -0.3441</td> <td>    0.165</td> <td>   -2.088</td> <td> 0.037</td> <td>   -0.667    -0.021</td>\n",
       "</tr>\n",
       "<tr>\n",
       "  <th>has_sugar</th>  <td>   -0.1655</td> <td>    0.141</td> <td>   -1.170</td> <td> 0.242</td> <td>   -0.443     0.112</td>\n",
       "</tr>\n",
       "<tr>\n",
       "  <th>has_choco</th>  <td>   -0.3075</td> <td>    0.310</td> <td>   -0.993</td> <td> 0.321</td> <td>   -0.914     0.299</td>\n",
       "</tr>\n",
       "<tr>\n",
       "  <th>has_milk</th>   <td>   -0.0359</td> <td>    0.144</td> <td>   -0.250</td> <td> 0.803</td> <td>   -0.318     0.246</td>\n",
       "</tr>\n",
       "<tr>\n",
       "  <th>has_cocoa</th>  <td>   -0.8572</td> <td>    0.280</td> <td>   -3.058</td> <td> 0.002</td> <td>   -1.407    -0.308</td>\n",
       "</tr>\n",
       "<tr>\n",
       "  <th>has_palm</th>   <td>    0.7269</td> <td>    0.220</td> <td>    3.303</td> <td> 0.001</td> <td>    0.296     1.158</td>\n",
       "</tr>\n",
       "<tr>\n",
       "  <th>has_water</th>  <td>    0.4987</td> <td>    0.142</td> <td>    3.522</td> <td> 0.000</td> <td>    0.221     0.776</td>\n",
       "</tr>\n",
       "<tr>\n",
       "  <th>has_garlic</th> <td>   -1.4341</td> <td>    0.221</td> <td>   -6.476</td> <td> 0.000</td> <td>   -1.868    -1.000</td>\n",
       "</tr>\n",
       "<tr>\n",
       "  <th>has_flour</th>  <td>   -0.2043</td> <td>    0.171</td> <td>   -1.195</td> <td> 0.232</td> <td>   -0.539     0.131</td>\n",
       "</tr>\n",
       "<tr>\n",
       "  <th>has_ginger</th> <td>   -3.0551</td> <td>    0.480</td> <td>   -6.367</td> <td> 0.000</td> <td>   -3.996    -2.115</td>\n",
       "</tr>\n",
       "<tr>\n",
       "  <th>has_honey</th>  <td>   -1.0698</td> <td>    0.368</td> <td>   -2.910</td> <td> 0.004</td> <td>   -1.790    -0.349</td>\n",
       "</tr>\n",
       "<tr>\n",
       "  <th>is_plant</th>   <td>   -0.8157</td> <td>    0.207</td> <td>   -3.935</td> <td> 0.000</td> <td>   -1.222    -0.409</td>\n",
       "</tr>\n",
       "<tr>\n",
       "  <th>is_bev</th>     <td>    0.0494</td> <td>    0.248</td> <td>    0.199</td> <td> 0.842</td> <td>   -0.437     0.536</td>\n",
       "</tr>\n",
       "<tr>\n",
       "  <th>is_sugar</th>   <td>    0.9017</td> <td>    0.200</td> <td>    4.507</td> <td> 0.000</td> <td>    0.510     1.294</td>\n",
       "</tr>\n",
       "<tr>\n",
       "  <th>is_salt</th>    <td>    0.2540</td> <td>    0.373</td> <td>    0.681</td> <td> 0.496</td> <td>   -0.477     0.985</td>\n",
       "</tr>\n",
       "<tr>\n",
       "  <th>is_frozen</th>  <td>   -2.8317</td> <td>    0.653</td> <td>   -4.336</td> <td> 0.000</td> <td>   -4.112    -1.552</td>\n",
       "</tr>\n",
       "<tr>\n",
       "  <th>is_break</th>   <td>    0.7859</td> <td>    0.503</td> <td>    1.564</td> <td> 0.118</td> <td>   -0.199     1.771</td>\n",
       "</tr>\n",
       "<tr>\n",
       "  <th>is_dairy</th>   <td>    0.3131</td> <td>    0.259</td> <td>    1.210</td> <td> 0.226</td> <td>   -0.194     0.820</td>\n",
       "</tr>\n",
       "<tr>\n",
       "  <th>is_fresh</th>   <td>   -1.1797</td> <td>    0.352</td> <td>   -3.351</td> <td> 0.001</td> <td>   -1.870    -0.490</td>\n",
       "</tr>\n",
       "<tr>\n",
       "  <th>text_count</th> <td>    0.1864</td> <td>    0.010</td> <td>   19.178</td> <td> 0.000</td> <td>    0.167     0.205</td>\n",
       "</tr>\n",
       "<tr>\n",
       "  <th>intercept</th>  <td>   -4.1045</td> <td>    0.165</td> <td>  -24.814</td> <td> 0.000</td> <td>   -4.429    -3.780</td>\n",
       "</tr>\n",
       "</table>"
      ],
      "text/plain": [
       "<class 'statsmodels.iolib.summary.Summary'>\n",
       "\"\"\"\n",
       "                           Logit Regression Results                           \n",
       "==============================================================================\n",
       "Dep. Variable:                 Actual   No. Observations:                 4454\n",
       "Model:                          Logit   Df Residuals:                     4432\n",
       "Method:                           MLE   Df Model:                           21\n",
       "Date:                Tue, 06 Dec 2016   Pseudo R-squ.:                  0.3630\n",
       "Time:                        23:51:50   Log-Likelihood:                -1003.1\n",
       "converged:                       True   LL-Null:                       -1574.6\n",
       "                                        LLR p-value:                8.604e-229\n",
       "==============================================================================\n",
       "                 coef    std err          z      P>|z|      [95.0% Conf. Int.]\n",
       "------------------------------------------------------------------------------\n",
       "has_wheat     -0.1230      0.208     -0.591      0.555        -0.531     0.285\n",
       "has_salt      -0.3441      0.165     -2.088      0.037        -0.667    -0.021\n",
       "has_sugar     -0.1655      0.141     -1.170      0.242        -0.443     0.112\n",
       "has_choco     -0.3075      0.310     -0.993      0.321        -0.914     0.299\n",
       "has_milk      -0.0359      0.144     -0.250      0.803        -0.318     0.246\n",
       "has_cocoa     -0.8572      0.280     -3.058      0.002        -1.407    -0.308\n",
       "has_palm       0.7269      0.220      3.303      0.001         0.296     1.158\n",
       "has_water      0.4987      0.142      3.522      0.000         0.221     0.776\n",
       "has_garlic    -1.4341      0.221     -6.476      0.000        -1.868    -1.000\n",
       "has_flour     -0.2043      0.171     -1.195      0.232        -0.539     0.131\n",
       "has_ginger    -3.0551      0.480     -6.367      0.000        -3.996    -2.115\n",
       "has_honey     -1.0698      0.368     -2.910      0.004        -1.790    -0.349\n",
       "is_plant      -0.8157      0.207     -3.935      0.000        -1.222    -0.409\n",
       "is_bev         0.0494      0.248      0.199      0.842        -0.437     0.536\n",
       "is_sugar       0.9017      0.200      4.507      0.000         0.510     1.294\n",
       "is_salt        0.2540      0.373      0.681      0.496        -0.477     0.985\n",
       "is_frozen     -2.8317      0.653     -4.336      0.000        -4.112    -1.552\n",
       "is_break       0.7859      0.503      1.564      0.118        -0.199     1.771\n",
       "is_dairy       0.3131      0.259      1.210      0.226        -0.194     0.820\n",
       "is_fresh      -1.1797      0.352     -3.351      0.001        -1.870    -0.490\n",
       "text_count     0.1864      0.010     19.178      0.000         0.167     0.205\n",
       "intercept     -4.1045      0.165    -24.814      0.000        -4.429    -3.780\n",
       "==============================================================================\n",
       "\"\"\""
      ]
     },
     "execution_count": 60,
     "metadata": {},
     "output_type": "execute_result"
    }
   ],
   "source": [
    "train_cols_21 = [ 'has_wheat' , 'has_salt' , 'has_sugar', 'has_choco' ,'has_milk','has_cocoa','has_palm',\n",
    "               'has_water', 'has_garlic','has_flour' ,'has_ginger','has_honey','is_plant','is_bev',\n",
    "                 'is_sugar','is_salt','is_frozen','is_break','is_dairy','is_fresh','text_count','intercept']\n",
    "\n",
    "#'is_frozen' ,'is_break' ,'is_dairy', 'is_fresh' ,'is_meat'\n",
    "\n",
    "logit_21 = sm.Logit(pd_new['high_add'], pd_new[train_cols_21])\n",
    "\n",
    "# fit the model\n",
    "result_21 = logit_21.fit()\n",
    "result_21.summary()"
   ]
  },
  {
   "cell_type": "code",
   "execution_count": 61,
   "metadata": {
    "collapsed": false
   },
   "outputs": [
    {
     "data": {
      "text/html": [
       "<div>\n",
       "<table border=\"1\" class=\"dataframe\">\n",
       "  <thead>\n",
       "    <tr style=\"text-align: right;\">\n",
       "      <th></th>\n",
       "      <th>0</th>\n",
       "      <th>1</th>\n",
       "    </tr>\n",
       "  </thead>\n",
       "  <tbody>\n",
       "    <tr>\n",
       "      <th>has_wheat</th>\n",
       "      <td>-0.530994</td>\n",
       "      <td>0.284951</td>\n",
       "    </tr>\n",
       "    <tr>\n",
       "      <th>has_salt</th>\n",
       "      <td>-0.667114</td>\n",
       "      <td>-0.021134</td>\n",
       "    </tr>\n",
       "    <tr>\n",
       "      <th>has_sugar</th>\n",
       "      <td>-0.442575</td>\n",
       "      <td>0.111647</td>\n",
       "    </tr>\n",
       "    <tr>\n",
       "      <th>has_choco</th>\n",
       "      <td>-0.914400</td>\n",
       "      <td>0.299356</td>\n",
       "    </tr>\n",
       "    <tr>\n",
       "      <th>has_milk</th>\n",
       "      <td>-0.317538</td>\n",
       "      <td>0.245795</td>\n",
       "    </tr>\n",
       "    <tr>\n",
       "      <th>has_cocoa</th>\n",
       "      <td>-1.406537</td>\n",
       "      <td>-0.307888</td>\n",
       "    </tr>\n",
       "    <tr>\n",
       "      <th>has_palm</th>\n",
       "      <td>0.295641</td>\n",
       "      <td>1.158246</td>\n",
       "    </tr>\n",
       "    <tr>\n",
       "      <th>has_water</th>\n",
       "      <td>0.221209</td>\n",
       "      <td>0.776165</td>\n",
       "    </tr>\n",
       "    <tr>\n",
       "      <th>has_garlic</th>\n",
       "      <td>-1.868192</td>\n",
       "      <td>-1.000085</td>\n",
       "    </tr>\n",
       "    <tr>\n",
       "      <th>has_flour</th>\n",
       "      <td>-0.539249</td>\n",
       "      <td>0.130704</td>\n",
       "    </tr>\n",
       "    <tr>\n",
       "      <th>has_ginger</th>\n",
       "      <td>-3.995660</td>\n",
       "      <td>-2.114609</td>\n",
       "    </tr>\n",
       "    <tr>\n",
       "      <th>has_honey</th>\n",
       "      <td>-1.790313</td>\n",
       "      <td>-0.349245</td>\n",
       "    </tr>\n",
       "    <tr>\n",
       "      <th>is_plant</th>\n",
       "      <td>-1.222027</td>\n",
       "      <td>-0.409367</td>\n",
       "    </tr>\n",
       "    <tr>\n",
       "      <th>is_bev</th>\n",
       "      <td>-0.436778</td>\n",
       "      <td>0.535661</td>\n",
       "    </tr>\n",
       "    <tr>\n",
       "      <th>is_sugar</th>\n",
       "      <td>0.509540</td>\n",
       "      <td>1.293771</td>\n",
       "    </tr>\n",
       "    <tr>\n",
       "      <th>is_salt</th>\n",
       "      <td>-0.477069</td>\n",
       "      <td>0.985099</td>\n",
       "    </tr>\n",
       "    <tr>\n",
       "      <th>is_frozen</th>\n",
       "      <td>-4.111705</td>\n",
       "      <td>-1.551709</td>\n",
       "    </tr>\n",
       "    <tr>\n",
       "      <th>is_break</th>\n",
       "      <td>-0.199065</td>\n",
       "      <td>1.770943</td>\n",
       "    </tr>\n",
       "    <tr>\n",
       "      <th>is_dairy</th>\n",
       "      <td>-0.194201</td>\n",
       "      <td>0.820469</td>\n",
       "    </tr>\n",
       "    <tr>\n",
       "      <th>is_fresh</th>\n",
       "      <td>-1.869663</td>\n",
       "      <td>-0.489771</td>\n",
       "    </tr>\n",
       "    <tr>\n",
       "      <th>text_count</th>\n",
       "      <td>0.167334</td>\n",
       "      <td>0.205429</td>\n",
       "    </tr>\n",
       "    <tr>\n",
       "      <th>intercept</th>\n",
       "      <td>-4.428735</td>\n",
       "      <td>-3.780342</td>\n",
       "    </tr>\n",
       "  </tbody>\n",
       "</table>\n",
       "</div>"
      ],
      "text/plain": [
       "                   0         1\n",
       "has_wheat  -0.530994  0.284951\n",
       "has_salt   -0.667114 -0.021134\n",
       "has_sugar  -0.442575  0.111647\n",
       "has_choco  -0.914400  0.299356\n",
       "has_milk   -0.317538  0.245795\n",
       "has_cocoa  -1.406537 -0.307888\n",
       "has_palm    0.295641  1.158246\n",
       "has_water   0.221209  0.776165\n",
       "has_garlic -1.868192 -1.000085\n",
       "has_flour  -0.539249  0.130704\n",
       "has_ginger -3.995660 -2.114609\n",
       "has_honey  -1.790313 -0.349245\n",
       "is_plant   -1.222027 -0.409367\n",
       "is_bev     -0.436778  0.535661\n",
       "is_sugar    0.509540  1.293771\n",
       "is_salt    -0.477069  0.985099\n",
       "is_frozen  -4.111705 -1.551709\n",
       "is_break   -0.199065  1.770943\n",
       "is_dairy   -0.194201  0.820469\n",
       "is_fresh   -1.869663 -0.489771\n",
       "text_count  0.167334  0.205429\n",
       "intercept  -4.428735 -3.780342"
      ]
     },
     "execution_count": 61,
     "metadata": {},
     "output_type": "execute_result"
    }
   ],
   "source": [
    "result_21.conf_int()"
   ]
  },
  {
   "cell_type": "code",
   "execution_count": 62,
   "metadata": {
    "collapsed": false
   },
   "outputs": [
    {
     "data": {
      "text/plain": [
       "has_wheat     0.884245\n",
       "has_salt      0.708841\n",
       "has_sugar     0.847500\n",
       "has_choco     0.735267\n",
       "has_milk      0.964764\n",
       "has_cocoa     0.424343\n",
       "has_palm      2.068749\n",
       "has_water     1.646558\n",
       "has_garlic    0.238320\n",
       "has_flour     0.815240\n",
       "has_ginger    0.047116\n",
       "has_honey     0.343084\n",
       "is_plant      0.442331\n",
       "is_bev        1.050684\n",
       "is_sugar      2.463678\n",
       "is_salt       1.289191\n",
       "is_frozen     0.058912\n",
       "is_break      2.194466\n",
       "is_dairy      1.367705\n",
       "is_fresh      0.307366\n",
       "text_count    1.204882\n",
       "intercept     0.016498\n",
       "dtype: float64"
      ]
     },
     "execution_count": 62,
     "metadata": {},
     "output_type": "execute_result"
    }
   ],
   "source": [
    "np.exp(result_21.params)"
   ]
  },
  {
   "cell_type": "code",
   "execution_count": 63,
   "metadata": {
    "collapsed": true
   },
   "outputs": [],
   "source": [
    "# Predict Y using the logit function.\n",
    "pd_new['ypred_21'] = result_21.predict(pd_new[train_cols_21])\n",
    "\n",
    "pd_new['ypred_class_21'] = np.where(pd_new['ypred_21']>0.12, '1', '0')\n",
    "pd_new['ypred_class_21'] = pd_new['ypred_class_21'].astype(int)"
   ]
  },
  {
   "cell_type": "code",
   "execution_count": 64,
   "metadata": {
    "collapsed": false
   },
   "outputs": [
    {
     "name": "stdout",
     "output_type": "stream",
     "text": [
      "Confusion Matrix:\n",
      "\n",
      "Predicted     0    1  __all__\n",
      "Actual                       \n",
      "0          3386  563     3949\n",
      "1            88  417      505\n",
      "__all__    3474  980     4454\n",
      "\n",
      "\n",
      "Overall Statistics:\n",
      "\n",
      "Accuracy: 0.853839245622\n",
      "95% CI: (0.84312050288304907, 0.86409171022628684)\n",
      "No Information Rate: ToDo\n",
      "P-Value [Acc > NIR]: 6.82490526912e-36\n",
      "Kappa: 0.484467826733\n",
      "Mcnemar's Test P-Value: ToDo\n",
      "\n",
      "\n",
      "Class Statistics:\n",
      "\n",
      "Classes                                       0         1\n",
      "Population                                 4454      4454\n",
      "P: Condition positive                      3949       505\n",
      "N: Condition negative                       505      3949\n",
      "Test outcome positive                      3474       980\n",
      "Test outcome negative                       980      3474\n",
      "TP: True Positive                          3386       417\n",
      "TN: True Negative                           417      3386\n",
      "FP: False Positive                           88       563\n",
      "FN: False Negative                          563        88\n",
      "TPR: (Sensitivity, hit rate, recall)   0.857432  0.825743\n",
      "TNR=SPC: (Specificity)                 0.825743  0.857432\n",
      "PPV: Pos Pred Value (Precision)        0.974669   0.42551\n",
      "NPV: Neg Pred Value                     0.42551  0.974669\n",
      "FPR: False-out                         0.174257  0.142568\n",
      "FDR: False Discovery Rate              0.025331   0.57449\n",
      "FNR: Miss Rate                         0.142568  0.174257\n",
      "ACC: Accuracy                          0.853839  0.853839\n",
      "F1 score                                 0.9123  0.561616\n",
      "MCC: Matthews correlation coefficient  0.522869  0.522869\n",
      "Informedness                           0.683175  0.683175\n",
      "Markedness                             0.400179  0.400179\n",
      "Prevalence                             0.886619  0.113381\n",
      "LR+: Positive likelihood ratio          4.92049   5.79193\n",
      "LR-: Negative likelihood ratio         0.172654  0.203232\n",
      "DOR: Diagnostic odds ratio              28.4992   28.4992\n",
      "FOR: False omission rate                0.57449  0.025331\n"
     ]
    }
   ],
   "source": [
    "confusion_matrix = ConfusionMatrix(pd_new['high_add'], pd_new['ypred_class_21'])\n",
    "#print(\"Confusion matrix:\\n%s\" % confusion_matrix)\n",
    "\n",
    "confusion_matrix.print_stats()\n",
    "\n"
   ]
  },
  {
   "cell_type": "code",
   "execution_count": 65,
   "metadata": {
    "collapsed": false
   },
   "outputs": [
    {
     "data": {
      "text/plain": [
       "0.91624750218754469"
      ]
     },
     "execution_count": 65,
     "metadata": {},
     "output_type": "execute_result"
    }
   ],
   "source": [
    "\n",
    "# Create ROC curve for Baseline model\n",
    "false_positive_21, true_positive_21, thresholds = roc_curve(pd_new['high_add'], pd_new['ypred_21'])\n",
    "roc_auc_21 = auc(false_positive_21, true_positive_21)\n",
    "roc_auc_21"
   ]
  },
  {
   "cell_type": "markdown",
   "metadata": {},
   "source": [
    "Accuracy of this model has increased to 85% so the model is better fit with considering all Ingredients_text,\n",
    "Ingredient counts and Categories"
   ]
  },
  {
   "cell_type": "code",
   "execution_count": null,
   "metadata": {
    "collapsed": true
   },
   "outputs": [],
   "source": []
  },
  {
   "cell_type": "markdown",
   "metadata": {},
   "source": [
    "### 5.4.6 Plot all ROC curve together.\n",
    "\n",
    "1. Model with 7 dependant variable\n",
    "2. Random Model with 7 dependant variable\n",
    "3. Model with 12 dependant variable\n",
    "3. Model with 20 dependant variable\n",
    "4. Model with 21 dependant variables"
   ]
  },
  {
   "cell_type": "code",
   "execution_count": 67,
   "metadata": {
    "collapsed": false
   },
   "outputs": [
    {
     "data": {
      "image/png": "[encoded data removed]",
      "text/plain": [
       "<matplotlib.figure.Figure at 0x1131c49e8>"
      ]
     },
     "metadata": {},
     "output_type": "display_data"
    }
   ],
   "source": [
    "# Plot the actual ROC curve -\n",
    "# Plot the curve\n",
    "plt.title('Receiver Operating Characteristic')\n",
    "plt.plot(false_positive_rate, true_positive_rate, 'b',\n",
    "label='AUC-7 = %0.2f'% roc_auc)\n",
    "plt.plot(false_positive_ran, true_positive_ran, 'g',\n",
    "label='AUC-Random = %0.2f'% roc_auc_ran)\n",
    "plt.plot(false_positive_rate_12, true_positive_rate_12, 'y',\n",
    "label='AUC-12 = %0.2f'% roc_auc_12)\n",
    "plt.plot(false_positive_rate_20, true_positive_rate_20, 'r',\n",
    "label='AUC-20 = %0.2f'% roc_auc_20)\n",
    "plt.plot(false_positive_21, true_positive_21, 'w',\n",
    "label='AUC-21 = %0.2f'% roc_auc_21)\n",
    "plt.legend(loc='lower right')\n",
    "plt.plot([0,1],[0,1],'r--')\n",
    "plt.xlim([-0.1,1.2])\n",
    "plt.ylim([-0.1,1.2])\n",
    "plt.ylabel('True Positive Rate')\n",
    "plt.xlabel('False Positive Rate')\n",
    "plt.show()"
   ]
  },
  {
   "cell_type": "markdown",
   "metadata": {},
   "source": [
    "We have generated model with 10,000 records. Now generate the new model with All entries in file. We then divide the file into training data and test data."
   ]
  },
  {
   "cell_type": "code",
   "execution_count": null,
   "metadata": {
    "collapsed": true
   },
   "outputs": [],
   "source": []
  },
  {
   "cell_type": "markdown",
   "metadata": {},
   "source": [
    "### 5.4.7 Real-time full data"
   ]
  },
  {
   "cell_type": "code",
   "execution_count": 84,
   "metadata": {
    "collapsed": false
   },
   "outputs": [
    {
     "name": "stderr",
     "output_type": "stream",
     "text": [
      "/Users/vingadgil/anaconda/lib/python3.5/site-packages/IPython/core/interactiveshell.py:2723: DtypeWarning: Columns (0,3,5,27,36) have mixed types. Specify dtype option on import or set low_memory=False.\n",
      "  interactivity=interactivity, compiler=compiler, result=result)\n"
     ]
    }
   ],
   "source": [
    "# Read the entire csv file into dataframe\n",
    "main_data = pd.read_csv('en_openfoodfacts_Nov.csv', sep='\\t' )"
   ]
  },
  {
   "cell_type": "code",
   "execution_count": 85,
   "metadata": {
    "collapsed": false
   },
   "outputs": [
    {
     "data": {
      "text/plain": [
       "(107343, 159)"
      ]
     },
     "execution_count": 85,
     "metadata": {},
     "output_type": "execute_result"
    }
   ],
   "source": [
    "main_data.shape"
   ]
  },
  {
   "cell_type": "code",
   "execution_count": null,
   "metadata": {
    "collapsed": true
   },
   "outputs": [],
   "source": [
    "#train, test = train_test_split(pd_new, test_size = 0.3)\n",
    "#len(train)\n",
    "#len(test)"
   ]
  },
  {
   "cell_type": "code",
   "execution_count": 86,
   "metadata": {
    "collapsed": true
   },
   "outputs": [],
   "source": [
    "main_new = main_data[['code' , 'product_name' , 'ingredients_text', 'additives','additives_n','main_category_en']]\n",
    "main_new = main_new[main_new.ingredients_text.notnull()]"
   ]
  },
  {
   "cell_type": "code",
   "execution_count": 87,
   "metadata": {
    "collapsed": false
   },
   "outputs": [
    {
     "data": {
      "text/plain": [
       "62266"
      ]
     },
     "execution_count": 87,
     "metadata": {},
     "output_type": "execute_result"
    }
   ],
   "source": [
    "len(main_new)"
   ]
  },
  {
   "cell_type": "markdown",
   "metadata": {},
   "source": [
    "Out of 107343 records we shall consider only 62266 records. Percantage of data used would be around 68%."
   ]
  },
  {
   "cell_type": "code",
   "execution_count": 88,
   "metadata": {
    "collapsed": false
   },
   "outputs": [
    {
     "data": {
      "text/plain": [
       "<matplotlib.axes._subplots.AxesSubplot at 0x1472e0e80>"
      ]
     },
     "execution_count": 88,
     "metadata": {},
     "output_type": "execute_result"
    },
    {
     "data": {
      "image/png": "[encoded data removed]",
      "text/plain": [
       "<matplotlib.figure.Figure at 0x1472e02b0>"
      ]
     },
     "metadata": {},
     "output_type": "display_data"
    }
   ],
   "source": [
    "main_additive = main_new[main_new.additives_n > 0]\n",
    "\n",
    "main_additive.additives_n.hist(bins=25)"
   ]
  },
  {
   "cell_type": "code",
   "execution_count": null,
   "metadata": {
    "collapsed": false
   },
   "outputs": [],
   "source": []
  },
  {
   "cell_type": "code",
   "execution_count": 89,
   "metadata": {
    "collapsed": false
   },
   "outputs": [
    {
     "data": {
      "text/plain": [
       "7535"
      ]
     },
     "execution_count": 89,
     "metadata": {},
     "output_type": "execute_result"
    }
   ],
   "source": [
    "main_new['high_add'] = np.where(main_new['additives_n']>4, '1', '0')\n",
    "\n",
    "len(main_new[main_new['high_add'] == '1'])\n"
   ]
  },
  {
   "cell_type": "code",
   "execution_count": 90,
   "metadata": {
    "collapsed": false
   },
   "outputs": [],
   "source": [
    "main_new.loc['ingredients_text'] = main_new['ingredients_text'].str.upper()"
   ]
  },
  {
   "cell_type": "code",
   "execution_count": 91,
   "metadata": {
    "collapsed": true
   },
   "outputs": [],
   "source": [
    "main_new = main_new[main_new.ingredients_text.notnull()]"
   ]
  },
  {
   "cell_type": "markdown",
   "metadata": {
    "collapsed": false
   },
   "source": [
    "Creating dummy variables for Ingredients and Categories and text count"
   ]
  },
  {
   "cell_type": "code",
   "execution_count": 92,
   "metadata": {
    "collapsed": false
   },
   "outputs": [],
   "source": [
    "# Check if Ingredients have Wheat .\n",
    "\n",
    "#pd_new['has_wheat'] = pd_new['ingredients_text'].str.match('Wheat|wheat',case = '1', na='0')\n",
    "\n",
    "wheat = ['Wheat','wheat','Weizen','blé','trigo','WHEAT']\n",
    "pattern = '|'.join(wheat)\n",
    "main_new['has_wheat'] = main_new['ingredients_text'].str.contains(pattern)\n",
    "main_new.has_wheat = main_new.has_wheat.astype(int)\n",
    "\n",
    "\n",
    "# Check if Ingredients has Salt.\n",
    "\n",
    "salt = ['Salt','SALT','SAL','SALZ','SEL']\n",
    "pattern = '|'.join(salt)\n",
    "main_new['has_salt'] = main_new['ingredients_text'].str.contains(pattern) \n",
    "main_new.has_salt = main_new.has_salt.astype(int)\n",
    "\n",
    "# Check if Ingredients has Sugar\n",
    "\n",
    "sugar = ['SUGAR','SUCRE','AZÚCAR','ZUCKER','Sugar']\n",
    "sugar = '|'.join(sugar)\n",
    "main_new['has_sugar'] = main_new['ingredients_text'].str.contains(sugar)\n",
    "main_new.has_sugar = main_new.has_sugar.astype(int)\n",
    "\n",
    "# Check if Ingredients has Chocolate .\n",
    "\n",
    "chocolate = ['CHOCO','CHOCOLATE','CHOCOLAT','SCHOKOLADE','Chocolate']\n",
    "chocolate = '|'.join(chocolate)\n",
    "main_new['has_choco'] = main_new['ingredients_text'].str.contains(chocolate)\n",
    "main_new.has_choco = main_new.has_choco.astype(int)\n",
    "\n",
    "# Check if Ingredients has Milk\n",
    "\n",
    "milk = ['MILK','LECHE','MILCHE','LAIT','Milk']\n",
    "milk = '|'.join(milk)\n",
    "\n",
    "main_new['has_milk'] = main_new['ingredients_text'].str.contains(milk)\n",
    "main_new.has_milk = main_new.has_milk.astype(int)\n",
    "\n",
    "# Check if Ingredients has Color\n",
    "\n",
    "color = ['Color','COLOR','FARBE','COULEUR']\n",
    "color = '|'.join(color)\n",
    "\n",
    "main_new['has_color'] = main_new['ingredients_text'].str.contains(color)\n",
    "main_new.has_color = main_new.has_color.astype(int)\n",
    "\n",
    "# Check if Ingredients has MSG\n",
    "\n",
    "msg = ['MSG','Msg','MONOSODIUM GLUTAMATE']\n",
    "msg = '|'.join(msg)\n",
    "\n",
    "main_new['has_msg'] = main_new['ingredients_text'].str.contains(msg)\n",
    "main_new.has_msg = main_new.has_msg.astype(int)\n",
    "\n",
    "# Check if Ingredients has YEAST\n",
    "\n",
    "yeast = ['Yeast','YEAST','LEVURE','HEFE','LEVADURA']\n",
    "yeast = '|'.join(yeast)\n",
    "\n",
    "main_new['has_yeast'] = main_new['ingredients_text'].str.contains(yeast)\n",
    "main_new.has_yeast = main_new.has_yeast.astype(int)\n",
    "\n",
    "# Check if Ingredients has cocoa butter\n",
    "\n",
    "cocoa = ['Cocoa Butter','COCOA BUTTER','COCOA','KAKAOBUTTER','LE BEURRE DE CACAO','CACAO','KAKAO']\n",
    "cocoa = '|'.join(cocoa)\n",
    "\n",
    "main_new['has_cocoa'] = main_new['ingredients_text'].str.contains(cocoa)\n",
    "main_new.has_cocoa = main_new.has_cocoa.astype(int)\n",
    "\n",
    "# Check if Ingredients has Palm Oil\n",
    "\n",
    "palm = ['Palm Oil','PALM OIL','PALMÖL','HUILE DE PALME','ACEITE DE PALMA']\n",
    "palm = '|'.join(palm)\n",
    "\n",
    "main_new['has_palm'] = main_new['ingredients_text'].str.contains(palm)\n",
    "main_new.has_palm = main_new.has_palm.astype(int)\n"
   ]
  },
  {
   "cell_type": "code",
   "execution_count": 93,
   "metadata": {
    "collapsed": true
   },
   "outputs": [],
   "source": [
    "# Check if Ingredients has Water\n",
    "\n",
    "water = ['WATER','water','WASSER','AGUA','EAU']\n",
    "water = '|'.join(water)\n",
    "\n",
    "main_new['has_water'] = main_new['ingredients_text'].str.contains(water)\n",
    "main_new.has_water = main_new.has_water.astype(int)\n",
    "\n",
    "# Check if Ingredients has Garlic\n",
    "\n",
    "garlic = ['Garlic','GARLIC','AIL','KNOBLAUCH','AJO']\n",
    "garlic = '|'.join(garlic)\n",
    "\n",
    "main_new['has_garlic'] = main_new['ingredients_text'].str.contains(garlic)\n",
    "main_new.has_garlic = main_new.has_garlic.astype(int)\n",
    "\n",
    "# Check if Ingredients has Flour\n",
    "\n",
    "flour = ['Flour','FLOUR','MEHL','FARINE','HARINA']\n",
    "flour = '|'.join(flour)\n",
    "\n",
    "main_new['has_flour'] = main_new['ingredients_text'].str.contains(flour)\n",
    "main_new.has_flour = main_new.has_flour.astype(int)\n",
    "\n",
    "# Check if Ingredients has Ginger\n",
    "\n",
    "ginger = ['Ginger','GINGER','GINGREMBRE','INGWER','JINGIBRE']\n",
    "ginger = '|'.join(ginger)\n",
    "\n",
    "main_new['has_ginger'] = main_new['ingredients_text'].str.contains(ginger)\n",
    "main_new.has_ginger = main_new.has_ginger.astype(int)\n",
    "\n",
    "# Check if Ingredients has honey\n",
    "\n",
    "honey = ['Honey','HONEY','HONIG','MIEL']\n",
    "honey = '|'.join(honey)\n",
    "\n",
    "main_new['has_honey'] = main_new['ingredients_text'].str.contains(honey)\n",
    "main_new.has_honey = main_new.has_honey.astype(int)\n",
    "\n",
    "# Check if Ingredients has Spices\n",
    "\n",
    "spice = ['Spices','SPICES','ÉPICES','GEWÜRZE','Especias']\n",
    "spice = '|'.join(spice)\n",
    "\n",
    "main_new['has_spice'] = main_new['ingredients_text'].str.contains(spice)\n",
    "main_new.has_spice = main_new.has_spice.astype(int)\n",
    "\n",
    "# Check if Ingredients has Onion\n",
    "\n",
    "onion = ['Onion','ONION','OIGNON','ZWIEBEL','CEBOLLA']\n",
    "onion = '|'.join(onion)\n",
    "\n",
    "main_new['has_onion'] = main_new['ingredients_text'].str.contains(onion)\n",
    "main_new.has_onion = main_new.has_onion.astype(int)\n"
   ]
  },
  {
   "cell_type": "code",
   "execution_count": 94,
   "metadata": {
    "collapsed": true
   },
   "outputs": [],
   "source": [
    "# Create columns on Categories \n",
    "main_new['is_plant'] =  np.where(main_new['main_category_en'] == 'Plant-based foods and beverages', '1', '0')\n",
    "main_new.is_plant = main_new.is_plant.astype(int)\n",
    "\n",
    "main_new['is_bev'] = np.where(main_new['main_category_en'] == 'Beverages','1','0')\n",
    "main_new.is_bev = main_new.is_bev.astype(int)\n",
    "\n",
    "main_new['is_sugar'] = np.where(main_new['main_category_en'] == 'Sugary snacks','1','0')\n",
    "main_new.is_sugar = main_new.is_sugar.astype(int)\n",
    "\n",
    "main_new['is_salt'] = np.where(main_new['main_category_en'] == 'Salty snacks','1','0')\n",
    "main_new.is_salt = main_new.is_salt.astype(int)\n",
    "\n",
    "main_new['is_dairy'] = np.where(main_new['main_category_en'] == 'Dairies','1','0')\n",
    "main_new.is_dairy = main_new.is_dairy.astype(int)\n",
    "\n",
    "main_new['is_meat'] = np.where(main_new['main_category_en'] == 'Meats|Seafood','1','0')\n",
    "main_new.is_meat = main_new.is_meat.astype(int)\n",
    "\n",
    "main_new['is_fresh'] = np.where(main_new['main_category_en'] == 'Fresh foods','1','0')\n",
    "main_new.is_fresh = main_new.is_fresh.astype(int)\n",
    "\n",
    "main_new['is_break'] = np.where(main_new['main_category_en'] == 'Breakfasts','1','0')\n",
    "main_new.is_break = main_new.is_break.astype(int)\n",
    "\n",
    "main_new['is_frozen'] = np.where(main_new['main_category_en'] == 'Frozen foods','1','0')\n",
    "main_new.is_frozen = main_new.is_frozen.astype(int)\n",
    "\n",
    "main_new['is_juices'] = np.where(main_new['main_category_en'] == 'Fruit Juices','1','0')\n",
    "main_new.is_juices = main_new.is_juices.astype(int)\n",
    "\n"
   ]
  },
  {
   "cell_type": "code",
   "execution_count": 95,
   "metadata": {
    "collapsed": true
   },
   "outputs": [],
   "source": [
    "# manually add the intercept\n",
    "main_new['intercept'] = 1.0\n",
    "main_new['high_add'] = main_new['high_add'].astype(int)\n"
   ]
  },
  {
   "cell_type": "code",
   "execution_count": 96,
   "metadata": {
    "collapsed": true
   },
   "outputs": [],
   "source": [
    "main_new['text_count'] = main_new['ingredients_text'].apply(lambda x: x.count(',') + 1)"
   ]
  },
  {
   "cell_type": "code",
   "execution_count": 97,
   "metadata": {
    "collapsed": false
   },
   "outputs": [
    {
     "name": "stdout",
     "output_type": "stream",
     "text": [
      "<class 'pandas.core.frame.DataFrame'>\n",
      "Index: 62266 entries, 2 to 107340\n",
      "Data columns (total 36 columns):\n",
      "code                62244 non-null object\n",
      "product_name        61980 non-null object\n",
      "ingredients_text    62266 non-null object\n",
      "additives           61742 non-null object\n",
      "additives_n         62230 non-null float64\n",
      "main_category_en    60262 non-null object\n",
      "high_add            62266 non-null int64\n",
      "has_wheat           62266 non-null int64\n",
      "has_salt            62266 non-null int64\n",
      "has_sugar           62266 non-null int64\n",
      "has_choco           62266 non-null int64\n",
      "has_milk            62266 non-null int64\n",
      "has_color           62266 non-null int64\n",
      "has_msg             62266 non-null int64\n",
      "has_yeast           62266 non-null int64\n",
      "has_cocoa           62266 non-null int64\n",
      "has_palm            62266 non-null int64\n",
      "has_water           62266 non-null int64\n",
      "has_garlic          62266 non-null int64\n",
      "has_flour           62266 non-null int64\n",
      "has_ginger          62266 non-null int64\n",
      "has_honey           62266 non-null int64\n",
      "has_spice           62266 non-null int64\n",
      "has_onion           62266 non-null int64\n",
      "is_plant            62266 non-null int64\n",
      "is_bev              62266 non-null int64\n",
      "is_sugar            62266 non-null int64\n",
      "is_salt             62266 non-null int64\n",
      "is_dairy            62266 non-null int64\n",
      "is_meat             62266 non-null int64\n",
      "is_fresh            62266 non-null int64\n",
      "is_break            62266 non-null int64\n",
      "is_frozen           62266 non-null int64\n",
      "is_juices           62266 non-null int64\n",
      "intercept           62266 non-null float64\n",
      "text_count          62266 non-null int64\n",
      "dtypes: float64(2), int64(29), object(5)\n",
      "memory usage: 17.6+ MB\n"
     ]
    }
   ],
   "source": [
    "main_new.info()"
   ]
  },
  {
   "cell_type": "markdown",
   "metadata": {},
   "source": [
    "Split the 62000 records into training and test data. We shall consider 70% records as training and 30% test data"
   ]
  },
  {
   "cell_type": "code",
   "execution_count": 98,
   "metadata": {
    "collapsed": true
   },
   "outputs": [],
   "source": [
    "train, test = train_test_split(main_new, test_size = 0.3)\n"
   ]
  },
  {
   "cell_type": "code",
   "execution_count": 99,
   "metadata": {
    "collapsed": false
   },
   "outputs": [
    {
     "name": "stdout",
     "output_type": "stream",
     "text": [
      "Training Data -\n",
      "43586\n",
      "Test Data -\n",
      "18680\n"
     ]
    }
   ],
   "source": [
    "print('Training Data -')\n",
    "print(len(train))\n",
    "print('Test Data -')\n",
    "print(len(test))"
   ]
  },
  {
   "cell_type": "markdown",
   "metadata": {},
   "source": [
    "### 5.4.8 Creating the Logistic Regression model for Training data"
   ]
  },
  {
   "cell_type": "code",
   "execution_count": 100,
   "metadata": {
    "collapsed": true
   },
   "outputs": [],
   "source": [
    "train_cols_main = [ 'has_wheat' , 'has_salt' , 'has_sugar', 'has_choco' ,'has_milk','has_cocoa','has_palm',\n",
    "               'has_water', 'has_garlic','has_flour' ,'has_ginger','has_honey','is_plant','is_bev',\n",
    "                 'is_sugar','is_salt','is_frozen','is_break','is_dairy','is_fresh','text_count','intercept']\n"
   ]
  },
  {
   "cell_type": "code",
   "execution_count": 101,
   "metadata": {
    "collapsed": false
   },
   "outputs": [
    {
     "name": "stdout",
     "output_type": "stream",
     "text": [
      "Optimization terminated successfully.\n",
      "         Current function value: 0.264426\n",
      "         Iterations 8\n"
     ]
    },
    {
     "data": {
      "text/html": [
       "<table class=\"simpletable\">\n",
       "<caption>Logit Regression Results</caption>\n",
       "<tr>\n",
       "  <th>Dep. Variable:</th>     <td>high_add</td>     <th>  No. Observations:  </th>  <td> 43586</td> \n",
       "</tr>\n",
       "<tr>\n",
       "  <th>Model:</th>               <td>Logit</td>      <th>  Df Residuals:      </th>  <td> 43564</td> \n",
       "</tr>\n",
       "<tr>\n",
       "  <th>Method:</th>               <td>MLE</td>       <th>  Df Model:          </th>  <td>    21</td> \n",
       "</tr>\n",
       "<tr>\n",
       "  <th>Date:</th>          <td>Wed, 07 Dec 2016</td> <th>  Pseudo R-squ.:     </th>  <td>0.2783</td> \n",
       "</tr>\n",
       "<tr>\n",
       "  <th>Time:</th>              <td>00:01:53</td>     <th>  Log-Likelihood:    </th> <td> -11525.</td>\n",
       "</tr>\n",
       "<tr>\n",
       "  <th>converged:</th>           <td>True</td>       <th>  LL-Null:           </th> <td> -15970.</td>\n",
       "</tr>\n",
       "<tr>\n",
       "  <th> </th>                      <td> </td>        <th>  LLR p-value:       </th>  <td> 0.000</td> \n",
       "</tr>\n",
       "</table>\n",
       "<table class=\"simpletable\">\n",
       "<tr>\n",
       "       <td></td>         <th>coef</th>     <th>std err</th>      <th>z</th>      <th>P>|z|</th> <th>[95.0% Conf. Int.]</th> \n",
       "</tr>\n",
       "<tr>\n",
       "  <th>has_wheat</th>  <td>    0.0894</td> <td>    0.042</td> <td>    2.132</td> <td> 0.033</td> <td>    0.007     0.172</td>\n",
       "</tr>\n",
       "<tr>\n",
       "  <th>has_salt</th>   <td>   -0.0617</td> <td>    0.169</td> <td>   -0.364</td> <td> 0.716</td> <td>   -0.394     0.270</td>\n",
       "</tr>\n",
       "<tr>\n",
       "  <th>has_sugar</th>  <td>    0.1077</td> <td>    0.157</td> <td>    0.685</td> <td> 0.493</td> <td>   -0.200     0.416</td>\n",
       "</tr>\n",
       "<tr>\n",
       "  <th>has_choco</th>  <td>    0.2647</td> <td>    0.287</td> <td>    0.923</td> <td> 0.356</td> <td>   -0.297     0.827</td>\n",
       "</tr>\n",
       "<tr>\n",
       "  <th>has_milk</th>   <td>    0.3585</td> <td>    0.118</td> <td>    3.041</td> <td> 0.002</td> <td>    0.127     0.590</td>\n",
       "</tr>\n",
       "<tr>\n",
       "  <th>has_cocoa</th>  <td>   -1.1791</td> <td>    0.391</td> <td>   -3.019</td> <td> 0.003</td> <td>   -1.945    -0.414</td>\n",
       "</tr>\n",
       "<tr>\n",
       "  <th>has_palm</th>   <td>    0.7125</td> <td>    0.303</td> <td>    2.351</td> <td> 0.019</td> <td>    0.118     1.307</td>\n",
       "</tr>\n",
       "<tr>\n",
       "  <th>has_water</th>  <td>    0.2949</td> <td>    0.132</td> <td>    2.228</td> <td> 0.026</td> <td>    0.035     0.554</td>\n",
       "</tr>\n",
       "<tr>\n",
       "  <th>has_garlic</th> <td>   -1.1565</td> <td>    0.315</td> <td>   -3.669</td> <td> 0.000</td> <td>   -1.774    -0.539</td>\n",
       "</tr>\n",
       "<tr>\n",
       "  <th>has_flour</th>  <td>   -0.4581</td> <td>    0.214</td> <td>   -2.142</td> <td> 0.032</td> <td>   -0.877    -0.039</td>\n",
       "</tr>\n",
       "<tr>\n",
       "  <th>has_ginger</th> <td>   -0.8894</td> <td>    0.418</td> <td>   -2.128</td> <td> 0.033</td> <td>   -1.709    -0.070</td>\n",
       "</tr>\n",
       "<tr>\n",
       "  <th>has_honey</th>  <td>   -1.4197</td> <td>    0.644</td> <td>   -2.204</td> <td> 0.028</td> <td>   -2.682    -0.157</td>\n",
       "</tr>\n",
       "<tr>\n",
       "  <th>is_plant</th>   <td>   -1.1203</td> <td>    0.065</td> <td>  -17.148</td> <td> 0.000</td> <td>   -1.248    -0.992</td>\n",
       "</tr>\n",
       "<tr>\n",
       "  <th>is_bev</th>     <td>    0.5880</td> <td>    0.066</td> <td>    8.907</td> <td> 0.000</td> <td>    0.459     0.717</td>\n",
       "</tr>\n",
       "<tr>\n",
       "  <th>is_sugar</th>   <td>    0.5169</td> <td>    0.049</td> <td>   10.552</td> <td> 0.000</td> <td>    0.421     0.613</td>\n",
       "</tr>\n",
       "<tr>\n",
       "  <th>is_salt</th>    <td>   -0.1401</td> <td>    0.112</td> <td>   -1.250</td> <td> 0.211</td> <td>   -0.360     0.080</td>\n",
       "</tr>\n",
       "<tr>\n",
       "  <th>is_frozen</th>  <td>   -1.7923</td> <td>    0.125</td> <td>  -14.387</td> <td> 0.000</td> <td>   -2.036    -1.548</td>\n",
       "</tr>\n",
       "<tr>\n",
       "  <th>is_break</th>   <td>   -0.0299</td> <td>    0.162</td> <td>   -0.184</td> <td> 0.854</td> <td>   -0.348     0.288</td>\n",
       "</tr>\n",
       "<tr>\n",
       "  <th>is_dairy</th>   <td>    0.1228</td> <td>    0.078</td> <td>    1.573</td> <td> 0.116</td> <td>   -0.030     0.276</td>\n",
       "</tr>\n",
       "<tr>\n",
       "  <th>is_fresh</th>   <td>    0.1182</td> <td>    0.071</td> <td>    1.668</td> <td> 0.095</td> <td>   -0.021     0.257</td>\n",
       "</tr>\n",
       "<tr>\n",
       "  <th>text_count</th> <td>    0.1339</td> <td>    0.002</td> <td>   63.255</td> <td> 0.000</td> <td>    0.130     0.138</td>\n",
       "</tr>\n",
       "<tr>\n",
       "  <th>intercept</th>  <td>   -3.8013</td> <td>    0.042</td> <td>  -89.993</td> <td> 0.000</td> <td>   -3.884    -3.718</td>\n",
       "</tr>\n",
       "</table>"
      ],
      "text/plain": [
       "<class 'statsmodels.iolib.summary.Summary'>\n",
       "\"\"\"\n",
       "                           Logit Regression Results                           \n",
       "==============================================================================\n",
       "Dep. Variable:               high_add   No. Observations:                43586\n",
       "Model:                          Logit   Df Residuals:                    43564\n",
       "Method:                           MLE   Df Model:                           21\n",
       "Date:                Wed, 07 Dec 2016   Pseudo R-squ.:                  0.2783\n",
       "Time:                        00:01:53   Log-Likelihood:                -11525.\n",
       "converged:                       True   LL-Null:                       -15970.\n",
       "                                        LLR p-value:                     0.000\n",
       "==============================================================================\n",
       "                 coef    std err          z      P>|z|      [95.0% Conf. Int.]\n",
       "------------------------------------------------------------------------------\n",
       "has_wheat      0.0894      0.042      2.132      0.033         0.007     0.172\n",
       "has_salt      -0.0617      0.169     -0.364      0.716        -0.394     0.270\n",
       "has_sugar      0.1077      0.157      0.685      0.493        -0.200     0.416\n",
       "has_choco      0.2647      0.287      0.923      0.356        -0.297     0.827\n",
       "has_milk       0.3585      0.118      3.041      0.002         0.127     0.590\n",
       "has_cocoa     -1.1791      0.391     -3.019      0.003        -1.945    -0.414\n",
       "has_palm       0.7125      0.303      2.351      0.019         0.118     1.307\n",
       "has_water      0.2949      0.132      2.228      0.026         0.035     0.554\n",
       "has_garlic    -1.1565      0.315     -3.669      0.000        -1.774    -0.539\n",
       "has_flour     -0.4581      0.214     -2.142      0.032        -0.877    -0.039\n",
       "has_ginger    -0.8894      0.418     -2.128      0.033        -1.709    -0.070\n",
       "has_honey     -1.4197      0.644     -2.204      0.028        -2.682    -0.157\n",
       "is_plant      -1.1203      0.065    -17.148      0.000        -1.248    -0.992\n",
       "is_bev         0.5880      0.066      8.907      0.000         0.459     0.717\n",
       "is_sugar       0.5169      0.049     10.552      0.000         0.421     0.613\n",
       "is_salt       -0.1401      0.112     -1.250      0.211        -0.360     0.080\n",
       "is_frozen     -1.7923      0.125    -14.387      0.000        -2.036    -1.548\n",
       "is_break      -0.0299      0.162     -0.184      0.854        -0.348     0.288\n",
       "is_dairy       0.1228      0.078      1.573      0.116        -0.030     0.276\n",
       "is_fresh       0.1182      0.071      1.668      0.095        -0.021     0.257\n",
       "text_count     0.1339      0.002     63.255      0.000         0.130     0.138\n",
       "intercept     -3.8013      0.042    -89.993      0.000        -3.884    -3.718\n",
       "==============================================================================\n",
       "\"\"\""
      ]
     },
     "execution_count": 101,
     "metadata": {},
     "output_type": "execute_result"
    }
   ],
   "source": [
    "logit_train = sm.Logit(train['high_add'], train[train_cols_main])\n",
    "\n",
    "# fit the model\n",
    "result_train = logit_train.fit()\n",
    "result_train.summary()"
   ]
  },
  {
   "cell_type": "code",
   "execution_count": 102,
   "metadata": {
    "collapsed": false
   },
   "outputs": [
    {
     "data": {
      "text/html": [
       "<div>\n",
       "<table border=\"1\" class=\"dataframe\">\n",
       "  <thead>\n",
       "    <tr style=\"text-align: right;\">\n",
       "      <th></th>\n",
       "      <th>0</th>\n",
       "      <th>1</th>\n",
       "    </tr>\n",
       "  </thead>\n",
       "  <tbody>\n",
       "    <tr>\n",
       "      <th>has_wheat</th>\n",
       "      <td>0.007225</td>\n",
       "      <td>0.171580</td>\n",
       "    </tr>\n",
       "    <tr>\n",
       "      <th>has_salt</th>\n",
       "      <td>-0.393840</td>\n",
       "      <td>0.270351</td>\n",
       "    </tr>\n",
       "    <tr>\n",
       "      <th>has_sugar</th>\n",
       "      <td>-0.200323</td>\n",
       "      <td>0.415763</td>\n",
       "    </tr>\n",
       "    <tr>\n",
       "      <th>has_choco</th>\n",
       "      <td>-0.297095</td>\n",
       "      <td>0.826523</td>\n",
       "    </tr>\n",
       "    <tr>\n",
       "      <th>has_milk</th>\n",
       "      <td>0.127457</td>\n",
       "      <td>0.589608</td>\n",
       "    </tr>\n",
       "    <tr>\n",
       "      <th>has_cocoa</th>\n",
       "      <td>-1.944503</td>\n",
       "      <td>-0.413641</td>\n",
       "    </tr>\n",
       "    <tr>\n",
       "      <th>has_palm</th>\n",
       "      <td>0.118427</td>\n",
       "      <td>1.306673</td>\n",
       "    </tr>\n",
       "    <tr>\n",
       "      <th>has_water</th>\n",
       "      <td>0.035440</td>\n",
       "      <td>0.554449</td>\n",
       "    </tr>\n",
       "    <tr>\n",
       "      <th>has_garlic</th>\n",
       "      <td>-1.774241</td>\n",
       "      <td>-0.538748</td>\n",
       "    </tr>\n",
       "    <tr>\n",
       "      <th>has_flour</th>\n",
       "      <td>-0.877351</td>\n",
       "      <td>-0.038849</td>\n",
       "    </tr>\n",
       "    <tr>\n",
       "      <th>has_ginger</th>\n",
       "      <td>-1.708510</td>\n",
       "      <td>-0.070207</td>\n",
       "    </tr>\n",
       "    <tr>\n",
       "      <th>has_honey</th>\n",
       "      <td>-2.682246</td>\n",
       "      <td>-0.157110</td>\n",
       "    </tr>\n",
       "    <tr>\n",
       "      <th>is_plant</th>\n",
       "      <td>-1.248353</td>\n",
       "      <td>-0.992257</td>\n",
       "    </tr>\n",
       "    <tr>\n",
       "      <th>is_bev</th>\n",
       "      <td>0.458586</td>\n",
       "      <td>0.717354</td>\n",
       "    </tr>\n",
       "    <tr>\n",
       "      <th>is_sugar</th>\n",
       "      <td>0.420859</td>\n",
       "      <td>0.612861</td>\n",
       "    </tr>\n",
       "    <tr>\n",
       "      <th>is_salt</th>\n",
       "      <td>-0.359691</td>\n",
       "      <td>0.079508</td>\n",
       "    </tr>\n",
       "    <tr>\n",
       "      <th>is_frozen</th>\n",
       "      <td>-2.036483</td>\n",
       "      <td>-1.548136</td>\n",
       "    </tr>\n",
       "    <tr>\n",
       "      <th>is_break</th>\n",
       "      <td>-0.347832</td>\n",
       "      <td>0.288054</td>\n",
       "    </tr>\n",
       "    <tr>\n",
       "      <th>is_dairy</th>\n",
       "      <td>-0.030231</td>\n",
       "      <td>0.275810</td>\n",
       "    </tr>\n",
       "    <tr>\n",
       "      <th>is_fresh</th>\n",
       "      <td>-0.020677</td>\n",
       "      <td>0.257010</td>\n",
       "    </tr>\n",
       "    <tr>\n",
       "      <th>text_count</th>\n",
       "      <td>0.129750</td>\n",
       "      <td>0.138047</td>\n",
       "    </tr>\n",
       "    <tr>\n",
       "      <th>intercept</th>\n",
       "      <td>-3.884054</td>\n",
       "      <td>-3.718478</td>\n",
       "    </tr>\n",
       "  </tbody>\n",
       "</table>\n",
       "</div>"
      ],
      "text/plain": [
       "                   0         1\n",
       "has_wheat   0.007225  0.171580\n",
       "has_salt   -0.393840  0.270351\n",
       "has_sugar  -0.200323  0.415763\n",
       "has_choco  -0.297095  0.826523\n",
       "has_milk    0.127457  0.589608\n",
       "has_cocoa  -1.944503 -0.413641\n",
       "has_palm    0.118427  1.306673\n",
       "has_water   0.035440  0.554449\n",
       "has_garlic -1.774241 -0.538748\n",
       "has_flour  -0.877351 -0.038849\n",
       "has_ginger -1.708510 -0.070207\n",
       "has_honey  -2.682246 -0.157110\n",
       "is_plant   -1.248353 -0.992257\n",
       "is_bev      0.458586  0.717354\n",
       "is_sugar    0.420859  0.612861\n",
       "is_salt    -0.359691  0.079508\n",
       "is_frozen  -2.036483 -1.548136\n",
       "is_break   -0.347832  0.288054\n",
       "is_dairy   -0.030231  0.275810\n",
       "is_fresh   -0.020677  0.257010\n",
       "text_count  0.129750  0.138047\n",
       "intercept  -3.884054 -3.718478"
      ]
     },
     "execution_count": 102,
     "metadata": {},
     "output_type": "execute_result"
    }
   ],
   "source": [
    "result_train.conf_int()"
   ]
  },
  {
   "cell_type": "code",
   "execution_count": 103,
   "metadata": {
    "collapsed": false
   },
   "outputs": [
    {
     "data": {
      "text/plain": [
       "has_wheat     1.093521\n",
       "has_salt      0.940123\n",
       "has_sugar     1.113736\n",
       "has_choco     1.303058\n",
       "has_milk      1.431227\n",
       "has_cocoa     0.307564\n",
       "has_palm      2.039184\n",
       "has_water     1.343052\n",
       "has_garlic    0.314587\n",
       "has_flour     0.632484\n",
       "has_ginger    0.410919\n",
       "has_honey     0.241792\n",
       "is_plant      0.326180\n",
       "is_bev        1.800330\n",
       "is_sugar      1.676754\n",
       "is_salt       0.869279\n",
       "is_frozen     0.166575\n",
       "is_break      0.970553\n",
       "is_dairy      1.130646\n",
       "is_fresh      1.125431\n",
       "text_count    1.143277\n",
       "intercept     0.022342\n",
       "dtype: float64"
      ]
     },
     "execution_count": 103,
     "metadata": {},
     "output_type": "execute_result"
    }
   ],
   "source": [
    "np.exp(result_train.params)"
   ]
  },
  {
   "cell_type": "markdown",
   "metadata": {},
   "source": [
    "In the model above we can notice lot of variables have P values greater than 0.05 (P>|z|>0.05) . We shall ignore such variables one by one and check the output of model. If the model does not have any p values greater than 0.05 we shall consider it a better model and then proceed to predict the high additive value from that result and derive the confusion matrix and ROC curve from that."
   ]
  },
  {
   "cell_type": "markdown",
   "metadata": {},
   "source": [
    "Removing column - 'has_salt' from the Logistic regression Model"
   ]
  },
  {
   "cell_type": "code",
   "execution_count": 105,
   "metadata": {
    "collapsed": true
   },
   "outputs": [],
   "source": [
    "train_cols_main = [ 'has_wheat' , 'has_sugar', 'has_choco' ,'has_milk','has_cocoa','has_palm',\n",
    "               'has_water', 'has_garlic','has_flour' ,'has_ginger','has_honey','is_plant','is_bev',\n",
    "                 'is_sugar','is_salt','is_frozen','is_break','is_dairy','is_fresh','text_count','intercept']"
   ]
  },
  {
   "cell_type": "code",
   "execution_count": 106,
   "metadata": {
    "collapsed": false
   },
   "outputs": [
    {
     "name": "stdout",
     "output_type": "stream",
     "text": [
      "Optimization terminated successfully.\n",
      "         Current function value: 0.264427\n",
      "         Iterations 8\n"
     ]
    },
    {
     "data": {
      "text/html": [
       "<table class=\"simpletable\">\n",
       "<caption>Logit Regression Results</caption>\n",
       "<tr>\n",
       "  <th>Dep. Variable:</th>     <td>high_add</td>     <th>  No. Observations:  </th>  <td> 43586</td> \n",
       "</tr>\n",
       "<tr>\n",
       "  <th>Model:</th>               <td>Logit</td>      <th>  Df Residuals:      </th>  <td> 43565</td> \n",
       "</tr>\n",
       "<tr>\n",
       "  <th>Method:</th>               <td>MLE</td>       <th>  Df Model:          </th>  <td>    20</td> \n",
       "</tr>\n",
       "<tr>\n",
       "  <th>Date:</th>          <td>Wed, 07 Dec 2016</td> <th>  Pseudo R-squ.:     </th>  <td>0.2783</td> \n",
       "</tr>\n",
       "<tr>\n",
       "  <th>Time:</th>              <td>00:19:55</td>     <th>  Log-Likelihood:    </th> <td> -11525.</td>\n",
       "</tr>\n",
       "<tr>\n",
       "  <th>converged:</th>           <td>True</td>       <th>  LL-Null:           </th> <td> -15970.</td>\n",
       "</tr>\n",
       "<tr>\n",
       "  <th> </th>                      <td> </td>        <th>  LLR p-value:       </th>  <td> 0.000</td> \n",
       "</tr>\n",
       "</table>\n",
       "<table class=\"simpletable\">\n",
       "<tr>\n",
       "       <td></td>         <th>coef</th>     <th>std err</th>      <th>z</th>      <th>P>|z|</th> <th>[95.0% Conf. Int.]</th> \n",
       "</tr>\n",
       "<tr>\n",
       "  <th>has_wheat</th>  <td>    0.0892</td> <td>    0.042</td> <td>    2.129</td> <td> 0.033</td> <td>    0.007     0.171</td>\n",
       "</tr>\n",
       "<tr>\n",
       "  <th>has_sugar</th>  <td>    0.0877</td> <td>    0.147</td> <td>    0.595</td> <td> 0.552</td> <td>   -0.201     0.377</td>\n",
       "</tr>\n",
       "<tr>\n",
       "  <th>has_choco</th>  <td>    0.2686</td> <td>    0.287</td> <td>    0.937</td> <td> 0.349</td> <td>   -0.293     0.830</td>\n",
       "</tr>\n",
       "<tr>\n",
       "  <th>has_milk</th>   <td>    0.3540</td> <td>    0.117</td> <td>    3.020</td> <td> 0.003</td> <td>    0.124     0.584</td>\n",
       "</tr>\n",
       "<tr>\n",
       "  <th>has_cocoa</th>  <td>   -1.1877</td> <td>    0.390</td> <td>   -3.045</td> <td> 0.002</td> <td>   -1.952    -0.423</td>\n",
       "</tr>\n",
       "<tr>\n",
       "  <th>has_palm</th>   <td>    0.7045</td> <td>    0.302</td> <td>    2.334</td> <td> 0.020</td> <td>    0.113     1.296</td>\n",
       "</tr>\n",
       "<tr>\n",
       "  <th>has_water</th>  <td>    0.2916</td> <td>    0.132</td> <td>    2.208</td> <td> 0.027</td> <td>    0.033     0.550</td>\n",
       "</tr>\n",
       "<tr>\n",
       "  <th>has_garlic</th> <td>   -1.1845</td> <td>    0.305</td> <td>   -3.880</td> <td> 0.000</td> <td>   -1.783    -0.586</td>\n",
       "</tr>\n",
       "<tr>\n",
       "  <th>has_flour</th>  <td>   -0.4882</td> <td>    0.197</td> <td>   -2.479</td> <td> 0.013</td> <td>   -0.874    -0.102</td>\n",
       "</tr>\n",
       "<tr>\n",
       "  <th>has_ginger</th> <td>   -0.8917</td> <td>    0.417</td> <td>   -2.138</td> <td> 0.032</td> <td>   -1.709    -0.074</td>\n",
       "</tr>\n",
       "<tr>\n",
       "  <th>has_honey</th>  <td>   -1.4245</td> <td>    0.644</td> <td>   -2.212</td> <td> 0.027</td> <td>   -2.686    -0.163</td>\n",
       "</tr>\n",
       "<tr>\n",
       "  <th>is_plant</th>   <td>   -1.1200</td> <td>    0.065</td> <td>  -17.144</td> <td> 0.000</td> <td>   -1.248    -0.992</td>\n",
       "</tr>\n",
       "<tr>\n",
       "  <th>is_bev</th>     <td>    0.5888</td> <td>    0.066</td> <td>    8.924</td> <td> 0.000</td> <td>    0.459     0.718</td>\n",
       "</tr>\n",
       "<tr>\n",
       "  <th>is_sugar</th>   <td>    0.5176</td> <td>    0.049</td> <td>   10.578</td> <td> 0.000</td> <td>    0.422     0.614</td>\n",
       "</tr>\n",
       "<tr>\n",
       "  <th>is_salt</th>    <td>   -0.1402</td> <td>    0.112</td> <td>   -1.251</td> <td> 0.211</td> <td>   -0.360     0.079</td>\n",
       "</tr>\n",
       "<tr>\n",
       "  <th>is_frozen</th>  <td>   -1.7916</td> <td>    0.125</td> <td>  -14.383</td> <td> 0.000</td> <td>   -2.036    -1.547</td>\n",
       "</tr>\n",
       "<tr>\n",
       "  <th>is_break</th>   <td>   -0.0293</td> <td>    0.162</td> <td>   -0.181</td> <td> 0.857</td> <td>   -0.347     0.289</td>\n",
       "</tr>\n",
       "<tr>\n",
       "  <th>is_dairy</th>   <td>    0.1233</td> <td>    0.078</td> <td>    1.580</td> <td> 0.114</td> <td>   -0.030     0.276</td>\n",
       "</tr>\n",
       "<tr>\n",
       "  <th>is_fresh</th>   <td>    0.1182</td> <td>    0.071</td> <td>    1.668</td> <td> 0.095</td> <td>   -0.021     0.257</td>\n",
       "</tr>\n",
       "<tr>\n",
       "  <th>text_count</th> <td>    0.1339</td> <td>    0.002</td> <td>   63.261</td> <td> 0.000</td> <td>    0.130     0.138</td>\n",
       "</tr>\n",
       "<tr>\n",
       "  <th>intercept</th>  <td>   -3.8019</td> <td>    0.042</td> <td>  -90.087</td> <td> 0.000</td> <td>   -3.885    -3.719</td>\n",
       "</tr>\n",
       "</table>"
      ],
      "text/plain": [
       "<class 'statsmodels.iolib.summary.Summary'>\n",
       "\"\"\"\n",
       "                           Logit Regression Results                           \n",
       "==============================================================================\n",
       "Dep. Variable:               high_add   No. Observations:                43586\n",
       "Model:                          Logit   Df Residuals:                    43565\n",
       "Method:                           MLE   Df Model:                           20\n",
       "Date:                Wed, 07 Dec 2016   Pseudo R-squ.:                  0.2783\n",
       "Time:                        00:19:55   Log-Likelihood:                -11525.\n",
       "converged:                       True   LL-Null:                       -15970.\n",
       "                                        LLR p-value:                     0.000\n",
       "==============================================================================\n",
       "                 coef    std err          z      P>|z|      [95.0% Conf. Int.]\n",
       "------------------------------------------------------------------------------\n",
       "has_wheat      0.0892      0.042      2.129      0.033         0.007     0.171\n",
       "has_sugar      0.0877      0.147      0.595      0.552        -0.201     0.377\n",
       "has_choco      0.2686      0.287      0.937      0.349        -0.293     0.830\n",
       "has_milk       0.3540      0.117      3.020      0.003         0.124     0.584\n",
       "has_cocoa     -1.1877      0.390     -3.045      0.002        -1.952    -0.423\n",
       "has_palm       0.7045      0.302      2.334      0.020         0.113     1.296\n",
       "has_water      0.2916      0.132      2.208      0.027         0.033     0.550\n",
       "has_garlic    -1.1845      0.305     -3.880      0.000        -1.783    -0.586\n",
       "has_flour     -0.4882      0.197     -2.479      0.013        -0.874    -0.102\n",
       "has_ginger    -0.8917      0.417     -2.138      0.032        -1.709    -0.074\n",
       "has_honey     -1.4245      0.644     -2.212      0.027        -2.686    -0.163\n",
       "is_plant      -1.1200      0.065    -17.144      0.000        -1.248    -0.992\n",
       "is_bev         0.5888      0.066      8.924      0.000         0.459     0.718\n",
       "is_sugar       0.5176      0.049     10.578      0.000         0.422     0.614\n",
       "is_salt       -0.1402      0.112     -1.251      0.211        -0.360     0.079\n",
       "is_frozen     -1.7916      0.125    -14.383      0.000        -2.036    -1.547\n",
       "is_break      -0.0293      0.162     -0.181      0.857        -0.347     0.289\n",
       "is_dairy       0.1233      0.078      1.580      0.114        -0.030     0.276\n",
       "is_fresh       0.1182      0.071      1.668      0.095        -0.021     0.257\n",
       "text_count     0.1339      0.002     63.261      0.000         0.130     0.138\n",
       "intercept     -3.8019      0.042    -90.087      0.000        -3.885    -3.719\n",
       "==============================================================================\n",
       "\"\"\""
      ]
     },
     "execution_count": 106,
     "metadata": {},
     "output_type": "execute_result"
    }
   ],
   "source": [
    "logit_train1 = sm.Logit(train['high_add'], train[train_cols_main])\n",
    "\n",
    "# fit the model\n",
    "result_train1 = logit_train1.fit()\n",
    "result_train1.summary()"
   ]
  },
  {
   "cell_type": "code",
   "execution_count": 107,
   "metadata": {
    "collapsed": false
   },
   "outputs": [
    {
     "data": {
      "text/html": [
       "<div>\n",
       "<table border=\"1\" class=\"dataframe\">\n",
       "  <thead>\n",
       "    <tr style=\"text-align: right;\">\n",
       "      <th></th>\n",
       "      <th>0</th>\n",
       "      <th>1</th>\n",
       "    </tr>\n",
       "  </thead>\n",
       "  <tbody>\n",
       "    <tr>\n",
       "      <th>has_wheat</th>\n",
       "      <td>0.007070</td>\n",
       "      <td>0.171419</td>\n",
       "    </tr>\n",
       "    <tr>\n",
       "      <th>has_sugar</th>\n",
       "      <td>-0.201204</td>\n",
       "      <td>0.376619</td>\n",
       "    </tr>\n",
       "    <tr>\n",
       "      <th>has_choco</th>\n",
       "      <td>-0.293106</td>\n",
       "      <td>0.830378</td>\n",
       "    </tr>\n",
       "    <tr>\n",
       "      <th>has_milk</th>\n",
       "      <td>0.124287</td>\n",
       "      <td>0.583804</td>\n",
       "    </tr>\n",
       "    <tr>\n",
       "      <th>has_cocoa</th>\n",
       "      <td>-1.952117</td>\n",
       "      <td>-0.423204</td>\n",
       "    </tr>\n",
       "    <tr>\n",
       "      <th>has_palm</th>\n",
       "      <td>0.112776</td>\n",
       "      <td>1.296176</td>\n",
       "    </tr>\n",
       "    <tr>\n",
       "      <th>has_water</th>\n",
       "      <td>0.032781</td>\n",
       "      <td>0.550468</td>\n",
       "    </tr>\n",
       "    <tr>\n",
       "      <th>has_garlic</th>\n",
       "      <td>-1.782803</td>\n",
       "      <td>-0.586103</td>\n",
       "    </tr>\n",
       "    <tr>\n",
       "      <th>has_flour</th>\n",
       "      <td>-0.874152</td>\n",
       "      <td>-0.102278</td>\n",
       "    </tr>\n",
       "    <tr>\n",
       "      <th>has_ginger</th>\n",
       "      <td>-1.709021</td>\n",
       "      <td>-0.074390</td>\n",
       "    </tr>\n",
       "    <tr>\n",
       "      <th>has_honey</th>\n",
       "      <td>-2.686340</td>\n",
       "      <td>-0.162560</td>\n",
       "    </tr>\n",
       "    <tr>\n",
       "      <th>is_plant</th>\n",
       "      <td>-1.247997</td>\n",
       "      <td>-0.991928</td>\n",
       "    </tr>\n",
       "    <tr>\n",
       "      <th>is_bev</th>\n",
       "      <td>0.459463</td>\n",
       "      <td>0.718089</td>\n",
       "    </tr>\n",
       "    <tr>\n",
       "      <th>is_sugar</th>\n",
       "      <td>0.421737</td>\n",
       "      <td>0.613561</td>\n",
       "    </tr>\n",
       "    <tr>\n",
       "      <th>is_salt</th>\n",
       "      <td>-0.359790</td>\n",
       "      <td>0.079389</td>\n",
       "    </tr>\n",
       "    <tr>\n",
       "      <th>is_frozen</th>\n",
       "      <td>-2.035776</td>\n",
       "      <td>-1.547473</td>\n",
       "    </tr>\n",
       "    <tr>\n",
       "      <th>is_break</th>\n",
       "      <td>-0.347239</td>\n",
       "      <td>0.288643</td>\n",
       "    </tr>\n",
       "    <tr>\n",
       "      <th>is_dairy</th>\n",
       "      <td>-0.029662</td>\n",
       "      <td>0.276327</td>\n",
       "    </tr>\n",
       "    <tr>\n",
       "      <th>is_fresh</th>\n",
       "      <td>-0.020683</td>\n",
       "      <td>0.257055</td>\n",
       "    </tr>\n",
       "    <tr>\n",
       "      <th>text_count</th>\n",
       "      <td>0.129758</td>\n",
       "      <td>0.138056</td>\n",
       "    </tr>\n",
       "    <tr>\n",
       "      <th>intercept</th>\n",
       "      <td>-3.884655</td>\n",
       "      <td>-3.719223</td>\n",
       "    </tr>\n",
       "  </tbody>\n",
       "</table>\n",
       "</div>"
      ],
      "text/plain": [
       "                   0         1\n",
       "has_wheat   0.007070  0.171419\n",
       "has_sugar  -0.201204  0.376619\n",
       "has_choco  -0.293106  0.830378\n",
       "has_milk    0.124287  0.583804\n",
       "has_cocoa  -1.952117 -0.423204\n",
       "has_palm    0.112776  1.296176\n",
       "has_water   0.032781  0.550468\n",
       "has_garlic -1.782803 -0.586103\n",
       "has_flour  -0.874152 -0.102278\n",
       "has_ginger -1.709021 -0.074390\n",
       "has_honey  -2.686340 -0.162560\n",
       "is_plant   -1.247997 -0.991928\n",
       "is_bev      0.459463  0.718089\n",
       "is_sugar    0.421737  0.613561\n",
       "is_salt    -0.359790  0.079389\n",
       "is_frozen  -2.035776 -1.547473\n",
       "is_break   -0.347239  0.288643\n",
       "is_dairy   -0.029662  0.276327\n",
       "is_fresh   -0.020683  0.257055\n",
       "text_count  0.129758  0.138056\n",
       "intercept  -3.884655 -3.719223"
      ]
     },
     "execution_count": 107,
     "metadata": {},
     "output_type": "execute_result"
    }
   ],
   "source": [
    "result_train1.conf_int()"
   ]
  },
  {
   "cell_type": "code",
   "execution_count": 108,
   "metadata": {
    "collapsed": false
   },
   "outputs": [
    {
     "data": {
      "text/plain": [
       "has_wheat     1.093348\n",
       "has_sugar     1.091669\n",
       "has_choco     1.308179\n",
       "has_milk      1.424820\n",
       "has_cocoa     0.304934\n",
       "has_palm      2.022786\n",
       "has_water     1.338601\n",
       "has_garlic    0.305913\n",
       "has_flour     0.613721\n",
       "has_ginger    0.409956\n",
       "has_honey     0.240641\n",
       "is_plant      0.326292\n",
       "is_bev        1.801782\n",
       "is_sugar      1.678078\n",
       "is_salt       0.869184\n",
       "is_frozen     0.166689\n",
       "is_break      0.971127\n",
       "is_dairy      1.131260\n",
       "is_fresh      1.125453\n",
       "text_count    1.143287\n",
       "intercept     0.022327\n",
       "dtype: float64"
      ]
     },
     "execution_count": 108,
     "metadata": {},
     "output_type": "execute_result"
    }
   ],
   "source": [
    "np.exp(result_train1.params)"
   ]
  },
  {
   "cell_type": "markdown",
   "metadata": {},
   "source": [
    "Removing 'has_sugar' and then checking the impact."
   ]
  },
  {
   "cell_type": "code",
   "execution_count": 109,
   "metadata": {
    "collapsed": true
   },
   "outputs": [],
   "source": [
    "train_cols_main = [ 'has_wheat', 'has_choco' ,'has_milk','has_cocoa','has_palm',\n",
    "               'has_water', 'has_garlic','has_flour' ,'has_ginger','has_honey','is_plant','is_bev',\n",
    "                 'is_sugar','is_salt','is_frozen','is_break','is_dairy','is_fresh','text_count','intercept']"
   ]
  },
  {
   "cell_type": "code",
   "execution_count": 110,
   "metadata": {
    "collapsed": false
   },
   "outputs": [
    {
     "name": "stdout",
     "output_type": "stream",
     "text": [
      "Optimization terminated successfully.\n",
      "         Current function value: 0.264431\n",
      "         Iterations 8\n"
     ]
    },
    {
     "data": {
      "text/html": [
       "<table class=\"simpletable\">\n",
       "<caption>Logit Regression Results</caption>\n",
       "<tr>\n",
       "  <th>Dep. Variable:</th>     <td>high_add</td>     <th>  No. Observations:  </th>  <td> 43586</td> \n",
       "</tr>\n",
       "<tr>\n",
       "  <th>Model:</th>               <td>Logit</td>      <th>  Df Residuals:      </th>  <td> 43566</td> \n",
       "</tr>\n",
       "<tr>\n",
       "  <th>Method:</th>               <td>MLE</td>       <th>  Df Model:          </th>  <td>    19</td> \n",
       "</tr>\n",
       "<tr>\n",
       "  <th>Date:</th>          <td>Wed, 07 Dec 2016</td> <th>  Pseudo R-squ.:     </th>  <td>0.2783</td> \n",
       "</tr>\n",
       "<tr>\n",
       "  <th>Time:</th>              <td>00:24:39</td>     <th>  Log-Likelihood:    </th> <td> -11526.</td>\n",
       "</tr>\n",
       "<tr>\n",
       "  <th>converged:</th>           <td>True</td>       <th>  LL-Null:           </th> <td> -15970.</td>\n",
       "</tr>\n",
       "<tr>\n",
       "  <th> </th>                      <td> </td>        <th>  LLR p-value:       </th>  <td> 0.000</td> \n",
       "</tr>\n",
       "</table>\n",
       "<table class=\"simpletable\">\n",
       "<tr>\n",
       "       <td></td>         <th>coef</th>     <th>std err</th>      <th>z</th>      <th>P>|z|</th> <th>[95.0% Conf. Int.]</th> \n",
       "</tr>\n",
       "<tr>\n",
       "  <th>has_wheat</th>  <td>    0.0889</td> <td>    0.042</td> <td>    2.120</td> <td> 0.034</td> <td>    0.007     0.171</td>\n",
       "</tr>\n",
       "<tr>\n",
       "  <th>has_choco</th>  <td>    0.2772</td> <td>    0.287</td> <td>    0.966</td> <td> 0.334</td> <td>   -0.285     0.840</td>\n",
       "</tr>\n",
       "<tr>\n",
       "  <th>has_milk</th>   <td>    0.3670</td> <td>    0.115</td> <td>    3.186</td> <td> 0.001</td> <td>    0.141     0.593</td>\n",
       "</tr>\n",
       "<tr>\n",
       "  <th>has_cocoa</th>  <td>   -1.1475</td> <td>    0.385</td> <td>   -2.977</td> <td> 0.003</td> <td>   -1.903    -0.392</td>\n",
       "</tr>\n",
       "<tr>\n",
       "  <th>has_palm</th>   <td>    0.7215</td> <td>    0.301</td> <td>    2.399</td> <td> 0.016</td> <td>    0.132     1.311</td>\n",
       "</tr>\n",
       "<tr>\n",
       "  <th>has_water</th>  <td>    0.2985</td> <td>    0.132</td> <td>    2.267</td> <td> 0.023</td> <td>    0.040     0.557</td>\n",
       "</tr>\n",
       "<tr>\n",
       "  <th>has_garlic</th> <td>   -1.1382</td> <td>    0.295</td> <td>   -3.852</td> <td> 0.000</td> <td>   -1.717    -0.559</td>\n",
       "</tr>\n",
       "<tr>\n",
       "  <th>has_flour</th>  <td>   -0.4492</td> <td>    0.186</td> <td>   -2.418</td> <td> 0.016</td> <td>   -0.813    -0.085</td>\n",
       "</tr>\n",
       "<tr>\n",
       "  <th>has_ginger</th> <td>   -0.8648</td> <td>    0.415</td> <td>   -2.085</td> <td> 0.037</td> <td>   -1.678    -0.052</td>\n",
       "</tr>\n",
       "<tr>\n",
       "  <th>has_honey</th>  <td>   -1.3889</td> <td>    0.640</td> <td>   -2.169</td> <td> 0.030</td> <td>   -2.644    -0.134</td>\n",
       "</tr>\n",
       "<tr>\n",
       "  <th>is_plant</th>   <td>   -1.1202</td> <td>    0.065</td> <td>  -17.149</td> <td> 0.000</td> <td>   -1.248    -0.992</td>\n",
       "</tr>\n",
       "<tr>\n",
       "  <th>is_bev</th>     <td>    0.5885</td> <td>    0.066</td> <td>    8.920</td> <td> 0.000</td> <td>    0.459     0.718</td>\n",
       "</tr>\n",
       "<tr>\n",
       "  <th>is_sugar</th>   <td>    0.5179</td> <td>    0.049</td> <td>   10.583</td> <td> 0.000</td> <td>    0.422     0.614</td>\n",
       "</tr>\n",
       "<tr>\n",
       "  <th>is_salt</th>    <td>   -0.1401</td> <td>    0.112</td> <td>   -1.251</td> <td> 0.211</td> <td>   -0.360     0.079</td>\n",
       "</tr>\n",
       "<tr>\n",
       "  <th>is_frozen</th>  <td>   -1.7922</td> <td>    0.125</td> <td>  -14.389</td> <td> 0.000</td> <td>   -2.036    -1.548</td>\n",
       "</tr>\n",
       "<tr>\n",
       "  <th>is_break</th>   <td>   -0.0297</td> <td>    0.162</td> <td>   -0.183</td> <td> 0.855</td> <td>   -0.348     0.288</td>\n",
       "</tr>\n",
       "<tr>\n",
       "  <th>is_dairy</th>   <td>    0.1234</td> <td>    0.078</td> <td>    1.581</td> <td> 0.114</td> <td>   -0.030     0.276</td>\n",
       "</tr>\n",
       "<tr>\n",
       "  <th>is_fresh</th>   <td>    0.1173</td> <td>    0.071</td> <td>    1.656</td> <td> 0.098</td> <td>   -0.022     0.256</td>\n",
       "</tr>\n",
       "<tr>\n",
       "  <th>text_count</th> <td>    0.1339</td> <td>    0.002</td> <td>   63.268</td> <td> 0.000</td> <td>    0.130     0.138</td>\n",
       "</tr>\n",
       "<tr>\n",
       "  <th>intercept</th>  <td>   -3.8006</td> <td>    0.042</td> <td>  -90.191</td> <td> 0.000</td> <td>   -3.883    -3.718</td>\n",
       "</tr>\n",
       "</table>"
      ],
      "text/plain": [
       "<class 'statsmodels.iolib.summary.Summary'>\n",
       "\"\"\"\n",
       "                           Logit Regression Results                           \n",
       "==============================================================================\n",
       "Dep. Variable:               high_add   No. Observations:                43586\n",
       "Model:                          Logit   Df Residuals:                    43566\n",
       "Method:                           MLE   Df Model:                           19\n",
       "Date:                Wed, 07 Dec 2016   Pseudo R-squ.:                  0.2783\n",
       "Time:                        00:24:39   Log-Likelihood:                -11526.\n",
       "converged:                       True   LL-Null:                       -15970.\n",
       "                                        LLR p-value:                     0.000\n",
       "==============================================================================\n",
       "                 coef    std err          z      P>|z|      [95.0% Conf. Int.]\n",
       "------------------------------------------------------------------------------\n",
       "has_wheat      0.0889      0.042      2.120      0.034         0.007     0.171\n",
       "has_choco      0.2772      0.287      0.966      0.334        -0.285     0.840\n",
       "has_milk       0.3670      0.115      3.186      0.001         0.141     0.593\n",
       "has_cocoa     -1.1475      0.385     -2.977      0.003        -1.903    -0.392\n",
       "has_palm       0.7215      0.301      2.399      0.016         0.132     1.311\n",
       "has_water      0.2985      0.132      2.267      0.023         0.040     0.557\n",
       "has_garlic    -1.1382      0.295     -3.852      0.000        -1.717    -0.559\n",
       "has_flour     -0.4492      0.186     -2.418      0.016        -0.813    -0.085\n",
       "has_ginger    -0.8648      0.415     -2.085      0.037        -1.678    -0.052\n",
       "has_honey     -1.3889      0.640     -2.169      0.030        -2.644    -0.134\n",
       "is_plant      -1.1202      0.065    -17.149      0.000        -1.248    -0.992\n",
       "is_bev         0.5885      0.066      8.920      0.000         0.459     0.718\n",
       "is_sugar       0.5179      0.049     10.583      0.000         0.422     0.614\n",
       "is_salt       -0.1401      0.112     -1.251      0.211        -0.360     0.079\n",
       "is_frozen     -1.7922      0.125    -14.389      0.000        -2.036    -1.548\n",
       "is_break      -0.0297      0.162     -0.183      0.855        -0.348     0.288\n",
       "is_dairy       0.1234      0.078      1.581      0.114        -0.030     0.276\n",
       "is_fresh       0.1173      0.071      1.656      0.098        -0.022     0.256\n",
       "text_count     0.1339      0.002     63.268      0.000         0.130     0.138\n",
       "intercept     -3.8006      0.042    -90.191      0.000        -3.883    -3.718\n",
       "==============================================================================\n",
       "\"\"\""
      ]
     },
     "execution_count": 110,
     "metadata": {},
     "output_type": "execute_result"
    }
   ],
   "source": [
    "logit_train2 = sm.Logit(train['high_add'], train[train_cols_main])\n",
    "\n",
    "# fit the model\n",
    "result_train2 = logit_train2.fit()\n",
    "result_train2.summary()"
   ]
  },
  {
   "cell_type": "markdown",
   "metadata": {},
   "source": [
    "There are still some variables which has p values > 0.05. We shall remove them . "
   ]
  },
  {
   "cell_type": "markdown",
   "metadata": {},
   "source": [
    "Removing 'has_choco' to see the impact "
   ]
  },
  {
   "cell_type": "code",
   "execution_count": 111,
   "metadata": {
    "collapsed": true
   },
   "outputs": [],
   "source": [
    "train_cols_main = [ 'has_wheat' ,'has_milk','has_cocoa','has_palm',\n",
    "               'has_water', 'has_garlic','has_flour' ,'has_ginger','has_honey','is_plant','is_bev',\n",
    "                 'is_sugar','is_salt','is_frozen','is_break','is_dairy','is_fresh','text_count','intercept']"
   ]
  },
  {
   "cell_type": "code",
   "execution_count": 112,
   "metadata": {
    "collapsed": false
   },
   "outputs": [
    {
     "name": "stdout",
     "output_type": "stream",
     "text": [
      "Optimization terminated successfully.\n",
      "         Current function value: 0.264442\n",
      "         Iterations 8\n"
     ]
    },
    {
     "data": {
      "text/html": [
       "<table class=\"simpletable\">\n",
       "<caption>Logit Regression Results</caption>\n",
       "<tr>\n",
       "  <th>Dep. Variable:</th>     <td>high_add</td>     <th>  No. Observations:  </th>  <td> 43586</td> \n",
       "</tr>\n",
       "<tr>\n",
       "  <th>Model:</th>               <td>Logit</td>      <th>  Df Residuals:      </th>  <td> 43567</td> \n",
       "</tr>\n",
       "<tr>\n",
       "  <th>Method:</th>               <td>MLE</td>       <th>  Df Model:          </th>  <td>    18</td> \n",
       "</tr>\n",
       "<tr>\n",
       "  <th>Date:</th>          <td>Wed, 07 Dec 2016</td> <th>  Pseudo R-squ.:     </th>  <td>0.2783</td> \n",
       "</tr>\n",
       "<tr>\n",
       "  <th>Time:</th>              <td>00:29:10</td>     <th>  Log-Likelihood:    </th> <td> -11526.</td>\n",
       "</tr>\n",
       "<tr>\n",
       "  <th>converged:</th>           <td>True</td>       <th>  LL-Null:           </th> <td> -15970.</td>\n",
       "</tr>\n",
       "<tr>\n",
       "  <th> </th>                      <td> </td>        <th>  LLR p-value:       </th>  <td> 0.000</td> \n",
       "</tr>\n",
       "</table>\n",
       "<table class=\"simpletable\">\n",
       "<tr>\n",
       "       <td></td>         <th>coef</th>     <th>std err</th>      <th>z</th>      <th>P>|z|</th> <th>[95.0% Conf. Int.]</th> \n",
       "</tr>\n",
       "<tr>\n",
       "  <th>has_wheat</th>  <td>    0.0892</td> <td>    0.042</td> <td>    2.128</td> <td> 0.033</td> <td>    0.007     0.171</td>\n",
       "</tr>\n",
       "<tr>\n",
       "  <th>has_milk</th>   <td>    0.3775</td> <td>    0.115</td> <td>    3.294</td> <td> 0.001</td> <td>    0.153     0.602</td>\n",
       "</tr>\n",
       "<tr>\n",
       "  <th>has_cocoa</th>  <td>   -0.9471</td> <td>    0.320</td> <td>   -2.962</td> <td> 0.003</td> <td>   -1.574    -0.320</td>\n",
       "</tr>\n",
       "<tr>\n",
       "  <th>has_palm</th>   <td>    0.7269</td> <td>    0.301</td> <td>    2.418</td> <td> 0.016</td> <td>    0.138     1.316</td>\n",
       "</tr>\n",
       "<tr>\n",
       "  <th>has_water</th>  <td>    0.3049</td> <td>    0.131</td> <td>    2.324</td> <td> 0.020</td> <td>    0.048     0.562</td>\n",
       "</tr>\n",
       "<tr>\n",
       "  <th>has_garlic</th> <td>   -1.1462</td> <td>    0.295</td> <td>   -3.879</td> <td> 0.000</td> <td>   -1.725    -0.567</td>\n",
       "</tr>\n",
       "<tr>\n",
       "  <th>has_flour</th>  <td>   -0.4409</td> <td>    0.185</td> <td>   -2.380</td> <td> 0.017</td> <td>   -0.804    -0.078</td>\n",
       "</tr>\n",
       "<tr>\n",
       "  <th>has_ginger</th> <td>   -0.8769</td> <td>    0.415</td> <td>   -2.111</td> <td> 0.035</td> <td>   -1.691    -0.063</td>\n",
       "</tr>\n",
       "<tr>\n",
       "  <th>has_honey</th>  <td>   -1.3513</td> <td>    0.637</td> <td>   -2.122</td> <td> 0.034</td> <td>   -2.599    -0.103</td>\n",
       "</tr>\n",
       "<tr>\n",
       "  <th>is_plant</th>   <td>   -1.1208</td> <td>    0.065</td> <td>  -17.155</td> <td> 0.000</td> <td>   -1.249    -0.993</td>\n",
       "</tr>\n",
       "<tr>\n",
       "  <th>is_bev</th>     <td>    0.5885</td> <td>    0.066</td> <td>    8.920</td> <td> 0.000</td> <td>    0.459     0.718</td>\n",
       "</tr>\n",
       "<tr>\n",
       "  <th>is_sugar</th>   <td>    0.5198</td> <td>    0.049</td> <td>   10.633</td> <td> 0.000</td> <td>    0.424     0.616</td>\n",
       "</tr>\n",
       "<tr>\n",
       "  <th>is_salt</th>    <td>   -0.1408</td> <td>    0.112</td> <td>   -1.257</td> <td> 0.209</td> <td>   -0.360     0.079</td>\n",
       "</tr>\n",
       "<tr>\n",
       "  <th>is_frozen</th>  <td>   -1.7936</td> <td>    0.125</td> <td>  -14.400</td> <td> 0.000</td> <td>   -2.038    -1.549</td>\n",
       "</tr>\n",
       "<tr>\n",
       "  <th>is_break</th>   <td>   -0.0309</td> <td>    0.162</td> <td>   -0.191</td> <td> 0.849</td> <td>   -0.349     0.287</td>\n",
       "</tr>\n",
       "<tr>\n",
       "  <th>is_dairy</th>   <td>    0.1230</td> <td>    0.078</td> <td>    1.577</td> <td> 0.115</td> <td>   -0.030     0.276</td>\n",
       "</tr>\n",
       "<tr>\n",
       "  <th>is_fresh</th>   <td>    0.1178</td> <td>    0.071</td> <td>    1.663</td> <td> 0.096</td> <td>   -0.021     0.257</td>\n",
       "</tr>\n",
       "<tr>\n",
       "  <th>text_count</th> <td>    0.1339</td> <td>    0.002</td> <td>   63.297</td> <td> 0.000</td> <td>    0.130     0.138</td>\n",
       "</tr>\n",
       "<tr>\n",
       "  <th>intercept</th>  <td>   -3.8013</td> <td>    0.042</td> <td>  -90.208</td> <td> 0.000</td> <td>   -3.884    -3.719</td>\n",
       "</tr>\n",
       "</table>"
      ],
      "text/plain": [
       "<class 'statsmodels.iolib.summary.Summary'>\n",
       "\"\"\"\n",
       "                           Logit Regression Results                           \n",
       "==============================================================================\n",
       "Dep. Variable:               high_add   No. Observations:                43586\n",
       "Model:                          Logit   Df Residuals:                    43567\n",
       "Method:                           MLE   Df Model:                           18\n",
       "Date:                Wed, 07 Dec 2016   Pseudo R-squ.:                  0.2783\n",
       "Time:                        00:29:10   Log-Likelihood:                -11526.\n",
       "converged:                       True   LL-Null:                       -15970.\n",
       "                                        LLR p-value:                     0.000\n",
       "==============================================================================\n",
       "                 coef    std err          z      P>|z|      [95.0% Conf. Int.]\n",
       "------------------------------------------------------------------------------\n",
       "has_wheat      0.0892      0.042      2.128      0.033         0.007     0.171\n",
       "has_milk       0.3775      0.115      3.294      0.001         0.153     0.602\n",
       "has_cocoa     -0.9471      0.320     -2.962      0.003        -1.574    -0.320\n",
       "has_palm       0.7269      0.301      2.418      0.016         0.138     1.316\n",
       "has_water      0.3049      0.131      2.324      0.020         0.048     0.562\n",
       "has_garlic    -1.1462      0.295     -3.879      0.000        -1.725    -0.567\n",
       "has_flour     -0.4409      0.185     -2.380      0.017        -0.804    -0.078\n",
       "has_ginger    -0.8769      0.415     -2.111      0.035        -1.691    -0.063\n",
       "has_honey     -1.3513      0.637     -2.122      0.034        -2.599    -0.103\n",
       "is_plant      -1.1208      0.065    -17.155      0.000        -1.249    -0.993\n",
       "is_bev         0.5885      0.066      8.920      0.000         0.459     0.718\n",
       "is_sugar       0.5198      0.049     10.633      0.000         0.424     0.616\n",
       "is_salt       -0.1408      0.112     -1.257      0.209        -0.360     0.079\n",
       "is_frozen     -1.7936      0.125    -14.400      0.000        -2.038    -1.549\n",
       "is_break      -0.0309      0.162     -0.191      0.849        -0.349     0.287\n",
       "is_dairy       0.1230      0.078      1.577      0.115        -0.030     0.276\n",
       "is_fresh       0.1178      0.071      1.663      0.096        -0.021     0.257\n",
       "text_count     0.1339      0.002     63.297      0.000         0.130     0.138\n",
       "intercept     -3.8013      0.042    -90.208      0.000        -3.884    -3.719\n",
       "==============================================================================\n",
       "\"\"\""
      ]
     },
     "execution_count": 112,
     "metadata": {},
     "output_type": "execute_result"
    }
   ],
   "source": [
    "logit_train3 = sm.Logit(train['high_add'], train[train_cols_main])\n",
    "\n",
    "# fit the model\n",
    "result_train3 = logit_train3.fit()\n",
    "result_train3.summary()"
   ]
  },
  {
   "cell_type": "markdown",
   "metadata": {},
   "source": [
    "Now removing the variables for Food Categories . Removing 'is_salt' ( Salty Snacks) from the model ."
   ]
  },
  {
   "cell_type": "code",
   "execution_count": 113,
   "metadata": {
    "collapsed": false
   },
   "outputs": [
    {
     "name": "stdout",
     "output_type": "stream",
     "text": [
      "Optimization terminated successfully.\n",
      "         Current function value: 0.264461\n",
      "         Iterations 8\n"
     ]
    },
    {
     "data": {
      "text/html": [
       "<table class=\"simpletable\">\n",
       "<caption>Logit Regression Results</caption>\n",
       "<tr>\n",
       "  <th>Dep. Variable:</th>     <td>high_add</td>     <th>  No. Observations:  </th>  <td> 43586</td> \n",
       "</tr>\n",
       "<tr>\n",
       "  <th>Model:</th>               <td>Logit</td>      <th>  Df Residuals:      </th>  <td> 43568</td> \n",
       "</tr>\n",
       "<tr>\n",
       "  <th>Method:</th>               <td>MLE</td>       <th>  Df Model:          </th>  <td>    17</td> \n",
       "</tr>\n",
       "<tr>\n",
       "  <th>Date:</th>          <td>Wed, 07 Dec 2016</td> <th>  Pseudo R-squ.:     </th>  <td>0.2782</td> \n",
       "</tr>\n",
       "<tr>\n",
       "  <th>Time:</th>              <td>00:33:48</td>     <th>  Log-Likelihood:    </th> <td> -11527.</td>\n",
       "</tr>\n",
       "<tr>\n",
       "  <th>converged:</th>           <td>True</td>       <th>  LL-Null:           </th> <td> -15970.</td>\n",
       "</tr>\n",
       "<tr>\n",
       "  <th> </th>                      <td> </td>        <th>  LLR p-value:       </th>  <td> 0.000</td> \n",
       "</tr>\n",
       "</table>\n",
       "<table class=\"simpletable\">\n",
       "<tr>\n",
       "       <td></td>         <th>coef</th>     <th>std err</th>      <th>z</th>      <th>P>|z|</th> <th>[95.0% Conf. Int.]</th> \n",
       "</tr>\n",
       "<tr>\n",
       "  <th>has_wheat</th>  <td>    0.0832</td> <td>    0.042</td> <td>    1.997</td> <td> 0.046</td> <td>    0.002     0.165</td>\n",
       "</tr>\n",
       "<tr>\n",
       "  <th>has_milk</th>   <td>    0.3777</td> <td>    0.115</td> <td>    3.296</td> <td> 0.001</td> <td>    0.153     0.602</td>\n",
       "</tr>\n",
       "<tr>\n",
       "  <th>has_cocoa</th>  <td>   -0.9445</td> <td>    0.320</td> <td>   -2.954</td> <td> 0.003</td> <td>   -1.571    -0.318</td>\n",
       "</tr>\n",
       "<tr>\n",
       "  <th>has_palm</th>   <td>    0.7250</td> <td>    0.300</td> <td>    2.416</td> <td> 0.016</td> <td>    0.137     1.313</td>\n",
       "</tr>\n",
       "<tr>\n",
       "  <th>has_water</th>  <td>    0.3081</td> <td>    0.131</td> <td>    2.348</td> <td> 0.019</td> <td>    0.051     0.565</td>\n",
       "</tr>\n",
       "<tr>\n",
       "  <th>has_garlic</th> <td>   -1.1495</td> <td>    0.296</td> <td>   -3.887</td> <td> 0.000</td> <td>   -1.729    -0.570</td>\n",
       "</tr>\n",
       "<tr>\n",
       "  <th>has_flour</th>  <td>   -0.4427</td> <td>    0.185</td> <td>   -2.393</td> <td> 0.017</td> <td>   -0.805    -0.080</td>\n",
       "</tr>\n",
       "<tr>\n",
       "  <th>has_ginger</th> <td>   -0.8684</td> <td>    0.415</td> <td>   -2.093</td> <td> 0.036</td> <td>   -1.682    -0.055</td>\n",
       "</tr>\n",
       "<tr>\n",
       "  <th>has_honey</th>  <td>   -1.3501</td> <td>    0.637</td> <td>   -2.120</td> <td> 0.034</td> <td>   -2.598    -0.102</td>\n",
       "</tr>\n",
       "<tr>\n",
       "  <th>is_plant</th>   <td>   -1.1119</td> <td>    0.065</td> <td>  -17.113</td> <td> 0.000</td> <td>   -1.239    -0.985</td>\n",
       "</tr>\n",
       "<tr>\n",
       "  <th>is_bev</th>     <td>    0.5961</td> <td>    0.066</td> <td>    9.069</td> <td> 0.000</td> <td>    0.467     0.725</td>\n",
       "</tr>\n",
       "<tr>\n",
       "  <th>is_sugar</th>   <td>    0.5288</td> <td>    0.048</td> <td>   10.928</td> <td> 0.000</td> <td>    0.434     0.624</td>\n",
       "</tr>\n",
       "<tr>\n",
       "  <th>is_frozen</th>  <td>   -1.7859</td> <td>    0.124</td> <td>  -14.350</td> <td> 0.000</td> <td>   -2.030    -1.542</td>\n",
       "</tr>\n",
       "<tr>\n",
       "  <th>is_break</th>   <td>   -0.0221</td> <td>    0.162</td> <td>   -0.137</td> <td> 0.891</td> <td>   -0.340     0.295</td>\n",
       "</tr>\n",
       "<tr>\n",
       "  <th>is_dairy</th>   <td>    0.1304</td> <td>    0.078</td> <td>    1.675</td> <td> 0.094</td> <td>   -0.022     0.283</td>\n",
       "</tr>\n",
       "<tr>\n",
       "  <th>is_fresh</th>   <td>    0.1256</td> <td>    0.071</td> <td>    1.780</td> <td> 0.075</td> <td>   -0.013     0.264</td>\n",
       "</tr>\n",
       "<tr>\n",
       "  <th>text_count</th> <td>    0.1341</td> <td>    0.002</td> <td>   63.522</td> <td> 0.000</td> <td>    0.130     0.138</td>\n",
       "</tr>\n",
       "<tr>\n",
       "  <th>intercept</th>  <td>   -3.8101</td> <td>    0.042</td> <td>  -91.562</td> <td> 0.000</td> <td>   -3.892    -3.729</td>\n",
       "</tr>\n",
       "</table>"
      ],
      "text/plain": [
       "<class 'statsmodels.iolib.summary.Summary'>\n",
       "\"\"\"\n",
       "                           Logit Regression Results                           \n",
       "==============================================================================\n",
       "Dep. Variable:               high_add   No. Observations:                43586\n",
       "Model:                          Logit   Df Residuals:                    43568\n",
       "Method:                           MLE   Df Model:                           17\n",
       "Date:                Wed, 07 Dec 2016   Pseudo R-squ.:                  0.2782\n",
       "Time:                        00:33:48   Log-Likelihood:                -11527.\n",
       "converged:                       True   LL-Null:                       -15970.\n",
       "                                        LLR p-value:                     0.000\n",
       "==============================================================================\n",
       "                 coef    std err          z      P>|z|      [95.0% Conf. Int.]\n",
       "------------------------------------------------------------------------------\n",
       "has_wheat      0.0832      0.042      1.997      0.046         0.002     0.165\n",
       "has_milk       0.3777      0.115      3.296      0.001         0.153     0.602\n",
       "has_cocoa     -0.9445      0.320     -2.954      0.003        -1.571    -0.318\n",
       "has_palm       0.7250      0.300      2.416      0.016         0.137     1.313\n",
       "has_water      0.3081      0.131      2.348      0.019         0.051     0.565\n",
       "has_garlic    -1.1495      0.296     -3.887      0.000        -1.729    -0.570\n",
       "has_flour     -0.4427      0.185     -2.393      0.017        -0.805    -0.080\n",
       "has_ginger    -0.8684      0.415     -2.093      0.036        -1.682    -0.055\n",
       "has_honey     -1.3501      0.637     -2.120      0.034        -2.598    -0.102\n",
       "is_plant      -1.1119      0.065    -17.113      0.000        -1.239    -0.985\n",
       "is_bev         0.5961      0.066      9.069      0.000         0.467     0.725\n",
       "is_sugar       0.5288      0.048     10.928      0.000         0.434     0.624\n",
       "is_frozen     -1.7859      0.124    -14.350      0.000        -2.030    -1.542\n",
       "is_break      -0.0221      0.162     -0.137      0.891        -0.340     0.295\n",
       "is_dairy       0.1304      0.078      1.675      0.094        -0.022     0.283\n",
       "is_fresh       0.1256      0.071      1.780      0.075        -0.013     0.264\n",
       "text_count     0.1341      0.002     63.522      0.000         0.130     0.138\n",
       "intercept     -3.8101      0.042    -91.562      0.000        -3.892    -3.729\n",
       "==============================================================================\n",
       "\"\"\""
      ]
     },
     "execution_count": 113,
     "metadata": {},
     "output_type": "execute_result"
    }
   ],
   "source": [
    "train_cols_main = [ 'has_wheat' ,'has_milk','has_cocoa','has_palm',\n",
    "               'has_water', 'has_garlic','has_flour' ,'has_ginger','has_honey','is_plant','is_bev',\n",
    "                 'is_sugar','is_frozen','is_break','is_dairy','is_fresh','text_count','intercept']\n",
    "\n",
    "\n",
    "logit_train4 = sm.Logit(train['high_add'], train[train_cols_main])\n",
    "\n",
    "# fit the model\n",
    "result_train4 = logit_train4.fit()\n",
    "result_train4.summary()"
   ]
  },
  {
   "cell_type": "markdown",
   "metadata": {},
   "source": [
    "Removing 'is_break' (Breakfast items) from the model . "
   ]
  },
  {
   "cell_type": "code",
   "execution_count": 114,
   "metadata": {
    "collapsed": false
   },
   "outputs": [
    {
     "name": "stdout",
     "output_type": "stream",
     "text": [
      "Optimization terminated successfully.\n",
      "         Current function value: 0.264461\n",
      "         Iterations 8\n"
     ]
    },
    {
     "data": {
      "text/html": [
       "<table class=\"simpletable\">\n",
       "<caption>Logit Regression Results</caption>\n",
       "<tr>\n",
       "  <th>Dep. Variable:</th>     <td>high_add</td>     <th>  No. Observations:  </th>  <td> 43586</td> \n",
       "</tr>\n",
       "<tr>\n",
       "  <th>Model:</th>               <td>Logit</td>      <th>  Df Residuals:      </th>  <td> 43569</td> \n",
       "</tr>\n",
       "<tr>\n",
       "  <th>Method:</th>               <td>MLE</td>       <th>  Df Model:          </th>  <td>    16</td> \n",
       "</tr>\n",
       "<tr>\n",
       "  <th>Date:</th>          <td>Wed, 07 Dec 2016</td> <th>  Pseudo R-squ.:     </th>  <td>0.2782</td> \n",
       "</tr>\n",
       "<tr>\n",
       "  <th>Time:</th>              <td>00:35:53</td>     <th>  Log-Likelihood:    </th> <td> -11527.</td>\n",
       "</tr>\n",
       "<tr>\n",
       "  <th>converged:</th>           <td>True</td>       <th>  LL-Null:           </th> <td> -15970.</td>\n",
       "</tr>\n",
       "<tr>\n",
       "  <th> </th>                      <td> </td>        <th>  LLR p-value:       </th>  <td> 0.000</td> \n",
       "</tr>\n",
       "</table>\n",
       "<table class=\"simpletable\">\n",
       "<tr>\n",
       "       <td></td>         <th>coef</th>     <th>std err</th>      <th>z</th>      <th>P>|z|</th> <th>[95.0% Conf. Int.]</th> \n",
       "</tr>\n",
       "<tr>\n",
       "  <th>has_wheat</th>  <td>    0.0830</td> <td>    0.042</td> <td>    1.994</td> <td> 0.046</td> <td>    0.001     0.165</td>\n",
       "</tr>\n",
       "<tr>\n",
       "  <th>has_milk</th>   <td>    0.3777</td> <td>    0.115</td> <td>    3.296</td> <td> 0.001</td> <td>    0.153     0.602</td>\n",
       "</tr>\n",
       "<tr>\n",
       "  <th>has_cocoa</th>  <td>   -0.9448</td> <td>    0.320</td> <td>   -2.955</td> <td> 0.003</td> <td>   -1.571    -0.318</td>\n",
       "</tr>\n",
       "<tr>\n",
       "  <th>has_palm</th>   <td>    0.7251</td> <td>    0.300</td> <td>    2.417</td> <td> 0.016</td> <td>    0.137     1.313</td>\n",
       "</tr>\n",
       "<tr>\n",
       "  <th>has_water</th>  <td>    0.3085</td> <td>    0.131</td> <td>    2.351</td> <td> 0.019</td> <td>    0.051     0.566</td>\n",
       "</tr>\n",
       "<tr>\n",
       "  <th>has_garlic</th> <td>   -1.1492</td> <td>    0.296</td> <td>   -3.886</td> <td> 0.000</td> <td>   -1.729    -0.570</td>\n",
       "</tr>\n",
       "<tr>\n",
       "  <th>has_flour</th>  <td>   -0.4429</td> <td>    0.185</td> <td>   -2.394</td> <td> 0.017</td> <td>   -0.806    -0.080</td>\n",
       "</tr>\n",
       "<tr>\n",
       "  <th>has_ginger</th> <td>   -0.8681</td> <td>    0.415</td> <td>   -2.092</td> <td> 0.036</td> <td>   -1.681    -0.055</td>\n",
       "</tr>\n",
       "<tr>\n",
       "  <th>has_honey</th>  <td>   -1.3517</td> <td>    0.637</td> <td>   -2.123</td> <td> 0.034</td> <td>   -2.599    -0.104</td>\n",
       "</tr>\n",
       "<tr>\n",
       "  <th>is_plant</th>   <td>   -1.1113</td> <td>    0.065</td> <td>  -17.138</td> <td> 0.000</td> <td>   -1.238    -0.984</td>\n",
       "</tr>\n",
       "<tr>\n",
       "  <th>is_bev</th>     <td>    0.5967</td> <td>    0.066</td> <td>    9.097</td> <td> 0.000</td> <td>    0.468     0.725</td>\n",
       "</tr>\n",
       "<tr>\n",
       "  <th>is_sugar</th>   <td>    0.5294</td> <td>    0.048</td> <td>   10.981</td> <td> 0.000</td> <td>    0.435     0.624</td>\n",
       "</tr>\n",
       "<tr>\n",
       "  <th>is_frozen</th>  <td>   -1.7855</td> <td>    0.124</td> <td>  -14.351</td> <td> 0.000</td> <td>   -2.029    -1.542</td>\n",
       "</tr>\n",
       "<tr>\n",
       "  <th>is_dairy</th>   <td>    0.1310</td> <td>    0.078</td> <td>    1.685</td> <td> 0.092</td> <td>   -0.021     0.283</td>\n",
       "</tr>\n",
       "<tr>\n",
       "  <th>is_fresh</th>   <td>    0.1262</td> <td>    0.070</td> <td>    1.790</td> <td> 0.073</td> <td>   -0.012     0.264</td>\n",
       "</tr>\n",
       "<tr>\n",
       "  <th>text_count</th> <td>    0.1341</td> <td>    0.002</td> <td>   63.576</td> <td> 0.000</td> <td>    0.130     0.138</td>\n",
       "</tr>\n",
       "<tr>\n",
       "  <th>intercept</th>  <td>   -3.8108</td> <td>    0.041</td> <td>  -92.233</td> <td> 0.000</td> <td>   -3.892    -3.730</td>\n",
       "</tr>\n",
       "</table>"
      ],
      "text/plain": [
       "<class 'statsmodels.iolib.summary.Summary'>\n",
       "\"\"\"\n",
       "                           Logit Regression Results                           \n",
       "==============================================================================\n",
       "Dep. Variable:               high_add   No. Observations:                43586\n",
       "Model:                          Logit   Df Residuals:                    43569\n",
       "Method:                           MLE   Df Model:                           16\n",
       "Date:                Wed, 07 Dec 2016   Pseudo R-squ.:                  0.2782\n",
       "Time:                        00:35:53   Log-Likelihood:                -11527.\n",
       "converged:                       True   LL-Null:                       -15970.\n",
       "                                        LLR p-value:                     0.000\n",
       "==============================================================================\n",
       "                 coef    std err          z      P>|z|      [95.0% Conf. Int.]\n",
       "------------------------------------------------------------------------------\n",
       "has_wheat      0.0830      0.042      1.994      0.046         0.001     0.165\n",
       "has_milk       0.3777      0.115      3.296      0.001         0.153     0.602\n",
       "has_cocoa     -0.9448      0.320     -2.955      0.003        -1.571    -0.318\n",
       "has_palm       0.7251      0.300      2.417      0.016         0.137     1.313\n",
       "has_water      0.3085      0.131      2.351      0.019         0.051     0.566\n",
       "has_garlic    -1.1492      0.296     -3.886      0.000        -1.729    -0.570\n",
       "has_flour     -0.4429      0.185     -2.394      0.017        -0.806    -0.080\n",
       "has_ginger    -0.8681      0.415     -2.092      0.036        -1.681    -0.055\n",
       "has_honey     -1.3517      0.637     -2.123      0.034        -2.599    -0.104\n",
       "is_plant      -1.1113      0.065    -17.138      0.000        -1.238    -0.984\n",
       "is_bev         0.5967      0.066      9.097      0.000         0.468     0.725\n",
       "is_sugar       0.5294      0.048     10.981      0.000         0.435     0.624\n",
       "is_frozen     -1.7855      0.124    -14.351      0.000        -2.029    -1.542\n",
       "is_dairy       0.1310      0.078      1.685      0.092        -0.021     0.283\n",
       "is_fresh       0.1262      0.070      1.790      0.073        -0.012     0.264\n",
       "text_count     0.1341      0.002     63.576      0.000         0.130     0.138\n",
       "intercept     -3.8108      0.041    -92.233      0.000        -3.892    -3.730\n",
       "==============================================================================\n",
       "\"\"\""
      ]
     },
     "execution_count": 114,
     "metadata": {},
     "output_type": "execute_result"
    }
   ],
   "source": [
    "train_cols_main = [ 'has_wheat' ,'has_milk','has_cocoa','has_palm',\n",
    "               'has_water', 'has_garlic','has_flour' ,'has_ginger','has_honey','is_plant','is_bev',\n",
    "                 'is_sugar','is_frozen','is_dairy','is_fresh','text_count','intercept']\n",
    "\n",
    "\n",
    "logit_train5 = sm.Logit(train['high_add'], train[train_cols_main])\n",
    "\n",
    "# fit the model\n",
    "result_train5 = logit_train5.fit()\n",
    "result_train5.summary()"
   ]
  },
  {
   "cell_type": "markdown",
   "metadata": {},
   "source": [
    "Removing 'is_dairy' from the model"
   ]
  },
  {
   "cell_type": "code",
   "execution_count": 115,
   "metadata": {
    "collapsed": false
   },
   "outputs": [
    {
     "name": "stdout",
     "output_type": "stream",
     "text": [
      "Optimization terminated successfully.\n",
      "         Current function value: 0.264493\n",
      "         Iterations 8\n"
     ]
    },
    {
     "data": {
      "text/html": [
       "<table class=\"simpletable\">\n",
       "<caption>Logit Regression Results</caption>\n",
       "<tr>\n",
       "  <th>Dep. Variable:</th>     <td>high_add</td>     <th>  No. Observations:  </th>  <td> 43586</td> \n",
       "</tr>\n",
       "<tr>\n",
       "  <th>Model:</th>               <td>Logit</td>      <th>  Df Residuals:      </th>  <td> 43570</td> \n",
       "</tr>\n",
       "<tr>\n",
       "  <th>Method:</th>               <td>MLE</td>       <th>  Df Model:          </th>  <td>    15</td> \n",
       "</tr>\n",
       "<tr>\n",
       "  <th>Date:</th>          <td>Wed, 07 Dec 2016</td> <th>  Pseudo R-squ.:     </th>  <td>0.2781</td> \n",
       "</tr>\n",
       "<tr>\n",
       "  <th>Time:</th>              <td>00:41:34</td>     <th>  Log-Likelihood:    </th> <td> -11528.</td>\n",
       "</tr>\n",
       "<tr>\n",
       "  <th>converged:</th>           <td>True</td>       <th>  LL-Null:           </th> <td> -15970.</td>\n",
       "</tr>\n",
       "<tr>\n",
       "  <th> </th>                      <td> </td>        <th>  LLR p-value:       </th>  <td> 0.000</td> \n",
       "</tr>\n",
       "</table>\n",
       "<table class=\"simpletable\">\n",
       "<tr>\n",
       "       <td></td>         <th>coef</th>     <th>std err</th>      <th>z</th>      <th>P>|z|</th> <th>[95.0% Conf. Int.]</th> \n",
       "</tr>\n",
       "<tr>\n",
       "  <th>has_wheat</th>  <td>    0.0768</td> <td>    0.041</td> <td>    1.854</td> <td> 0.064</td> <td>   -0.004     0.158</td>\n",
       "</tr>\n",
       "<tr>\n",
       "  <th>has_milk</th>   <td>    0.3853</td> <td>    0.115</td> <td>    3.359</td> <td> 0.001</td> <td>    0.160     0.610</td>\n",
       "</tr>\n",
       "<tr>\n",
       "  <th>has_cocoa</th>  <td>   -0.9457</td> <td>    0.320</td> <td>   -2.959</td> <td> 0.003</td> <td>   -1.572    -0.319</td>\n",
       "</tr>\n",
       "<tr>\n",
       "  <th>has_palm</th>   <td>    0.7200</td> <td>    0.300</td> <td>    2.402</td> <td> 0.016</td> <td>    0.132     1.308</td>\n",
       "</tr>\n",
       "<tr>\n",
       "  <th>has_water</th>  <td>    0.3044</td> <td>    0.131</td> <td>    2.323</td> <td> 0.020</td> <td>    0.048     0.561</td>\n",
       "</tr>\n",
       "<tr>\n",
       "  <th>has_garlic</th> <td>   -1.1579</td> <td>    0.295</td> <td>   -3.922</td> <td> 0.000</td> <td>   -1.737    -0.579</td>\n",
       "</tr>\n",
       "<tr>\n",
       "  <th>has_flour</th>  <td>   -0.4447</td> <td>    0.185</td> <td>   -2.405</td> <td> 0.016</td> <td>   -0.807    -0.082</td>\n",
       "</tr>\n",
       "<tr>\n",
       "  <th>has_ginger</th> <td>   -0.8644</td> <td>    0.414</td> <td>   -2.086</td> <td> 0.037</td> <td>   -1.677    -0.052</td>\n",
       "</tr>\n",
       "<tr>\n",
       "  <th>has_honey</th>  <td>   -1.3484</td> <td>    0.636</td> <td>   -2.119</td> <td> 0.034</td> <td>   -2.596    -0.101</td>\n",
       "</tr>\n",
       "<tr>\n",
       "  <th>is_plant</th>   <td>   -1.1230</td> <td>    0.064</td> <td>  -17.442</td> <td> 0.000</td> <td>   -1.249    -0.997</td>\n",
       "</tr>\n",
       "<tr>\n",
       "  <th>is_bev</th>     <td>    0.5775</td> <td>    0.065</td> <td>    8.952</td> <td> 0.000</td> <td>    0.451     0.704</td>\n",
       "</tr>\n",
       "<tr>\n",
       "  <th>is_sugar</th>   <td>    0.5170</td> <td>    0.048</td> <td>   10.869</td> <td> 0.000</td> <td>    0.424     0.610</td>\n",
       "</tr>\n",
       "<tr>\n",
       "  <th>is_frozen</th>  <td>   -1.7882</td> <td>    0.124</td> <td>  -14.389</td> <td> 0.000</td> <td>   -2.032    -1.545</td>\n",
       "</tr>\n",
       "<tr>\n",
       "  <th>is_fresh</th>   <td>    0.1138</td> <td>    0.070</td> <td>    1.626</td> <td> 0.104</td> <td>   -0.023     0.251</td>\n",
       "</tr>\n",
       "<tr>\n",
       "  <th>text_count</th> <td>    0.1337</td> <td>    0.002</td> <td>   63.955</td> <td> 0.000</td> <td>    0.130     0.138</td>\n",
       "</tr>\n",
       "<tr>\n",
       "  <th>intercept</th>  <td>   -3.7881</td> <td>    0.039</td> <td>  -97.458</td> <td> 0.000</td> <td>   -3.864    -3.712</td>\n",
       "</tr>\n",
       "</table>"
      ],
      "text/plain": [
       "<class 'statsmodels.iolib.summary.Summary'>\n",
       "\"\"\"\n",
       "                           Logit Regression Results                           \n",
       "==============================================================================\n",
       "Dep. Variable:               high_add   No. Observations:                43586\n",
       "Model:                          Logit   Df Residuals:                    43570\n",
       "Method:                           MLE   Df Model:                           15\n",
       "Date:                Wed, 07 Dec 2016   Pseudo R-squ.:                  0.2781\n",
       "Time:                        00:41:34   Log-Likelihood:                -11528.\n",
       "converged:                       True   LL-Null:                       -15970.\n",
       "                                        LLR p-value:                     0.000\n",
       "==============================================================================\n",
       "                 coef    std err          z      P>|z|      [95.0% Conf. Int.]\n",
       "------------------------------------------------------------------------------\n",
       "has_wheat      0.0768      0.041      1.854      0.064        -0.004     0.158\n",
       "has_milk       0.3853      0.115      3.359      0.001         0.160     0.610\n",
       "has_cocoa     -0.9457      0.320     -2.959      0.003        -1.572    -0.319\n",
       "has_palm       0.7200      0.300      2.402      0.016         0.132     1.308\n",
       "has_water      0.3044      0.131      2.323      0.020         0.048     0.561\n",
       "has_garlic    -1.1579      0.295     -3.922      0.000        -1.737    -0.579\n",
       "has_flour     -0.4447      0.185     -2.405      0.016        -0.807    -0.082\n",
       "has_ginger    -0.8644      0.414     -2.086      0.037        -1.677    -0.052\n",
       "has_honey     -1.3484      0.636     -2.119      0.034        -2.596    -0.101\n",
       "is_plant      -1.1230      0.064    -17.442      0.000        -1.249    -0.997\n",
       "is_bev         0.5775      0.065      8.952      0.000         0.451     0.704\n",
       "is_sugar       0.5170      0.048     10.869      0.000         0.424     0.610\n",
       "is_frozen     -1.7882      0.124    -14.389      0.000        -2.032    -1.545\n",
       "is_fresh       0.1138      0.070      1.626      0.104        -0.023     0.251\n",
       "text_count     0.1337      0.002     63.955      0.000         0.130     0.138\n",
       "intercept     -3.7881      0.039    -97.458      0.000        -3.864    -3.712\n",
       "==============================================================================\n",
       "\"\"\""
      ]
     },
     "execution_count": 115,
     "metadata": {},
     "output_type": "execute_result"
    }
   ],
   "source": [
    "train_cols_main = [ 'has_wheat' ,'has_milk','has_cocoa','has_palm',\n",
    "               'has_water', 'has_garlic','has_flour' ,'has_ginger','has_honey','is_plant','is_bev',\n",
    "                 'is_sugar','is_frozen','is_fresh','text_count','intercept']\n",
    "\n",
    "\n",
    "logit_train6 = sm.Logit(train['high_add'], train[train_cols_main])\n",
    "\n",
    "# fit the model\n",
    "result_train6 = logit_train6.fit()\n",
    "result_train6.summary()"
   ]
  },
  {
   "cell_type": "markdown",
   "metadata": {},
   "source": [
    "Model looks better.We add two more ingredients in the model to see the impact on the result. We add 'has_spice' and 'has_onion' to the list."
   ]
  },
  {
   "cell_type": "code",
   "execution_count": 117,
   "metadata": {
    "collapsed": false
   },
   "outputs": [
    {
     "name": "stdout",
     "output_type": "stream",
     "text": [
      "Optimization terminated successfully.\n",
      "         Current function value: 0.264342\n",
      "         Iterations 8\n"
     ]
    },
    {
     "data": {
      "text/html": [
       "<table class=\"simpletable\">\n",
       "<caption>Logit Regression Results</caption>\n",
       "<tr>\n",
       "  <th>Dep. Variable:</th>     <td>high_add</td>     <th>  No. Observations:  </th>  <td> 43586</td> \n",
       "</tr>\n",
       "<tr>\n",
       "  <th>Model:</th>               <td>Logit</td>      <th>  Df Residuals:      </th>  <td> 43568</td> \n",
       "</tr>\n",
       "<tr>\n",
       "  <th>Method:</th>               <td>MLE</td>       <th>  Df Model:          </th>  <td>    17</td> \n",
       "</tr>\n",
       "<tr>\n",
       "  <th>Date:</th>          <td>Wed, 07 Dec 2016</td> <th>  Pseudo R-squ.:     </th>  <td>0.2786</td> \n",
       "</tr>\n",
       "<tr>\n",
       "  <th>Time:</th>              <td>00:44:30</td>     <th>  Log-Likelihood:    </th> <td> -11522.</td>\n",
       "</tr>\n",
       "<tr>\n",
       "  <th>converged:</th>           <td>True</td>       <th>  LL-Null:           </th> <td> -15970.</td>\n",
       "</tr>\n",
       "<tr>\n",
       "  <th> </th>                      <td> </td>        <th>  LLR p-value:       </th>  <td> 0.000</td> \n",
       "</tr>\n",
       "</table>\n",
       "<table class=\"simpletable\">\n",
       "<tr>\n",
       "       <td></td>         <th>coef</th>     <th>std err</th>      <th>z</th>      <th>P>|z|</th> <th>[95.0% Conf. Int.]</th> \n",
       "</tr>\n",
       "<tr>\n",
       "  <th>has_wheat</th>  <td>    0.0763</td> <td>    0.041</td> <td>    1.842</td> <td> 0.065</td> <td>   -0.005     0.157</td>\n",
       "</tr>\n",
       "<tr>\n",
       "  <th>has_milk</th>   <td>    0.4097</td> <td>    0.115</td> <td>    3.566</td> <td> 0.000</td> <td>    0.184     0.635</td>\n",
       "</tr>\n",
       "<tr>\n",
       "  <th>has_cocoa</th>  <td>   -1.0209</td> <td>    0.322</td> <td>   -3.171</td> <td> 0.002</td> <td>   -1.652    -0.390</td>\n",
       "</tr>\n",
       "<tr>\n",
       "  <th>has_palm</th>   <td>    0.7739</td> <td>    0.296</td> <td>    2.610</td> <td> 0.009</td> <td>    0.193     1.355</td>\n",
       "</tr>\n",
       "<tr>\n",
       "  <th>has_water</th>  <td>    0.3339</td> <td>    0.131</td> <td>    2.547</td> <td> 0.011</td> <td>    0.077     0.591</td>\n",
       "</tr>\n",
       "<tr>\n",
       "  <th>has_garlic</th> <td>   -0.5027</td> <td>    0.336</td> <td>   -1.496</td> <td> 0.135</td> <td>   -1.161     0.156</td>\n",
       "</tr>\n",
       "<tr>\n",
       "  <th>has_flour</th>  <td>   -0.3686</td> <td>    0.186</td> <td>   -1.983</td> <td> 0.047</td> <td>   -0.733    -0.004</td>\n",
       "</tr>\n",
       "<tr>\n",
       "  <th>has_ginger</th> <td>   -0.7219</td> <td>    0.423</td> <td>   -1.707</td> <td> 0.088</td> <td>   -1.551     0.107</td>\n",
       "</tr>\n",
       "<tr>\n",
       "  <th>has_honey</th>  <td>   -1.3420</td> <td>    0.641</td> <td>   -2.093</td> <td> 0.036</td> <td>   -2.599    -0.085</td>\n",
       "</tr>\n",
       "<tr>\n",
       "  <th>has_spice</th>  <td>   -0.7209</td> <td>    0.343</td> <td>   -2.104</td> <td> 0.035</td> <td>   -1.393    -0.049</td>\n",
       "</tr>\n",
       "<tr>\n",
       "  <th>has_onion</th>  <td>   -0.8536</td> <td>    0.345</td> <td>   -2.476</td> <td> 0.013</td> <td>   -1.529    -0.178</td>\n",
       "</tr>\n",
       "<tr>\n",
       "  <th>is_plant</th>   <td>   -1.1244</td> <td>    0.064</td> <td>  -17.458</td> <td> 0.000</td> <td>   -1.251    -0.998</td>\n",
       "</tr>\n",
       "<tr>\n",
       "  <th>is_bev</th>     <td>    0.5757</td> <td>    0.065</td> <td>    8.922</td> <td> 0.000</td> <td>    0.449     0.702</td>\n",
       "</tr>\n",
       "<tr>\n",
       "  <th>is_sugar</th>   <td>    0.5133</td> <td>    0.048</td> <td>   10.785</td> <td> 0.000</td> <td>    0.420     0.607</td>\n",
       "</tr>\n",
       "<tr>\n",
       "  <th>is_frozen</th>  <td>   -1.7980</td> <td>    0.124</td> <td>  -14.464</td> <td> 0.000</td> <td>   -2.042    -1.554</td>\n",
       "</tr>\n",
       "<tr>\n",
       "  <th>is_fresh</th>   <td>    0.1105</td> <td>    0.070</td> <td>    1.578</td> <td> 0.115</td> <td>   -0.027     0.248</td>\n",
       "</tr>\n",
       "<tr>\n",
       "  <th>text_count</th> <td>    0.1339</td> <td>    0.002</td> <td>   64.002</td> <td> 0.000</td> <td>    0.130     0.138</td>\n",
       "</tr>\n",
       "<tr>\n",
       "  <th>intercept</th>  <td>   -3.7891</td> <td>    0.039</td> <td>  -97.425</td> <td> 0.000</td> <td>   -3.865    -3.713</td>\n",
       "</tr>\n",
       "</table>"
      ],
      "text/plain": [
       "<class 'statsmodels.iolib.summary.Summary'>\n",
       "\"\"\"\n",
       "                           Logit Regression Results                           \n",
       "==============================================================================\n",
       "Dep. Variable:               high_add   No. Observations:                43586\n",
       "Model:                          Logit   Df Residuals:                    43568\n",
       "Method:                           MLE   Df Model:                           17\n",
       "Date:                Wed, 07 Dec 2016   Pseudo R-squ.:                  0.2786\n",
       "Time:                        00:44:30   Log-Likelihood:                -11522.\n",
       "converged:                       True   LL-Null:                       -15970.\n",
       "                                        LLR p-value:                     0.000\n",
       "==============================================================================\n",
       "                 coef    std err          z      P>|z|      [95.0% Conf. Int.]\n",
       "------------------------------------------------------------------------------\n",
       "has_wheat      0.0763      0.041      1.842      0.065        -0.005     0.157\n",
       "has_milk       0.4097      0.115      3.566      0.000         0.184     0.635\n",
       "has_cocoa     -1.0209      0.322     -3.171      0.002        -1.652    -0.390\n",
       "has_palm       0.7739      0.296      2.610      0.009         0.193     1.355\n",
       "has_water      0.3339      0.131      2.547      0.011         0.077     0.591\n",
       "has_garlic    -0.5027      0.336     -1.496      0.135        -1.161     0.156\n",
       "has_flour     -0.3686      0.186     -1.983      0.047        -0.733    -0.004\n",
       "has_ginger    -0.7219      0.423     -1.707      0.088        -1.551     0.107\n",
       "has_honey     -1.3420      0.641     -2.093      0.036        -2.599    -0.085\n",
       "has_spice     -0.7209      0.343     -2.104      0.035        -1.393    -0.049\n",
       "has_onion     -0.8536      0.345     -2.476      0.013        -1.529    -0.178\n",
       "is_plant      -1.1244      0.064    -17.458      0.000        -1.251    -0.998\n",
       "is_bev         0.5757      0.065      8.922      0.000         0.449     0.702\n",
       "is_sugar       0.5133      0.048     10.785      0.000         0.420     0.607\n",
       "is_frozen     -1.7980      0.124    -14.464      0.000        -2.042    -1.554\n",
       "is_fresh       0.1105      0.070      1.578      0.115        -0.027     0.248\n",
       "text_count     0.1339      0.002     64.002      0.000         0.130     0.138\n",
       "intercept     -3.7891      0.039    -97.425      0.000        -3.865    -3.713\n",
       "==============================================================================\n",
       "\"\"\""
      ]
     },
     "execution_count": 117,
     "metadata": {},
     "output_type": "execute_result"
    }
   ],
   "source": [
    "train_cols_main = [ 'has_wheat' ,'has_milk','has_cocoa','has_palm',\n",
    "                   'has_water', 'has_garlic','has_flour' ,'has_ginger','has_honey','has_spice','has_onion',\n",
    "                   'is_plant','is_bev','is_sugar','is_frozen','is_fresh','text_count','intercept']\n",
    "\n",
    "\n",
    "logit_train7 = sm.Logit(train['high_add'], train[train_cols_main])\n",
    "\n",
    "# fit the model\n",
    "result_train7 = logit_train7.fit()\n",
    "result_train7.summary()"
   ]
  },
  {
   "cell_type": "markdown",
   "metadata": {},
   "source": [
    "Removed 'has_wheat'and 'has_garlic' from the model"
   ]
  },
  {
   "cell_type": "code",
   "execution_count": 118,
   "metadata": {
    "collapsed": false
   },
   "outputs": [
    {
     "name": "stdout",
     "output_type": "stream",
     "text": [
      "Optimization terminated successfully.\n",
      "         Current function value: 0.264410\n",
      "         Iterations 8\n"
     ]
    },
    {
     "data": {
      "text/html": [
       "<table class=\"simpletable\">\n",
       "<caption>Logit Regression Results</caption>\n",
       "<tr>\n",
       "  <th>Dep. Variable:</th>     <td>high_add</td>     <th>  No. Observations:  </th>  <td> 43586</td> \n",
       "</tr>\n",
       "<tr>\n",
       "  <th>Model:</th>               <td>Logit</td>      <th>  Df Residuals:      </th>  <td> 43570</td> \n",
       "</tr>\n",
       "<tr>\n",
       "  <th>Method:</th>               <td>MLE</td>       <th>  Df Model:          </th>  <td>    15</td> \n",
       "</tr>\n",
       "<tr>\n",
       "  <th>Date:</th>          <td>Wed, 07 Dec 2016</td> <th>  Pseudo R-squ.:     </th>  <td>0.2784</td> \n",
       "</tr>\n",
       "<tr>\n",
       "  <th>Time:</th>              <td>00:50:21</td>     <th>  Log-Likelihood:    </th> <td> -11525.</td>\n",
       "</tr>\n",
       "<tr>\n",
       "  <th>converged:</th>           <td>True</td>       <th>  LL-Null:           </th> <td> -15970.</td>\n",
       "</tr>\n",
       "<tr>\n",
       "  <th> </th>                      <td> </td>        <th>  LLR p-value:       </th>  <td> 0.000</td> \n",
       "</tr>\n",
       "</table>\n",
       "<table class=\"simpletable\">\n",
       "<tr>\n",
       "       <td></td>         <th>coef</th>     <th>std err</th>      <th>z</th>      <th>P>|z|</th> <th>[95.0% Conf. Int.]</th> \n",
       "</tr>\n",
       "<tr>\n",
       "  <th>has_milk</th>   <td>    0.3801</td> <td>    0.114</td> <td>    3.328</td> <td> 0.001</td> <td>    0.156     0.604</td>\n",
       "</tr>\n",
       "<tr>\n",
       "  <th>has_cocoa</th>  <td>   -1.0112</td> <td>    0.321</td> <td>   -3.146</td> <td> 0.002</td> <td>   -1.641    -0.381</td>\n",
       "</tr>\n",
       "<tr>\n",
       "  <th>has_palm</th>   <td>    0.7914</td> <td>    0.294</td> <td>    2.690</td> <td> 0.007</td> <td>    0.215     1.368</td>\n",
       "</tr>\n",
       "<tr>\n",
       "  <th>has_water</th>  <td>    0.3290</td> <td>    0.131</td> <td>    2.512</td> <td> 0.012</td> <td>    0.072     0.586</td>\n",
       "</tr>\n",
       "<tr>\n",
       "  <th>has_flour</th>  <td>   -0.3540</td> <td>    0.184</td> <td>   -1.923</td> <td> 0.054</td> <td>   -0.715     0.007</td>\n",
       "</tr>\n",
       "<tr>\n",
       "  <th>has_ginger</th> <td>   -0.7829</td> <td>    0.413</td> <td>   -1.893</td> <td> 0.058</td> <td>   -1.593     0.028</td>\n",
       "</tr>\n",
       "<tr>\n",
       "  <th>has_honey</th>  <td>   -1.3583</td> <td>    0.643</td> <td>   -2.113</td> <td> 0.035</td> <td>   -2.618    -0.099</td>\n",
       "</tr>\n",
       "<tr>\n",
       "  <th>has_spice</th>  <td>   -0.8226</td> <td>    0.332</td> <td>   -2.480</td> <td> 0.013</td> <td>   -1.473    -0.172</td>\n",
       "</tr>\n",
       "<tr>\n",
       "  <th>has_onion</th>  <td>   -1.0935</td> <td>    0.310</td> <td>   -3.530</td> <td> 0.000</td> <td>   -1.701    -0.486</td>\n",
       "</tr>\n",
       "<tr>\n",
       "  <th>is_plant</th>   <td>   -1.1118</td> <td>    0.064</td> <td>  -17.355</td> <td> 0.000</td> <td>   -1.237    -0.986</td>\n",
       "</tr>\n",
       "<tr>\n",
       "  <th>is_bev</th>     <td>    0.5671</td> <td>    0.064</td> <td>    8.817</td> <td> 0.000</td> <td>    0.441     0.693</td>\n",
       "</tr>\n",
       "<tr>\n",
       "  <th>is_sugar</th>   <td>    0.5282</td> <td>    0.047</td> <td>   11.240</td> <td> 0.000</td> <td>    0.436     0.620</td>\n",
       "</tr>\n",
       "<tr>\n",
       "  <th>is_frozen</th>  <td>   -1.7904</td> <td>    0.124</td> <td>  -14.384</td> <td> 0.000</td> <td>   -2.034    -1.546</td>\n",
       "</tr>\n",
       "<tr>\n",
       "  <th>is_fresh</th>   <td>    0.1116</td> <td>    0.070</td> <td>    1.595</td> <td> 0.111</td> <td>   -0.026     0.249</td>\n",
       "</tr>\n",
       "<tr>\n",
       "  <th>text_count</th> <td>    0.1356</td> <td>    0.002</td> <td>   71.085</td> <td> 0.000</td> <td>    0.132     0.139</td>\n",
       "</tr>\n",
       "<tr>\n",
       "  <th>intercept</th>  <td>   -3.7891</td> <td>    0.039</td> <td>  -97.472</td> <td> 0.000</td> <td>   -3.865    -3.713</td>\n",
       "</tr>\n",
       "</table>"
      ],
      "text/plain": [
       "<class 'statsmodels.iolib.summary.Summary'>\n",
       "\"\"\"\n",
       "                           Logit Regression Results                           \n",
       "==============================================================================\n",
       "Dep. Variable:               high_add   No. Observations:                43586\n",
       "Model:                          Logit   Df Residuals:                    43570\n",
       "Method:                           MLE   Df Model:                           15\n",
       "Date:                Wed, 07 Dec 2016   Pseudo R-squ.:                  0.2784\n",
       "Time:                        00:50:21   Log-Likelihood:                -11525.\n",
       "converged:                       True   LL-Null:                       -15970.\n",
       "                                        LLR p-value:                     0.000\n",
       "==============================================================================\n",
       "                 coef    std err          z      P>|z|      [95.0% Conf. Int.]\n",
       "------------------------------------------------------------------------------\n",
       "has_milk       0.3801      0.114      3.328      0.001         0.156     0.604\n",
       "has_cocoa     -1.0112      0.321     -3.146      0.002        -1.641    -0.381\n",
       "has_palm       0.7914      0.294      2.690      0.007         0.215     1.368\n",
       "has_water      0.3290      0.131      2.512      0.012         0.072     0.586\n",
       "has_flour     -0.3540      0.184     -1.923      0.054        -0.715     0.007\n",
       "has_ginger    -0.7829      0.413     -1.893      0.058        -1.593     0.028\n",
       "has_honey     -1.3583      0.643     -2.113      0.035        -2.618    -0.099\n",
       "has_spice     -0.8226      0.332     -2.480      0.013        -1.473    -0.172\n",
       "has_onion     -1.0935      0.310     -3.530      0.000        -1.701    -0.486\n",
       "is_plant      -1.1118      0.064    -17.355      0.000        -1.237    -0.986\n",
       "is_bev         0.5671      0.064      8.817      0.000         0.441     0.693\n",
       "is_sugar       0.5282      0.047     11.240      0.000         0.436     0.620\n",
       "is_frozen     -1.7904      0.124    -14.384      0.000        -2.034    -1.546\n",
       "is_fresh       0.1116      0.070      1.595      0.111        -0.026     0.249\n",
       "text_count     0.1356      0.002     71.085      0.000         0.132     0.139\n",
       "intercept     -3.7891      0.039    -97.472      0.000        -3.865    -3.713\n",
       "==============================================================================\n",
       "\"\"\""
      ]
     },
     "execution_count": 118,
     "metadata": {},
     "output_type": "execute_result"
    }
   ],
   "source": [
    "train_cols_main = [ 'has_milk','has_cocoa','has_palm',\n",
    "                   'has_water', 'has_flour' ,'has_ginger','has_honey','has_spice','has_onion',\n",
    "                   'is_plant','is_bev','is_sugar','is_frozen','is_fresh','text_count','intercept']\n",
    "\n",
    "\n",
    "logit_train8 = sm.Logit(train['high_add'], train[train_cols_main])\n",
    "\n",
    "# fit the model\n",
    "result_train8 = logit_train8.fit()\n",
    "result_train8.summary()"
   ]
  },
  {
   "cell_type": "code",
   "execution_count": 119,
   "metadata": {
    "collapsed": false
   },
   "outputs": [
    {
     "data": {
      "text/html": [
       "<div>\n",
       "<table border=\"1\" class=\"dataframe\">\n",
       "  <thead>\n",
       "    <tr style=\"text-align: right;\">\n",
       "      <th></th>\n",
       "      <th>0</th>\n",
       "      <th>1</th>\n",
       "    </tr>\n",
       "  </thead>\n",
       "  <tbody>\n",
       "    <tr>\n",
       "      <th>has_milk</th>\n",
       "      <td>0.156252</td>\n",
       "      <td>0.603903</td>\n",
       "    </tr>\n",
       "    <tr>\n",
       "      <th>has_cocoa</th>\n",
       "      <td>-1.641188</td>\n",
       "      <td>-0.381224</td>\n",
       "    </tr>\n",
       "    <tr>\n",
       "      <th>has_palm</th>\n",
       "      <td>0.214831</td>\n",
       "      <td>1.368023</td>\n",
       "    </tr>\n",
       "    <tr>\n",
       "      <th>has_water</th>\n",
       "      <td>0.072299</td>\n",
       "      <td>0.585782</td>\n",
       "    </tr>\n",
       "    <tr>\n",
       "      <th>has_flour</th>\n",
       "      <td>-0.714752</td>\n",
       "      <td>0.006769</td>\n",
       "    </tr>\n",
       "    <tr>\n",
       "      <th>has_ginger</th>\n",
       "      <td>-1.593261</td>\n",
       "      <td>0.027507</td>\n",
       "    </tr>\n",
       "    <tr>\n",
       "      <th>has_honey</th>\n",
       "      <td>-2.618032</td>\n",
       "      <td>-0.098661</td>\n",
       "    </tr>\n",
       "    <tr>\n",
       "      <th>has_spice</th>\n",
       "      <td>-1.472631</td>\n",
       "      <td>-0.172485</td>\n",
       "    </tr>\n",
       "    <tr>\n",
       "      <th>has_onion</th>\n",
       "      <td>-1.700538</td>\n",
       "      <td>-0.486378</td>\n",
       "    </tr>\n",
       "    <tr>\n",
       "      <th>is_plant</th>\n",
       "      <td>-1.237404</td>\n",
       "      <td>-0.986275</td>\n",
       "    </tr>\n",
       "    <tr>\n",
       "      <th>is_bev</th>\n",
       "      <td>0.441015</td>\n",
       "      <td>0.693124</td>\n",
       "    </tr>\n",
       "    <tr>\n",
       "      <th>is_sugar</th>\n",
       "      <td>0.436064</td>\n",
       "      <td>0.620263</td>\n",
       "    </tr>\n",
       "    <tr>\n",
       "      <th>is_frozen</th>\n",
       "      <td>-2.034339</td>\n",
       "      <td>-1.546434</td>\n",
       "    </tr>\n",
       "    <tr>\n",
       "      <th>is_fresh</th>\n",
       "      <td>-0.025559</td>\n",
       "      <td>0.248780</td>\n",
       "    </tr>\n",
       "    <tr>\n",
       "      <th>text_count</th>\n",
       "      <td>0.131814</td>\n",
       "      <td>0.139289</td>\n",
       "    </tr>\n",
       "    <tr>\n",
       "      <th>intercept</th>\n",
       "      <td>-3.865294</td>\n",
       "      <td>-3.712912</td>\n",
       "    </tr>\n",
       "  </tbody>\n",
       "</table>\n",
       "</div>"
      ],
      "text/plain": [
       "                   0         1\n",
       "has_milk    0.156252  0.603903\n",
       "has_cocoa  -1.641188 -0.381224\n",
       "has_palm    0.214831  1.368023\n",
       "has_water   0.072299  0.585782\n",
       "has_flour  -0.714752  0.006769\n",
       "has_ginger -1.593261  0.027507\n",
       "has_honey  -2.618032 -0.098661\n",
       "has_spice  -1.472631 -0.172485\n",
       "has_onion  -1.700538 -0.486378\n",
       "is_plant   -1.237404 -0.986275\n",
       "is_bev      0.441015  0.693124\n",
       "is_sugar    0.436064  0.620263\n",
       "is_frozen  -2.034339 -1.546434\n",
       "is_fresh   -0.025559  0.248780\n",
       "text_count  0.131814  0.139289\n",
       "intercept  -3.865294 -3.712912"
      ]
     },
     "execution_count": 119,
     "metadata": {},
     "output_type": "execute_result"
    }
   ],
   "source": [
    "result_train8.conf_int()"
   ]
  },
  {
   "cell_type": "code",
   "execution_count": 120,
   "metadata": {
    "collapsed": false
   },
   "outputs": [
    {
     "data": {
      "text/plain": [
       "has_milk      1.462397\n",
       "has_cocoa     0.363780\n",
       "has_palm      2.206543\n",
       "has_water     1.389634\n",
       "has_flour     0.701881\n",
       "has_ginger    0.457089\n",
       "has_honey     0.257086\n",
       "has_spice     0.439306\n",
       "has_onion     0.335056\n",
       "is_plant      0.328953\n",
       "is_bev        1.763093\n",
       "is_sugar      1.695815\n",
       "is_frozen     0.166896\n",
       "is_fresh      1.118077\n",
       "text_count    1.145168\n",
       "intercept     0.022616\n",
       "dtype: float64"
      ]
     },
     "execution_count": 120,
     "metadata": {},
     "output_type": "execute_result"
    }
   ],
   "source": [
    "np.exp(result_train8.params)"
   ]
  },
  {
   "cell_type": "markdown",
   "metadata": {},
   "source": [
    "Predict the Y high additive using the results from above."
   ]
  },
  {
   "cell_type": "code",
   "execution_count": 121,
   "metadata": {
    "collapsed": false
   },
   "outputs": [
    {
     "name": "stderr",
     "output_type": "stream",
     "text": [
      "/Users/vingadgil/anaconda/lib/python3.5/site-packages/ipykernel/__main__.py:2: SettingWithCopyWarning: \n",
      "A value is trying to be set on a copy of a slice from a DataFrame.\n",
      "Try using .loc[row_indexer,col_indexer] = value instead\n",
      "\n",
      "See the caveats in the documentation: http://pandas.pydata.org/pandas-docs/stable/indexing.html#indexing-view-versus-copy\n",
      "  from ipykernel import kernelapp as app\n",
      "/Users/vingadgil/anaconda/lib/python3.5/site-packages/ipykernel/__main__.py:4: SettingWithCopyWarning: \n",
      "A value is trying to be set on a copy of a slice from a DataFrame.\n",
      "Try using .loc[row_indexer,col_indexer] = value instead\n",
      "\n",
      "See the caveats in the documentation: http://pandas.pydata.org/pandas-docs/stable/indexing.html#indexing-view-versus-copy\n",
      "/Users/vingadgil/anaconda/lib/python3.5/site-packages/ipykernel/__main__.py:5: SettingWithCopyWarning: \n",
      "A value is trying to be set on a copy of a slice from a DataFrame.\n",
      "Try using .loc[row_indexer,col_indexer] = value instead\n",
      "\n",
      "See the caveats in the documentation: http://pandas.pydata.org/pandas-docs/stable/indexing.html#indexing-view-versus-copy\n"
     ]
    }
   ],
   "source": [
    "# Predict Y using the logit function.\n",
    "train['ypred'] = result_train8.predict(train[train_cols_main])\n",
    "\n",
    "train['ypred_class'] = np.where(train['ypred']>0.12, '1', '0')\n",
    "train['ypred_class'] = train['ypred_class'].astype(int)"
   ]
  },
  {
   "cell_type": "code",
   "execution_count": 122,
   "metadata": {
    "collapsed": false
   },
   "outputs": [
    {
     "name": "stdout",
     "output_type": "stream",
     "text": [
      "Confusion Matrix:\n",
      "\n",
      "Predicted      0      1  __all__\n",
      "Actual                          \n",
      "0          30988   7379    38367\n",
      "1           1140   4079     5219\n",
      "__all__    32128  11458    43586\n",
      "\n",
      "\n",
      "Overall Statistics:\n",
      "\n",
      "Accuracy: 0.804547331712\n",
      "95% CI: (0.80079281368722099, 0.80826123931384641)\n",
      "No Information Rate: ToDo\n",
      "P-Value [Acc > NIR]: 4.75537444789e-239\n",
      "Kappa: 0.388575278738\n",
      "Mcnemar's Test P-Value: ToDo\n",
      "\n",
      "\n",
      "Class Statistics:\n",
      "\n",
      "Classes                                        0          1\n",
      "Population                                 43586      43586\n",
      "P: Condition positive                      38367       5219\n",
      "N: Condition negative                       5219      38367\n",
      "Test outcome positive                      32128      11458\n",
      "Test outcome negative                      11458      32128\n",
      "TP: True Positive                          30988       4079\n",
      "TN: True Negative                           4079      30988\n",
      "FP: False Positive                          1140       7379\n",
      "FN: False Negative                          7379       1140\n",
      "TPR: (Sensitivity, hit rate, recall)    0.807673   0.781567\n",
      "TNR=SPC: (Specificity)                  0.781567   0.807673\n",
      "PPV: Pos Pred Value (Precision)         0.964517   0.355996\n",
      "NPV: Neg Pred Value                     0.355996   0.964517\n",
      "FPR: False-out                          0.218433   0.192327\n",
      "FDR: False Discovery Rate              0.0354831   0.644004\n",
      "FNR: Miss Rate                          0.192327   0.218433\n",
      "ACC: Accuracy                           0.804547   0.804547\n",
      "F1 score                                0.879155   0.489177\n",
      "MCC: Matthews correlation coefficient   0.434579   0.434579\n",
      "Informedness                            0.589241   0.589241\n",
      "Markedness                              0.320513   0.320513\n",
      "Prevalence                               0.88026    0.11974\n",
      "LR+: Positive likelihood ratio           3.69758    4.06375\n",
      "LR-: Negative likelihood ratio          0.246078   0.270447\n",
      "DOR: Diagnostic odds ratio               15.0261    15.0261\n",
      "FOR: False omission rate                0.644004  0.0354831\n"
     ]
    }
   ],
   "source": [
    "conf_mat_train = ConfusionMatrix(train['high_add'], train['ypred_class'])\n",
    "#print(\"Confusion matrix:\\n%s\" % conf_mat_train)\n",
    "\n",
    "conf_mat_train.print_stats()"
   ]
  },
  {
   "cell_type": "code",
   "execution_count": 127,
   "metadata": {
    "collapsed": false
   },
   "outputs": [
    {
     "data": {
      "text/plain": [
       "0.87332479386852524"
      ]
     },
     "execution_count": 127,
     "metadata": {},
     "output_type": "execute_result"
    }
   ],
   "source": [
    "# Create ROC curve for Training model\n",
    "false_positive_train, true_positive_train, thresholds = roc_curve(train['high_add'], train['ypred'])\n",
    "roc_auc_train = auc(false_positive_train, true_positive_train)\n",
    "roc_auc_train"
   ]
  },
  {
   "cell_type": "code",
   "execution_count": 128,
   "metadata": {
    "collapsed": false
   },
   "outputs": [
    {
     "data": {
      "image/png": "[encoded data removed]",
      "text/plain": [
       "<matplotlib.figure.Figure at 0x123463240>"
      ]
     },
     "metadata": {},
     "output_type": "display_data"
    }
   ],
   "source": [
    "conf_mat_train.plot()\n",
    "plt.show()"
   ]
  },
  {
   "cell_type": "markdown",
   "metadata": {},
   "source": [
    "### 5.4.9 Creating the Logistic Regression model for test Data"
   ]
  },
  {
   "cell_type": "code",
   "execution_count": 126,
   "metadata": {
    "collapsed": false
   },
   "outputs": [],
   "source": [
    "#logit_test = sm.Logit(test['high_add'], test[train_cols_main])\n",
    "\n",
    "# fit the model\n",
    "#result_test = logit_test.fit()\n",
    "#result_test.summary()\n",
    "\n",
    "#result_test.conf_int()\n",
    "\n",
    "#np.exp(result_test.params)"
   ]
  },
  {
   "cell_type": "code",
   "execution_count": null,
   "metadata": {
    "collapsed": false
   },
   "outputs": [],
   "source": []
  },
  {
   "cell_type": "markdown",
   "metadata": {
    "collapsed": false
   },
   "source": [
    "Predicting the Y high additive value using the Logistic model from training data."
   ]
  },
  {
   "cell_type": "code",
   "execution_count": 129,
   "metadata": {
    "collapsed": false
   },
   "outputs": [
    {
     "name": "stderr",
     "output_type": "stream",
     "text": [
      "/Users/vingadgil/anaconda/lib/python3.5/site-packages/ipykernel/__main__.py:2: SettingWithCopyWarning: \n",
      "A value is trying to be set on a copy of a slice from a DataFrame.\n",
      "Try using .loc[row_indexer,col_indexer] = value instead\n",
      "\n",
      "See the caveats in the documentation: http://pandas.pydata.org/pandas-docs/stable/indexing.html#indexing-view-versus-copy\n",
      "  from ipykernel import kernelapp as app\n",
      "/Users/vingadgil/anaconda/lib/python3.5/site-packages/ipykernel/__main__.py:4: SettingWithCopyWarning: \n",
      "A value is trying to be set on a copy of a slice from a DataFrame.\n",
      "Try using .loc[row_indexer,col_indexer] = value instead\n",
      "\n",
      "See the caveats in the documentation: http://pandas.pydata.org/pandas-docs/stable/indexing.html#indexing-view-versus-copy\n",
      "/Users/vingadgil/anaconda/lib/python3.5/site-packages/ipykernel/__main__.py:5: SettingWithCopyWarning: \n",
      "A value is trying to be set on a copy of a slice from a DataFrame.\n",
      "Try using .loc[row_indexer,col_indexer] = value instead\n",
      "\n",
      "See the caveats in the documentation: http://pandas.pydata.org/pandas-docs/stable/indexing.html#indexing-view-versus-copy\n"
     ]
    }
   ],
   "source": [
    "# Predict Y using the logit function.\n",
    "test['ypred'] = result_train8.predict(test[train_cols_main])\n",
    "\n",
    "test['ypred_class'] = np.where(test['ypred']>0.12, '1', '0')\n",
    "test['ypred_class'] = test['ypred_class'].astype(int)"
   ]
  },
  {
   "cell_type": "code",
   "execution_count": 130,
   "metadata": {
    "collapsed": false
   },
   "outputs": [
    {
     "name": "stdout",
     "output_type": "stream",
     "text": [
      "Confusion Matrix:\n",
      "\n",
      "Predicted      0     1  __all__\n",
      "Actual                         \n",
      "0          13167  3197    16364\n",
      "1            486  1830     2316\n",
      "__all__    13653  5027    18680\n",
      "\n",
      "\n",
      "Overall Statistics:\n",
      "\n",
      "Accuracy: 0.802837259101\n",
      "95% CI: (0.79705814505631356, 0.80852195348596556)\n",
      "No Information Rate: ToDo\n",
      "P-Value [Acc > NIR]: 2.62955499275e-116\n",
      "Kappa: 0.39588052831\n",
      "Mcnemar's Test P-Value: ToDo\n",
      "\n",
      "\n",
      "Class Statistics:\n",
      "\n",
      "Classes                                        0          1\n",
      "Population                                 18680      18680\n",
      "P: Condition positive                      16364       2316\n",
      "N: Condition negative                       2316      16364\n",
      "Test outcome positive                      13653       5027\n",
      "Test outcome negative                       5027      13653\n",
      "TP: True Positive                          13167       1830\n",
      "TN: True Negative                           1830      13167\n",
      "FP: False Positive                           486       3197\n",
      "FN: False Negative                          3197        486\n",
      "TPR: (Sensitivity, hit rate, recall)    0.804632   0.790155\n",
      "TNR=SPC: (Specificity)                  0.790155   0.804632\n",
      "PPV: Pos Pred Value (Precision)         0.964403   0.364034\n",
      "NPV: Neg Pred Value                     0.364034   0.964403\n",
      "FPR: False-out                          0.209845   0.195368\n",
      "FDR: False Discovery Rate              0.0355966   0.635966\n",
      "FNR: Miss Rate                          0.195368   0.209845\n",
      "ACC: Accuracy                           0.802837   0.802837\n",
      "F1 score                                0.877303   0.498434\n",
      "MCC: Matthews correlation coefficient   0.441985   0.441985\n",
      "Informedness                            0.594788   0.594788\n",
      "Markedness                              0.328438   0.328438\n",
      "Prevalence                              0.876017   0.123983\n",
      "LR+: Positive likelihood ratio           3.83442    4.04445\n",
      "LR-: Negative likelihood ratio          0.247252   0.260796\n",
      "DOR: Diagnostic odds ratio               15.5081    15.5081\n",
      "FOR: False omission rate                0.635966  0.0355966\n"
     ]
    }
   ],
   "source": [
    "conf_mat_test = ConfusionMatrix(test['high_add'], test['ypred_class'])\n",
    "#print(\"Confusion matrix:\\n%s\" % conf_mat_test)\n",
    "\n",
    "conf_mat_test.print_stats()"
   ]
  },
  {
   "cell_type": "code",
   "execution_count": 131,
   "metadata": {
    "collapsed": false
   },
   "outputs": [
    {
     "data": {
      "text/plain": [
       "0.87515608581371396"
      ]
     },
     "execution_count": 131,
     "metadata": {},
     "output_type": "execute_result"
    }
   ],
   "source": [
    "# Create ROC curve for Test model\n",
    "false_positive_test, true_positive_test, thresholds = roc_curve(test['high_add'], test['ypred'])\n",
    "roc_auc_test = auc(false_positive_test, true_positive_test)\n",
    "roc_auc_test"
   ]
  },
  {
   "cell_type": "code",
   "execution_count": 132,
   "metadata": {
    "collapsed": false
   },
   "outputs": [
    {
     "data": {
      "image/png": "[encoded data removed]",
      "text/plain": [
       "<matplotlib.figure.Figure at 0x137b6c8d0>"
      ]
     },
     "metadata": {},
     "output_type": "display_data"
    }
   ],
   "source": [
    "conf_mat_test.plot()\n",
    "plt.show()"
   ]
  },
  {
   "cell_type": "code",
   "execution_count": 133,
   "metadata": {
    "collapsed": false
   },
   "outputs": [
    {
     "data": {
      "image/png": "[encoded data removed]",
      "text/plain": [
       "<matplotlib.figure.Figure at 0x12bbc4cc0>"
      ]
     },
     "metadata": {},
     "output_type": "display_data"
    }
   ],
   "source": [
    "# Plot the actual ROC curve -\n",
    "# Plot the curve\n",
    "plt.title('Receiver Operating Characteristic')\n",
    "plt.plot(false_positive_train, true_positive_train, 'b',\n",
    "label='AUC-Training = %0.2f'% roc_auc_train)\n",
    "plt.plot(false_positive_test, true_positive_test, 'g',\n",
    "label='AUC-Test = %0.2f'% roc_auc_test)\n",
    "plt.legend(loc='lower right')\n",
    "plt.plot([0,1],[0,1],'r--')\n",
    "plt.xlim([-0.1,1.2])\n",
    "plt.ylim([-0.1,1.2])\n",
    "plt.ylabel('True Positive Rate')\n",
    "plt.xlabel('False Positive Rate')\n",
    "plt.show()"
   ]
  },
  {
   "cell_type": "markdown",
   "metadata": {
    "collapsed": true
   },
   "source": [
    "Looking at the accuracy of the training model and test model (around 80%) we can conclude that model is good fit\n",
    "and we can conclude certain ingredients / Categories or total number of ingredients do contribute for having high number of additives"
   ]
  },
  {
   "cell_type": "markdown",
   "metadata": {
    "collapsed": true
   },
   "source": [
    "Certain Observations from the Test Model -\n",
    "\n",
    "1. Frozen Foods -'is_frozen' has 0.16 times less chances of having high additives .\n",
    "2. Palm oil - Ingredients with Palm Oil has the maximum chances /probability - 2.20 times of having high additives\n",
    "3. If the Food item is a Beverage ,we also have a huge chance of additive mainly if it is Carbonated. Similarly Sugary Snacks also has more chances of high additives.\n",
    "4. Total number of ingredients also has an impact on the high additives in food. \n",
    "5. Plant based foods and Beverages has 0.32 times less chances of having high additives. So we can recommend eating more Plant based food as they are safe for consumption\n",
    "6. Food with honey has least chances after frozen food i.e. 0.25 times less chances for additives.\n",
    "\n",
    "Similair observations can be done for the remaining ingredients or Categories."
   ]
  },
  {
   "cell_type": "code",
   "execution_count": null,
   "metadata": {
    "collapsed": true
   },
   "outputs": [],
   "source": [
    "\n",
    "\n"
   ]
  }
 ],
 "metadata": {
  "kernelspec": {
   "display_name": "Python 3",
   "language": "python",
   "name": "python3"
  },
  "language_info": {
   "codemirror_mode": {
    "name": "ipython",
    "version": 3
   },
   "file_extension": ".py",
   "mimetype": "text/x-python",
   "name": "python",
   "nbconvert_exporter": "python",
   "pygments_lexer": "ipython3",
   "version": "3.5.2"
  }
 },
 "nbformat": 4,
 "nbformat_minor": 0
}
