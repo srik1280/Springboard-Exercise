{
 "cells": [
  {
   "cell_type": "markdown",
   "metadata": {},
   "source": [
    "## Food Additives in Open Food Dataset .\n",
    "  \n",
    "   #### Author - Sriprabha Kasturirangan\n",
    "   #### Mentor - Andrew Maguire\n",
    "   \n",
    "\n",
    "## Index\n",
    "\n",
    "#### 1. About the project\n",
    "#### 2. Datasource and Dataset\n",
    "#### 3. Limitations in Data\n",
    "#### 4. Data Exploration and Visualization\n",
    "#### 5. Data Model and Logistic Regression Model\n",
    "#### 6. Summary and Final findings\n"
   ]
  },
  {
   "cell_type": "markdown",
   "metadata": {},
   "source": [
    "###### 1. About the Project \n",
    "\n",
    "#### Goal -   Determine / Predict if any food item has high additives based on various predictor variables. \n",
    "     \n",
    "  Food additives are substances added to food to preserve flavor or enhance its taste and appearance. Some additives have been used for centuries; for example, preserving food by pickling (with vinegar), salting, as with bacon, preserving sweets or using sulfur dioxide as with wines. With the advent of processed foods in the second half of the twentieth century, many more additives have been introduced, of both natural and artificial origin.  Food with high amount of Additives may not be safe for consumption.  Certain Food Additive are not good for health, can be cancerous or cause Gastric Disturbance.We would like to identify such food items.\n",
    "     \n",
    "We would like to know if because of certain ingredient, chance of additives being added to food is higher. Or for a particular Category of food additives are high or does the fat content / sugar content determine if additives need to be added to food item.\n",
    "\n",
    "Idea is to build a predictive model (using Logistic Regression), which predicts if food items in the dataset has high additive. We would also identify which country has high amount of additives added to food. We shall be focusing on the data regarding Ingredients, Categories, Additives_n and Additives in general. We would also do preliminary Exploratory Analysis on the Dataset and plot certain characteristics of data. \n",
    "\n"
   ]
  },
  {
   "cell_type": "markdown",
   "metadata": {},
   "source": [
    "### 2. Datasource and Dataset\n",
    "\n",
    "A food products database - Open Food Facts is a database of food products with ingredients, allergens, nutrition facts and all the tidbits of information we can find on product labels. \n",
    "\n",
    "Open Food Facts is an Open, Collaborative and Free project with contributors from all around the world.\n",
    "\n",
    "The project started in France 4 years ago, and the database now contains data for 100,000 products from over 200\n",
    "countries. In the last year alone, we doubled the size of the database and the momentum is just accelerating even more across the planet.\n",
    "\n",
    "Countries represented in the dataset - http://world.openfoodfacts.org/countries\n",
    "\n",
    "Dataset -\n",
    "1 . Open Food Dataset - http://world.openfoodfacts.org/data . For the project we are using the CSV file \n",
    "     http://world.openfoodfacts.org/data/en.openfoodfacts.org.products.csv\n",
    "\n",
    "The file encoding is Unicode UTF-8. The character that separates fields is <tab> (tabulation).\n",
    "\n",
    "2 . Top 20 Additives used in the world - http://www.foodmatters.com/article/top-10-food-additives-to-avoid\n",
    "\n",
    "3 . Worlds Dangerous Additives used in food - http://www.shutterstock.com/pic-243048142/stock-vector-the-table-of-harmful-food-additives.html\n",
    "\n",
    "\n",
    "Open Food Facts data is used by scientists in different fields (Nutrition, Biology, Linked Open Data...). The French National Nutrition and Health Program uses Open Food Facts data to validate the formula of its nutrition quality score and nutrition grades.\n"
   ]
  },
  {
   "cell_type": "markdown",
   "metadata": {},
   "source": [
    "### 3. Limitation of Dataset \n",
    " \n",
    "The Open Food Facts database is open data published under the Open Database Licence. So data collected in the database is updated by the Contributors. Hence data for a particular country would exist only if any person has actually updated the data for the country. All the countries may not have enough of data. Plus by initial inspection , you realize , lot of food products in the database are the one either brought from Super market or store. Local food or Specialized food may not be present in the datbase. \n",
    "\n",
    "\n",
    "Anyone can use it for any purpose - commercial or non-commercial - provided the source of the data is attributed and improvements to the database are shared in a similar way.\n",
    "\n"
   ]
  },
  {
   "cell_type": "markdown",
   "metadata": {},
   "source": [
    "### 4. Exploratory Data Analysis"
   ]
  },
  {
   "cell_type": "markdown",
   "metadata": {},
   "source": [
    "The dataset was downloaded from the Open Food Database and using various pandas libraries and plotting functions, exploratory data analsysis was performed on the data. For the Data analysis we used the entire dataset which was downloaded as on 28.Nov 2016. The link to the Data Analysis iPython Notebook -\n",
    "\n",
    "https://github.com/srik1280/Springboard-Exercise/blob/master/Capstone-Project/Data%20Exploration_New.ipynb\n",
    "\n"
   ]
  },
  {
   "cell_type": "markdown",
   "metadata": {},
   "source": [
    "### 5. Data Modeling and Logistical Regression"
   ]
  },
  {
   "cell_type": "markdown",
   "metadata": {},
   "source": [
    "Dataset has a column called 'Additives_n' which identifies the number of additives added to the food item. Additives could be in form of coloring agent or presevatives or taste enhancers. We would like to predict if ingredients of the food has any impact on additives added. Hence using Additives_n we shall create a new column called -'high_add' which would be our binary target variable. \n",
    "\n",
    "Logic behind the high_add column - if additives_n > 4 then high_add = 1 else high_add = 0.\n",
    "\n",
    "Lot many factors or variables can be considered for predictor variables for additives . For e.g. Food Categories, Ingredients, Nutritional Score, No of ingredients per food item ...etc. Here we would consider only 3 factors -\n",
    "\n",
    "1. Ingredients of food - We shall consider 10-12 Top ingredients used in all food .\n",
    "     We already have a list of top 20 Additives use around the world. We shall ignore those items and consider other top 10-12 items in the list to check if they influence for the additive.\n",
    "     \n",
    "2. Food Categories - We shall consider around 8-10 Top Food Categories \n",
    "\n",
    "3. No of Ingredients in each food item.\n",
    "\n",
    "For each of these predictor variables we shall create dummy variables and then create logistical Model to predict high additives for each food.\n",
    "\n",
    "Link to the Logistical Regression model -\n",
    "\n",
    "https://github.com/srik1280/Springboard-Exercise/blob/master/Capstone-Project/Part2.ipynb"
   ]
  },
  {
   "cell_type": "markdown",
   "metadata": {},
   "source": [
    "\n",
    "\n",
    "\n",
    "    "
   ]
  },
  {
   "cell_type": "markdown",
   "metadata": {},
   "source": [
    "### 6. Summary and Findings"
   ]
  },
  {
   "cell_type": "markdown",
   "metadata": {
    "collapsed": true
   },
   "source": [
    "#### 6.1 Summary \n",
    "\n",
    "Observations based on the model developed.\n",
    "\n",
    "1. Frozen Foods -'is_frozen' has 0.16 times less chances of having high additives .\n",
    "2. Palm oil - Ingredients with Palm Oil has the maximum chances /probability - 2.20 times of having high additives\n",
    "3. If the Food item is a Beverage ,we also have a huge chance of additive mainly if it is Carbonated. Similarly Sugary Snacks also has more chances of high additives.\n",
    "4. Total number of ingredients also has an impact on the high additives in food.\n",
    "5. Plant based foods and Beverages has 0.32 times less chances of having high additives. So we can recommend eating more Plant based food as they are safe for consumption\n",
    "6. Food with honey has least chances after frozen food i.e. 0.25 times less chances for additives.\n",
    "\n",
    "Similair observations can be done for the remaining ingredients or Categories.\n",
    "\n",
    "#### 6.2 - Future Recommendations\n",
    "\n",
    "1. As we predicted the high additive based on the Ingredients, Categories and No of Ingredients, we can extend the model to check if fat content, sugar content ..etc has an effect on the accuracy / prediction . Similarly we can extend the model using all ingredients in dataset and check the effect on the high additive. \n",
    "\n",
    "2. We can also predict the column - 'nutritional_grade_fr' / 'nutritional_grade_uk' using the Ingredients / Categories / Fat Content / Vitamins...etc making a  Logistic Regression model. \n",
    "\n",
    "3. Nutritional Grade numerical values can be used to grade them as 'A' , 'B' , 'C' or 'D'. We could also use Clustering method to identify the clusters within the dataset for these grades."
   ]
  }
 ],
 "metadata": {
  "kernelspec": {
   "display_name": "Python 3",
   "language": "python",
   "name": "python3"
  },
  "language_info": {
   "codemirror_mode": {
    "name": "ipython",
    "version": 3
   },
   "file_extension": ".py",
   "mimetype": "text/x-python",
   "name": "python",
   "nbconvert_exporter": "python",
   "pygments_lexer": "ipython3",
   "version": "3.5.2"
  }
 },
 "nbformat": 4,
 "nbformat_minor": 0
}
