{
 "cells": [
  {
   "cell_type": "markdown",
   "metadata": {},
   "source": [
    "## Food Additives in Open Food Dataset .\n",
    "  \n",
    "   #### Author - Sriprabha Kasturirangan\n",
    "   #### Mentor - Andrew Maguire\n",
    "   \n",
    "\n",
    "## Index\n",
    "\n",
    "#### 1. About the project\n",
    "#### 2. Datasource and Dataset\n",
    "#### 3. Limitations in Data\n",
    "#### 4. Data Exploration and Visualization\n",
    "#### 5. Data Model and Logistic Regression Model\n",
    "#### 6. Summary and Final findings\n"
   ]
  },
  {
   "cell_type": "markdown",
   "metadata": {},
   "source": [
    "### 1. About the Project \n",
    "\n",
    "#### The goal of the project is to determine / predict if any food item has high additives based on various predictor variables. \n",
    "     Apart from high additives prediction , we shall also do Data Exploratory Analysis on the dataset to identify some key characteristics\n"
   ]
  },
  {
   "cell_type": "markdown",
   "metadata": {},
   "source": [
    "### 2. Datasource and Dataset\n",
    "\n",
    "A food products database - Open Food Facts is a database of food products with ingredients, allergens, nutrition facts and all the tidbits of information we can find on product labels. \n",
    "\n",
    "Open Food Facts is an Open, Collaborative and Free project with contributors from all around the world.\n",
    "\n",
    "The project started in France 4 years ago, and the database now contains data for 100,000 products from over 200\n",
    "countries. In the last year alone, we doubled the size of the database and the momentum is just accelerating even more across the planet.\n",
    "\n",
    "Countries represented in the dataset - http://world.openfoodfacts.org/countries\n",
    "\n",
    "Dataset -\n",
    "1 . Open Food Dataset - http://world.openfoodfacts.org/data . For the project we are using the CSV file \n",
    "     http://world.openfoodfacts.org/data/en.openfoodfacts.org.products.csv\n",
    "\n",
    "The file encoding is Unicode UTF-8. The character that separates fields is <tab> (tabulation).\n",
    "\n",
    "2 . Top 20 Additives used in the world - http://www.foodmatters.com/article/top-10-food-additives-to-avoid\n",
    "\n",
    "3 . Worlds Dangerous Additives used in food - http://www.shutterstock.com/pic-243048142/stock-vector-the-table-of-harmful-food-additives.html\n",
    "\n",
    "\n",
    "Open Food Facts data is used by scientists in different fields (Nutrition, Biology, Linked Open Data...). The French National Nutrition and Health Program uses Open Food Facts data to validate the formula of its nutrition quality score and nutrition grades.\n"
   ]
  },
  {
   "cell_type": "markdown",
   "metadata": {},
   "source": [
    "### 3. Limitation of Dataset \n",
    " \n",
    "The Open Food Facts database is open data published under the Open Database Licence. So data collected in the database is updated by the Contributors. Hence data for a particular country would exist only if any person has actually updated the data for the country. All the countries may not have enough of data. Plus by initial inspection , you realize , lot of food products in the database are the one either brought from Super market or store. Local food or Specialized food may not be present in the datbase. \n",
    "\n",
    "\n",
    "Anyone can use it for any purpose - commercial or non-commercial - provided the source of the data is attributed and improvements to the database are shared in a similar way.\n",
    "\n"
   ]
  },
  {
   "cell_type": "markdown",
   "metadata": {},
   "source": [
    "### 4. Exploratory Data Analysis"
   ]
  },
  {
   "cell_type": "markdown",
   "metadata": {},
   "source": [
    "The dataset was downloaded from the Open Food Database and using various pandas libraries and plotting functions, exploratory data analsysis was performed on the data. For the Data analysis we used the entire dataset which was downloaded as on 28.Nov 2016. The link to the Data Analysis iPython Notebook -\n",
    "\n",
    "https://github.com/srik1280/Springboard-Exercise/blob/master/Capstone-Project/Data%20Exploration_New.ipynb\n",
    "\n"
   ]
  },
  {
   "cell_type": "markdown",
   "metadata": {},
   "source": [
    "### 5. Data Modeling and Logistical Regression"
   ]
  },
  {
   "cell_type": "markdown",
   "metadata": {},
   "source": [
    "Dataset has a column called 'Additives_n' which identifies the number of additives added to the food item. Additives could be in form of coloring agent or presevatives or taste enhancers. We would like to predict if ingredients of the food has any impact on additives added. Hence using Additives_n we shall create a new column called -'high_add' which would be our binary target variable. \n",
    "\n",
    "Logic behind the high_add column - if additives_n > 4 then high_add = 1 else high_add = 0.\n",
    "\n",
    "Lot many factors or variables can be considered for predictor variables for additives . For e.g. Food Categories, Ingredients, Nutritional Score, No of ingredients per food item ...etc. Here we would consider only 3 factors -\n",
    "\n",
    "1. Ingredients of food - We shall consider 10-12 Top ingredients used in all food .\n",
    "     We already have a list of top 20 Additives use around the world. We shall ignore those items and consider other top 10-12 items in the list to check if they influence for the additive.\n",
    "     \n",
    "2. Food Categories - We shall consider around 8-10 Top Food Categories \n",
    "\n",
    "3. No of Ingredients in each food item.\n",
    "\n",
    "For each of these predictor variables we shall create dummy variables and then create logistical Model to predict high additives for each food.\n",
    "\n",
    "Link to the Logistical Regression model -\n",
    "\n",
    "https://github.com/srik1280/Springboard-Exercise/blob/master/Capstone-Project/Part2.ipynb"
   ]
  },
  {
   "cell_type": "markdown",
   "metadata": {},
   "source": [
    "\n",
    "\n",
    "\n",
    "    "
   ]
  },
  {
   "cell_type": "markdown",
   "metadata": {},
   "source": [
    "### 6. Summary and Findings"
   ]
  },
  {
   "cell_type": "code",
   "execution_count": null,
   "metadata": {
    "collapsed": true
   },
   "outputs": [],
   "source": []
  }
 ],
 "metadata": {
  "kernelspec": {
   "display_name": "Python 3",
   "language": "python",
   "name": "python3"
  },
  "language_info": {
   "codemirror_mode": {
    "name": "ipython",
    "version": 3
   },
   "file_extension": ".py",
   "mimetype": "text/x-python",
   "name": "python",
   "nbconvert_exporter": "python",
   "pygments_lexer": "ipython3",
   "version": "3.5.2"
  }
 },
 "nbformat": 4,
 "nbformat_minor": 0
}
