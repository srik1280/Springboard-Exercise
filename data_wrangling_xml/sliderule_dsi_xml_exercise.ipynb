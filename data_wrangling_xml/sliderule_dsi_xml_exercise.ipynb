{
 "cells": [
  {
   "cell_type": "markdown",
   "metadata": {},
   "source": [
    "# XML example and exercise\n",
    "****\n",
    "+ study examples of accessing nodes in XML tree structure  \n",
    "+ work on exercise to be completed and submitted\n",
    "****\n",
    "+ reference: https://docs.python.org/2.7/library/xml.etree.elementtree.html\n",
    "+ data source: http://www.dbis.informatik.uni-goettingen.de/Mondial\n",
    "****"
   ]
  },
  {
   "cell_type": "code",
   "execution_count": 1,
   "metadata": {
    "collapsed": true
   },
   "outputs": [],
   "source": [
    "from xml.etree import ElementTree as ET"
   ]
  },
  {
   "cell_type": "markdown",
   "metadata": {},
   "source": [
    "## XML example\n",
    "\n",
    "+ for details about tree traversal and iterators, see https://docs.python.org/2.7/library/xml.etree.elementtree.html"
   ]
  },
  {
   "cell_type": "code",
   "execution_count": 3,
   "metadata": {
    "collapsed": true
   },
   "outputs": [],
   "source": [
    "document_tree = ET.parse( './data/mondial_database_less.xml' )"
   ]
  },
  {
   "cell_type": "code",
   "execution_count": 4,
   "metadata": {
    "collapsed": false
   },
   "outputs": [
    {
     "name": "stdout",
     "output_type": "stream",
     "text": [
      "Albania\n",
      "Greece\n",
      "Macedonia\n",
      "Serbia\n",
      "Montenegro\n",
      "Kosovo\n",
      "Andorra\n"
     ]
    }
   ],
   "source": [
    "# print names of all countries\n",
    "for child in document_tree.getroot():\n",
    "    print child.find('name').text"
   ]
  },
  {
   "cell_type": "code",
   "execution_count": 5,
   "metadata": {
    "collapsed": false
   },
   "outputs": [
    {
     "name": "stdout",
     "output_type": "stream",
     "text": [
      "* Albania: Tirana, Shkodër, Durrës, Vlorë, Elbasan, Korçë\n",
      "* Greece: Komotini, Kavala, Athina, Peiraias, Peristeri, Acharnes, Patra, Kozani, Kerkyra, Ioannina, Thessaloniki, Iraklio, Chania, Ermoupoli, Rhodes, Tripoli, Lamia, Chalkida, Larissa, Volos, Mytilini, Karyes\n",
      "* Macedonia: Skopje, Kumanovo\n",
      "* Serbia: Beograd, Novi Sad, Niš\n",
      "* Montenegro: Podgorica\n",
      "* Kosovo: Prishtine\n",
      "* Andorra: Andorra la Vella\n"
     ]
    }
   ],
   "source": [
    "# print names of all countries and their cities\n",
    "for element in document_tree.iterfind('country'):\n",
    "    print '* ' + element.find('name').text + ':',\n",
    "    capitals_string = ''\n",
    "    for subelement in element.getiterator('city'):\n",
    "        capitals_string += subelement.find('name').text + ', '\n",
    "    print capitals_string[:-2]"
   ]
  },
  {
   "cell_type": "markdown",
   "metadata": {},
   "source": [
    "****\n",
    "## XML exercise\n",
    "\n",
    "Using data in 'data/mondial_database.xml', the examples above, and refering to https://docs.python.org/2.7/library/xml.etree.elementtree.html, find\n",
    "\n",
    "1. 10 countries with the lowest infant mortality rates\n",
    "2. 10 cities with the largest population\n",
    "3. 10 ethnic groups with the largest overall populations (sum of best/latest estimates over all countries)\n",
    "4. name and country of a) longest river, b) largest lake and c) airport at highest elevation"
   ]
  },
  {
   "cell_type": "code",
   "execution_count": 2,
   "metadata": {
    "collapsed": false
   },
   "outputs": [],
   "source": [
    "import pandas as pd\n",
    "from xml.etree import ElementTree as ET\n",
    "import numpy as np\n",
    "\n",
    "\n",
    "document = ET.parse( './data/mondial_database.xml' )\n",
    "root = document.getroot()"
   ]
  },
  {
   "cell_type": "code",
   "execution_count": 4,
   "metadata": {
    "collapsed": false
   },
   "outputs": [
    {
     "data": {
      "text/html": [
       "<div>\n",
       "<table border=\"1\" class=\"dataframe\">\n",
       "  <thead>\n",
       "    <tr style=\"text-align: right;\">\n",
       "      <th></th>\n",
       "      <th>country</th>\n",
       "      <th>inf_mor</th>\n",
       "    </tr>\n",
       "  </thead>\n",
       "  <tbody>\n",
       "  </tbody>\n",
       "</table>\n",
       "</div>"
      ],
      "text/plain": [
       "Empty DataFrame\n",
       "Columns: [country, inf_mor]\n",
       "Index: []"
      ]
     },
     "execution_count": 4,
     "metadata": {},
     "output_type": "execute_result"
    }
   ],
   "source": [
    "# Temp Data Frame \n",
    "country = \"\"\n",
    "inf_mor = \"\"\n",
    "d_frame = pd.DataFrame(columns = [\"country\",\"inf_mor\"])\n",
    "d_frame['inf_mor'] = d_frame['inf_mor'].astype(float)\n",
    "d_frame"
   ]
  },
  {
   "cell_type": "code",
   "execution_count": 9,
   "metadata": {
    "collapsed": false
   },
   "outputs": [
    {
     "name": "stdout",
     "output_type": "stream",
     "text": [
      "country {'capital': 'cty-Albania-Tirane', 'memberships': 'org-BSEC org-CEI org-CD org-SELEC org-CE org-EAPC org-EBRD org-EITI org-FAO org-IPU org-IAEA org-IBRD org-ICC org-ICAO org-ICCt org-Interpol org-IDA org-IFRCS org-IFC org-IFAD org-ILO org-IMO org-IMF org-IOC org-IOM org-ISO org-OIF org-ITU org-ITUC org-IDB org-MIGA org-NATO org-OSCE org-OPCW org-OAS org-OIC org-PCA org-UN org-UNCTAD org-UNESCO org-UNIDO org-UPU org-WCO org-WFTU org-WHO org-WIPO org-WMO org-UNWTO org-WTO', 'car_code': 'AL', 'area': '28750'}\n",
      "country {'capital': 'cty-Greece-Athens', 'memberships': 'org-AG org-BIS org-BSEC org-CD org-SELEC org-CE org-EMU org-EAPC org-EBRD org-ECB org-EIB org-CERN org-ESA org-EU org-FATF org-FAO org-IGAD org-IPU org-IAEA org-IBRD org-ICC org-ICAO org-ICJ org-ICCt org-Interpol org-IDA org-IEA org-IFRCS org-IFC org-IFAD org-IHO org-ILO org-IMO org-IMSO org-IMF org-IOC org-IOM org-OIF org-ITSO org-ITU org-ITUC org-MIGA org-NATO org-NEA org-NSG org-OECD org-OSCE org-OPCW org-OAS org-PCA org-UN org-UNCTAD org-UNESCO org-UNHCR org-UNIDO org-UNIFIL org-UPU org-WCO org-WFTU org-WHO org-WIPO org-WMO org-UNWTO org-WTO org-ZC', 'car_code': 'GR', 'area': '131940'}\n",
      "country {'capital': 'cty-Macedonia-Skopje', 'memberships': 'org-BIS org-CEI org-CD org-SELEC org-CE org-EAPC org-EBRD org-EU org-FAO org-IPU org-IAEA org-IBRD org-ICC org-ICAO org-ICCt org-Interpol org-IDA org-IFRCS org-IFC org-IFAD org-ILO org-IMO org-IMF org-IOC org-IOM org-OIF org-ITU org-ITUC org-MIGA org-OSCE org-OPCW org-OAS org-PFP org-PCA org-UN org-UNCTAD org-UNESCO org-UNHCR org-UNIDO org-UNIFIL org-UPU org-WCO org-WHO org-WIPO org-WMO org-UNWTO org-WTO', 'car_code': 'MK', 'area': '25333'}\n",
      "country {'capital': 'city-Belgrade-SRB-SRB', 'memberships': 'org-BIS org-BSEC org-CEI org-CD org-SELEC org-CE org-EAPC org-EBRD org-EU org-FAO org-G-9 org-IPU org-IAEA org-IBRD org-ICC org-ICAO org-ICCt org-Interpol org-IDA org-IFRCS org-IFC org-IHO org-ILO org-IMO org-IMSO org-IMF org-IOC org-IOM org-OIF org-ITSO org-ITU org-ITUC org-MIGA org-NAM org-NSG org-OSCE org-OPCW org-OAS org-PFP org-PCA org-UN org-UNCTAD org-UNESCO org-UNHCR org-UNIDO org-UNIFIL org-UNMIL org-UNOCI org-MONUSCO org-UNFICYP org-UNTSO org-UPU org-WCO org-WHO org-WIPO org-WMO org-UNWTO org-WTO', 'car_code': 'SRB', 'area': '77474'}\n",
      "country {'capital': 'city-Podgorica-MNE-MNE', 'memberships': 'org-CEI org-CD org-SELEC org-CE org-EAPC org-EBRD org-EU org-FAO org-IPU org-IAEA org-IBRD org-ICC org-ICAO org-ICCt org-Interpol org-IDA org-IFRCS org-IFC org-IHO org-ILO org-IMO org-IMSO org-IMF org-IOC org-IOM org-ISO org-OIF org-ITSO org-ITU org-ITUC org-MIGA org-NAM org-OSCE org-OPCW org-PFP org-PCA org-UN org-UNCTAD org-UNESCO org-UNHCR org-UNIDO org-UNMIL org-UPU org-WCO org-WHO org-WIPO org-WMO org-UNWTO org-WTO', 'car_code': 'MNE', 'area': '14026'}\n",
      "country {'capital': 'city-Pristina-KOS-KOS', 'memberships': 'org-CD org-EBRD org-IBRD org-IDA org-IFC org-IMF org-ITUC', 'car_code': 'KOS', 'area': '10887'}\n",
      "country {'capital': 'cty-Andorra-Andorra-la-Vella', 'memberships': 'org-CE org-FAO org-IPU org-ICC org-ICAO org-ICCt org-Interpol org-IFRCS org-IOC org-OIF org-ITU org-OSCE org-OPCW org-UN org-UNCTAD org-UNESCO org-WCO org-WHO org-WIPO org-UNWTO org-WTO', 'car_code': 'AND', 'area': '450'}\n",
      "country {'capital': 'cty-France-Paris', 'memberships': 'org-AfDB org-ADB org-AG org-BIS org-BSEC org-BDEAC org-SICA org-SELEC org-CE org-CBSS org-EMU org-EAPC org-EBRD org-ECB org-EIB org-CERN org-ESA org-EU org-EITI org-FATF org-FAO org-FZ org-G-10 org-G-20 org-G-5 org-G-7 org-G-8 org-InOC org-IADB org-IGAD org-IPU org-IAEA org-IBRD org-ICC org-ICAO org-ICCt org-Interpol org-IDA org-IEA org-IFRCS org-IFC org-IFAD org-IHO org-ILO org-IMO org-IMSO org-IMF org-IOC org-IOM org-OIF org-ITSO org-ITU org-ITUC org-MIGA org-NATO org-NEA org-NSG org-OECD org-OSCE org-OPCW org-OAS org-PIF org-PCA org-SPC org-UN org-UNCTAD org-UNESCO org-UNHCR org-UNIDO org-UNIFIL org-MINURSO org-UNMIL org-UNOCI org-MONUSCO org-UNRWA org-UNSC org-UNTSO org-UPU org-WCO org-WFTU org-WHO org-WIPO org-WMO org-UNWTO org-WTO org-ZC', 'car_code': 'F', 'area': '547030'}\n",
      "country {'capital': 'cty-Spain-Madrid', 'memberships': 'org-AfDB org-CAN org-ADB org-AG org-BIS org-BCIE org-SICA org-CD org-SELEC org-CE org-CBSS org-EMU org-EAPC org-EBRD org-ECB org-EIB org-CERN org-ESA org-EU org-EITI org-FATF org-FAO org-IADB org-IPU org-IAEA org-IBRD org-ICC org-ICAO org-ICJ org-ICCt org-Interpol org-IDA org-IEA org-IFRCS org-IFC org-IFAD org-IHO org-ILO org-IMO org-IMSO org-IMF org-IOC org-IOM org-ITSO org-ITU org-ITUC org-LAIA org-MIGA org-NATO org-NEA org-NSG org-OECD org-OSCE org-OPCW org-OAS org-PCA org-UN org-UNCTAD org-UNESCO org-UNHCR org-UNIDO org-UNIFIL org-UNRWA org-UPU org-WCO org-WHO org-WIPO org-WMO org-UNWTO org-WTO org-ZC', 'car_code': 'E', 'area': '504750'}\n",
      "country {'capital': 'cty-Austria-Vienna', 'memberships': 'org-AfDB org-ADB org-AG org-BIS org-BSEC org-CEI org-CD org-SELEC org-CE org-EMU org-EAPC org-EBRD org-ECB org-EIB org-CERN org-ESA org-EU org-FATF org-FAO org-G-9 org-IADB org-IGAD org-IPU org-IAEA org-IBRD org-ICC org-ICAO org-ICJ org-ICCt org-Interpol org-IDA org-IEA org-IFRCS org-IFC org-ILO org-IMO org-IMF org-IOC org-IOM org-OIF org-ITSO org-ITU org-ITUC org-MIGA org-NEA org-NSG org-OECD org-OSCE org-OPCW org-OAS org-PFP org-PCA org-UN org-UNCTAD org-UNESCO org-UNHCR org-UNIDO org-UNIFIL org-MINURSO org-UNFICYP org-UNTSO org-UPU org-WCO org-WFTU org-WHO org-WIPO org-WMO org-UNWTO org-WTO org-ZC', 'car_code': 'A', 'area': '83850'}\n",
      "country {'capital': 'cty-Czech-2', 'memberships': 'org-AG org-BIS org-BSEC org-CEI org-CD org-CE org-EAPC org-EBRD org-EIB org-CERN org-ESA org-EU org-FAO org-IPU org-IAEA org-IBRD org-ICC org-ICAO org-ICCt org-Interpol org-IDA org-IEA org-IFRCS org-IFC org-ILO org-IMO org-IMSO org-IMF org-IOC org-IOM org-OIF org-ITSO org-ITU org-ITUC org-MIGA org-NATO org-NEA org-NSG org-OECD org-OSCE org-OPCW org-OAS org-PCA org-UN org-UNCTAD org-UNESCO org-UNIDO org-MONUSCO org-UPU org-WCO org-WFTU org-WHO org-WIPO org-WMO org-UNWTO org-WTO org-ZC', 'car_code': 'CZ', 'area': '78703'}\n",
      "country {'capital': 'cty-Germany-Berlin', 'memberships': 'org-AfDB org-UNAMID org-ADB org-AG org-BIS org-BSEC org-CDB org-SICA org-CD org-SELEC org-CE org-CBSS org-EMU org-EAPC org-EBRD org-ECB org-EIB org-CERN org-ESA org-EU org-EITI org-FATF org-FAO org-G-10 org-G-20 org-G-5 org-G-7 org-G-8 org-IADB org-IGAD org-IPU org-IAEA org-IBRD org-ICC org-ICAO org-ICJ org-ICCt org-Interpol org-IDA org-IEA org-IFRCS org-IFC org-IFAD org-IHO org-ILO org-IMO org-IMSO org-IMF org-IOC org-IOM org-ITSO org-ITU org-ITUC org-MIGA org-NATO org-NEA org-NSG org-OECD org-OSCE org-OPCW org-OAS org-PCA org-UN org-UNCTAD org-UNESCO org-UNHCR org-UNIDO org-UNIFIL org-UNMISS org-UNRWA org-UPU org-WCO org-WHO org-WIPO org-WMO org-UNWTO org-WTO org-ZC', 'car_code': 'D', 'area': '356910'}\n",
      "country {'capital': 'cty-Hungary-Budapest', 'memberships': 'org-AG org-BIS org-CEI org-CD org-SELEC org-CE org-EAPC org-EBRD org-EIB org-CERN org-ESA org-EU org-FAO org-G-9 org-IPU org-IAEA org-IBRD org-ICC org-ICAO org-ICJ org-ICCt org-Interpol org-IDA org-IEA org-IFRCS org-IFC org-IFAD org-ILO org-IMO org-IMSO org-IMF org-IOC org-IOM org-OIF org-ITSO org-ITU org-ITUC org-MIGA org-NATO org-NEA org-NSG org-OECD org-OSCE org-OPCW org-OAS org-PCA org-UN org-UNCTAD org-UNESCO org-UNHCR org-UNIDO org-UNIFIL org-MINURSO org-UNFICYP org-UPU org-WCO org-WFTU org-WHO org-WIPO org-WMO org-UNWTO org-WTO org-ZC', 'car_code': 'H', 'area': '93030'}\n",
      "country {'capital': 'cty-Italy-Rome', 'memberships': 'org-AfDB org-ADB org-AG org-BIS org-BSEC org-CDB org-SICA org-CEI org-CD org-SELEC org-CE org-CBSS org-EMU org-EAPC org-EBRD org-ECB org-EIB org-CERN org-ESA org-EU org-EITI org-FATF org-FAO org-G-10 org-G-20 org-G-7 org-G-8 org-IADB org-IGAD org-IPU org-IAEA org-IBRD org-ICC org-ICAO org-ICCt org-Interpol org-IDA org-IEA org-IFRCS org-IFC org-IFAD org-IHO org-ILO org-IMO org-IMSO org-IMF org-IOC org-IOM org-ITSO org-ITU org-ITUC org-LAIA org-MIGA org-NATO org-NEA org-NSG org-OECD org-OSCE org-OPCW org-OAS org-PIF org-PCA org-UN org-UNCTAD org-UNESCO org-UNHCR org-UNIDO org-UNIFIL org-UNMOGIP org-MINURSO org-UNMISS org-UNRWA org-UNTSO org-UPU org-WCO org-WHO org-WIPO org-WMO org-UNWTO org-WTO org-ZC', 'car_code': 'I', 'area': '301230'}\n",
      "country {'capital': 'cty-Liechtenstein-Vaduz', 'memberships': 'org-CD org-CE org-EBRD org-EFTA org-IPU org-IAEA org-ICJ org-ICCt org-Interpol org-IFRCS org-IOC org-ITSO org-ITU org-ITUC org-OSCE org-OPCW org-PCA org-UN org-UNCTAD org-UPU org-WIPO org-WTO', 'car_code': 'FL', 'area': '160'}\n",
      "country {'capital': 'cty-Slovakia-Bratislava', 'memberships': 'org-AG org-BIS org-BSEC org-CEI org-CD org-CE org-CBSS org-EMU org-EAPC org-EBRD org-ECB org-EIB org-CERN org-EU org-FAO org-IPU org-IAEA org-IBRD org-ICC org-ICAO org-ICJ org-ICCt org-Interpol org-IDA org-IEA org-IFRCS org-IFC org-ILO org-IMO org-IMSO org-IMF org-IOC org-IOM org-OIF org-ITU org-ITUC org-MIGA org-NATO org-NEA org-NSG org-OECD org-OSCE org-OPCW org-OAS org-PCA org-UN org-UNCTAD org-UNESCO org-UNIDO org-UNFICYP org-UNTSO org-UPU org-WCO org-WFTU org-WHO org-WIPO org-WMO org-UNWTO org-WTO org-ZC', 'car_code': 'SK', 'area': '48845'}\n",
      "country {'capital': 'cty-Slovenia-Ljubljana', 'memberships': 'org-AG org-BIS org-CEI org-CD org-SELEC org-CE org-EMU org-EAPC org-EBRD org-ECB org-EIB org-ESA org-EU org-FAO org-IADB org-IPU org-IAEA org-IBRD org-ICC org-ICAO org-ICCt org-Interpol org-IDA org-IFRCS org-IFC org-IHO org-ILO org-IMO org-IMF org-IOC org-IOM org-OIF org-ITU org-MIGA org-NATO org-NEA org-NSG org-OECD org-OSCE org-OPCW org-OAS org-PCA org-UN org-UNCTAD org-UNESCO org-UNHCR org-UNIDO org-UNIFIL org-UNTSO org-UPU org-WCO org-WHO org-WIPO org-WMO org-UNWTO org-WTO org-ZC', 'car_code': 'SLO', 'area': '20256'}\n",
      "country {'capital': 'cty-Switzerland-5', 'memberships': 'org-AfDB org-ADB org-AG org-BIS org-CD org-CE org-EAPC org-EBRD org-EFTA org-CERN org-ESA org-EITI org-FATF org-FAO org-G-10 org-IADB org-IGAD org-IPU org-IAEA org-IBRD org-ICC org-ICAO org-ICJ org-ICCt org-Interpol org-IDA org-IEA org-IFRCS org-IFC org-IFAD org-ILO org-IMO org-IMSO org-IMF org-IOC org-IOM org-OIF org-ITSO org-ITU org-ITUC org-LAIA org-MIGA org-NEA org-NSG org-OECD org-OSCE org-OPCW org-OAS org-PFP org-PCA org-UN org-UNCTAD org-UNESCO org-UNHCR org-UNIDO org-UNITAR org-UNMISS org-MONUSCO org-UNRWA org-UNTSO org-UPU org-WCO org-WHO org-WIPO org-WMO org-UNWTO org-WTO org-ZC', 'car_code': 'CH', 'area': '41290'}\n",
      "country {'capital': 'cty-Belarus-Minsk', 'memberships': 'org-BSEC org-CEI org-CSTO org-CIS org-CBSS org-EurasEC org-EAPC org-EBRD org-FAO org-GCTU org-IPU org-IAEA org-IBRD org-ICC org-ICAO org-Interpol org-IFRCS org-IFC org-ILO org-IMSO org-IMF org-IOC org-IOM org-ITU org-ITUC org-MIGA org-NAM org-NSG org-OSCE org-OPCW org-PFP org-PCA org-SCO org-UN org-UNCTAD org-UNESCO org-UNIDO org-UNIFIL org-UNMISS org-UPU org-WCO org-WFTU org-WHO org-WIPO org-WMO org-UNWTO org-WTO org-ZC', 'car_code': 'BY', 'area': '207600'}\n",
      "country {'capital': 'cty-Latvia-Riga', 'memberships': 'org-AG org-BA org-BIS org-CD org-CE org-CBSS org-EMU org-EAPC org-EBRD org-ECB org-EIB org-EU org-FAO org-IPU org-IAEA org-IBRD org-ICC org-ICAO org-ICCt org-Interpol org-IDA org-IFRCS org-IFC org-IHO org-ILO org-IMO org-IMSO org-IMF org-IOC org-IOM org-ISO org-OIF org-ITU org-ITUC org-MIGA org-NC org-NIB org-NATO org-NSG org-OSCE org-OPCW org-OAS org-PCA org-UN org-UNCTAD org-UNESCO org-UPU org-WCO org-WHO org-WIPO org-WMO org-WTO', 'car_code': 'LV', 'area': '64100'}\n",
      "country {'capital': 'cty-Lithuania-1', 'memberships': 'org-AG org-BA org-BIS org-CD org-CE org-CBSS org-EAPC org-EBRD org-EIB org-EU org-FAO org-IPU org-IAEA org-IBRD org-ICC org-ICAO org-ICJ org-ICCt org-Interpol org-IDA org-IFRCS org-IFC org-ILO org-IMO org-IMF org-IOC org-IOM org-OIF org-ITU org-ITUC org-MIGA org-NC org-NIB org-NATO org-NSG org-OSCE org-OPCW org-OAS org-PCA org-UN org-UNCTAD org-UNESCO org-UNIDO org-UNSC org-UPU org-WCO org-WHO org-WIPO org-WMO org-UNWTO org-WTO', 'car_code': 'LT', 'area': '65200'}\n",
      "country {'capital': 'cty-PL-Warsaw', 'memberships': 'org-AG org-BIS org-BSEC org-CEI org-CD org-CE org-CBSS org-EAPC org-EBRD org-EIB org-CERN org-ESA org-EU org-FAO org-IPU org-IAEA org-IBRD org-ICC org-ICAO org-ICJ org-ICCt org-Interpol org-IDA org-IEA org-IFRCS org-IFC org-IHO org-ILO org-IMO org-IMSO org-IMF org-IOC org-IOM org-OIF org-ITSO org-ITU org-ITUC org-MIGA org-NATO org-NEA org-NSG org-OECD org-OSCE org-OPCW org-OAS org-PCA org-UN org-UNCTAD org-UNESCO org-UNHCR org-UNIDO org-MINURSO org-UNMIL org-UNMISS org-UNOCI org-MONUSCO org-UPU org-WCO org-WFTU org-WHO org-WIPO org-WMO org-UNWTO org-WTO org-ZC', 'car_code': 'PL', 'area': '312683'}\n",
      "country {'capital': 'cty-Ukraine-Kiev', 'memberships': 'org-AG org-BSEC org-CEI org-CIS org-CD org-CICA org-SELEC org-CE org-CBSS org-EurasEC org-EAPC org-EBRD org-EITI org-FAO org-GCTU org-IPU org-IAEA org-IBRD org-ICC org-ICAO org-Interpol org-IDA org-IFRCS org-IFC org-IHO org-ILO org-IMO org-IMSO org-IMF org-IOC org-IOM org-OIF org-ITU org-ITUC org-LAIA org-MIGA org-NAM org-NSG org-GUAM org-OSCE org-OPCW org-OAS org-PFP org-PCA org-UN org-UNCTAD org-UNESCO org-UNIDO org-UNISFA org-UNMIL org-UNMISS org-UNOCI org-MONUSCO org-UNFICYP org-UPU org-WCO org-WFTU org-WHO org-WIPO org-WMO org-UNWTO org-WTO org-ZC', 'car_code': 'UA', 'area': '603700'}\n",
      "country {'capital': 'cty-Russia-Moscow', 'memberships': 'org-ARF org-APEC org-ASEAN org-BIS org-BSEC org-CSTO org-CIS org-CD org-CICA org-CE org-CBSS org-EAS org-EurasEC org-EAPC org-EBRD org-CERN org-FATF org-FAO org-GCTU org-G-20 org-IPU org-IAEA org-IBRD org-ICC org-ICAO org-Interpol org-IDA org-IFRCS org-IFC org-IHO org-ILO org-IMO org-IMSO org-IMF org-IOC org-IOM org-ITSO org-ITU org-ITUC org-LAIA org-MIGA org-NEA org-NSG org-OSCE org-OPCW org-OAS org-OIC org-PFP org-PCA org-SCO org-UN org-UNCTAD org-UNESCO org-UNHCR org-UNIDO org-UNITAR org-UNISFA org-MINURSO org-UNMIL org-UNMISS org-UNOCI org-MONUSCO org-UNSC org-UNTSO org-UPU org-WCO org-WFTU org-WHO org-WIPO org-WMO org-UNWTO org-WTO org-ZC', 'car_code': 'R', 'area': '17075200'}\n",
      "country {'capital': 'cty-Belgium-Brussels', 'memberships': 'org-AfDB org-ADB org-AG org-BIS org-Benelux org-CD org-SELEC org-CE org-EMU org-EAPC org-EBRD org-ECB org-EIB org-CERN org-ESA org-EU org-EITI org-FATF org-FAO org-G-10 org-G-9 org-IADB org-IGAD org-IPU org-IAEA org-IBRD org-ICC org-ICAO org-ICJ org-ICCt org-Interpol org-IDA org-IEA org-IFRCS org-IFC org-IFAD org-IHO org-ILO org-IMO org-IMSO org-IMF org-IOC org-IOM org-OIF org-ITSO org-ITU org-ITUC org-MIGA org-NATO org-NEA org-NSG org-OECD org-OSCE org-OPCW org-OAS org-PCA org-UN org-UNCTAD org-UNESCO org-UNHCR org-UNIDO org-UNIFIL org-MONUSCO org-UNRWA org-UNTSO org-UPU org-WCO org-WHO org-WIPO org-WMO org-WTO org-ZC', 'car_code': 'B', 'area': '30510'}\n",
      "country {'capital': 'cty-Luxembourg-Luxembourg', 'memberships': 'org-ADB org-AG org-BIS org-Benelux org-CD org-CE org-EMU org-EAPC org-EBRD org-ECB org-EIB org-ESA org-EU org-FATF org-FAO org-IPU org-IAEA org-IBRD org-ICC org-ICAO org-ICJ org-ICCt org-Interpol org-IDA org-IEA org-IFRCS org-IFC org-IFAD org-ILO org-IMO org-IMF org-IOC org-IOM org-OIF org-ITSO org-ITU org-ITUC org-MIGA org-NATO org-NEA org-NSG org-OECD org-OSCE org-OPCW org-OAS org-PCA org-UN org-UNCTAD org-UNESCO org-UNHCR org-UNIDO org-UNRWA org-UNSC org-UPU org-WCO org-WHO org-WIPO org-WMO org-WTO org-ZC', 'car_code': 'L', 'area': '2586'}\n",
      "country {'capital': 'cty-Netherlands-Amsterdam', 'memberships': 'org-AfDB org-ADB org-AG org-BIS org-Benelux org-CD org-SELEC org-CE org-CBSS org-EMU org-EAPC org-EBRD org-ECB org-EIB org-CERN org-ESA org-EU org-EITI org-FATF org-FAO org-G-10 org-IADB org-IGAD org-IPU org-IAEA org-IBRD org-ICC org-ICAO org-ICJ org-ICCt org-Interpol org-IDA org-IEA org-IFRCS org-IFC org-IFAD org-IHO org-ILO org-IMO org-IMSO org-IMF org-IOC org-IOM org-ITSO org-ITU org-ITUC org-MIGA org-NATO org-NEA org-NSG org-OECD org-OSCE org-OPCW org-OAS org-PCA org-UN org-UNCTAD org-UNDOF org-UNESCO org-UNHCR org-UNIDO org-UNMISS org-UNRWA org-UNTSO org-UPU org-WCO org-WHO org-WIPO org-WMO org-UNWTO org-WTO org-ZC', 'car_code': 'NL', 'area': '37330'}\n",
      "country {'capital': 'cty-BIH-1', 'memberships': 'org-BIS org-CEI org-CD org-SELEC org-CE org-EAPC org-EBRD org-FAO org-G-77 org-IPU org-IAEA org-IBRD org-ICC org-ICAO org-ICCt org-Interpol org-IDA org-IFRCS org-IFC org-IFAD org-ILO org-IMO org-IMSO org-IMF org-IOC org-IOM org-OIF org-ITSO org-ITU org-ITUC org-MIGA org-NAM org-OSCE org-OPCW org-OAS org-OIC org-PFP org-UN org-UNCTAD org-UNESCO org-UNIDO org-MONUSCO org-UPU org-WCO org-WHO org-WIPO org-WMO org-UNWTO org-WTO', 'car_code': 'BIH', 'area': '51233'}\n",
      "country {'capital': 'cty-Croatia-1', 'memberships': 'org-AG org-BIS org-BSEC org-CEI org-CD org-SELEC org-CE org-EAPC org-EBRD org-EIB org-EU org-FAO org-G-11 org-IADB org-IPU org-IAEA org-IBRD org-ICC org-ICAO org-ICCt org-Interpol org-IDA org-IFRCS org-IFC org-IFAD org-IHO org-ILO org-IMO org-IMSO org-IMF org-IOC org-IOM org-OIF org-ITSO org-ITU org-ITUC org-MIGA org-NAM org-NATO org-NSG org-OSCE org-OPCW org-OAS org-PCA org-UN org-UNCTAD org-UNESCO org-UNHCR org-UNIDO org-UNIFIL org-UNMOGIP org-MINURSO org-UNMIL org-UNFICYP org-UPU org-WCO org-WHO org-WIPO org-WMO org-UNWTO org-WTO org-ZC', 'car_code': 'HR', 'area': '56538'}\n",
      "country {'capital': 'cty-Bulgaria-1', 'memberships': 'org-AG org-BIS org-BSEC org-CEI org-CD org-SELEC org-CE org-EAPC org-EBRD org-EIB org-CERN org-EU org-FAO org-G-9 org-IPU org-IAEA org-IBRD org-ICC org-ICAO org-ICJ org-ICCt org-Interpol org-IFRCS org-IFC org-ILO org-IMO org-IMSO org-IMF org-IOC org-IOM org-OIF org-ITSO org-ITU org-ITUC org-MIGA org-NATO org-NSG org-OSCE org-OPCW org-OAS org-PCA org-UN org-UNCTAD org-UNESCO org-UNHCR org-UNIDO org-UNMIL org-UPU org-WCO org-WFTU org-WHO org-WIPO org-WMO org-UNWTO org-WTO org-ZC', 'car_code': 'BG', 'area': '110910'}\n",
      "country {'capital': 'cty-Romania-2', 'memberships': 'org-AG org-BIS org-BSEC org-CEI org-CD org-SELEC org-CE org-CBSS org-EAPC org-EBRD org-EIB org-ESA org-EU org-FAO org-G-9 org-IPU org-IAEA org-IBRD org-ICC org-ICAO org-ICCt org-Interpol org-IFRCS org-IFC org-IFAD org-IHO org-ILO org-IMO org-IMSO org-IMF org-IOC org-IOM org-OIF org-ITSO org-ITU org-ITUC org-LAIA org-MIGA org-NATO org-NSG org-OSCE org-OPCW org-OAS org-PCA org-UN org-UNCTAD org-UNESCO org-UNHCR org-UNIDO org-UNMIL org-UNMISS org-UNOCI org-MONUSCO org-UPU org-WCO org-WFTU org-WHO org-WIPO org-WMO org-UNWTO org-WTO org-ZC', 'car_code': 'RO', 'area': '237500'}\n",
      "country {'capital': 'cty-Turkey-Ankara', 'memberships': 'org-UNAMID org-ADB org-AG org-BIS org-BSEC org-CD org-CICA org-SELEC org-CE org-D-8 org-ECO org-EAPC org-EBRD org-CERN org-EU org-FATF org-FAO org-G-20 org-IPU org-IAEA org-IBRD org-ICC org-ICAO org-Interpol org-IDA org-IEA org-IFRCS org-IFC org-IFAD org-IHO org-ILO org-IMO org-IMSO org-IMF org-IOC org-IOM org-ITSO org-ITU org-ITUC org-IDB org-MIGA org-NATO org-NEA org-NSG org-OECD org-OSCE org-OPCW org-OAS org-OIC org-PCA org-SCO org-UN org-UNCTAD org-UNESCO org-UNHCR org-UNIDO org-UNIFIL org-UNRWA org-UPU org-WCO org-WFTU org-WHO org-WIPO org-WMO org-UNWTO org-WTO org-ZC', 'car_code': 'TR', 'area': '780580'}\n",
      "country {'capital': 'cty-Denmark-Copenhagen', 'memberships': 'org-AfDB org-ADB org-AG org-BIS org-CD org-CE org-CBSS org-EAPC org-EBRD org-EIB org-CERN org-ESA org-EU org-EITI org-FATF org-FAO org-G-9 org-IADB org-IGAD org-IPU org-IAEA org-IBRD org-ICC org-ICAO org-ICJ org-ICCt org-Interpol org-IDA org-IEA org-IFRCS org-IFC org-IFAD org-IHO org-ILO org-IMO org-IMSO org-IMF org-IOC org-IOM org-ITSO org-ITU org-ITUC org-MIGA org-NC org-NIB org-NATO org-NEA org-NSG org-OECD org-OSCE org-OPCW org-OAS org-PCA org-UN org-UNCTAD org-UNESCO org-UNHCR org-UNIDO org-UNMIL org-UNMISS org-UNRWA org-UNTSO org-UPU org-WCO org-WHO org-WIPO org-WMO org-WTO org-ZC', 'car_code': 'DK', 'area': '43070'}\n",
      "country {'capital': 'cty-Estonia-Tallinn', 'memberships': 'org-AG org-BA org-BIS org-CD org-CE org-CBSS org-EMU org-EAPC org-EBRD org-ECB org-EIB org-ESA org-EU org-FAO org-IPU org-IAEA org-IBRD org-ICC org-ICAO org-ICJ org-ICCt org-Interpol org-IDA org-IFRCS org-IFC org-IFAD org-IHO org-ILO org-IMO org-IMF org-IOC org-IOM org-OIF org-ITSO org-ITU org-ITUC org-MIGA org-NC org-NIB org-NATO org-NSG org-OECD org-OSCE org-OPCW org-OAS org-PCA org-UN org-UNCTAD org-UNESCO org-UNHCR org-UNTSO org-UPU org-WCO org-WHO org-WIPO org-WMO org-WTO', 'car_code': 'EW', 'area': '45100'}\n",
      "country {'capital': 'cty-Faroe-Islands-Torshavn', 'memberships': 'org-FAO org-IMO org-NC org-UNESCO org-UPU', 'car_code': 'FARX', 'area': '1400'}\n",
      "country {'capital': 'cty-Finland-Helsinki', 'memberships': 'org-AfDB org-ADB org-AG org-BIS org-CD org-CE org-CBSS org-EMU org-EAPC org-EBRD org-ECB org-EIB org-CERN org-ESA org-EU org-EITI org-FATF org-FAO org-G-9 org-IADB org-IPU org-IAEA org-IBRD org-ICC org-ICAO org-ICJ org-ICCt org-Interpol org-IDA org-IEA org-IFRCS org-IFC org-IFAD org-IHO org-ILO org-IMO org-IMSO org-IMF org-IOC org-IOM org-ITSO org-ITU org-ITUC org-MIGA org-NC org-NIB org-NEA org-NSG org-OECD org-OSCE org-OPCW org-OAS org-PFP org-PCA org-UN org-UNCTAD org-UNESCO org-UNHCR org-UNIDO org-UNIFIL org-UNMOGIP org-UNMIL org-UNRWA org-UNTSO org-UPU org-WCO org-WFTU org-WHO org-WIPO org-WMO org-WTO org-ZC', 'car_code': 'SF', 'area': '337030'}\n",
      "country {'capital': 'cty-Norway-Oslo', 'memberships': 'org-AfDB org-ADB org-AG org-BIS org-CD org-CE org-CBSS org-EAPC org-EBRD org-EFTA org-CERN org-ESA org-EITI org-FATF org-FAO org-IADB org-IGAD org-IPU org-IAEA org-IBRD org-ICC org-ICAO org-ICJ org-ICCt org-Interpol org-IDA org-IEA org-IFRCS org-IFC org-IFAD org-IHO org-ILO org-IMO org-IMSO org-IMF org-IOC org-IOM org-ITSO org-ITU org-ITUC org-MIGA org-NC org-NIB org-NATO org-NEA org-NSG org-OECD org-OSCE org-OPCW org-OAS org-PCA org-UN org-UNCTAD org-UNESCO org-UNHCR org-UNIDO org-UNITAR org-UNMISS org-UNRWA org-UNTSO org-UPU org-WCO org-WHO org-WIPO org-WMO org-UNWTO org-WTO org-ZC', 'car_code': 'N', 'area': '324220'}\n",
      "country {'capital': 'cty-Sweden-Stockholm', 'memberships': 'org-AfDB org-ADB org-AG org-BIS org-CD org-CE org-CBSS org-EAPC org-EBRD org-EIB org-CERN org-ESA org-EU org-EITI org-FATF org-FAO org-G-10 org-G-9 org-IADB org-IGAD org-IPU org-IAEA org-IBRD org-ICC org-ICAO org-ICJ org-ICCt org-Interpol org-IDA org-IEA org-IFRCS org-IFC org-IFAD org-IHO org-ILO org-IMO org-IMSO org-IMF org-IOC org-IOM org-ITSO org-ITU org-ITUC org-MIGA org-NC org-NIB org-NEA org-NSG org-OECD org-OSCE org-OPCW org-OAS org-PFP org-PCA org-UN org-UNCTAD org-UNESCO org-UNHCR org-UNIDO org-UNMOGIP org-UNMISS org-MONUSCO org-UNRWA org-UNTSO org-UPU org-WCO org-WFTU org-WHO org-WIPO org-WMO org-WTO org-ZC', 'car_code': 'S', 'area': '449964'}\n",
      "country {'capital': 'cty-Monaco-Monaco', 'memberships': 'org-CD org-CE org-FAO org-IPU org-IAEA org-ICC org-ICAO org-Interpol org-IFRCS org-IHO org-IMO org-IMSO org-IOC org-OIF org-ITSO org-ITU org-OSCE org-OPCW org-OAS org-UN org-UNCTAD org-UNESCO org-UNIDO org-UPU org-WHO org-WIPO org-WMO org-UNWTO', 'car_code': 'MC', 'area': '1.9'}\n",
      "country {'capital': 'cty-Gibraltar-Gibraltar', 'memberships': 'org-ICC org-Interpol org-UPU', 'car_code': 'GBZ', 'area': '6.5'}\n",
      "country {'capital': 'cty-Guernsey-Saint-Peter-Port', 'memberships': 'org-UPU', 'car_code': 'GBG', 'area': '194'}\n",
      "country {'capital': 'cty-Holy-See-Vatican-City', 'memberships': 'org-SICA org-CE org-IAEA org-Interpol org-IFRCS org-IOM org-ITSO org-ITU org-ITUC org-OSCE org-OPCW org-OAS org-UN org-UNCTAD org-UNHCR org-UPU org-WIPO org-UNWTO org-WTO', 'car_code': 'V', 'area': '0.44'}\n",
      "country {'capital': 'cty-Ceuta-Ceuta', 'car_code': 'CEU', 'area': '18'}\n",
      "country {'capital': 'cty-Melilla-Melilla', 'car_code': 'MEL', 'area': '12'}\n",
      "country {'capital': 'cty-Iceland-Reykjavik', 'memberships': 'org-AG org-BIS org-CD org-CE org-CBSS org-EAPC org-EBRD org-EFTA org-EU org-FATF org-FAO org-IPU org-IAEA org-IBRD org-ICC org-ICAO org-ICCt org-Interpol org-IDA org-IFRCS org-IFC org-IFAD org-IHO org-ILO org-IMO org-IMSO org-IMF org-IOC org-ITSO org-ITU org-ITUC org-MIGA org-NC org-NIB org-NATO org-NEA org-NSG org-OECD org-OSCE org-OPCW org-OAS org-PCA org-UN org-UNCTAD org-UNESCO org-UPU org-WCO org-WHO org-WIPO org-WMO org-WTO', 'car_code': 'IS', 'area': '103000'}\n",
      "country {'capital': 'cty-Ireland-Dublin', 'memberships': 'org-ADB org-AG org-BIS org-CD org-CE org-EMU org-EAPC org-EBRD org-ECB org-EIB org-ESA org-EU org-FATF org-IGAD org-IPU org-IAEA org-ICC org-ICJ org-ICCt org-Interpol org-IDA org-IEA org-IFRCS org-IFAD org-IHO org-IOC org-IOM org-ITSO org-ITUC org-NEA org-NSG org-OECD org-OSCE org-OPCW org-OAS org-PFP org-PCA org-UN org-UNDOF org-UNHCR org-UNIFIL org-MINURSO org-UNOCI org-MONUSCO org-UNRWA org-UNTSO org-WCO org-WTO org-ZC', 'car_code': 'IRL', 'area': '70280'}\n",
      "country {'capital': 'cty-San-Marino-San-Marino', 'memberships': 'org-CE org-FAO org-IPU org-IAEA org-IBRD org-ICAO org-ICCt org-Interpol org-IFRCS org-ILO org-IMO org-IMF org-IOC org-IOM org-ITU org-ITUC org-LAIA org-OSCE org-OPCW org-UN org-UNCTAD org-UNESCO org-UPU org-WHO org-WIPO org-UNWTO', 'car_code': 'RSM', 'area': '60'}\n",
      "country {'capital': 'cty-Jersey-Saint-Helier', 'memberships': 'org-UPU', 'car_code': 'GBJ', 'area': '117'}\n",
      "country {'capital': 'cty-Malta-Valletta', 'memberships': 'org-AG org-C org-CD org-CE org-EMU org-EAPC org-EBRD org-ECB org-EIB org-EU org-FAO org-IPU org-IAEA org-IBRD org-ICC org-ICAO org-ICJ org-ICCt org-Interpol org-IFRCS org-IFC org-IFAD org-ILO org-IMO org-IMSO org-IMF org-IOC org-IOM org-ITSO org-ITU org-ITUC org-MIGA org-NSG org-OSCE org-OPCW org-OAS org-PFP org-PCA org-UN org-UNCTAD org-UNESCO org-UNIDO org-UPU org-WCO org-WHO org-WIPO org-WMO org-UNWTO org-WTO', 'car_code': 'M', 'area': '320'}\n",
      "country {'capital': 'cty-Man-Douglas', 'memberships': 'org-UPU', 'car_code': 'GBM', 'area': '588'}\n",
      "country {'capital': 'cty-Moldova-Chisinau', 'memberships': 'org-BSEC org-CEI org-CIS org-CD org-SELEC org-CE org-EurasEC org-EAPC org-EBRD org-FAO org-GCTU org-IPU org-IAEA org-IBRD org-ICC org-ICAO org-ICCt org-Interpol org-IDA org-IFRCS org-IFC org-IFAD org-ILO org-IMO org-IMF org-IOC org-IOM org-ISO org-OIF org-ITU org-ITUC org-MIGA org-GUAM org-OSCE org-OPCW org-PFP org-UN org-UNCTAD org-UNESCO org-UNHCR org-UNIDO org-UNMIL org-UNMISS org-UNOCI org-UPU org-WCO org-WHO org-WIPO org-WMO org-UNWTO org-WTO', 'car_code': 'MD', 'area': '33700'}\n",
      "country {'capital': 'cty-Portugal-Lisbon', 'memberships': 'org-AfDB org-ADB org-AG org-BIS org-CD org-CPLP org-SELEC org-CE org-EMU org-EAPC org-EBRD org-ECB org-EIB org-CERN org-ESA org-EU org-FATF org-FAO org-IADB org-IPU org-IAEA org-IBRD org-ICC org-ICAO org-ICJ org-ICCt org-Interpol org-IDA org-IEA org-IFRCS org-IFC org-IFAD org-IHO org-ILO org-IMO org-IMSO org-IMF org-IOC org-IOM org-ITSO org-ITU org-ITUC org-LAIA org-MIGA org-NATO org-NEA org-NSG org-OECD org-OSCE org-OPCW org-OAS org-PCA org-UN org-UNCTAD org-UNESCO org-UNHCR org-UNIDO org-UNMIT org-UPU org-WCO org-WFTU org-WHO org-WIPO org-WMO org-UNWTO org-WTO org-ZC', 'car_code': 'P', 'area': '92080'}\n",
      "country {'capital': 'city-Longyearbyen-SVAX-SVAX', 'car_code': 'SVAX', 'area': '62049'}\n",
      "country {'capital': 'cty-United-Kingdom-2', 'memberships': 'org-AfDB org-ADB org-AG org-BIS org-CDB org-C org-CD org-SELEC org-CE org-CBSS org-EAPC org-EBRD org-EIB org-CERN org-ESA org-EU org-EITI org-FATF org-FAO org-G-10 org-G-20 org-G-5 org-G-7 org-G-8 org-IADB org-IGAD org-IPU org-IAEA org-IBRD org-ICC org-ICAO org-ICJ org-ICCt org-Interpol org-IDA org-IEA org-IFRCS org-IFC org-IFAD org-IHO org-ILO org-IMO org-IMSO org-IMF org-IOC org-IOM org-ITSO org-ITU org-ITUC org-MIGA org-NATO org-NEA org-NSG org-OECD org-OSCE org-OPCW org-OAS org-PIF org-PCA org-UN org-UNCTAD org-UNESCO org-UNHCR org-UNIDO org-UNMISS org-MONUSCO org-UNFICYP org-UNRWA org-UNSC org-UPU org-WCO org-WHO org-WIPO org-WMO org-WTO org-ZC', 'car_code': 'GB', 'area': '244820'}\n",
      "country {'capital': 'cty-Afghanistan-Kabul', 'memberships': 'org-ADB org-CP org-CICA org-ECO org-EITI org-FAO org-G-77 org-IPU org-IAEA org-IBRD org-ICC org-ICAO org-ICCt org-Interpol org-IDA org-IFRCS org-IFC org-IFAD org-ILO org-IMF org-IOC org-IOM org-ISO org-ITSO org-ITU org-IDB org-MIGA org-NAM org-OPCW org-OIC org-SCO org-SACEP org-SAARC org-UN org-UNCTAD org-UNESCO org-UNIDO org-UPU org-WCO org-WFTU org-WHO org-WIPO org-WMO org-UNWTO org-WTO', 'car_code': 'AFG', 'area': '647500'}\n",
      "country {'capital': 'cty-China-3', 'memberships': 'org-AfDB org-UNAMID org-ARF org-APEC org-ADB org-ASEAN org-BIS org-CDB org-SICA org-CICA org-EAS org-FATF org-FAO org-G-20 org-G-24 org-G-77 org-IADB org-IPU org-IAEA org-IBRD org-ICC org-ICAO org-Interpol org-IDA org-IFRCS org-IFC org-IFAD org-IHO org-ILO org-IMO org-IMSO org-IMF org-IOC org-IOM org-ITSO org-ITU org-LAIA org-MIGA org-NAM org-NSG org-OPCW org-OAS org-PIF org-PCA org-SCO org-SAARC org-UN org-UNCTAD org-UNESCO org-UNHCR org-UNIDO org-UNMIT org-UNIFIL org-MINURSO org-UNMIL org-UNMISS org-UNOCI org-MONUSCO org-UNFICYP org-UNSC org-UNTSO org-UPU org-WCO org-WHO org-WIPO org-WMO org-UNWTO org-WTO org-ZC', 'car_code': 'CN', 'area': '9596960'}\n",
      "country {'capital': 'cty-Iran-Tehran', 'memberships': 'org-UNAMID org-CP org-CICA org-D-8 org-ECO org-FAO org-G-15 org-G-24 org-G-77 org-IPU org-IAEA org-IBRD org-ICC org-ICAO org-Interpol org-IDA org-IFRCS org-IFC org-IFAD org-IHO org-ILO org-IMO org-IMSO org-IMF org-IOC org-IOM org-ITSO org-ITU org-IDB org-MIGA org-NAM org-OPCW org-OIC org-OPEC org-PCA org-SCO org-SAARC org-UN org-UNCTAD org-UNESCO org-UNHCR org-UNIDO org-UNITAR org-UPU org-WCO org-WFTU org-WHO org-WIPO org-WMO org-UNWTO org-WTO', 'car_code': 'IR', 'area': '1648000'}\n",
      "country {'capital': 'cty-PK-4', 'memberships': 'org-UNAMID org-ARF org-ADB org-CP org-C org-CICA org-D-8 org-ECO org-FAO org-G-11 org-G-24 org-G-77 org-IPU org-IAEA org-IBRD org-ICC org-ICAO org-ICJ org-Interpol org-IDA org-IFRCS org-IFC org-IFAD org-IHO org-ILO org-IMO org-IMSO org-IMF org-IOC org-IOM org-ITSO org-ITU org-ITUC org-IDB org-LAIA org-MIGA org-NAM org-OPCW org-OAS org-OIC org-PCA org-SCO org-SACEP org-SAARC org-UN org-UNCTAD org-UNESCO org-UNHCR org-UNIDO org-UNMIT org-MINURSO org-UNMIL org-UNOCI org-MONUSCO org-UPU org-WCO org-WFTU org-WHO org-WIPO org-WMO org-UNWTO org-WTO', 'car_code': 'PK', 'area': '803940'}\n",
      "country {'capital': 'cty-Tajikistan-2', 'memberships': 'org-UNAMID org-ADB org-CSTO org-CIS org-CICA org-ECO org-EurasEC org-EAPC org-EBRD org-EITI org-FAO org-GCTU org-G-77 org-IPU org-IAEA org-IBRD org-ICC org-ICAO org-ICCt org-Interpol org-IDA org-IFRCS org-IFC org-IFAD org-ILO org-IMF org-IOC org-IOM org-ISO org-ITSO org-ITU org-IDB org-MIGA org-NAM org-OSCE org-OPCW org-OIC org-PFP org-SCO org-UN org-UNCTAD org-UNESCO org-UNIDO org-UPU org-WCO org-WFTU org-WHO org-WIPO org-WMO org-UNWTO org-WTO', 'car_code': 'TAD', 'area': '143100'}\n",
      "country {'capital': 'cty-Turkmenistan-1', 'memberships': 'org-ADB org-CIS org-ECO org-EAPC org-EBRD org-FAO org-G-77 org-IBRD org-ICAO org-Interpol org-IFRCS org-IFC org-ILO org-IMO org-IMF org-IOC org-IOM org-ISO org-ITU org-IDB org-MIGA org-NAM org-OSCE org-OPCW org-OIC org-PFP org-UN org-UNCTAD org-UNESCO org-UNHCR org-UNIDO org-UPU org-WCO org-WFTU org-WHO org-WIPO org-WMO org-UNWTO', 'car_code': 'TM', 'area': '488100'}\n",
      "country {'capital': 'cty-Uzbekistan-Tashkent', 'memberships': 'org-ADB org-CSTO org-CIS org-CICA org-ECO org-EurasEC org-EAPC org-EBRD org-FAO org-IAEA org-IBRD org-ICAO org-Interpol org-IDA org-IFRCS org-IFC org-IFAD org-ILO org-IMF org-IOC org-ITSO org-ITU org-IDB org-MIGA org-NAM org-OSCE org-OPCW org-OIC org-PFP org-SCO org-UN org-UNCTAD org-UNESCO org-UNIDO org-UPU org-WCO org-WFTU org-WHO org-WIPO org-WMO org-UNWTO org-WTO', 'car_code': 'UZB', 'area': '447400'}\n",
      "country {'capital': 'cty-Armenia-Yerevan', 'memberships': 'org-ADB org-BSEC org-CSTO org-CIS org-CD org-CE org-EurasEC org-EAPC org-EBRD org-FAO org-GCTU org-IPU org-IAEA org-IBRD org-ICC org-ICAO org-Interpol org-IDA org-IFRCS org-IFC org-IFAD org-ILO org-IMF org-IOC org-IOM org-OIF org-ITSO org-ITU org-MIGA org-NAM org-OSCE org-OPCW org-OAS org-PFP org-UN org-UNCTAD org-UNESCO org-UNIDO org-UNIFIL org-UPU org-WCO org-WFTU org-WHO org-WIPO org-WMO org-UNWTO org-WTO', 'car_code': 'ARM', 'area': '29800'}\n",
      "country {'capital': 'cty-Georgia-1', 'memberships': 'org-ADB org-BSEC org-CD org-SELEC org-CE org-EAPC org-EBRD org-FAO org-GCTU org-G-11 org-IPU org-IAEA org-IBRD org-ICC org-ICAO org-ICJ org-ICCt org-Interpol org-IDA org-IFRCS org-IFC org-IFAD org-ILO org-IMO org-IMF org-IOC org-IOM org-ISO org-OIF org-ITSO org-ITU org-ITUC org-MIGA org-GUAM org-OSCE org-OPCW org-OAS org-PFP org-UN org-UNCTAD org-UNESCO org-UNIDO org-UPU org-WCO org-WHO org-WIPO org-WMO org-UNWTO org-WTO', 'car_code': 'GE', 'area': '69700'}\n",
      "country {'capital': 'cty-Azerbaijan-Baku', 'memberships': 'org-ADB org-BSEC org-CIS org-CD org-CICA org-SELEC org-CE org-ECO org-EAPC org-EBRD org-EITI org-FAO org-GCTU org-IPU org-IAEA org-IBRD org-ICC org-ICAO org-Interpol org-IDA org-IFRCS org-IFC org-IFAD org-ILO org-IMO org-IMF org-IOC org-IOM org-ITSO org-ITU org-ITUC org-IDB org-MIGA org-NAM org-GUAM org-OSCE org-OPCW org-OAS org-OIC org-PFP org-UN org-UNCTAD org-UNESCO org-UNHCR org-UNIDO org-UPU org-WCO org-WFTU org-WHO org-WIPO org-WMO org-UNWTO org-WTO', 'car_code': 'AZ', 'area': '86600'}\n",
      "country {'capital': 'cty-Bahrain-Manama', 'memberships': 'org-ABEDA org-AFESD org-AMF org-CICA org-CAEU org-FAO org-G-77 org-GCC org-IPU org-IAEA org-IBRD org-ICC org-ICAO org-Interpol org-IFRCS org-IFC org-IHO org-ILO org-IMO org-IMSO org-IMF org-IOC org-IOM org-ITSO org-ITU org-ITUC org-IDB org-LAS org-MIGA org-NAM org-OPCW org-OAPEC org-OIC org-PCA org-UN org-UNCTAD org-UNESCO org-UNIDO org-UPU org-WCO org-WFTU org-WHO org-WIPO org-WMO org-UNWTO org-WTO', 'car_code': 'BRN', 'area': '620'}\n",
      "country {'capital': 'cty-BD-3', 'memberships': 'org-UNAMID org-ARF org-ADB org-BIMSTEC org-CP org-C org-CD org-CICA org-D-8 org-FAO org-G-77 org-IPU org-IAEA org-IBRD org-ICC org-ICAO org-ICCt org-Interpol org-IDA org-IFRCS org-IFC org-IFAD org-IHO org-ILO org-IMO org-IMSO org-IMF org-IOC org-IOM org-ITSO org-ITU org-ITUC org-IDB org-MIGA org-NAM org-OPCW org-OIC org-PCA org-SACEP org-SAARC org-UN org-UNCTAD org-UNESCO org-UNHCR org-UNIDO org-UNMIT org-UNIFIL org-MINURSO org-UNMIL org-UNMISS org-UNOCI org-MONUSCO org-UPU org-WCO org-WFTU org-WHO org-WIPO org-WMO org-UNWTO org-WTO', 'car_code': 'BD', 'area': '144000'}\n",
      "country {'capital': 'cty-Burma-NayPyiTaw', 'memberships': 'org-ARF org-ADB org-ASEAN org-BIMSTEC org-CP org-EAS org-FAO org-G-77 org-IPU org-IAEA org-IBRD org-ICC org-ICAO org-Interpol org-IDA org-IFRCS org-IFC org-IFAD org-IHO org-ILO org-IMO org-IMF org-IOC org-IOM org-ISO org-ITU org-ITUC org-NAM org-OPCW org-SAARC org-UN org-UNCTAD org-UNESCO org-UNIDO org-UPU org-WCO org-WHO org-WIPO org-WMO org-UNWTO org-WTO', 'car_code': 'MYA', 'area': '678500'}\n",
      "country {'capital': 'cty-India-New-Delhi', 'memberships': 'org-AfDB org-ARF org-ADB org-ASEAN org-BIS org-BIMSTEC org-CP org-C org-CD org-CICA org-EAS org-CERN org-FATF org-FAO org-G-15 org-G-20 org-G-24 org-G-77 org-IPU org-IAEA org-IBRD org-ICC org-ICAO org-ICJ org-Interpol org-IDA org-IFRCS org-IFC org-IFAD org-IHO org-ILO org-IMO org-IMSO org-IMF org-IOC org-IOM org-ITSO org-ITU org-ITUC org-LAS org-MIGA org-NAM org-OPCW org-OAS org-PIF org-PCA org-SCO org-SACEP org-SAARC org-UN org-UNCTAD org-UNDOF org-UNESCO org-UNHCR org-UNIDO org-UNITAR org-UNMIT org-UNIFIL org-UNISFA org-UNMISS org-UNOCI org-MONUSCO org-UPU org-WCO org-WFTU org-WHO org-WIPO org-WMO org-UNWTO org-WTO', 'car_code': 'IND', 'area': '3287590'}\n",
      "country {'capital': 'cty-Bhutan-Thimphu', 'memberships': 'org-ADB org-BIMSTEC org-CP org-FAO org-G-77 org-IPU org-IBRD org-ICAO org-Interpol org-IDA org-IFC org-IFAD org-IMF org-IOC org-IOM org-ISO org-ITSO org-ITU org-NAM org-OPCW org-SACEP org-SAARC org-UN org-UNCTAD org-UNESCO org-UNIDO org-UPU org-WCO org-WHO org-WIPO org-WMO org-UNWTO org-WTO', 'car_code': 'BHT', 'area': '47000'}\n",
      "country {'capital': 'cty-Brunei-Bandar-Seri-Begawan', 'memberships': 'org-ARF org-APEC org-ADB org-ASEAN org-CP org-C org-EAS org-FAO org-G-77 org-IAEA org-IBRD org-ICAO org-Interpol org-IFRCS org-ILO org-IMO org-IMSO org-IMF org-IOC org-ISO org-ITSO org-ITU org-IDB org-NAM org-OPCW org-OIC org-UN org-UNCTAD org-UNESCO org-UNIFIL org-UPU org-WCO org-WHO org-WIPO org-WMO org-UNWTO org-WTO', 'car_code': 'BRU', 'area': '5770'}\n",
      "country {'capital': 'cty-Malaysia-Kuala-Lumpur', 'memberships': 'org-UNAMID org-ARF org-APEC org-ADB org-ASEAN org-BIS org-CP org-C org-CICA org-D-8 org-EAS org-FAO org-G-15 org-G-77 org-IPU org-IAEA org-IBRD org-ICC org-ICAO org-Interpol org-IDA org-IFRCS org-IFC org-IFAD org-IHO org-ILO org-IMO org-IMSO org-IMF org-IOC org-ITSO org-ITU org-ITUC org-IDB org-MIGA org-NAM org-OPCW org-OIC org-PIF org-PCA org-UN org-UNCTAD org-UNESCO org-UNIDO org-UNMIT org-UNIFIL org-MINURSO org-UNMIL org-MONUSCO org-UPU org-WCO org-WFTU org-WHO org-WIPO org-WMO org-UNWTO org-WTO', 'car_code': 'MAL', 'area': '329750'}\n",
      "country {'capital': 'cty-Laos-Vientiane', 'memberships': 'org-ARF org-ADB org-ASEAN org-CP org-EAS org-FAO org-G-77 org-IPU org-IAEA org-IBRD org-ICAO org-Interpol org-IDA org-IFRCS org-IFC org-IFAD org-ILO org-IMF org-IOC org-ISO org-OIF org-ITU org-MIGA org-NAM org-OPCW org-PCA org-UN org-UNCTAD org-UNESCO org-UNIDO org-UPU org-WCO org-WFTU org-WHO org-WIPO org-WMO org-UNWTO org-WTO', 'car_code': 'LAO', 'area': '236800'}\n",
      "country {'capital': 'cty-Thailand-Bangkok', 'memberships': 'org-UNAMID org-ARF org-APEC org-ADB org-ASEAN org-BIS org-BIMSTEC org-CP org-CD org-CICA org-EAS org-FAO org-G-77 org-IPU org-IAEA org-IBRD org-ICC org-ICAO org-Interpol org-IDA org-IFRCS org-IFC org-IFAD org-IHO org-ILO org-IMO org-IMSO org-IMF org-IOC org-IOM org-OIF org-ITSO org-ITU org-ITUC org-MIGA org-NAM org-OPCW org-OAS org-OIC org-PIF org-PCA org-UN org-UNCTAD org-UNESCO org-UNHCR org-UNIDO org-UNMOGIP org-UPU org-WCO org-WFTU org-WHO org-WIPO org-WMO org-UNWTO org-WTO', 'car_code': 'THA', 'area': '514000'}\n",
      "country {'capital': 'cty-Cambodia-Phnom-Penh', 'memberships': 'org-UNAMID org-ARF org-ADB org-ASEAN org-CICA org-EAS org-FAO org-G-77 org-IPU org-IAEA org-IBRD org-ICAO org-ICJ org-ICCt org-Interpol org-IDA org-IFRCS org-IFC org-IFAD org-ILO org-IMO org-IMF org-IOC org-IOM org-ISO org-OIF org-ITU org-ITUC org-MIGA org-NAM org-OPCW org-PCA org-UN org-UNCTAD org-UNESCO org-UNIDO org-UNIFIL org-UNISFA org-UNMISS org-UPU org-WCO org-WFTU org-WHO org-WIPO org-WMO org-UNWTO org-WTO', 'car_code': 'K', 'area': '181040'}\n",
      "country {'capital': 'cty-Vietnam-Hanoi', 'memberships': 'org-ARF org-APEC org-ADB org-ASEAN org-CP org-CICA org-EAS org-FAO org-G-77 org-IPU org-IAEA org-IBRD org-ICC org-ICAO org-Interpol org-IDA org-IFC org-IFAD org-ILO org-IMO org-IMSO org-IMF org-IOC org-IOM org-OIF org-ITSO org-ITU org-MIGA org-NAM org-OPCW org-PCA org-UN org-UNCTAD org-UNESCO org-UNIDO org-UPU org-WCO org-WFTU org-WHO org-WIPO org-WMO org-UNWTO org-WTO', 'car_code': 'VN', 'area': '329560'}\n",
      "country {'capital': 'cty-Kazakhstan-Astana', 'memberships': 'org-ADB org-CSTO org-CIS org-CICA org-ECO org-EurasEC org-EAPC org-EBRD org-EITI org-FAO org-GCTU org-IPU org-IAEA org-IBRD org-ICAO org-Interpol org-IDA org-IFRCS org-IFC org-IFAD org-ILO org-IMO org-IMF org-IOC org-IOM org-ITSO org-ITU org-IDB org-MIGA org-NAM org-NSG org-OSCE org-OPCW org-OAS org-OIC org-PFP org-SCO org-UN org-UNCTAD org-UNESCO org-UNIDO org-UPU org-WCO org-WFTU org-WHO org-WIPO org-WMO org-UNWTO org-WTO org-ZC', 'car_code': 'KAZ', 'area': '2717300'}\n",
      "country {'capital': 'cty-North-Korea-2', 'memberships': 'org-ARF org-FAO org-G-77 org-IPU org-ICC org-ICAO org-IFRCS org-IFAD org-IHO org-IMO org-IMSO org-IOC org-ITSO org-ITU org-NAM org-UN org-UNCTAD org-UNESCO org-UNIDO org-UPU org-WFTU org-WHO org-WIPO org-WMO org-UNWTO', 'car_code': 'NOK', 'area': '120540'}\n",
      "country {'capital': 'cty-Kyrgyzstan-Bishkek', 'memberships': 'org-UNAMID org-ADB org-CSTO org-CIS org-CICA org-ECO org-EurasEC org-EAPC org-EBRD org-EITI org-FAO org-GCTU org-IPU org-IAEA org-IBRD org-ICAO org-Interpol org-IDA org-IFRCS org-IFC org-IFAD org-ILO org-IMF org-IOC org-IOM org-ISO org-ITSO org-ITU org-IDB org-MIGA org-NAM org-OSCE org-OPCW org-OIC org-PFP org-PCA org-SCO org-UN org-UNCTAD org-UNESCO org-UNIDO org-UNMIL org-UNMISS org-UPU org-WCO org-WFTU org-WHO org-WIPO org-WMO org-UNWTO org-WTO', 'car_code': 'KGZ', 'area': '198500'}\n",
      "country {'capital': 'cty-Hongkong', 'memberships': 'org-APEC org-ADB org-BIS org-FATF org-ICC org-Interpol org-IMO org-IMF org-IOC org-ISO org-ITUC org-UPU org-WCO org-UNWTO org-WTO', 'car_code': 'HONX', 'area': '1092'}\n",
      "country {'capital': 'cty-Macao-Macao', 'memberships': 'org-ICC org-Interpol org-IMO org-IMF org-ISO org-UNESCO org-UPU org-WCO org-UNWTO org-WTO', 'car_code': 'MACX', 'area': '16'}\n",
      "country {'capital': 'cty-Mongolia-Ulaanbaatar', 'memberships': 'org-UNAMID org-ARF org-ADB org-CP org-CD org-CICA org-EBRD org-EITI org-FAO org-G-77 org-IPU org-IAEA org-IBRD org-ICC org-ICAO org-ICCt org-Interpol org-IDA org-IFRCS org-IFC org-IFAD org-ILO org-IMO org-IMSO org-IMF org-IOC org-IOM org-ITSO org-ITU org-ITUC org-MIGA org-NAM org-OSCE org-OPCW org-SCO org-UN org-UNCTAD org-UNESCO org-UNIDO org-UNISFA org-MINURSO org-UNMISS org-MONUSCO org-UPU org-WCO org-WHO org-WIPO org-WMO org-UNWTO org-WTO', 'car_code': 'MNG', 'area': '1565000'}\n",
      "country {'capital': 'cty-Nepal-Kathmandu', 'memberships': 'org-UNAMID org-ADB org-BIMSTEC org-CP org-CD org-FAO org-G-77 org-IPU org-IAEA org-IBRD org-ICAO org-Interpol org-IDA org-IFRCS org-IFC org-IFAD org-ILO org-IMO org-IMF org-IOC org-IOM org-ISO org-ITSO org-ITU org-ITUC org-MIGA org-NAM org-OPCW org-SACEP org-SAARC org-UN org-UNCTAD org-UNDOF org-UNESCO org-UNIDO org-UNMIT org-UNIFIL org-UNISFA org-MINURSO org-UNMIL org-UNMISS org-UNOCI org-MONUSCO org-UNTSO org-UPU org-WCO org-WFTU org-WHO org-WIPO org-WMO org-UNWTO org-WTO', 'car_code': 'NEP', 'area': '140800'}\n",
      "country {'capital': 'city-The-Settlement-XMAS-XMAS', 'car_code': 'XMAS', 'area': '135'}\n",
      "country {'capital': 'city-West-Island-COCO-COCO', 'car_code': 'COCO', 'area': '14'}\n",
      "country {'capital': 'cty-Cyprus-Nicosia', 'memberships': 'org-AG org-C org-CD org-CE org-EMU org-EBRD org-ECB org-EIB org-EU org-FAO org-IPU org-IAEA org-IBRD org-ICC org-ICAO org-ICJ org-ICCt org-Interpol org-IDA org-IFRCS org-IFC org-IFAD org-IHO org-ILO org-IMO org-IMSO org-IMF org-IOC org-IOM org-OIF org-ITSO org-ITU org-ITUC org-MIGA org-NSG org-OSCE org-OPCW org-OAS org-PCA org-UN org-UNCTAD org-UNESCO org-UNHCR org-UNIDO org-UNIFIL org-UPU org-WCO org-WFTU org-WHO org-WIPO org-WMO org-UNWTO org-WTO', 'car_code': 'CY', 'area': '9251'}\n",
      "country {'car_code': 'GAZA', 'area': '365'}\n",
      "country {'capital': 'cty-Israel-Jerusalem', 'memberships': 'org-BIS org-BSEC org-CD org-CICA org-CE org-EBRD org-FAO org-IADB org-IPU org-IAEA org-IBRD org-ICC org-ICAO org-Interpol org-IDA org-IFRCS org-IFC org-IFAD org-ILO org-IMO org-IMSO org-IMF org-IOC org-IOM org-ITSO org-ITU org-ITUC org-MIGA org-OECD org-OPCW org-OAS org-PCA org-UN org-UNCTAD org-UNESCO org-UNHCR org-UNIDO org-UPU org-WCO org-WHO org-WIPO org-WMO org-UNWTO org-WTO', 'car_code': 'IL', 'area': '22072'}\n",
      "country {'capital': 'cty-Egypt-Cairo', 'memberships': 'org-AfDB org-AU org-UNAMID org-ABEDA org-AFESD org-AMF org-BSEC org-COMESA org-CD org-CICA org-CAEU org-D-8 org-EBRD org-FAO org-G-15 org-G-24 org-G-77 org-IAEA org-IBRD org-ICC org-ICAO org-ICJ org-Interpol org-IDA org-IFRCS org-IFC org-IFAD org-IHO org-ILO org-IMO org-IMSO org-IMF org-IOC org-IOM org-OIF org-ITSO org-ITU org-IDB org-LAS org-MIGA org-NAM org-OAS org-OAPEC org-OIC org-PCA org-UN org-UNCTAD org-UNESCO org-UNHCR org-UNIDO org-MINURSO org-UNMIL org-UNMISS org-UNOCI org-MONUSCO org-UNRWA org-UPU org-WCO org-WFTU org-WHO org-WIPO org-WMO org-UNWTO org-WTO', 'car_code': 'ET', 'area': '1001450'}\n",
      "country {'capital': 'cty-RI-11', 'memberships': 'org-UNAMID org-ARF org-APEC org-ADB org-ASEAN org-BIS org-CP org-CD org-CICA org-D-8 org-EAS org-EITI org-FAO org-G-11 org-G-15 org-G-20 org-G-77 org-IPU org-IAEA org-IBRD org-ICC org-ICAO org-Interpol org-IDA org-IFRCS org-IFC org-IFAD org-IHO org-ILO org-IMO org-IMSO org-IMF org-IOC org-IOM org-ITSO org-ITU org-ITUC org-IDB org-MIGA org-NAM org-OPCW org-OIC org-PIF org-UN org-UNCTAD org-UNESCO org-UNIDO org-UNIFIL org-UNMIL org-UNMISS org-MONUSCO org-UPU org-WCO org-WFTU org-WHO org-WIPO org-WMO org-UNWTO org-WTO', 'car_code': 'RI', 'area': '1919440'}\n",
      "country {'capital': 'city-Dili-TL-TL', 'memberships': 'org-ACP org-AOSIS org-ARF org-ADB org-ASEAN org-CPLP org-EITI org-FAO org-G-77 org-IPU org-IBRD org-ICAO org-ICJ org-ICCt org-Interpol org-IDA org-IFRCS org-IFC org-IFAD org-ILO org-IMO org-IMF org-IOC org-IOM org-ITU org-MIGA org-NAM org-OPCW org-PIF org-UN org-UNCTAD org-UNESCO org-UNIDO org-UNMISS org-UPU org-WCO org-WHO org-WMO org-UNWTO', 'car_code': 'TL', 'area': '15007'}\n",
      "country {'capital': 'cty-Papua-New-Guinea-Port-Moresby', 'memberships': 'org-ACP org-AOSIS org-ARF org-APEC org-ADB org-ASEAN org-CP org-C org-CD org-FAO org-G-77 org-IPU org-IAEA org-IBRD org-ICAO org-Interpol org-IDA org-IFRCS org-IFC org-IFAD org-IHO org-ILO org-IMO org-IMF org-IOC org-IOM org-ISO org-ITSO org-ITU org-MIGA org-NAM org-OPCW org-PIF org-SPC org-Sparteca org-UN org-UNCTAD org-UNESCO org-UNIDO org-UNMISS org-UPU org-WCO org-WFTU org-WHO org-WIPO org-WMO org-UNWTO org-WTO', 'car_code': 'PNG', 'area': '461690'}\n",
      "country {'capital': 'cty-Iraq-Baghdad', 'memberships': 'org-ABEDA org-AFESD org-AMF org-CICA org-CAEU org-EITI org-FAO org-G-77 org-IPU org-IAEA org-IBRD org-ICC org-ICAO org-Interpol org-IDA org-IFRCS org-IFC org-IFAD org-ILO org-IMO org-IMSO org-IMF org-IOC org-ITSO org-ITU org-IDB org-LAS org-MIGA org-NAM org-OPCW org-OAPEC org-OIC org-OPEC org-PCA org-UN org-UNCTAD org-UNESCO org-UNIDO org-UPU org-WCO org-WFTU org-WHO org-WIPO org-WMO org-UNWTO org-WTO', 'car_code': 'IRQ', 'area': '437072'}\n",
      "country {'capital': 'cty-Jordan-Amman', 'memberships': 'org-UNAMID org-ABEDA org-AFESD org-AMF org-CD org-CICA org-CAEU org-EBRD org-FAO org-G-11 org-G-77 org-IPU org-IAEA org-IBRD org-ICC org-ICAO org-ICCt org-Interpol org-IDA org-IFRCS org-IFC org-IFAD org-ILO org-IMO org-IMF org-IOC org-IOM org-ITSO org-ITU org-ITUC org-IDB org-LAS org-MIGA org-NAM org-OPCW org-OIC org-PCA org-UN org-UNCTAD org-UNESCO org-UNHCR org-UNIDO org-UNMIL org-UNMISS org-UNOCI org-MONUSCO org-UNRWA org-UNSC org-UPU org-WCO org-WFTU org-WHO org-WIPO org-WMO org-UNWTO org-WTO', 'car_code': 'JOR', 'area': '89213'}\n",
      "country {'capital': 'cty-Kuwait-Kuwait', 'memberships': 'org-AfDB org-ABEDA org-AFESD org-AMF org-BDEAC org-CD org-CAEU org-FAO org-G-77 org-GCC org-IPU org-IAEA org-IBRD org-ICC org-ICAO org-Interpol org-IDA org-IFRCS org-IFC org-IFAD org-IHO org-ILO org-IMO org-IMSO org-IMF org-IOC org-ITSO org-ITU org-ITUC org-IDB org-LAS org-MIGA org-NAM org-OPCW org-OAPEC org-OIC org-OPEC org-PCA org-UN org-UNCTAD org-UNESCO org-UNIDO org-UNRWA org-UPU org-WCO org-WFTU org-WHO org-WIPO org-WMO org-UNWTO org-WTO', 'car_code': 'KWT', 'area': '17820'}\n",
      "country {'capital': 'cty-SA-6', 'memberships': 'org-AfDB org-ABEDA org-AFESD org-AMF org-BIS org-CP org-CAEU org-FAO org-G-20 org-G-77 org-GCC org-IPU org-IAEA org-IBRD org-ICC org-ICAO org-Interpol org-IDA org-IFRCS org-IFC org-IFAD org-IHO org-ILO org-IMO org-IMSO org-IMF org-IOC org-IOM org-ITSO org-ITU org-IDB org-LAS org-MIGA org-NAM org-OPCW org-OAS org-OAPEC org-OIC org-OPEC org-PCA org-UN org-UNCTAD org-UNESCO org-UNIDO org-UNRWA org-UPU org-WCO org-WFTU org-WHO org-WIPO org-WMO org-UNWTO org-WTO', 'car_code': 'SA', 'area': '1960582'}\n",
      "country {'capital': 'cty-SYR-8', 'memberships': 'org-ABEDA org-AFESD org-AMF org-CAEU org-FAO org-G-24 org-G-77 org-IPU org-IAEA org-IBRD org-ICC org-ICAO org-Interpol org-IDA org-IFRCS org-IFC org-IFAD org-IHO org-ILO org-IMO org-IMF org-IOC org-ITSO org-ITU org-IDB org-MIGA org-NAM org-OPCW org-OAPEC org-OIC org-UN org-UNCTAD org-UNESCO org-UNIDO org-UNRWA org-UPU org-WCO org-WFTU org-WHO org-WIPO org-WMO org-UNWTO org-WTO', 'car_code': 'SYR', 'area': '185180'}\n",
      "country {'capital': 'cty-Lebanon-Beirut', 'memberships': 'org-ABEDA org-AFESD org-AMF org-CAEU org-FAO org-G-24 org-G-77 org-IPU org-IAEA org-IBRD org-ICC org-ICAO org-Interpol org-IDA org-IFRCS org-IFC org-IFAD org-ILO org-IMO org-IMSO org-IMF org-IOC org-OIF org-ITSO org-ITU org-IDB org-LAS org-MIGA org-NAM org-OPCW org-OAS org-OIC org-PCA org-UN org-UNCTAD org-UNESCO org-UNHCR org-UNIDO org-UNRWA org-UPU org-WCO org-WFTU org-WHO org-WIPO org-WMO org-UNWTO org-WTO', 'car_code': 'RL', 'area': '10400'}\n",
      "country {'capital': 'cty-Westbank-Ramallah', 'car_code': 'WEST', 'area': '5655'}\n",
      "country {'capital': 'cty-Japan-Tokyo', 'memberships': 'org-AfDB org-ARF org-APEC org-ADB org-ASEAN org-AG org-BIS org-SICA org-CP org-CD org-CICA org-SELEC org-CE org-EAS org-EBRD org-CERN org-EITI org-FATF org-FAO org-G-10 org-G-20 org-G-5 org-G-7 org-G-8 org-IADB org-IGAD org-IPU org-IAEA org-IBRD org-ICC org-ICAO org-ICJ org-ICCt org-Interpol org-IDA org-IEA org-IFRCS org-IFC org-IFAD org-IHO org-ILO org-IMO org-IMSO org-IMF org-IOC org-IOM org-ITSO org-ITU org-ITUC org-LAIA org-MIGA org-NEA org-NSG org-OECD org-OPCW org-OAS org-PIF org-PCA org-SAARC org-UN org-UNCTAD org-UNESCO org-UNHCR org-UNIDO org-UNMIT org-UNMISS org-UNRWA org-UPU org-WCO org-WFTU org-WHO org-WIPO org-WMO org-UNWTO org-WTO org-ZC', 'car_code': 'J', 'area': '377835'}\n",
      "country {'capital': 'cty-South-Korea-2', 'memberships': 'org-AfDB org-UNAMID org-ARF org-APEC org-ADB org-ASEAN org-AG org-BIS org-SICA org-CP org-CD org-CICA org-EAS org-EBRD org-FATF org-FAO org-G-20 org-IADB org-IPU org-IAEA org-IBRD org-ICC org-ICAO org-ICCt org-Interpol org-IDA org-IEA org-IFRCS org-IFC org-IFAD org-IHO org-ILO org-IMO org-IMSO org-IMF org-IOC org-IOM org-ITSO org-ITU org-ITUC org-LAIA org-MIGA org-NEA org-NSG org-OECD org-OPCW org-OAS org-PIF org-PCA org-SAARC org-UN org-UNCTAD org-UNESCO org-UNHCR org-UNIDO org-UNIFIL org-UNMOGIP org-MINURSO org-UNMIL org-UNMISS org-UNOCI org-UNSC org-UPU org-WCO org-WHO org-WIPO org-WMO org-UNWTO org-WTO org-ZC', 'car_code': 'ROK', 'area': '98480'}\n",
      "country {'capital': 'cty-Maldives-Male', 'memberships': 'org-AOSIS org-ADB org-CP org-C org-FAO org-G-77 org-IPU org-IBRD org-ICAO org-ICCt org-Interpol org-IDA org-IFRCS org-IFC org-IFAD org-ILO org-IMO org-IMF org-IOC org-IOM org-ITU org-IDB org-MIGA org-NAM org-OPCW org-OIC org-SACEP org-SAARC org-UN org-UNCTAD org-UNESCO org-UNIDO org-UPU org-WCO org-WHO org-WIPO org-WMO org-UNWTO org-WTO', 'car_code': 'MV', 'area': '300'}\n",
      "country {'capital': 'cty-Oman-Muscat', 'memberships': 'org-ABEDA org-AFESD org-AMF org-CAEU org-FAO org-G-77 org-GCC org-IPU org-IAEA org-IBRD org-ICC org-ICAO org-Interpol org-IDA org-IFC org-IFAD org-IHO org-ILO org-IMO org-IMSO org-IMF org-IOC org-ITSO org-ITU org-IDB org-LAS org-MIGA org-NAM org-OPCW org-OIC org-UN org-UNCTAD org-UNESCO org-UNIDO org-UPU org-WCO org-WFTU org-WHO org-WIPO org-WMO org-UNWTO org-WTO', 'car_code': 'OM', 'area': '212460'}\n",
      "country {'capital': 'cty-United-Arab-Emirates-3', 'memberships': 'org-AfDB org-ABEDA org-AFESD org-AMF org-BIS org-CICA org-CAEU org-FAO org-G-77 org-GCC org-IPU org-IAEA org-IBRD org-ICC org-ICAO org-Interpol org-IDA org-IFRCS org-IFC org-IFAD org-IHO org-ILO org-IMO org-IMSO org-IMF org-IOC org-OIF org-ITSO org-ITU org-IDB org-LAS org-MIGA org-NAM org-OPCW org-OAPEC org-OIC org-OPEC org-PCA org-UN org-UNCTAD org-UNESCO org-UNIDO org-UPU org-WCO org-WHO org-WIPO org-WMO org-UNWTO org-WTO', 'car_code': 'UAE', 'area': '75581'}\n",
      "country {'capital': 'cty-Yemen-Sanaa', 'memberships': 'org-UNAMID org-AFESD org-AMF org-CD org-CAEU org-EITI org-FAO org-G-77 org-IPU org-IAEA org-IBRD org-ICAO org-Interpol org-IDA org-IFC org-IFAD org-ILO org-IMO org-IMSO org-IMF org-IOC org-IOM org-ITSO org-ITU org-ITUC org-IDB org-LAS org-MIGA org-NAM org-OPCW org-OAS org-OIC org-UN org-UNCTAD org-UNESCO org-UNHCR org-UNIDO org-UNISFA org-MINURSO org-UNMIL org-UNMISS org-UNOCI org-MONUSCO org-UPU org-WCO org-WFTU org-WHO org-WIPO org-WMO org-UNWTO org-WTO', 'car_code': 'YE', 'area': '527970'}\n",
      "country {'capital': 'cty-RP-13', 'memberships': 'org-ARF org-APEC org-ADB org-ASEAN org-BIS org-CP org-CD org-CICA org-EAS org-EITI org-G-24 org-G-77 org-IPU org-IAEA org-ICC org-ICJ org-ICCt org-Interpol org-IDA org-IFRCS org-IFAD org-IHO org-IMSO org-IOC org-IOM org-ITSO org-ITUC org-NAM org-OPCW org-OAS org-PIF org-PCA org-UN org-UNDOF org-UNHCR org-UNMIT org-UNISFA org-UNMOGIP org-UNMIL org-UNOCI org-WCO org-WFTU org-UNWTO org-WTO', 'car_code': 'RP', 'area': '299764'}\n",
      "country {'capital': 'cty-Qatar-Doha', 'memberships': 'org-ABEDA org-AFESD org-AMF org-CD org-CICA org-CAEU org-EITI org-FAO org-G-77 org-GCC org-IPU org-IAEA org-IBRD org-ICC org-ICAO org-Interpol org-IFRCS org-IFC org-IFAD org-IHO org-ILO org-IMO org-IMSO org-IMF org-IOC org-IOM org-OIF org-ITSO org-ITU org-IDB org-LAS org-MIGA org-NAM org-OPCW org-OAS org-OAPEC org-OIC org-OPEC org-PCA org-UN org-UNCTAD org-UNESCO org-UNIDO org-UNIFIL org-UPU org-WCO org-WHO org-WIPO org-WMO org-UNWTO org-WTO', 'car_code': 'Q', 'area': '11000'}\n",
      "country {'capital': 'cty-Singapore-Singapore', 'memberships': 'org-AOSIS org-ARF org-APEC org-ADB org-ASEAN org-BIS org-CP org-C org-EAS org-FATF org-FAO org-G-77 org-IPU org-IAEA org-IBRD org-ICC org-ICAO org-Interpol org-IDA org-IFRCS org-IFC org-IHO org-ILO org-IMO org-IMSO org-IMF org-IOC org-ITSO org-ITU org-ITUC org-MIGA org-NAM org-OPCW org-PCA org-UN org-UNCTAD org-UNESCO org-UNMIT org-UPU org-WCO org-WHO org-WIPO org-WMO org-WTO', 'car_code': 'SGP', 'area': '632.6'}\n",
      "country {'capital': 'cty-Sri-Lanka-1', 'memberships': 'org-ARF org-ADB org-BIMSTEC org-CP org-C org-CD org-CICA org-FAO org-G-11 org-G-15 org-G-24 org-G-77 org-IPU org-IAEA org-IBRD org-ICC org-ICAO org-Interpol org-IDA org-IFRCS org-IFC org-IFAD org-IHO org-ILO org-IMO org-IMSO org-IMF org-IOC org-IOM org-ITSO org-ITU org-ITUC org-MIGA org-NAM org-OPCW org-OAS org-PCA org-SCO org-SACEP org-SAARC org-UN org-UNCTAD org-UNESCO org-UNIDO org-UNIFIL org-UNISFA org-MINURSO org-UNMISS org-MONUSCO org-UPU org-WCO org-WFTU org-WHO org-WIPO org-WMO org-UNWTO org-WTO', 'car_code': 'CL', 'area': '65610'}\n",
      "country {'capital': 'cty-Taiwan-Taipei', 'memberships': 'org-APEC org-ADB org-BCIE org-ICC org-IOC org-ITUC org-WTO', 'car_code': 'RC', 'area': '36179'}\n",
      "country {'capital': 'city-The-Valley-AXA-AXA', 'memberships': 'org-Caricom org-CDB org-Interpol org-OECS org-UNESCO', 'car_code': 'AXA', 'area': '102'}\n",
      "country {'capital': 'cty-Antigua-and-Barbuda-Saint-Johns', 'memberships': 'org-ACP org-OPANAL org-AOSIS org-Caricom org-CDB org-C org-CELAC org-FAO org-G-77 org-IBRD org-ICAO org-ICCt org-Interpol org-IFRCS org-IFC org-IFAD org-ILO org-IMO org-IMSO org-IMF org-IOC org-IOM org-ISO org-ITU org-ITUC org-MIGA org-NAM org-OPCW org-OAS org-OECS org-UN org-UNCTAD org-UNESCO org-UPU org-WFTU org-WHO org-WIPO org-WMO org-WTO', 'car_code': 'AG', 'area': '442'}\n",
      "country {'capital': 'city-Oranjestad-ARU-ARU', 'memberships': 'org-AOSIS org-Caricom org-FATF org-Interpol org-IMF org-IOC org-ITUC org-UNESCO org-UPU org-UNWTO', 'car_code': 'ARU', 'area': '193'}\n",
      "country {'capital': 'cty-Bahamas-Nassau', 'memberships': 'org-ACP org-OPANAL org-AOSIS org-Caricom org-CDB org-C org-CELAC org-FAO org-G-77 org-IADB org-IBRD org-ICAO org-Interpol org-IDA org-IFRCS org-IFC org-IFAD org-ILO org-IMO org-IMSO org-IMF org-IOC org-IOM org-ITSO org-ITU org-LAES org-MIGA org-NAM org-OPCW org-OAS org-UN org-UNCTAD org-UNESCO org-UNIDO org-UPU org-WCO org-WHO org-WIPO org-WMO org-UNWTO org-WTO', 'car_code': 'BS', 'area': '13940'}\n",
      "country {'capital': 'cty-Barbados-Bridgetown', 'memberships': 'org-ACP org-OPANAL org-AOSIS org-Caricom org-CDB org-C org-CELAC org-FAO org-G-77 org-IADB org-IBRD org-ICAO org-ICJ org-ICCt org-Interpol org-IDA org-IFRCS org-IFC org-IFAD org-ILO org-IMO org-IMF org-IOC org-ITSO org-ITU org-ITUC org-LAES org-MIGA org-NAM org-OPCW org-OAS org-UN org-UNCTAD org-UNESCO org-UNIDO org-UPU org-WCO org-WFTU org-WHO org-WIPO org-WMO org-WTO', 'car_code': 'BDS', 'area': '430'}\n",
      "country {'capital': 'cty-Belize-Belmopan', 'memberships': 'org-ACP org-OPANAL org-AOSIS org-Caricom org-CDB org-SICA org-C org-CD org-CELAC org-FAO org-G-77 org-IADB org-IAEA org-IBRD org-ICAO org-ICCt org-Interpol org-IDA org-IFRCS org-IFC org-IFAD org-ILO org-IMO org-IMF org-IOC org-IOM org-ITU org-ITUC org-LAES org-MIGA org-NAM org-OPCW org-OAS org-PCA org-UN org-UNCTAD org-UNESCO org-UNIDO org-UPU org-WCO org-WHO org-WIPO org-WMO org-WTO', 'car_code': 'BZ', 'area': '22960'}\n",
      "country {'capital': 'cty-Guatemala-Guatemala-City', 'memberships': 'org-OPANAL org-BCIE org-CACM org-SICA org-CD org-CELAC org-EITI org-FAO org-G-24 org-G-77 org-IADB org-IPU org-IAEA org-IBRD org-ICC org-ICAO org-ICCt org-Interpol org-IDA org-IFRCS org-IFC org-IFAD org-IHO org-ILO org-IMO org-IMF org-IOC org-IOM org-ISO org-ITSO org-ITU org-ITUC org-LAES org-LAIA org-MIGA org-NAM org-OPCW org-OAS org-PCA org-UN org-UNCTAD org-UNESCO org-UNIDO org-UNITAR org-UNIFIL org-UNISFA org-UNMISS org-UNOCI org-MONUSCO org-UPU org-WCO org-WFTU org-WHO org-WIPO org-WMO org-UNWTO org-WTO', 'car_code': 'GCA', 'area': '108890'}\n",
      "country {'capital': 'cty-Mexico-Mexico-City', 'memberships': 'org-OPANAL org-APEC org-AG org-BIS org-Caricom org-CDB org-BCIE org-SICA org-CD org-CELAC org-CE org-EBRD org-FATF org-FAO org-G-15 org-G-20 org-G-24 org-G-3 org-IADB org-IPU org-IAEA org-IBRD org-ICC org-ICAO org-ICJ org-ICCt org-Interpol org-IDA org-IFRCS org-IFC org-IFAD org-IHO org-ILO org-IMO org-IMSO org-IMF org-IOC org-IOM org-ITSO org-ITU org-ITUC org-LAES org-LAIA org-MIGA org-NAM org-NAFTA org-NEA org-NSG org-OECD org-OPCW org-OAS org-PCA org-UNASUR org-UN org-UNCTAD org-UNESCO org-UNHCR org-UNIDO org-UPU org-WCO org-WFTU org-WHO org-WIPO org-WMO org-UNWTO org-WTO', 'car_code': 'MEX', 'area': '1972550'}\n",
      "country {'capital': 'city-Hamilton-BERM-BERM', 'memberships': 'org-Caricom org-ICC org-Interpol org-IOC org-ITUC org-UPU org-WCO', 'car_code': 'BERM', 'area': '53.3'}\n",
      "country {'capital': 'city-Road-Town-BVIR-BVIR', 'memberships': 'org-Caricom org-CDB org-Interpol org-IOC org-OECS org-UNESCO org-UPU', 'car_code': 'BVIR', 'area': '153'}\n",
      "country {'capital': 'cty-Canada-13', 'memberships': 'org-AfDB org-ARF org-APEC org-ADB org-ASEAN org-AG org-BIS org-CDB org-C org-CD org-SELEC org-CE org-EAPC org-EBRD org-EITI org-FATF org-FAO org-G-10 org-G-20 org-G-7 org-G-8 org-IADB org-IGAD org-IPU org-IAEA org-IBRD org-ICC org-ICAO org-ICJ org-ICCt org-Interpol org-IDA org-IEA org-IFRCS org-IFC org-IFAD org-IHO org-ILO org-IMO org-IMSO org-IMF org-IOC org-IOM org-OIF org-ITSO org-ITU org-ITUC org-MIGA org-NAFTA org-NATO org-NEA org-NSG org-OECD org-OSCE org-OPCW org-OAS org-PIF org-PCA org-UN org-UNCTAD org-UNESCO org-UNHCR org-UNMISS org-MONUSCO org-UNFICYP org-UNRWA org-UNTSO org-UPU org-WCO org-WFTU org-WHO org-WIPO org-WMO org-WTO org-ZC', 'car_code': 'CDN', 'area': '9976140'}\n",
      "country {'capital': 'cty-United-States-22', 'memberships': 'org-AfDB org-ARF org-APEC org-ADB org-ASEAN org-AG org-ANZUS org-BIS org-SICA org-CP org-CD org-CICA org-SELEC org-CE org-CBSS org-EAS org-EAPC org-EBRD org-CERN org-EITI org-FATF org-FAO org-G-10 org-G-20 org-G-5 org-G-7 org-G-8 org-IADB org-IGAD org-IAEA org-IBRD org-ICC org-ICAO org-Interpol org-IDA org-IEA org-IFRCS org-IFC org-IFAD org-IHO org-ILO org-IMO org-IMSO org-IMF org-IOC org-IOM org-ITSO org-ITU org-ITUC org-MIGA org-NAFTA org-NATO org-NEA org-NSG org-OECD org-OSCE org-OPCW org-OAS org-PIF org-PCA org-SPC org-SAARC org-UN org-UNCTAD org-UNESCO org-UNHCR org-UNMIL org-UNMISS org-MONUSCO org-UNRWA org-UNSC org-UNTSO org-UPU org-WCO org-WHO org-WIPO org-WMO org-WTO org-ZC', 'car_code': 'USA', 'area': '9372610'}\n",
      "country {'capital': 'city-George-Town-CAYM-CAYM', 'memberships': 'org-Caricom org-CDB org-Interpol org-IOC org-UNESCO org-UPU', 'car_code': 'CAYM', 'area': '262'}\n",
      "country {'capital': 'cty-Costa-Rica-2', 'memberships': 'org-OPANAL org-BCIE org-CACM org-SICA org-CD org-CELAC org-FAO org-G-77 org-IADB org-IPU org-IAEA org-IBRD org-ICC org-ICAO org-ICJ org-ICCt org-Interpol org-IDA org-IFRCS org-IFC org-IFAD org-ILO org-IMO org-IMSO org-IMF org-IOC org-IOM org-ITSO org-ITU org-ITUC org-LAES org-LAIA org-MIGA org-NAM org-OPCW org-OAS org-PCA org-UN org-UNCTAD org-UNESCO org-UNHCR org-UNIDO org-UPU org-WCO org-WFTU org-WHO org-WIPO org-WMO org-UNWTO org-WTO', 'car_code': 'CR', 'area': '51100'}\n",
      "country {'capital': 'cty-Nicaragua-Managua', 'memberships': 'org-OPANAL org-BCIE org-CACM org-SICA org-CD org-CELAC org-FAO org-G-77 org-IADB org-IPU org-IAEA org-IBRD org-ICAO org-ICJ org-Interpol org-IDA org-IFRCS org-IFC org-IFAD org-ILO org-IMO org-IMF org-IOC org-IOM org-ISO org-ITSO org-ITU org-ITUC org-LAES org-LAIA org-MIGA org-NAM org-OPCW org-OAS org-PCA org-UN org-UNCTAD org-UNESCO org-UNHCR org-UNIDO org-UPU org-WCO org-WHO org-WIPO org-WMO org-UNWTO org-WTO', 'car_code': 'NIC', 'area': '129494'}\n",
      "country {'capital': 'cty-Panama-Panama-City', 'memberships': 'org-OPANAL org-BCIE org-SICA org-CD org-CELAC org-FAO org-G-77 org-IADB org-IPU org-IAEA org-IBRD org-ICC org-ICAO org-ICJ org-ICCt org-Interpol org-IDA org-IFRCS org-IFC org-IFAD org-ILO org-IMO org-IMSO org-IMF org-IOC org-IOM org-ITSO org-ITU org-ITUC org-LAES org-LAIA org-MIGA org-NAM org-OPCW org-OAS org-PCA org-UNASUR org-UN org-UNCTAD org-UNESCO org-UNIDO org-UPU org-WCO org-WFTU org-WHO org-WIPO org-WMO org-UNWTO org-WTO', 'car_code': 'PA', 'area': '78200'}\n",
      "country {'capital': 'cty-Cuba-Havana', 'memberships': 'org-ACP org-OPANAL org-AOSIS org-CELAC org-FAO org-G-77 org-IPU org-IAEA org-ICC org-ICAO org-Interpol org-IFRCS org-IFAD org-IHO org-ILO org-IMO org-IMSO org-IOC org-IOM org-ITSO org-ITU org-LAES org-LAIA org-NAM org-OPCW org-OAS org-PCA org-UN org-UNCTAD org-UNESCO org-UNIDO org-UPU org-WCO org-WFTU org-WHO org-WIPO org-WMO org-UNWTO org-WTO', 'car_code': 'C', 'area': '110860'}\n",
      "country {'capital': 'cty-Dominica-Roseau', 'memberships': 'org-ACP org-OPANAL org-AOSIS org-Caricom org-CDB org-C org-CD org-CELAC org-FAO org-G-77 org-IAEA org-IBRD org-ICJ org-ICCt org-Interpol org-IDA org-IFRCS org-IFC org-IFAD org-ILO org-IMO org-IMF org-IOC org-ISO org-OIF org-ITU org-ITUC org-MIGA org-NAM org-OPCW org-OAS org-OECS org-UN org-UNCTAD org-UNESCO org-UNIDO org-UPU org-WHO org-WIPO org-WMO org-WTO', 'car_code': 'WD', 'area': '746'}\n",
      "country {'capital': 'cty-Dominican-Republic-Santo-Domingo', 'memberships': 'org-ACP org-OPANAL org-AOSIS org-Caricom org-BCIE org-SICA org-CD org-CELAC org-FAO org-G-77 org-IADB org-IPU org-IAEA org-IBRD org-ICC org-ICAO org-ICJ org-ICCt org-Interpol org-IDA org-IFRCS org-IFC org-IFAD org-IHO org-ILO org-IMO org-IMF org-IOC org-IOM org-ISO org-OIF org-ITSO org-ITU org-ITUC org-LAES org-LAIA org-MIGA org-NAM org-OPCW org-OAS org-PCA org-UN org-UNCTAD org-UNESCO org-UNIDO org-UPU org-WCO org-WFTU org-WHO org-WIPO org-WMO org-UNWTO org-WTO', 'car_code': 'DOM', 'area': '48730'}\n",
      "country {'capital': 'cty-Haiti-Port-au-Prince', 'memberships': 'org-ACP org-OPANAL org-AOSIS org-Caricom org-CDB org-CD org-CELAC org-FAO org-G-77 org-IADB org-IPU org-IAEA org-IBRD org-ICC org-ICAO org-ICJ org-Interpol org-IDA org-IFRCS org-IFC org-IFAD org-ILO org-IMO org-IMF org-IOC org-IOM org-OIF org-ITSO org-ITU org-ITUC org-LAES org-MIGA org-NAM org-OPCW org-OAS org-PCA org-UN org-UNCTAD org-UNESCO org-UNIDO org-UPU org-WCO org-WFTU org-WHO org-WIPO org-WMO org-UNWTO org-WTO', 'car_code': 'RH', 'area': '27750'}\n",
      "country {'capital': 'cty-El-Salvador-2', 'memberships': 'org-OPANAL org-BCIE org-CACM org-SICA org-CD org-CELAC org-FAO org-G-11 org-G-77 org-IADB org-IPU org-IAEA org-IBRD org-ICC org-ICAO org-Interpol org-IDA org-IFRCS org-IFC org-IFAD org-ILO org-IMO org-IMF org-IOC org-IOM org-ITSO org-ITU org-ITUC org-LAES org-LAIA org-MIGA org-NAM org-OPCW org-OAS org-PCA org-UN org-UNCTAD org-UNESCO org-UNIDO org-UNIFIL org-MINURSO org-UNMIL org-UNMISS org-UNOCI org-UPU org-WCO org-WFTU org-WHO org-WIPO org-WMO org-UNWTO org-WTO', 'car_code': 'ES', 'area': '21040'}\n",
      "country {'capital': 'cty-Honduras-Tegucigalpa', 'memberships': 'org-OPANAL org-BCIE org-CACM org-SICA org-CD org-CELAC org-EITI org-FAO org-G-11 org-G-77 org-IADB org-IPU org-IAEA org-IBRD org-ICC org-ICAO org-ICJ org-ICCt org-Interpol org-IDA org-IFRCS org-IFC org-IFAD org-ILO org-IMO org-IMF org-IOC org-IOM org-ISO org-ITSO org-ITU org-ITUC org-LAES org-LAIA org-MIGA org-NAM org-OPCW org-OAS org-PCA org-UN org-UNCTAD org-UNESCO org-UNIDO org-MINURSO org-UPU org-WCO org-WFTU org-WHO org-WIPO org-WMO org-UNWTO org-WTO', 'car_code': 'HCA', 'area': '112090'}\n",
      "country {'capital': 'cty-Greenland-Nuuk', 'memberships': 'org-NC org-UPU', 'car_code': 'GROX', 'area': '2175600'}\n",
      "country {'capital': 'cty-Grenada-Saint-Georges', 'memberships': 'org-ACP org-OPANAL org-AOSIS org-Caricom org-CDB org-C org-CELAC org-FAO org-G-77 org-IBRD org-ICAO org-ICCt org-Interpol org-IDA org-IFRCS org-IFC org-IFAD org-ILO org-IMO org-IMF org-IOC org-ITU org-ITUC org-LAES org-MIGA org-NAM org-OPCW org-OAS org-OECS org-UN org-UNCTAD org-UNESCO org-UNIDO org-UPU org-WHO org-WIPO org-WTO', 'car_code': 'WG', 'area': '344'}\n",
      "country {'capital': 'cty-GUAD-Basse-Terre', 'memberships': 'org-UPU org-WFTU', 'car_code': 'GUAD', 'area': '1628'}\n",
      "country {'capital': 'cty-Jamaica-Kingston', 'memberships': 'org-ACP org-OPANAL org-AOSIS org-Caricom org-CDB org-C org-CELAC org-FAO org-G-15 org-G-77 org-IADB org-IAEA org-IBRD org-ICAO org-Interpol org-IFRCS org-IFC org-IFAD org-IHO org-ILO org-IMO org-IMF org-IOC org-IOM org-ITSO org-ITU org-LAES org-MIGA org-NAM org-OPCW org-OAS org-UN org-UNCTAD org-UNESCO org-UNIDO org-UNITAR org-UPU org-WCO org-WFTU org-WHO org-WIPO org-WMO org-UNWTO org-WTO', 'car_code': 'JA', 'area': '10991'}\n",
      "country {'capital': 'cty-MART-Fort-de-France', 'memberships': 'org-UPU org-WFTU', 'car_code': 'MART', 'area': '1128'}\n",
      "country {'capital': 'city-Plymouth-MNTS-MNTS', 'memberships': 'org-Caricom org-CDB org-Interpol org-OECS org-UPU', 'car_code': 'MNTS', 'area': '102'}\n",
      "country {'capital': 'city-Willemstad-CUR', 'memberships': 'org-AOSIS org-Caricom org-FATF org-Interpol org-IMF org-ITUC org-UNESCO org-UPU org-WCO', 'car_code': 'CUR', 'area': '444'}\n",
      "country {'capital': 'city-Philipsburg-NLSM', 'memberships': 'org-AOSIS org-Caricom org-FATF org-Interpol org-IMF org-UNESCO org-UPU', 'car_code': 'NLSM', 'area': '34'}\n",
      "country {'capital': 'city-Marigot-SMAR', 'memberships': 'org-UPU', 'car_code': 'SMAR', 'area': '54'}\n",
      "country {'capital': 'city-Gustavia-SBAR', 'memberships': 'org-UPU', 'car_code': 'SBAR', 'area': '21'}\n",
      "country {'capital': 'cty-Colombia-Bogota', 'memberships': 'org-OPANAL org-CAN org-BIS org-Caricom org-CDB org-BCIE org-CD org-CELAC org-FAO org-G-24 org-G-3 org-G-77 org-IADB org-IPU org-IAEA org-IBRD org-ICC org-ICAO org-ICCt org-Interpol org-IDA org-IFRCS org-IFC org-IFAD org-IHO org-ILO org-IMO org-IMSO org-IMF org-IOC org-IOM org-ITSO org-ITU org-ITUC org-LAES org-LAIA org-MIGA org-NAM org-OPCW org-OAS org-PCA org-Mercosur org-UNASUR org-UN org-UNCTAD org-UNESCO org-UNHCR org-UNIDO org-UPU org-WCO org-WFTU org-WHO org-WIPO org-WMO org-UNWTO org-WTO', 'car_code': 'CO', 'area': '1138910'}\n",
      "country {'capital': 'city-San-Juan-PR-PR', 'memberships': 'org-AOSIS org-Caricom org-Interpol org-IOC org-UPU org-WFTU org-UNWTO', 'car_code': 'PR', 'area': '8870'}\n",
      "country {'capital': 'cty-Saint-Kitts-and-Nevis-Basseterre', 'memberships': 'org-ACP org-OPANAL org-AOSIS org-Caricom org-CDB org-C org-CELAC org-FAO org-G-77 org-IBRD org-ICAO org-ICCt org-Interpol org-IDA org-IFRCS org-IFC org-IFAD org-ILO org-IMO org-IMF org-IOC org-ITU org-MIGA org-NAM org-OPCW org-OAS org-OECS org-UN org-UNCTAD org-UNESCO org-UNIDO org-UPU org-WHO org-WIPO org-WTO', 'car_code': 'KN', 'area': '269'}\n",
      "country {'capital': 'cty-Saint-Lucia-Castries', 'memberships': 'org-ACP org-OPANAL org-AOSIS org-Caricom org-CDB org-C org-CD org-CELAC org-FAO org-G-77 org-IBRD org-ICAO org-ICCt org-Interpol org-IDA org-IFRCS org-IFC org-IFAD org-ILO org-IMO org-IMF org-IOC org-OIF org-ITU org-ITUC org-MIGA org-NAM org-OPCW org-OAS org-OECS org-UN org-UNCTAD org-UNESCO org-UNIDO org-UPU org-WCO org-WFTU org-WHO org-WIPO org-WMO org-WTO', 'car_code': 'WL', 'area': '620'}\n",
      "country {'capital': 'cty-SPMI-Saint-Pierre', 'memberships': 'org-UPU org-WFTU', 'car_code': 'SPMI', 'area': '242'}\n",
      "country {'capital': 'cty-Saint-Vincent-and-the-Grenadines-Kingstown', 'memberships': 'org-ACP org-OPANAL org-AOSIS org-Caricom org-CDB org-C org-CELAC org-FAO org-G-77 org-IBRD org-ICAO org-ICCt org-Interpol org-IDA org-IFRCS org-IFAD org-ILO org-IMO org-IMF org-IOC org-IOM org-ISO org-ITU org-MIGA org-NAM org-OPCW org-OAS org-OECS org-UN org-UNCTAD org-UNESCO org-UNIDO org-UPU org-WFTU org-WHO org-WIPO org-WTO', 'car_code': 'WV', 'area': '389'}\n",
      "country {'capital': 'cty-Trinidad-and-Tobago-Port-of-Spain', 'memberships': 'org-ACP org-OPANAL org-AOSIS org-Caricom org-CDB org-C org-CELAC org-EITI org-FAO org-G-24 org-G-77 org-IADB org-IPU org-IAEA org-IBRD org-ICAO org-ICCt org-Interpol org-IDA org-IFRCS org-IFC org-IFAD org-IHO org-ILO org-IMO org-IMF org-IOC org-IOM org-ITSO org-ITU org-ITUC org-LAES org-MIGA org-NAM org-OPCW org-OAS org-UN org-UNCTAD org-UNESCO org-UNIDO org-UPU org-WCO org-WFTU org-WHO org-WIPO org-WMO org-UNWTO org-WTO', 'car_code': 'TT', 'area': '5130'}\n",
      "country {'capital': 'city-Grand-Turk-TUCA-TUCA', 'memberships': 'org-Caricom org-CDB org-Interpol org-UPU', 'car_code': 'TUCA', 'area': '430'}\n",
      "country {'capital': 'cty-VIRG-Charlotte-Amalie', 'memberships': 'org-AOSIS org-IOC org-UPU', 'car_code': 'VIRG', 'area': '352'}\n",
      "country {'capital': 'city-Pago-Pago-AMSA-AMSA', 'memberships': 'org-AOSIS org-Interpol org-IOC org-PIF org-SPC org-UPU', 'car_code': 'AMSA', 'area': '199'}\n",
      "country {'capital': 'cty-Australia-8', 'memberships': 'org-ARF org-APEC org-ADB org-ASEAN org-AG org-ANZUS org-BIS org-SICA org-CP org-C org-CD org-EAS org-EBRD org-EITI org-FATF org-FAO org-G-20 org-IPU org-IAEA org-IBRD org-ICC org-ICAO org-ICJ org-ICCt org-Interpol org-IDA org-IEA org-IFRCS org-IFC org-IHO org-ILO org-IMO org-IMSO org-IMF org-IOC org-IOM org-ITSO org-ITU org-ITUC org-MIGA org-NEA org-NSG org-OECD org-OPCW org-PIF org-PCA org-SPC org-SAARC org-Sparteca org-UN org-UNCTAD org-UNESCO org-UNHCR org-UNMIT org-UNMISS org-UNRWA org-UNSC org-UNTSO org-UPU org-WCO org-WFTU org-WHO org-WIPO org-WMO org-UNWTO org-WTO org-ZC', 'car_code': 'AUS', 'area': '7686850'}\n",
      "country {'capital': 'city-Avarua-COOK-COOK', 'memberships': 'org-ACP org-AOSIS org-ADB org-FAO org-ICAO org-ICCt org-IFRCS org-IFAD org-IMO org-IMSO org-IOC org-ITUC org-OPCW org-PIF org-SPC org-Sparteca org-UNESCO org-UPU org-WHO org-WMO', 'car_code': 'COOK', 'area': '240'}\n",
      "country {'capital': 'cty-Fiji-Suva', 'memberships': 'org-ACP org-AOSIS org-ADB org-CP org-C org-FAO org-G-77 org-IAEA org-IBRD org-ICAO org-ICCt org-Interpol org-IDA org-IFRCS org-IFC org-IFAD org-IHO org-ILO org-IMO org-IMF org-IOC org-ITSO org-ITU org-ITUC org-MIGA org-NAM org-OPCW org-PIF org-PCA org-SPC org-Sparteca org-UN org-UNCTAD org-UNDOF org-UNESCO org-UNIDO org-UNMIT org-UNMISS org-UPU org-WCO org-WFTU org-WHO org-WIPO org-WMO org-UNWTO org-WTO', 'car_code': 'FJI', 'area': '18270'}\n",
      "country {'capital': 'city-Papeete-FPOL-FPOL', 'memberships': 'org-ITUC org-PIF org-SPC org-UPU', 'car_code': 'FPOL', 'area': '4167'}\n",
      "country {'capital': 'city-Agana-GUAM', 'memberships': 'org-AOSIS org-IOC org-PIF org-SPC org-UPU', 'car_code': 'GUAM', 'area': '541.3'}\n",
      "country {'capital': 'cty-Kiribati-Tarawa', 'memberships': 'org-ACP org-AOSIS org-ADB org-C org-FAO org-G-77 org-IBRD org-ICAO org-IDA org-IFRCS org-IFC org-IFAD org-ILO org-IMO org-IMF org-IOC org-ITU org-ITUC org-OPCW org-PIF org-SPC org-Sparteca org-UN org-UNCTAD org-UNESCO org-UPU org-WHO org-WIPO org-WMO', 'car_code': 'KIR', 'area': '717'}\n",
      "country {'capital': 'cty-Marshall-Islands-Majuro', 'memberships': 'org-ACP org-AOSIS org-ADB org-FAO org-G-77 org-IAEA org-IBRD org-ICAO org-ICJ org-ICCt org-Interpol org-IDA org-IFC org-IFAD org-ILO org-IMO org-IMSO org-IMF org-IOC org-ITU org-OPCW org-PIF org-SPC org-Sparteca org-UN org-UNCTAD org-UNESCO org-WHO', 'car_code': 'MH', 'area': '181.3'}\n",
      "country {'capital': 'cty-Micronesia-Palikir', 'memberships': 'org-ACP org-AOSIS org-ADB org-FAO org-G-77 org-IPU org-IBRD org-ICAO org-IDA org-IFRCS org-IFC org-IMF org-IOC org-IOM org-ITSO org-ITU org-MIGA org-OPCW org-PIF org-SPC org-Sparteca org-UN org-UNCTAD org-UNESCO org-WHO org-WMO', 'car_code': 'FSM', 'area': '702'}\n",
      "country {'capital': 'cty-Yaren', 'memberships': 'org-ACP org-AOSIS org-ADB org-C org-FAO org-G-77 org-ICAO org-ICCt org-Interpol org-IFAD org-IOC org-IOM org-ITU org-OPCW org-PIF org-SPC org-Sparteca org-UN org-UNCTAD org-UNESCO org-UPU org-WHO', 'car_code': 'NAU', 'area': '21'}\n",
      "country {'capital': 'cty-New-Caledonia-Noumea', 'memberships': 'org-ITUC org-PIF org-SPC org-UPU org-WFTU', 'car_code': 'NCA', 'area': '19060'}\n",
      "country {'capital': 'cty-New-Zealand-Wellington', 'memberships': 'org-ARF org-APEC org-ADB org-ASEAN org-AG org-ANZUS org-BIS org-CP org-C org-CD org-EAS org-EBRD org-FATF org-FAO org-IPU org-IAEA org-IBRD org-ICC org-ICAO org-ICJ org-ICCt org-Interpol org-IDA org-IEA org-IFRCS org-IFC org-IFAD org-IHO org-ILO org-IMO org-IMSO org-IMF org-IOC org-IOM org-ITSO org-ITU org-ITUC org-MIGA org-NSG org-OECD org-OPCW org-PIF org-PCA org-SPC org-Sparteca org-UN org-UNCTAD org-UNESCO org-UNHCR org-UNIDO org-UNMIT org-UNMISS org-UNTSO org-UPU org-WCO org-WFTU org-WHO org-WIPO org-WMO org-WTO org-ZC', 'car_code': 'NZ', 'area': '268680'}\n",
      "country {'capital': 'city-Alofi-NIUE-NIUE', 'memberships': 'org-ACP org-AOSIS org-FAO org-IFAD org-OPCW org-PIF org-SPC org-Sparteca org-UNESCO org-UPU org-WHO org-WMO', 'car_code': 'NIUE', 'area': '260'}\n",
      "country {'capital': 'cty-NORF-Kingston', 'memberships': 'org-UPU', 'car_code': 'NORF', 'area': '34.6'}\n",
      "country {'capital': 'city-Saipan-NMIS-NMIS', 'memberships': 'org-SPC org-UPU', 'car_code': 'NMIS', 'area': '477'}\n",
      "country {'capital': 'cty-Palau-Melekeok', 'memberships': 'org-UNAMID org-ACP org-AOSIS org-ADB org-FAO org-IPU org-IAEA org-IBRD org-ICAO org-IDA org-IFRCS org-IFC org-ILO org-IMO org-IMSO org-IMF org-IOC org-MIGA org-OPCW org-PIF org-SPC org-Sparteca org-UN org-UNCTAD org-UNESCO org-WHO', 'car_code': 'PAL', 'area': '458'}\n",
      "country {'capital': 'city-Adamstown-PITC-PITC', 'memberships': 'org-SPC org-UPU', 'car_code': 'PITC', 'area': '47'}\n",
      "country {'capital': 'cty-Solomon-Islands-Honiara', 'memberships': 'org-ACP org-AOSIS org-ADB org-C org-EITI org-FAO org-G-77 org-IBRD org-ICAO org-IDA org-IFRCS org-IFC org-IFAD org-ILO org-IMO org-IMF org-IOC org-ITU org-MIGA org-OPCW org-PIF org-SPC org-Sparteca org-UN org-UNCTAD org-UNESCO org-UPU org-WFTU org-WHO org-WMO org-WTO', 'car_code': 'SLB', 'area': '28450'}\n",
      "country {'capital': 'cty-Tonga-Nukualofa', 'memberships': 'org-ACP org-AOSIS org-ADB org-C org-FAO org-G-77 org-IAEA org-IBRD org-ICAO org-Interpol org-IDA org-IFRCS org-IFC org-IFAD org-IHO org-IMO org-IMSO org-IMF org-IOC org-ITU org-ITUC org-OPCW org-PIF org-SPC org-Sparteca org-UN org-UNCTAD org-UNESCO org-UNIDO org-UPU org-WCO org-WHO org-WIPO org-WMO org-WTO', 'car_code': 'TO', 'area': '748'}\n",
      "country {'capital': 'cty-Tuvalu-Funafuti', 'memberships': 'org-ACP org-AOSIS org-ADB org-C org-FAO org-IBRD org-IDA org-IFRCS org-IFAD org-ILO org-IMO org-IMF org-IOC org-ITU org-OPCW org-PIF org-SPC org-Sparteca org-UN org-UNCTAD org-UNESCO org-UNIDO org-UPU org-WHO org-WMO', 'car_code': 'TUV', 'area': '26'}\n",
      "country {'capital': 'cty-Tokelau-Fakaofo', 'memberships': 'org-FAO org-PIF org-SPC org-UNESCO org-UPU', 'car_code': 'TOK', 'area': '12'}\n",
      "country {'capital': 'cty-Vanuatu-Port-Vila', 'memberships': 'org-ACP org-AOSIS org-ADB org-C org-FAO org-G-77 org-IBRD org-ICAO org-ICCt org-IDA org-IFRCS org-IFC org-IFAD org-ILO org-IMO org-IMSO org-IMF org-IOC org-IOM org-OIF org-ITU org-ITUC org-MIGA org-NAM org-OPCW org-OAS org-PIF org-SPC org-Sparteca org-UN org-UNCTAD org-UNESCO org-UNIDO org-UPU org-WCO org-WFTU org-WHO org-WIPO org-WMO org-UNWTO org-WTO', 'car_code': 'VU', 'area': '14760'}\n",
      "country {'capital': 'city-Mata-Utu-WAFU-WAFU', 'memberships': 'org-PIF org-SPC org-UPU', 'car_code': 'WAFU', 'area': '274'}\n",
      "country {'capital': 'cty-Samoa-Apia', 'memberships': 'org-ACP org-AOSIS org-ADB org-C org-FAO org-G-77 org-IPU org-IBRD org-ICAO org-ICCt org-Interpol org-IDA org-IFRCS org-IFC org-IFAD org-ILO org-IMO org-IMF org-IOC org-ITU org-ITUC org-MIGA org-OPCW org-PIF org-SPC org-Sparteca org-UN org-UNCTAD org-UNESCO org-UNIDO org-UPU org-WCO org-WHO org-WIPO org-WMO org-WTO', 'car_code': 'WS', 'area': '2860'}\n",
      "country {'capital': 'cty-Argentina-Buenos-Aires', 'memberships': 'org-AfDB org-OPANAL org-CAN org-AG org-BIS org-BCIE org-SICA org-CD org-CELAC org-FATF org-FAO org-G-15 org-G-20 org-G-24 org-G-77 org-IADB org-IPU org-IAEA org-IBRD org-ICC org-ICAO org-ICCt org-Interpol org-IDA org-IFRCS org-IFC org-IFAD org-IHO org-ILO org-IMO org-IMSO org-IMF org-IOC org-IOM org-ITSO org-ITU org-ITUC org-LAES org-LAIA org-MIGA org-NAM org-NSG org-OPCW org-OAS org-PCA org-Mercosur org-UNASUR org-UN org-UNCTAD org-UNESCO org-UNHCR org-UNIDO org-MINURSO org-UNFICYP org-UNSC org-UNTSO org-UPU org-WCO org-WFTU org-WHO org-WIPO org-WMO org-UNWTO org-WTO org-ZC', 'car_code': 'RA', 'area': '2766890'}\n",
      "country {'capital': 'cty-BOL-1', 'memberships': 'org-UNAMID org-OPANAL org-CAN org-CD org-CELAC org-FAO org-G-77 org-IADB org-IPU org-IAEA org-IBRD org-ICC org-ICAO org-ICCt org-Interpol org-IDA org-IFRCS org-IFC org-IFAD org-ILO org-IMO org-IMF org-IOC org-IOM org-ISO org-ITSO org-ITU org-LAES org-LAIA org-MIGA org-NAM org-OPCW org-OAS org-PCA org-Mercosur org-UNASUR org-UN org-UNCTAD org-UNESCO org-UNIDO org-UNISFA org-UNMIL org-UNMISS org-UNOCI org-MONUSCO org-UPU org-WCO org-WFTU org-WHO org-WIPO org-WMO org-UNWTO org-WTO', 'car_code': 'BOL', 'area': '1098580'}\n",
      "country {'capital': 'cty-Brazil-Brasilia', 'memberships': 'org-AfDB org-OPANAL org-CAN org-BIS org-SICA org-CD org-CELAC org-CPLP org-FATF org-FAO org-G-15 org-G-20 org-G-24 org-G-77 org-IADB org-IPU org-IAEA org-IBRD org-ICC org-ICAO org-ICCt org-Interpol org-IDA org-IFRCS org-IFC org-IFAD org-IHO org-ILO org-IMO org-IMSO org-IMF org-IOC org-IOM org-ITSO org-ITU org-ITUC org-LAES org-LAIA org-LAS org-MIGA org-NAM org-NSG org-OPCW org-OAS org-PCA org-Mercosur org-UNASUR org-UN org-UNCTAD org-UNESCO org-UNHCR org-UNIDO org-UNITAR org-UNMIT org-UNIFIL org-UNISFA org-MINURSO org-UNMIL org-UNMISS org-UNOCI org-UNFICYP org-UPU org-WCO org-WFTU org-WHO org-WIPO org-WMO org-UNWTO org-WTO', 'car_code': 'BR', 'area': '8511965'}\n",
      "country {'capital': 'cty-Chile-13', 'memberships': 'org-OPANAL org-CAN org-APEC org-BIS org-SICA org-CD org-CELAC org-FAO org-G-15 org-G-77 org-IADB org-IPU org-IAEA org-IBRD org-ICC org-ICAO org-ICCt org-Interpol org-IDA org-IFRCS org-IFC org-IFAD org-IHO org-ILO org-IMO org-IMSO org-IMF org-IOC org-IOM org-ITSO org-ITU org-ITUC org-LAES org-LAIA org-MIGA org-NAM org-OECD org-OPCW org-OAS org-PCA org-Mercosur org-UNASUR org-UN org-UNCTAD org-UNESCO org-UNHCR org-UNIDO org-UNMOGIP org-UNFICYP org-UNSC org-UNTSO org-UPU org-WCO org-WFTU org-WHO org-WIPO org-WMO org-UNWTO org-WTO', 'car_code': 'RCH', 'area': '756950'}\n",
      "country {'capital': 'cty-Paraguay-Asuncion', 'memberships': 'org-OPANAL org-CAN org-CD org-CELAC org-FAO org-G-11 org-G-77 org-IADB org-IPU org-IAEA org-IBRD org-ICAO org-ICJ org-ICCt org-Interpol org-IDA org-IFRCS org-IFC org-IFAD org-ILO org-IMO org-IMF org-IOC org-IOM org-ISO org-ITSO org-ITU org-ITUC org-LAES org-LAIA org-MIGA org-NAM org-OPCW org-OAS org-PCA org-Mercosur org-UNASUR org-UN org-UNCTAD org-UNESCO org-UNIDO org-UNISFA org-MINURSO org-UNMIL org-UNMISS org-UNOCI org-MONUSCO org-UNFICYP org-UPU org-WCO org-WHO org-WIPO org-WMO org-UNWTO org-WTO', 'car_code': 'PY', 'area': '406750'}\n",
      "country {'capital': 'cty-Uruguay-Montevideo', 'memberships': 'org-OPANAL org-CAN org-CD org-CELAC org-FAO org-G-77 org-IADB org-IPU org-IAEA org-IBRD org-ICC org-ICAO org-ICJ org-ICCt org-Interpol org-IFRCS org-IFC org-IFAD org-IHO org-ILO org-IMO org-IMF org-IOC org-IOM org-OIF org-ITSO org-ITU org-LAES org-LAIA org-MIGA org-NAM org-OPCW org-OAS org-PCA org-Mercosur org-UNASUR org-UN org-UNCTAD org-UNESCO org-UNIDO org-UNISFA org-UNMOGIP org-MINURSO org-UNOCI org-MONUSCO org-UPU org-WCO org-WFTU org-WHO org-WIPO org-WMO org-UNWTO org-WTO', 'car_code': 'ROU', 'area': '176220'}\n",
      "country {'capital': 'cty-Peru-Lima', 'memberships': 'org-UNAMID org-OPANAL org-CAN org-APEC org-BIS org-SICA org-CD org-CELAC org-EITI org-FAO org-G-24 org-G-77 org-IADB org-IPU org-IAEA org-IBRD org-ICC org-ICAO org-ICJ org-ICCt org-Interpol org-IDA org-IFRCS org-IFC org-IFAD org-IHO org-ILO org-IMO org-IMSO org-IMF org-IOC org-IOM org-ITSO org-ITU org-ITUC org-LAES org-LAIA org-MIGA org-NAM org-OPCW org-OAS org-PCA org-Mercosur org-UNASUR org-UN org-UNCTAD org-UNESCO org-UNIDO org-UNISFA org-MINURSO org-UNMIL org-UNMISS org-UNOCI org-MONUSCO org-UPU org-WCO org-WFTU org-WHO org-WIPO org-WMO org-UNWTO org-WTO', 'car_code': 'PE', 'area': '1285220'}\n",
      "country {'capital': 'cty-French-Guiana-Cayenne', 'memberships': 'org-UPU org-WFTU', 'car_code': 'FGU', 'area': '83534'}\n",
      "country {'capital': 'cty-Guyana-Georgetown', 'memberships': 'org-ACP org-OPANAL org-AOSIS org-Caricom org-CDB org-C org-CD org-CELAC org-FAO org-G-77 org-IADB org-IBRD org-ICAO org-ICCt org-Interpol org-IDA org-IFRCS org-IFC org-IFAD org-ILO org-IMO org-IMF org-IOC org-IOM org-ISO org-ITU org-LAES org-MIGA org-NAM org-OPCW org-OAS org-OIC org-PCA org-Mercosur org-UNASUR org-UN org-UNCTAD org-UNESCO org-UNIDO org-UPU org-WCO org-WFTU org-WHO org-WIPO org-WMO org-WTO', 'car_code': 'GUY', 'area': '214970'}\n",
      "country {'capital': 'cty-Suriname-Paramaribo', 'memberships': 'org-ACP org-OPANAL org-AOSIS org-Caricom org-CD org-CELAC org-FAO org-G-77 org-IADB org-IPU org-IBRD org-ICAO org-ICJ org-ICCt org-Interpol org-IFRCS org-IFC org-IFAD org-IHO org-ILO org-IMO org-IMF org-IOC org-IOM org-ISO org-ITU org-ITUC org-IDB org-LAES org-MIGA org-NAM org-OPCW org-OAS org-OIC org-PCA org-Mercosur org-UNASUR org-UN org-UNCTAD org-UNESCO org-UNIDO org-UPU org-WHO org-WIPO org-WMO org-WTO', 'car_code': 'SME', 'area': '163270'}\n",
      "country {'capital': 'cty-Venezuela-Caracas', 'memberships': 'org-OPANAL org-Caricom org-CDB org-CD org-CELAC org-FAO org-G-15 org-G-24 org-G-77 org-IADB org-IPU org-IAEA org-IBRD org-ICAO org-ICCt org-Interpol org-IFRCS org-IFC org-IFAD org-IHO org-ILO org-IMO org-IMSO org-IMF org-IOC org-IOM org-ITSO org-ITU org-ITUC org-LAES org-LAIA org-LAS org-MIGA org-NAM org-OPCW org-OAS org-OPEC org-PCA org-Mercosur org-UNASUR org-UN org-UNCTAD org-UNESCO org-UNHCR org-UNIDO org-UPU org-WCO org-WFTU org-WHO org-WIPO org-WMO org-UNWTO org-WTO', 'car_code': 'YV', 'area': '912050'}\n",
      "country {'capital': 'cty-Ecuador-Quito', 'memberships': 'org-UNAMID org-OPANAL org-CAN org-CD org-CELAC org-FAO org-G-11 org-G-77 org-IADB org-IPU org-IAEA org-IBRD org-ICC org-ICAO org-ICCt org-Interpol org-IDA org-IFRCS org-IFC org-IFAD org-IHO org-ILO org-IMO org-IMF org-IOC org-IOM org-ITSO org-ITU org-ITUC org-LAES org-LAIA org-MIGA org-NAM org-OPCW org-OAS org-OPEC org-PCA org-Mercosur org-UNASUR org-UN org-UNCTAD org-UNESCO org-UNHCR org-UNIDO org-UNISFA org-UNMIL org-UNMISS org-UNOCI org-UPU org-WCO org-WFTU org-WHO org-WIPO org-WMO org-UNWTO org-WTO', 'car_code': 'EC', 'area': '283560'}\n",
      "country {'capital': 'city-Stanley-FALK-FALK', 'memberships': 'org-UPU', 'car_code': 'FALK', 'area': '12173'}\n",
      "country {'capital': 'cty-Algeria-Algiers', 'memberships': 'org-AfDB org-AU org-ABEDA org-AFESD org-AMU org-AMF org-BIS org-CD org-CAEU org-FAO org-G-15 org-G-24 org-G-77 org-IPU org-IAEA org-IBRD org-ICC org-ICAO org-Interpol org-IDA org-IFRCS org-IFC org-IFAD org-IHO org-ILO org-IMO org-IMSO org-IMF org-IOC org-IOM org-ITSO org-ITU org-ITUC org-IDB org-LAS org-MIGA org-NAM org-OPCW org-OAS org-OAPEC org-OIC org-OPEC org-UN org-UNCTAD org-UNESCO org-UNHCR org-UNIDO org-UNITAR org-MONUSCO org-UPU org-WCO org-WHO org-WIPO org-WMO org-UNWTO org-WTO', 'car_code': 'DZ', 'area': '2381740'}\n",
      "country {'capital': 'cty-Libya-Tripolis', 'memberships': 'org-AfDB org-AU org-ABEDA org-AFESD org-AMU org-AMF org-BDEAC org-COMESA org-CAEU org-FAO org-G-77 org-IPU org-IAEA org-IBRD org-ICAO org-Interpol org-IDA org-IFRCS org-IFC org-IFAD org-ILO org-IMO org-IMSO org-IMF org-IOC org-IOM org-ITSO org-ITU org-IDB org-LAS org-MIGA org-NAM org-OPCW org-OAPEC org-OIC org-OPEC org-PCA org-UN org-UNCTAD org-UNESCO org-UNIDO org-UPU org-WCO org-WFTU org-WHO org-WIPO org-WMO org-UNWTO org-WTO', 'car_code': 'LAR', 'area': '1759540'}\n",
      "country {'capital': 'cty-RMM-1', 'memberships': 'org-AfDB org-AU org-UNAMID org-ACP org-CD org-ECOWAS org-EITI org-FAO org-FZ org-G-77 org-IPU org-IAEA org-IBRD org-ICAO org-ICCt org-Interpol org-IDA org-IFRCS org-IFC org-IFAD org-ILO org-IMF org-IOC org-IOM org-OIF org-ITSO org-ITU org-ITUC org-IDB org-MIGA org-NAM org-OPCW org-OIC org-UN org-UNCTAD org-UNESCO org-UNIDO org-MONUSCO org-UPU org-WCO org-WFTU org-WHO org-WIPO org-WMO org-UNWTO org-WTO', 'car_code': 'RMM', 'area': '1240000'}\n",
      "country {'capital': 'cty-RIM-10', 'memberships': 'org-AfDB org-AU org-ACP org-ABEDA org-AFESD org-AMU org-AMF org-CAEU org-EITI org-FAO org-G-77 org-IPU org-IAEA org-IBRD org-ICC org-ICAO org-Interpol org-IDA org-IFRCS org-IFC org-IFAD org-IHO org-ILO org-IMO org-IMF org-IOC org-IOM org-ISO org-OIF org-ITSO org-ITU org-ITUC org-IDB org-LAS org-MIGA org-NAM org-OPCW org-OIC org-UN org-UNCTAD org-UNESCO org-UNIDO org-UPU org-WCO org-WHO org-WIPO org-WMO org-UNWTO org-WTO', 'car_code': 'RIM', 'area': '1030700'}\n",
      "country {'capital': 'cty-MA-10', 'memberships': 'org-AfDB org-ABEDA org-AFESD org-AMU org-AMF org-CD org-CAEU org-EBRD org-FAO org-G-11 org-G-77 org-IPU org-IAEA org-IBRD org-ICC org-ICAO org-Interpol org-IDA org-IFRCS org-IFC org-IFAD org-IHO org-ILO org-IMO org-IMSO org-IMF org-IOC org-IOM org-OIF org-ITSO org-ITU org-ITUC org-IDB org-LAS org-MIGA org-NAM org-OPCW org-OAS org-OIC org-PCA org-UN org-UNCTAD org-UNESCO org-UNHCR org-UNIDO org-UNOCI org-MONUSCO org-UPU org-WCO org-WHO org-WIPO org-WMO org-UNWTO org-WTO', 'car_code': 'MA', 'area': '446550'}\n",
      "country {'capital': 'cty-RN-5', 'memberships': 'org-AfDB org-AU org-ACP org-CD org-Entente org-ECOWAS org-EITI org-FAO org-FZ org-G-77 org-IPU org-IAEA org-IBRD org-ICAO org-ICCt org-Interpol org-IDA org-IFRCS org-IFC org-IFAD org-ILO org-IMF org-IOC org-IOM org-ISO org-OIF org-ITSO org-ITU org-ITUC org-IDB org-MIGA org-NAM org-OPCW org-OIC org-UN org-UNCTAD org-UNESCO org-UNIDO org-UNMIL org-UNOCI org-MONUSCO org-UPU org-WCO org-WFTU org-WHO org-WIPO org-WMO org-UNWTO org-WTO', 'car_code': 'RN', 'area': '1267000'}\n",
      "country {'capital': 'cty-Tunisia-Tunis', 'memberships': 'org-AfDB org-AU org-UNAMID org-ABEDA org-AFESD org-AMU org-AMF org-BSEC org-CD org-CAEU org-EBRD org-FAO org-G-77 org-IPU org-IAEA org-IBRD org-ICC org-ICAO org-ICCt org-Interpol org-IDA org-IFRCS org-IFC org-IFAD org-IHO org-ILO org-IMO org-IMSO org-IMF org-IOC org-IOM org-OIF org-ITSO org-ITU org-ITUC org-IDB org-LAS org-MIGA org-NAM org-OPCW org-OAS org-OAPEC org-OIC org-UN org-UNCTAD org-UNESCO org-UNHCR org-UNIDO org-UNOCI org-MONUSCO org-UPU org-WCO org-WFTU org-WHO org-WIPO org-WMO org-UNWTO org-WTO', 'car_code': 'TN', 'area': '163610'}\n",
      "country {'capital': 'stadt-El_Aaiun-DARS-DARS', 'memberships': 'org-AU', 'car_code': 'WSA', 'area': '266000'}\n",
      "country {'capital': 'cty-Angola-Luanda', 'memberships': 'org-AfDB org-AU org-ACP org-CPLP org-FAO org-G-77 org-IPU org-IAEA org-IBRD org-ICAO org-Interpol org-IDA org-IFRCS org-IFC org-IFAD org-ILO org-IMO org-IMF org-IOC org-IOM org-ISO org-ITSO org-ITU org-ITUC org-MIGA org-NAM org-OAS org-OPEC org-SADC org-UN org-UNCTAD org-UNESCO org-UNIDO org-UPU org-WCO org-WFTU org-WHO org-WIPO org-WMO org-UNWTO org-WTO', 'car_code': 'ANG', 'area': '1246700'}\n",
      "country {'capital': 'cty-RCB-11', 'memberships': 'org-AfDB org-AU org-ACP org-BDEAC org-EITI org-FAO org-FZ org-G-77 org-IPU org-IAEA org-IBRD org-ICAO org-ICCt org-Interpol org-IDA org-IFRCS org-IFC org-IFAD org-ILO org-IMO org-IMF org-IOC org-IOM org-ISO org-OIF org-ITSO org-ITU org-ITUC org-MIGA org-NAM org-OPCW org-UN org-UNCTAD org-UNESCO org-UNHCR org-UNIDO org-UNITAR org-UPU org-WCO org-WFTU org-WHO org-WIPO org-WMO org-UNWTO org-WTO', 'car_code': 'RCB', 'area': '342000'}\n",
      "country {'capital': 'cty-Namibia-Windhoek', 'memberships': 'org-AfDB org-AU org-UNAMID org-ACP org-C org-CD org-FAO org-G-77 org-IPU org-IAEA org-IBRD org-ICAO org-ICCt org-Interpol org-IFRCS org-IFC org-IFAD org-ILO org-IMO org-IMF org-IOC org-IOM org-ITSO org-ITU org-ITUC org-MIGA org-NAM org-OPCW org-SACU org-SADC org-UN org-UNCTAD org-UNESCO org-UNHCR org-UNIDO org-UNISFA org-UNMIL org-UNMISS org-UNOCI org-UPU org-WCO org-WHO org-WIPO org-WMO org-UNWTO org-WTO', 'car_code': 'NAM', 'area': '825418'}\n",
      "country {'capital': 'cty-Zaire-2', 'memberships': 'org-AfDB org-AU org-ACP org-COMESA org-CEMAC org-CEPGL org-FAO org-G-24 org-G-77 org-IPU org-IAEA org-IBRD org-ICC org-ICAO org-ICJ org-ICCt org-Interpol org-IDA org-IFRCS org-IFC org-IFAD org-IHO org-ILO org-IMO org-IMF org-IOC org-IOM org-OIF org-ITSO org-ITU org-ITUC org-MIGA org-NAM org-OPCW org-PCA org-SADC org-UN org-UNCTAD org-UNESCO org-UNHCR org-UNIDO org-UPU org-WCO org-WFTU org-WHO org-WIPO org-WMO org-UNWTO org-WTO', 'car_code': 'ZRE', 'area': '2345410'}\n",
      "country {'capital': 'cty-Zambia-2', 'memberships': 'org-AfDB org-AU org-UNAMID org-ACP org-COMESA org-C org-EITI org-FAO org-G-77 org-IPU org-IAEA org-IBRD org-ICAO org-ICCt org-Interpol org-IDA org-IFC org-IFAD org-ILO org-IMF org-IOC org-IOM org-ISO org-ITSO org-ITU org-ITUC org-MIGA org-NAM org-OPCW org-PCA org-SADC org-UN org-UNCTAD org-UNESCO org-UNHCR org-UNIDO org-UNISFA org-UNMIL org-UNMISS org-UNOCI org-MONUSCO org-UPU org-WCO org-WHO org-WIPO org-WMO org-UNWTO org-WTO', 'car_code': 'Z', 'area': '752610'}\n",
      "country {'capital': 'cty-Benin-Porto-Novo', 'memberships': 'org-AfDB org-AU org-UNAMID org-ACP org-CD org-Entente org-ECOWAS org-FAO org-FZ org-G-77 org-IPU org-IAEA org-IBRD org-ICAO org-ICCt org-Interpol org-IDA org-IFRCS org-IFC org-IFAD org-ILO org-IMO org-IMF org-IOC org-IOM org-ISO org-OIF org-ITSO org-ITU org-ITUC org-IDB org-MIGA org-NAM org-OPCW org-OAS org-OIC org-PCA org-UN org-UNCTAD org-UNESCO org-UNHCR org-UNIDO org-UNISFA org-UNMIL org-UNMISS org-UNOCI org-MONUSCO org-UPU org-WCO org-WFTU org-WHO org-WIPO org-WMO org-UNWTO org-WTO', 'car_code': 'BEN', 'area': '112620'}\n",
      "country {'capital': 'cty-Burkina-Faso-Ouagadougou', 'memberships': 'org-AfDB org-AU org-UNAMID org-ACP org-CD org-Entente org-ECOWAS org-EITI org-FAO org-FZ org-G-77 org-IPU org-IAEA org-IBRD org-ICC org-ICAO org-ICCt org-Interpol org-IDA org-IFRCS org-IFC org-IFAD org-ILO org-IMF org-IOC org-IOM org-ISO org-OIF org-ITSO org-ITU org-ITUC org-IDB org-MIGA org-NAM org-OPCW org-OIC org-PCA org-UN org-UNCTAD org-UNESCO org-UNIDO org-MONUSCO org-UPU org-WCO org-WFTU org-WHO org-WIPO org-WMO org-UNWTO org-WTO', 'car_code': 'BF', 'area': '274200'}\n",
      "country {'capital': 'cty-WAN-2', 'memberships': 'org-AfDB org-AU org-UNAMID org-ACP org-C org-CD org-D-8 org-ECOWAS org-EITI org-FAO org-G-15 org-G-24 org-G-77 org-IPU org-IAEA org-IBRD org-ICC org-ICAO org-ICJ org-ICCt org-Interpol org-IDA org-IFRCS org-IFC org-IFAD org-IHO org-ILO org-IMO org-IMSO org-IMF org-IOC org-IOM org-ITSO org-ITU org-ITUC org-IDB org-MIGA org-NAM org-OPCW org-OAS org-OIC org-OPEC org-PCA org-UN org-UNCTAD org-UNESCO org-UNHCR org-UNIDO org-UNITAR org-UNIFIL org-UNISFA org-MINURSO org-UNMIL org-UNMISS org-UNOCI org-MONUSCO org-UNSC org-UPU org-WCO org-WFTU org-WHO org-WIPO org-WMO org-UNWTO org-WTO', 'car_code': 'WAN', 'area': '923770'}\n",
      "country {'capital': 'cty-Togo-Lome', 'memberships': 'org-AfDB org-AU org-UNAMID org-ACP org-Entente org-ECOWAS org-EITI org-FAO org-FZ org-G-77 org-IPU org-IAEA org-IBRD org-ICC org-ICAO org-ICJ org-Interpol org-IDA org-IFRCS org-IFC org-IFAD org-ILO org-IMO org-IMF org-IOC org-IOM org-ISO org-OIF org-ITSO org-ITU org-ITUC org-IDB org-MIGA org-NAM org-OPCW org-OIC org-PCA org-UN org-UNCTAD org-UNESCO org-UNHCR org-UNIDO org-MINURSO org-UNMIL org-UNMISS org-UNOCI org-UPU org-WCO org-WFTU org-WHO org-WIPO org-WMO org-UNWTO org-WTO', 'car_code': 'RT', 'area': '56790'}\n",
      "country {'capital': 'cty-Botswana-Gaborone', 'memberships': 'org-AfDB org-AU org-ACP org-C org-CD org-FAO org-G-77 org-IPU org-IAEA org-IBRD org-ICC org-ICAO org-ICJ org-ICCt org-Interpol org-IDA org-IFRCS org-IFC org-IFAD org-ILO org-IMF org-IOC org-IOM org-ITSO org-ITU org-ITUC org-MIGA org-NAM org-OPCW org-SACU org-SADC org-UN org-UNCTAD org-UNESCO org-UNIDO org-UPU org-WCO org-WFTU org-WHO org-WIPO org-WMO org-UNWTO org-WTO', 'car_code': 'RB', 'area': '600370'}\n",
      "country {'capital': 'cty-South-Africa-6', 'memberships': 'org-AfDB org-AU org-UNAMID org-ACP org-BIS org-C org-CD org-FATF org-FAO org-G-20 org-G-24 org-G-77 org-IPU org-IAEA org-IBRD org-ICC org-ICAO org-ICCt org-Interpol org-IDA org-IFRCS org-IFC org-IFAD org-IHO org-ILO org-IMO org-IMSO org-IMF org-IOC org-IOM org-ITSO org-ITU org-ITUC org-MIGA org-NAM org-NSG org-OPCW org-PCA org-SACU org-SADC org-UN org-UNCTAD org-UNESCO org-UNHCR org-UNIDO org-UNITAR org-MONUSCO org-UPU org-WCO org-WFTU org-WHO org-WIPO org-WMO org-UNWTO org-WTO org-ZC', 'car_code': 'RSA', 'area': '1219912'}\n",
      "country {'capital': 'cty-Zimbabwe-1', 'memberships': 'org-AfDB org-AU org-UNAMID org-ACP org-COMESA org-FAO org-G-15 org-G-77 org-IPU org-IAEA org-IBRD org-ICAO org-Interpol org-IDA org-IFC org-IFAD org-ILO org-IMO org-IMF org-IOC org-IOM org-ITSO org-ITU org-ITUC org-MIGA org-NAM org-OPCW org-PCA org-SADC org-UN org-UNCTAD org-UNESCO org-UNIDO org-UNISFA org-UNMIL org-UNOCI org-UPU org-WCO org-WFTU org-WHO org-WIPO org-WMO org-UNWTO org-WTO', 'car_code': 'ZW', 'area': '390580'}\n",
      "country {'capital': 'cty-CI-7', 'memberships': 'org-AfDB org-AU org-UNAMID org-ACP org-Entente org-ECOWAS org-EITI org-FAO org-FZ org-G-24 org-G-77 org-IPU org-IAEA org-IBRD org-ICC org-ICAO org-ICJ org-ICCt org-Interpol org-IDA org-IFRCS org-IFC org-IFAD org-ILO org-IMO org-IMF org-IOC org-IOM org-OIF org-ITSO org-ITU org-ITUC org-IDB org-MIGA org-NAM org-OPCW org-OIC org-UN org-UNCTAD org-UNESCO org-UNHCR org-UNIDO org-UPU org-WCO org-WFTU org-WHO org-WIPO org-WMO org-UNWTO org-WTO', 'car_code': 'CI', 'area': '322460'}\n",
      "country {'capital': 'cty-GH-5', 'memberships': 'org-AfDB org-AU org-UNAMID org-ACP org-C org-ECOWAS org-EITI org-FAO org-G-24 org-G-77 org-IPU org-IAEA org-IBRD org-ICC org-ICAO org-ICCt org-Interpol org-IDA org-IFRCS org-IFC org-IFAD org-ILO org-IMO org-IMSO org-IMF org-IOC org-IOM org-OIF org-ITSO org-ITU org-ITUC org-MIGA org-NAM org-OPCW org-OAS org-UN org-UNCTAD org-UNESCO org-UNHCR org-UNIDO org-UNIFIL org-UNISFA org-MINURSO org-UNMIL org-UNMISS org-UNOCI org-MONUSCO org-UPU org-WCO org-WFTU org-WHO org-WIPO org-WMO org-UNWTO org-WTO', 'car_code': 'GH', 'area': '238540'}\n",
      "country {'capital': 'cty-Burundi-Bujumbura', 'memberships': 'org-AfDB org-AU org-UNAMID org-ACP org-COMESA org-EAC org-CEPGL org-FAO org-G-77 org-IPU org-IAEA org-IBRD org-ICAO org-ICCt org-Interpol org-IDA org-IFRCS org-IFC org-IFAD org-ILO org-IMF org-IOC org-IOM org-ISO org-OIF org-ITU org-ITUC org-MIGA org-NAM org-OPCW org-UN org-UNCTAD org-UNESCO org-UNIDO org-UNISFA org-UPU org-WCO org-WHO org-WIPO org-WMO org-UNWTO org-WTO', 'car_code': 'BI', 'area': '27830'}\n",
      "country {'capital': 'cty-Rwanda-Kigali', 'memberships': 'org-AfDB org-AU org-UNAMID org-ACP org-COMESA org-C org-EAC org-EADB org-CEPGL org-FAO org-G-77 org-IPU org-IAEA org-IBRD org-ICAO org-Interpol org-IDA org-IFRCS org-IFC org-IFAD org-ILO org-IMF org-IOC org-IOM org-OIF org-ITSO org-ITU org-ITUC org-MIGA org-NAM org-OPCW org-PCA org-UN org-UNCTAD org-UNESCO org-UNHCR org-UNIDO org-UNISFA org-UNMISS org-UNSC org-UPU org-WCO org-WHO org-WIPO org-WMO org-UNWTO org-WTO', 'car_code': 'RWA', 'area': '26340'}\n",
      "country {'capital': 'cty-Tanzania-4', 'memberships': 'org-AfDB org-AU org-UNAMID org-ACP org-C org-CD org-EAC org-EADB org-EITI org-FAO org-G-77 org-IPU org-IAEA org-IBRD org-ICC org-ICAO org-ICCt org-Interpol org-IDA org-IFRCS org-IFC org-IFAD org-ILO org-IMO org-IMSO org-IMF org-IOM org-ITSO org-ITU org-ITUC org-MIGA org-NAM org-OPCW org-SADC org-UN org-UNCTAD org-UNESCO org-UNHCR org-UNIDO org-UNIFIL org-UNISFA org-UNMISS org-UNOCI org-MONUSCO org-UPU org-WCO org-WFTU org-WHO org-WIPO org-WMO org-UNWTO org-WTO', 'car_code': 'EAT', 'area': '945090'}\n",
      "country {'capital': 'cty-Cameroon-3', 'memberships': 'org-AfDB org-AU org-UNAMID org-ACP org-BDEAC org-C org-CEMAC org-EITI org-FAO org-FZ org-G-77 org-IPU org-IAEA org-IBRD org-ICC org-ICAO org-ICJ org-Interpol org-IDA org-IFRCS org-IFC org-IFAD org-IHO org-ILO org-IMO org-IMSO org-IMF org-IOC org-IOM org-OIF org-ITSO org-ITU org-ITUC org-IDB org-MIGA org-NAM org-OPCW org-OIC org-PCA org-UN org-UNCTAD org-UNESCO org-UNHCR org-UNIDO org-MONUSCO org-UPU org-WCO org-WFTU org-WHO org-WIPO org-WMO org-UNWTO org-WTO', 'car_code': 'CAM', 'area': '475440'}\n",
      "country {'capital': 'cty-Central-African-Republic-Bangui', 'memberships': 'org-AfDB org-AU org-ACP org-BDEAC org-CEMAC org-FAO org-FZ org-G-77 org-IAEA org-IBRD org-ICAO org-ICCt org-Interpol org-IDA org-IFRCS org-IFC org-IFAD org-ILO org-IMF org-IOC org-IOM org-OIF org-ITSO org-ITU org-ITUC org-MIGA org-NAM org-OPCW org-UN org-UNCTAD org-UNESCO org-UNIDO org-UPU org-WCO org-WHO org-WIPO org-WMO org-UNWTO org-WTO', 'car_code': 'RCA', 'area': '622980'}\n",
      "country {'capital': 'cty-Chad-NDjamena', 'memberships': 'org-AfDB org-AU org-ACP org-BDEAC org-CEMAC org-EITI org-FAO org-FZ org-G-77 org-IPU org-IAEA org-IBRD org-ICAO org-ICCt org-Interpol org-IDA org-IFRCS org-IFC org-IFAD org-ILO org-IMF org-IOC org-IOM org-OIF org-ITSO org-ITU org-ITUC org-IDB org-MIGA org-NAM org-OPCW org-OIC org-UN org-UNCTAD org-UNESCO org-UNIDO org-UNOCI org-UNSC org-UPU org-WCO org-WHO org-WIPO org-WMO org-UNWTO org-WTO', 'car_code': 'TCH', 'area': '1284000'}\n",
      "country {'capital': 'cty-Equatorial-Guinea-Malabo', 'memberships': 'org-AfDB org-AU org-ACP org-BDEAC org-CPLP org-CEMAC org-FAO org-FZ org-G-77 org-IPU org-IBRD org-ICAO org-Interpol org-IDA org-IFRCS org-IFC org-IFAD org-ILO org-IMO org-IMF org-IOC org-OIF org-ITSO org-ITU org-MIGA org-NAM org-OPCW org-OAS org-UN org-UNCTAD org-UNESCO org-UNIDO org-UPU org-WHO org-WIPO org-UNWTO org-WTO', 'car_code': 'GQ', 'area': '28050'}\n",
      "country {'capital': 'cty-Gabon-Libreville', 'memberships': 'org-AfDB org-AU org-ACP org-BDEAC org-CEMAC org-FAO org-FZ org-G-24 org-G-77 org-IPU org-IAEA org-IBRD org-ICAO org-ICCt org-Interpol org-IDA org-IFRCS org-IFC org-IFAD org-ILO org-IMO org-IMSO org-IMF org-IOC org-IOM org-ISO org-OIF org-ITSO org-ITU org-ITUC org-IDB org-MIGA org-NAM org-OPCW org-OIC org-UN org-UNCTAD org-UNESCO org-UNIDO org-UPU org-WCO org-WHO org-WIPO org-WMO org-UNWTO org-WTO', 'car_code': 'G', 'area': '267670'}\n",
      "country {'capital': 'cty-Cape-Verde-Praia', 'memberships': 'org-AfDB org-AU org-ACP org-AOSIS org-CD org-CPLP org-ECOWAS org-FAO org-G-77 org-IPU org-IAEA org-IBRD org-ICAO org-ICCt org-Interpol org-IDA org-IFRCS org-IFC org-IFAD org-ILO org-IMO org-IMF org-IOC org-IOM org-OIF org-ITSO org-ITU org-ITUC org-MIGA org-NAM org-OPCW org-UN org-UNCTAD org-UNESCO org-UNIDO org-UPU org-WCO org-WHO org-WIPO org-WMO org-UNWTO org-WTO', 'car_code': 'CV', 'area': '4033'}\n",
      "country {'capital': 'cty-Sudan-Khartoum', 'memberships': 'org-AfDB org-AU org-ACP org-ABEDA org-AFESD org-AMF org-COMESA org-CAEU org-FAO org-G-77 org-IGAD org-IPU org-IAEA org-IBRD org-ICC org-ICAO org-ICJ org-Interpol org-IDA org-IFRCS org-IFC org-IFAD org-ILO org-IMO org-IMF org-IOC org-IOM org-ITSO org-ITU org-IDB org-LAS org-MIGA org-NAM org-OPCW org-OIC org-PCA org-UN org-UNCTAD org-UNESCO org-UNHCR org-UNIDO org-UPU org-WCO org-WFTU org-WHO org-WIPO org-WMO org-UNWTO org-WTO', 'car_code': 'SUD', 'area': '1861484'}\n",
      "country {'capital': 'cty-SouthSudan-Juba', 'memberships': 'org-AU org-FAO org-IPU org-IBRD org-ICAO org-Interpol org-IDA org-IFRCS org-IFC org-IFAD org-ILO org-IMF org-IOM org-ITU org-MIGA org-UN org-UNCTAD org-UNESCO org-UPU org-WCO org-WHO org-WMO', 'car_code': 'SSD', 'area': '644329'}\n",
      "country {'capital': 'cty-Comoros-Moroni', 'memberships': 'org-AfDB org-AU org-ACP org-AOSIS org-AMF org-COMESA org-CAEU org-FAO org-FZ org-G-77 org-InOC org-IBRD org-ICAO org-ICCt org-Interpol org-IDA org-IFRCS org-IFC org-IFAD org-ILO org-IMO org-IMSO org-IMF org-IOC org-IOM org-OIF org-ITSO org-ITU org-ITUC org-IDB org-LAS org-MIGA org-NAM org-OPCW org-OIC org-UN org-UNCTAD org-UNESCO org-UNIDO org-UPU org-WCO org-WHO org-WIPO org-WMO org-WTO', 'car_code': 'COM', 'area': '2170'}\n",
      "country {'capital': 'cty-Guinea-Conakry', 'memberships': 'org-AfDB org-AU org-ACP org-ECOWAS org-EITI org-FAO org-G-77 org-IBRD org-ICAO org-ICJ org-ICCt org-Interpol org-IDA org-IFRCS org-IFC org-IFAD org-ILO org-IMO org-IMF org-IOC org-IOM org-ISO org-OIF org-ITSO org-ITU org-ITUC org-IDB org-MIGA org-NAM org-OPCW org-OIC org-UN org-UNCTAD org-UNESCO org-UNHCR org-UNIDO org-UNISFA org-MINURSO org-UNMISS org-UNOCI org-MONUSCO org-UPU org-WCO org-WFTU org-WHO org-WIPO org-WMO org-UNWTO org-WTO', 'car_code': 'RG', 'area': '245860'}\n",
      "country {'capital': 'cty-Liberia-Monrovia', 'memberships': 'org-AfDB org-AU org-ACP org-ECOWAS org-EITI org-FAO org-G-77 org-IAEA org-IBRD org-ICC org-ICAO org-ICJ org-ICCt org-Interpol org-IDA org-IFRCS org-IFC org-IFAD org-ILO org-IMO org-IMSO org-IMF org-IOC org-IOM org-ISO org-ITU org-ITUC org-MIGA org-NAM org-OPCW org-UN org-UNCTAD org-UNESCO org-UNIDO org-UPU org-WCO org-WFTU org-WHO org-WIPO org-WMO org-UNWTO org-WTO', 'car_code': 'LB', 'area': '111370'}\n",
      "country {'capital': 'cty-Djibouti-Djibouti', 'memberships': 'org-AfDB org-AU org-UNAMID org-ACP org-AFESD org-AMF org-COMESA org-CAEU org-FAO org-G-77 org-IGAD org-IPU org-IBRD org-ICAO org-ICJ org-ICCt org-Interpol org-IDA org-IFRCS org-IFC org-IFAD org-ILO org-IMO org-IMF org-IOC org-IOM org-OIF org-ITU org-ITUC org-IDB org-LAS org-MIGA org-NAM org-OPCW org-OIC org-UN org-UNCTAD org-UNESCO org-UNHCR org-UNIDO org-UPU org-WCO org-WFTU org-WHO org-WIPO org-WMO org-UNWTO org-WTO', 'car_code': 'DJI', 'area': '22000'}\n",
      "country {'capital': 'cty-Eritrea-Asmara', 'memberships': 'org-AfDB org-AU org-ACP org-COMESA org-FAO org-G-77 org-IAEA org-IBRD org-ICC org-ICAO org-Interpol org-IDA org-IFRCS org-IFC org-IFAD org-ILO org-IMO org-IMF org-IOC org-ISO org-ITU org-ITUC org-LAS org-MIGA org-NAM org-OPCW org-PCA org-UN org-UNCTAD org-UNESCO org-UNIDO org-UPU org-WCO org-WFTU org-WHO org-WIPO org-WMO org-UNWTO', 'car_code': 'ER', 'area': '121320'}\n",
      "country {'capital': 'cty-ETH-1', 'memberships': 'org-AfDB org-AU org-UNAMID org-ACP org-COMESA org-FAO org-G-24 org-G-77 org-IGAD org-IPU org-IAEA org-IBRD org-ICC org-ICAO org-Interpol org-IDA org-IFRCS org-IFC org-IFAD org-ILO org-IMO org-IMF org-IOC org-IOM org-ITSO org-ITU org-ITUC org-MIGA org-NAM org-OPCW org-PCA org-UN org-UNCTAD org-UNESCO org-UNHCR org-UNIDO org-UNISFA org-UNMIL org-UNOCI org-UPU org-WCO org-WFTU org-WHO org-WIPO org-WMO org-UNWTO org-WTO', 'car_code': 'ETH', 'area': '1127127'}\n",
      "country {'capital': 'cty-Somalia-Mogadishu', 'memberships': 'org-AfDB org-AU org-ACP org-AFESD org-AMF org-CAEU org-FAO org-G-77 org-IGAD org-IPU org-IBRD org-ICAO org-ICJ org-Interpol org-IDA org-IFRCS org-IFC org-IFAD org-ILO org-IMO org-IMF org-IOC org-IOM org-ITSO org-ITU org-IDB org-LAS org-NAM org-OPCW org-OIC org-UN org-UNCTAD org-UNESCO org-UNHCR org-UNIDO org-UPU org-WCO org-WFTU org-WHO org-WIPO org-WMO', 'car_code': 'SP', 'area': '637660'}\n",
      "country {'capital': 'cty-Kenya-Nairobi', 'memberships': 'org-AfDB org-AU org-UNAMID org-ACP org-COMESA org-C org-CD org-EAC org-EADB org-FAO org-G-15 org-G-77 org-IGAD org-IPU org-IAEA org-IBRD org-ICC org-ICAO org-ICJ org-ICCt org-Interpol org-IDA org-IFRCS org-IFC org-IFAD org-ILO org-IMO org-IMSO org-IMF org-IOC org-IOM org-ITSO org-ITU org-ITUC org-MIGA org-NAM org-OPCW org-PCA org-UN org-UNCTAD org-UNESCO org-UNHCR org-UNIDO org-UNIFIL org-UNMIL org-UNMISS org-MONUSCO org-UPU org-WCO org-WHO org-WIPO org-WMO org-UNWTO org-WTO', 'car_code': 'EAK', 'area': '582650'}\n",
      "country {'capital': 'cty-Gambia-Banjul', 'memberships': 'org-AfDB org-AU org-UNAMID org-ACP org-CEMAC org-ECOWAS org-FAO org-G-77 org-IPU org-IBRD org-ICAO org-ICJ org-ICCt org-Interpol org-IDA org-IFRCS org-IFC org-IFAD org-ILO org-IMO org-IMF org-IOC org-IOM org-ISO org-ITSO org-ITU org-ITUC org-IDB org-MIGA org-NAM org-OPCW org-OIC org-UN org-UNCTAD org-UNESCO org-UNIDO org-UNMIL org-UNOCI org-UPU org-WCO org-WFTU org-WHO org-WIPO org-WMO org-UNWTO org-WTO', 'car_code': 'WAG', 'area': '11300'}\n",
      "country {'capital': 'cty-Senegal-Dakar', 'memberships': 'org-AfDB org-AU org-UNAMID org-ACP org-CD org-CPLP org-ECOWAS org-EITI org-FAO org-FZ org-G-15 org-G-77 org-IPU org-IAEA org-IBRD org-ICC org-ICAO org-ICJ org-ICCt org-Interpol org-IDA org-IFRCS org-IFC org-IFAD org-ILO org-IMO org-IMSO org-IMF org-IOC org-IOM org-OIF org-ITSO org-ITU org-ITUC org-IDB org-MIGA org-NAM org-OPCW org-OIC org-PCA org-UN org-UNCTAD org-UNESCO org-UNIDO org-UNMIL org-UNMISS org-UNOCI org-MONUSCO org-UPU org-WCO org-WFTU org-WHO org-WIPO org-WMO org-UNWTO org-WTO', 'car_code': 'SN', 'area': '196190'}\n",
      "country {'capital': 'cty-Guinea-Bissau-Bissau', 'memberships': 'org-AfDB org-AU org-ACP org-AOSIS org-CPLP org-ECOWAS org-FAO org-FZ org-G-77 org-IPU org-IBRD org-ICAO org-ICJ org-Interpol org-IDA org-IFRCS org-IFC org-IFAD org-ILO org-IMO org-IMF org-IOC org-IOM org-OIF org-ITSO org-ITU org-ITUC org-IDB org-MIGA org-NAM org-OPCW org-OIC org-UN org-UNCTAD org-UNESCO org-UNIDO org-UPU org-WCO org-WFTU org-WHO org-WIPO org-WMO org-UNWTO org-WTO', 'car_code': 'GNB', 'area': '36120'}\n",
      "country {'capital': 'cty-Sierra-Leone-Freetown', 'memberships': 'org-AfDB org-AU org-UNAMID org-ACP org-C org-ECOWAS org-FAO org-G-77 org-IPU org-IAEA org-IBRD org-ICAO org-ICCt org-Interpol org-IDA org-IFRCS org-IFC org-IFAD org-IHO org-ILO org-IMO org-IMF org-IOC org-IOM org-ISO org-ITU org-ITUC org-IDB org-MIGA org-NAM org-OPCW org-OIC org-UN org-UNCTAD org-UNESCO org-UNIDO org-UNMIT org-UNIFIL org-UNISFA org-UPU org-WCO org-WFTU org-WHO org-WIPO org-WMO org-UNWTO org-WTO', 'car_code': 'WAL', 'area': '71740'}\n",
      "country {'capital': 'cty-Uganda-Kampala', 'memberships': 'org-AfDB org-AU org-UNAMID org-ACP org-COMESA org-C org-EAC org-EADB org-FAO org-G-77 org-IGAD org-IPU org-IAEA org-IBRD org-ICC org-ICAO org-ICJ org-ICCt org-Interpol org-IDA org-IFRCS org-IFC org-IFAD org-ILO org-IMO org-IMF org-IOC org-IOM org-ITSO org-ITU org-ITUC org-IDB org-MIGA org-NAM org-OPCW org-OIC org-PCA org-UN org-UNCTAD org-UNESCO org-UNHCR org-UNIDO org-UNMISS org-UNOCI org-UPU org-WCO org-WFTU org-WHO org-WIPO org-WMO org-UNWTO org-WTO', 'car_code': 'EAU', 'area': '236040'}\n",
      "country {'capital': 'cty-Lesotho-Maseru', 'memberships': 'org-AfDB org-AU org-UNAMID org-ACP org-C org-CD org-FAO org-G-77 org-IPU org-IAEA org-IBRD org-ICAO org-ICJ org-ICCt org-Interpol org-IDA org-IFRCS org-IFC org-IFAD org-ILO org-IMF org-IOC org-IOM org-ISO org-ITU org-MIGA org-NAM org-OPCW org-SACU org-SADC org-UN org-UNCTAD org-UNESCO org-UNHCR org-UNIDO org-UPU org-WCO org-WFTU org-WHO org-WIPO org-WMO org-UNWTO org-WTO', 'car_code': 'LS', 'area': '30350'}\n",
      "country {'capital': 'cty-Madagascar-2', 'memberships': 'org-AfDB org-AU org-ACP org-COMESA org-CD org-FAO org-G-77 org-InOC org-IAEA org-IBRD org-ICC org-ICAO org-ICJ org-ICCt org-Interpol org-IDA org-IFRCS org-IFC org-IFAD org-ILO org-IMO org-IMF org-IOC org-IOM org-ISO org-OIF org-ITSO org-ITU org-ITUC org-MIGA org-NAM org-OPCW org-PCA org-SADC org-UN org-UNCTAD org-UNESCO org-UNHCR org-UNIDO org-UPU org-WCO org-WFTU org-WHO org-WIPO org-WMO org-UNWTO org-WTO', 'car_code': 'RM', 'area': '587041'}\n",
      "country {'capital': 'cty-Malawi-Lilongwe', 'memberships': 'org-AfDB org-AU org-UNAMID org-ACP org-COMESA org-C org-CD org-FAO org-G-77 org-IPU org-IAEA org-IBRD org-ICAO org-ICJ org-ICCt org-Interpol org-IDA org-IFRCS org-IFC org-IFAD org-ILO org-IMO org-IMF org-IOC org-IOM org-ISO org-ITSO org-ITU org-ITUC org-MIGA org-NAM org-OPCW org-SADC org-UN org-UNCTAD org-UNESCO org-UNIDO org-MINURSO org-UNOCI org-MONUSCO org-UPU org-WCO org-WFTU org-WHO org-WIPO org-WMO org-UNWTO org-WTO', 'car_code': 'MW', 'area': '118480'}\n",
      "country {'capital': 'cty-Mozambique-2', 'memberships': 'org-AfDB org-AU org-ACP org-C org-CD org-CPLP org-EITI org-FAO org-G-77 org-IPU org-IAEA org-IBRD org-ICC org-ICAO org-Interpol org-IDA org-IFRCS org-IFC org-IFAD org-IHO org-ILO org-IMO org-IMSO org-IMF org-IOC org-IOM org-ISO org-OIF org-ITSO org-ITU org-ITUC org-IDB org-MIGA org-NAM org-OPCW org-OIC org-SADC org-UN org-UNCTAD org-UNESCO org-UNHCR org-UNIDO org-UPU org-WCO org-WFTU org-WHO org-WIPO org-WMO org-UNWTO org-WTO', 'car_code': 'MOC', 'area': '801590'}\n",
      "country {'capital': 'cty-Mauritius-Port-Louis', 'memberships': 'org-AfDB org-AU org-ACP org-AOSIS org-COMESA org-C org-CD org-CPLP org-FAO org-G-77 org-InOC org-IPU org-IAEA org-IBRD org-ICC org-ICAO org-ICJ org-ICCt org-Interpol org-IDA org-IFRCS org-IFC org-IFAD org-IHO org-ILO org-IMO org-IMSO org-IMF org-IOC org-IOM org-OIF org-ITSO org-ITU org-ITUC org-MIGA org-NAM org-OPCW org-PCA org-SAARC org-SADC org-UN org-UNCTAD org-UNESCO org-UNIDO org-UPU org-WCO org-WFTU org-WHO org-WIPO org-WMO org-UNWTO org-WTO', 'car_code': 'MS', 'area': '2040'}\n",
      "country {'capital': 'city-Mamoutzou-MAYO-MAYO', 'memberships': 'org-UPU', 'car_code': 'MAYO', 'area': '374'}\n",
      "country {'capital': 'cty-Swaziland-Mbabane', 'memberships': 'org-AfDB org-AU org-ACP org-COMESA org-C org-FAO org-G-77 org-IAEA org-IBRD org-ICAO org-ICJ org-Interpol org-IDA org-IFRCS org-IFC org-IFAD org-ILO org-IMF org-IOC org-IOM org-ISO org-ITSO org-ITU org-ITUC org-MIGA org-NAM org-OPCW org-PCA org-SACU org-SADC org-UN org-UNCTAD org-UNESCO org-UNIDO org-UPU org-WCO org-WHO org-WIPO org-WMO org-UNWTO org-WTO', 'car_code': 'SD', 'area': '17360'}\n",
      "country {'capital': 'city-Saint-Denis-REUN-REUN', 'memberships': 'org-UPU org-WFTU', 'car_code': 'REUN', 'area': '2510'}\n",
      "country {'capital': 'city-Jamestown-HELX-HELX', 'memberships': 'org-UPU', 'car_code': 'HELX', 'area': '413'}\n",
      "country {'capital': 'cty-Sao-Tome-and-Principe-Sao-Tome', 'memberships': 'org-AfDB org-AU org-ACP org-AOSIS org-CD org-CPLP org-EITI org-FAO org-G-77 org-IPU org-IBRD org-ICAO org-Interpol org-IDA org-IFRCS org-IFC org-IFAD org-ILO org-IMO org-IMF org-IOC org-IOM org-OIF org-ITU org-ITUC org-MIGA org-NAM org-OPCW org-UN org-UNCTAD org-UNESCO org-UNIDO org-UPU org-WCO org-WHO org-WIPO org-WMO org-UNWTO org-WTO', 'car_code': 'STP', 'area': '1001'}\n",
      "country {'capital': 'cty-Seychelles-Victoria', 'memberships': 'org-AfDB org-AU org-ACP org-AOSIS org-COMESA org-C org-CD org-FAO org-G-77 org-InOC org-IPU org-IAEA org-IBRD org-ICAO org-ICCt org-Interpol org-IFRCS org-IFC org-IFAD org-ILO org-IMO org-IMF org-IOC org-IOM org-ISO org-OIF org-ITU org-MIGA org-NAM org-OPCW org-SADC org-UN org-UNCTAD org-UNESCO org-UNIDO org-UPU org-WCO org-WHO org-WIPO org-WMO org-UNWTO org-WTO', 'car_code': 'SY', 'area': '455'}\n"
     ]
    }
   ],
   "source": [
    "# Get 10 countries with lowest infant mortality rates\n",
    "\n",
    "for country in document.findall( 'country' ):\n",
    "    print (country.tag,country.attrib)"
   ]
  },
  {
   "cell_type": "code",
   "execution_count": null,
   "metadata": {
    "collapsed": false
   },
   "outputs": [],
   "source": []
  },
  {
   "cell_type": "code",
   "execution_count": 11,
   "metadata": {
    "collapsed": false
   },
   "outputs": [
    {
     "data": {
      "text/html": [
       "<div>\n",
       "<table border=\"1\" class=\"dataframe\">\n",
       "  <thead>\n",
       "    <tr style=\"text-align: right;\">\n",
       "      <th></th>\n",
       "      <th>country_name</th>\n",
       "      <th>infant_mortality</th>\n",
       "    </tr>\n",
       "  </thead>\n",
       "  <tbody>\n",
       "    <tr>\n",
       "      <th>38</th>\n",
       "      <td>Monaco</td>\n",
       "      <td>1.81</td>\n",
       "    </tr>\n",
       "    <tr>\n",
       "      <th>98</th>\n",
       "      <td>Japan</td>\n",
       "      <td>2.13</td>\n",
       "    </tr>\n",
       "    <tr>\n",
       "      <th>36</th>\n",
       "      <td>Norway</td>\n",
       "      <td>2.48</td>\n",
       "    </tr>\n",
       "    <tr>\n",
       "      <th>117</th>\n",
       "      <td>Bermuda</td>\n",
       "      <td>2.48</td>\n",
       "    </tr>\n",
       "    <tr>\n",
       "      <th>106</th>\n",
       "      <td>Singapore</td>\n",
       "      <td>2.53</td>\n",
       "    </tr>\n",
       "    <tr>\n",
       "      <th>37</th>\n",
       "      <td>Sweden</td>\n",
       "      <td>2.60</td>\n",
       "    </tr>\n",
       "    <tr>\n",
       "      <th>10</th>\n",
       "      <td>Czech Republic</td>\n",
       "      <td>2.63</td>\n",
       "    </tr>\n",
       "    <tr>\n",
       "      <th>78</th>\n",
       "      <td>Hong Kong</td>\n",
       "      <td>2.73</td>\n",
       "    </tr>\n",
       "    <tr>\n",
       "      <th>79</th>\n",
       "      <td>Macao</td>\n",
       "      <td>3.13</td>\n",
       "    </tr>\n",
       "    <tr>\n",
       "      <th>44</th>\n",
       "      <td>Iceland</td>\n",
       "      <td>3.15</td>\n",
       "    </tr>\n",
       "  </tbody>\n",
       "</table>\n",
       "</div>"
      ],
      "text/plain": [
       "       country_name  infant_mortality\n",
       "38           Monaco              1.81\n",
       "98            Japan              2.13\n",
       "36           Norway              2.48\n",
       "117         Bermuda              2.48\n",
       "106       Singapore              2.53\n",
       "37           Sweden              2.60\n",
       "10   Czech Republic              2.63\n",
       "78        Hong Kong              2.73\n",
       "79            Macao              3.13\n",
       "44          Iceland              3.15"
      ]
     },
     "execution_count": 11,
     "metadata": {},
     "output_type": "execute_result"
    }
   ],
   "source": [
    "# Creating a DataFrame for easier sorting later\n",
    "country_name = \"\"\n",
    "infant_mortality = \"\"\n",
    "d_frame = pd.DataFrame(columns = [\"country_name\",\"infant_mortality\"])\n",
    "d_frame['infant_mortality'] = d_frame['infant_mortality'].astype(float)\n",
    "d_frame\n",
    "\n",
    "for country in document.findall( 'country' ):\n",
    "    for node in country.getiterator(): \n",
    "        if node.tag == 'name': #find country name tag\n",
    "            if country_name == \"\":\n",
    "                country_name = (node.text)\n",
    "        if node.tag == 'infant_mortality': #find mortality rate tag\n",
    "            infant_mortality = float(node.text)\n",
    "    d_frame.loc[len(d_frame)] = [country_name,infant_mortality] #add country name and mortality rate to data frame\n",
    "    country_name = \"\"\n",
    "    \n",
    "    \n",
    "#sort data frame and find top 10 countries with lowest mortalitiy rates\n",
    "d_frame.sort_values(by = 'infant_mortality').head(10)"
   ]
  },
  {
   "cell_type": "code",
   "execution_count": null,
   "metadata": {
    "collapsed": true
   },
   "outputs": [],
   "source": [
    "# top 10 Cities with largest population"
   ]
  },
  {
   "cell_type": "code",
   "execution_count": 15,
   "metadata": {
    "collapsed": false
   },
   "outputs": [
    {
     "data": {
      "text/html": [
       "<div>\n",
       "<table border=\"1\" class=\"dataframe\">\n",
       "  <thead>\n",
       "    <tr style=\"text-align: right;\">\n",
       "      <th></th>\n",
       "      <th>CityName</th>\n",
       "      <th>Population</th>\n",
       "    </tr>\n",
       "  </thead>\n",
       "  <tbody>\n",
       "    <tr>\n",
       "      <th>1341</th>\n",
       "      <td>Shanghai</td>\n",
       "      <td>22315474.0</td>\n",
       "    </tr>\n",
       "    <tr>\n",
       "      <th>771</th>\n",
       "      <td>Istanbul</td>\n",
       "      <td>13710512.0</td>\n",
       "    </tr>\n",
       "    <tr>\n",
       "      <th>1527</th>\n",
       "      <td>Mumbai</td>\n",
       "      <td>12442373.0</td>\n",
       "    </tr>\n",
       "    <tr>\n",
       "      <th>479</th>\n",
       "      <td>Moskva</td>\n",
       "      <td>11979529.0</td>\n",
       "    </tr>\n",
       "    <tr>\n",
       "      <th>1340</th>\n",
       "      <td>Beijing</td>\n",
       "      <td>11716620.0</td>\n",
       "    </tr>\n",
       "    <tr>\n",
       "      <th>2810</th>\n",
       "      <td>São Paulo</td>\n",
       "      <td>11152344.0</td>\n",
       "    </tr>\n",
       "    <tr>\n",
       "      <th>1342</th>\n",
       "      <td>Tianjin</td>\n",
       "      <td>11090314.0</td>\n",
       "    </tr>\n",
       "    <tr>\n",
       "      <th>1064</th>\n",
       "      <td>Guangzhou</td>\n",
       "      <td>11071424.0</td>\n",
       "    </tr>\n",
       "    <tr>\n",
       "      <th>1582</th>\n",
       "      <td>Delhi</td>\n",
       "      <td>11034555.0</td>\n",
       "    </tr>\n",
       "    <tr>\n",
       "      <th>1067</th>\n",
       "      <td>Shenzhen</td>\n",
       "      <td>10358381.0</td>\n",
       "    </tr>\n",
       "  </tbody>\n",
       "</table>\n",
       "</div>"
      ],
      "text/plain": [
       "       CityName  Population\n",
       "1341   Shanghai  22315474.0\n",
       "771    Istanbul  13710512.0\n",
       "1527     Mumbai  12442373.0\n",
       "479      Moskva  11979529.0\n",
       "1340    Beijing  11716620.0\n",
       "2810  São Paulo  11152344.0\n",
       "1342    Tianjin  11090314.0\n",
       "1064  Guangzhou  11071424.0\n",
       "1582      Delhi  11034555.0\n",
       "1067   Shenzhen  10358381.0"
      ]
     },
     "execution_count": 15,
     "metadata": {},
     "output_type": "execute_result"
    }
   ],
   "source": [
    "cityname = \"\"\n",
    "citypopulation = \"\"\n",
    "document = ET.parse( './data/mondial_database.xml' )\n",
    "df = pd.DataFrame(columns=['CityName','Population']) #create data frame to hold country name and its popuplation\n",
    "df['Population'] = df['Population'].astype(float)\n",
    "\n",
    "#loop through country element to find city name and its population\n",
    "for country in document.iterfind( 'country' ):\n",
    "    for city in country.iter('city'): #find all cities within each country element\n",
    "        cityname = city.find('name').text\n",
    "        year = int(0)\n",
    "        for node in city.iterfind('population'): #find all population elements with each city\n",
    "            year = node.attrib['year'] #there are multiple population elements with different 'year' attribute\n",
    "            if node.attrib['year'] >= year: #store the population number of the latest year\n",
    "                citypopulation = int(node.text)\n",
    "        df.loc[len(df)] = [cityname,citypopulation] #add city name and its population to data frame\n",
    "        cityname = \"\"\n",
    "        \n",
    "\n",
    "#sort data frame to find 10 cities with largest population\n",
    "df.sort_values(by = 'Population', ascending=False).head(10)"
   ]
  },
  {
   "cell_type": "code",
   "execution_count": null,
   "metadata": {
    "collapsed": true
   },
   "outputs": [],
   "source": [
    "# 10 ethnic groups with the largest overall populations (sum of best/latest estimates over all countries)\n"
   ]
  },
  {
   "cell_type": "code",
   "execution_count": 16,
   "metadata": {
    "collapsed": false
   },
   "outputs": [
    {
     "data": {
      "text/html": [
       "<div>\n",
       "<table border=\"1\" class=\"dataframe\">\n",
       "  <thead>\n",
       "    <tr style=\"text-align: right;\">\n",
       "      <th></th>\n",
       "      <th>Population</th>\n",
       "    </tr>\n",
       "    <tr>\n",
       "      <th>EthnicGroup</th>\n",
       "      <th></th>\n",
       "    </tr>\n",
       "  </thead>\n",
       "  <tbody>\n",
       "    <tr>\n",
       "      <th>Han Chinese</th>\n",
       "      <td>1.245059e+09</td>\n",
       "    </tr>\n",
       "    <tr>\n",
       "      <th>Indo-Aryan</th>\n",
       "      <td>8.718156e+08</td>\n",
       "    </tr>\n",
       "    <tr>\n",
       "      <th>European</th>\n",
       "      <td>4.948722e+08</td>\n",
       "    </tr>\n",
       "    <tr>\n",
       "      <th>African</th>\n",
       "      <td>3.183251e+08</td>\n",
       "    </tr>\n",
       "    <tr>\n",
       "      <th>Dravidian</th>\n",
       "      <td>3.027137e+08</td>\n",
       "    </tr>\n",
       "    <tr>\n",
       "      <th>Mestizo</th>\n",
       "      <td>1.577344e+08</td>\n",
       "    </tr>\n",
       "    <tr>\n",
       "      <th>Bengali</th>\n",
       "      <td>1.467769e+08</td>\n",
       "    </tr>\n",
       "    <tr>\n",
       "      <th>Russian</th>\n",
       "      <td>1.318570e+08</td>\n",
       "    </tr>\n",
       "    <tr>\n",
       "      <th>Japanese</th>\n",
       "      <td>1.265342e+08</td>\n",
       "    </tr>\n",
       "    <tr>\n",
       "      <th>Malay</th>\n",
       "      <td>1.219936e+08</td>\n",
       "    </tr>\n",
       "  </tbody>\n",
       "</table>\n",
       "</div>"
      ],
      "text/plain": [
       "               Population\n",
       "EthnicGroup              \n",
       "Han Chinese  1.245059e+09\n",
       "Indo-Aryan   8.718156e+08\n",
       "European     4.948722e+08\n",
       "African      3.183251e+08\n",
       "Dravidian    3.027137e+08\n",
       "Mestizo      1.577344e+08\n",
       "Bengali      1.467769e+08\n",
       "Russian      1.318570e+08\n",
       "Japanese     1.265342e+08\n",
       "Malay        1.219936e+08"
      ]
     },
     "execution_count": 16,
     "metadata": {},
     "output_type": "execute_result"
    }
   ],
   "source": [
    "# 3. 10 ethnic groups with the largest overall populations (sum of best/latest estimates over all countries)\n",
    "countryname = \"\"\n",
    "countrypopulation = 0\n",
    "ethnicpopulation = 0\n",
    "document = ET.parse( './data/mondial_database.xml' )\n",
    "df = pd.DataFrame(columns=['Country','EthnicGroup','Population'])\n",
    "df['Population'] = df['Population'].astype(float)\n",
    "\n",
    "#loop through country element to find ethnic groups and its population\n",
    "for country in document.iterfind( 'country' ):\n",
    "    countryname = country.find('name').text #find country name\n",
    "    year = int(0)\n",
    "    countrycpopulation = int(0)\n",
    "    for node in country.iterfind('population'): #find population of the country\n",
    "        year = node.attrib['year']\n",
    "        if node.attrib['year'] >= year: #find population of the latest year\n",
    "            countrypopulation = (node.text) \n",
    "    ethnicname = None\n",
    "    ethnicpopulation = 0\n",
    "    for ethnic in country.iter('ethnicgroup'): #find all ethnic groups within the same country\n",
    "        ethnicname = ethnic.text\n",
    "        #compute each ethnic population: country population * ethnic group percentage\n",
    "        ethnicpopulation = round(float(ethnic.attrib['percentage']) * 0.01 * int(countrypopulation))\n",
    "        if ethnicname == None:\n",
    "            ethnicname = countryname\n",
    "            ethnicpopulation = countrypopulation\n",
    "        df.loc[len(df)] = [countryname,ethnicname,ethnicpopulation] #store ethnic group population to data frame\n",
    "    countryname = \"\"\n",
    "\n",
    "#group ethnic group across all countries and sum them up to find top 10 ethnic groups and its total population\n",
    "df.groupby('EthnicGroup').sum().sort_values(by = 'Population', ascending=False).head(10)"
   ]
  },
  {
   "cell_type": "code",
   "execution_count": null,
   "metadata": {
    "collapsed": true
   },
   "outputs": [],
   "source": [
    "# name and country of a) longest river, b) largest lake and c) airport at highest elevation"
   ]
  },
  {
   "cell_type": "code",
   "execution_count": 17,
   "metadata": {
    "collapsed": false
   },
   "outputs": [
    {
     "ename": "NameError",
     "evalue": "name 'country_dict' is not defined",
     "output_type": "error",
     "traceback": [
      "\u001b[0;31m---------------------------------------------------------------------------\u001b[0m",
      "\u001b[0;31mNameError\u001b[0m                                 Traceback (most recent call last)",
      "\u001b[0;32m<ipython-input-17-c1b09f496444>\u001b[0m in \u001b[0;36m<module>\u001b[0;34m()\u001b[0m\n\u001b[1;32m      1\u001b[0m \u001b[0;31m# name and country of a) longest river\u001b[0m\u001b[0;34m\u001b[0m\u001b[0;34m\u001b[0m\u001b[0m\n\u001b[1;32m      2\u001b[0m \u001b[0mriver_dict\u001b[0m \u001b[0;34m=\u001b[0m \u001b[0;34m{\u001b[0m\u001b[0;34m}\u001b[0m\u001b[0;34m\u001b[0m\u001b[0m\n\u001b[0;32m----> 3\u001b[0;31m \u001b[0mdfcc\u001b[0m \u001b[0;34m=\u001b[0m \u001b[0mpd\u001b[0m\u001b[0;34m.\u001b[0m\u001b[0mDataFrame\u001b[0m\u001b[0;34m.\u001b[0m\u001b[0mfrom_dict\u001b[0m\u001b[0;34m(\u001b[0m\u001b[0mcountry_dict\u001b[0m\u001b[0;34m,\u001b[0m \u001b[0morient\u001b[0m\u001b[0;34m=\u001b[0m\u001b[0;34m'index'\u001b[0m\u001b[0;34m)\u001b[0m\u001b[0;34m.\u001b[0m\u001b[0mreset_index\u001b[0m\u001b[0;34m(\u001b[0m\u001b[0;34m)\u001b[0m\u001b[0;34m.\u001b[0m\u001b[0mset_index\u001b[0m\u001b[0;34m(\u001b[0m\u001b[0;34m'car_code'\u001b[0m\u001b[0;34m)\u001b[0m\u001b[0;34m\u001b[0m\u001b[0m\n\u001b[0m\u001b[1;32m      4\u001b[0m \u001b[0;34m\u001b[0m\u001b[0m\n\u001b[1;32m      5\u001b[0m \u001b[0;32mfor\u001b[0m \u001b[0mriv\u001b[0m \u001b[0;32min\u001b[0m \u001b[0mroot\u001b[0m\u001b[0;34m.\u001b[0m\u001b[0miter\u001b[0m\u001b[0;34m(\u001b[0m\u001b[0;34m'river'\u001b[0m\u001b[0;34m)\u001b[0m\u001b[0;34m:\u001b[0m\u001b[0;34m\u001b[0m\u001b[0m\n",
      "\u001b[0;31mNameError\u001b[0m: name 'country_dict' is not defined"
     ]
    }
   ],
   "source": [
    "# name and country of a) longest river\n",
    "river_dict = {}\n",
    "dfcc = pd.DataFrame.from_dict(country_dict, orient='index').reset_index().set_index('car_code')\n",
    "\n",
    "for riv in root.iter('river'):\n",
    "    river = {}\n",
    "    rid = riv.attrib['id']\n",
    "    river['name'] = riv.find('name').text\n",
    "    river['ccodes'] = riv.attrib['country']\n",
    "    \n",
    "    try:\n",
    "        river['length'] = riv.find('length').text\n",
    "    except:\n",
    "        river['length'] = np.nan\n",
    "        \n",
    "    \n",
    "    country_names = []\n",
    "    for cc in riv.attrib['country'].split(' '):\n",
    "        country_names.append(dfcc.loc[cc]['index'])\n",
    "    \n",
    "    river['country_names'] = country_names\n",
    "    river_dict[rid] = river\n",
    "    \n",
    "dfr = pd.DataFrame.from_dict(river_dict, orient='index')\n",
    "dfr.length = dfr.length.astype(float)\n",
    "dfr.sort_values(by='length', ascending=False).head(1)"
   ]
  },
  {
   "cell_type": "code",
   "execution_count": 18,
   "metadata": {
    "collapsed": false
   },
   "outputs": [
    {
     "ename": "NameError",
     "evalue": "name 'dfcc' is not defined",
     "output_type": "error",
     "traceback": [
      "\u001b[0;31m---------------------------------------------------------------------------\u001b[0m",
      "\u001b[0;31mNameError\u001b[0m                                 Traceback (most recent call last)",
      "\u001b[0;32m<ipython-input-18-86610b8f2858>\u001b[0m in \u001b[0;36m<module>\u001b[0;34m()\u001b[0m\n\u001b[1;32m     17\u001b[0m     \u001b[0mcountry_names\u001b[0m \u001b[0;34m=\u001b[0m \u001b[0;34m[\u001b[0m\u001b[0;34m]\u001b[0m\u001b[0;34m\u001b[0m\u001b[0m\n\u001b[1;32m     18\u001b[0m     \u001b[0;32mfor\u001b[0m \u001b[0mcc\u001b[0m \u001b[0;32min\u001b[0m \u001b[0mlk\u001b[0m\u001b[0;34m.\u001b[0m\u001b[0mattrib\u001b[0m\u001b[0;34m[\u001b[0m\u001b[0;34m'country'\u001b[0m\u001b[0;34m]\u001b[0m\u001b[0;34m.\u001b[0m\u001b[0msplit\u001b[0m\u001b[0;34m(\u001b[0m\u001b[0;34m' '\u001b[0m\u001b[0;34m)\u001b[0m\u001b[0;34m:\u001b[0m\u001b[0;34m\u001b[0m\u001b[0m\n\u001b[0;32m---> 19\u001b[0;31m         \u001b[0mcountry_names\u001b[0m\u001b[0;34m.\u001b[0m\u001b[0mappend\u001b[0m\u001b[0;34m(\u001b[0m\u001b[0mdfcc\u001b[0m\u001b[0;34m.\u001b[0m\u001b[0mloc\u001b[0m\u001b[0;34m[\u001b[0m\u001b[0mcc\u001b[0m\u001b[0;34m]\u001b[0m\u001b[0;34m[\u001b[0m\u001b[0;34m'index'\u001b[0m\u001b[0;34m]\u001b[0m\u001b[0;34m)\u001b[0m\u001b[0;34m\u001b[0m\u001b[0m\n\u001b[0m\u001b[1;32m     20\u001b[0m \u001b[0;34m\u001b[0m\u001b[0m\n\u001b[1;32m     21\u001b[0m     \u001b[0mlake\u001b[0m\u001b[0;34m[\u001b[0m\u001b[0;34m'country_names'\u001b[0m\u001b[0;34m]\u001b[0m \u001b[0;34m=\u001b[0m \u001b[0mcountry_names\u001b[0m\u001b[0;34m\u001b[0m\u001b[0m\n",
      "\u001b[0;31mNameError\u001b[0m: name 'dfcc' is not defined"
     ]
    }
   ],
   "source": [
    "# Name and Country of b) largest lake\n",
    "# TODO: Write a function to generate these dicts.\n",
    "\n",
    "lake_dict = {}\n",
    "for lk in root.iter('lake'):\n",
    "    lake = {}\n",
    "    lid = lk.attrib['id']\n",
    "    lake['name'] = lk.find('name').text\n",
    "    lake['ccodes'] = lk.attrib['country']\n",
    "    \n",
    "    try:\n",
    "        lake['area'] = float(lk.find('area').text)\n",
    "    except:\n",
    "        lake['area'] = np.nan\n",
    "        \n",
    "    \n",
    "    country_names = []\n",
    "    for cc in lk.attrib['country'].split(' '):\n",
    "        country_names.append(dfcc.loc[cc]['index'])\n",
    "    \n",
    "    lake['country_names'] = country_names\n",
    "    lake_dict[lid] = lake\n",
    "    \n",
    "dflk = pd.DataFrame.from_dict(lake_dict, orient='index')\n",
    "dflk.area = dflk.area.astype(float)\n",
    "dflk.sort_values(by='area', ascending=False).head(10)[['name', 'area', 'country_names']]"
   ]
  },
  {
   "cell_type": "code",
   "execution_count": 19,
   "metadata": {
    "collapsed": false
   },
   "outputs": [
    {
     "ename": "NameError",
     "evalue": "name 'dfcc' is not defined",
     "output_type": "error",
     "traceback": [
      "\u001b[0;31m---------------------------------------------------------------------------\u001b[0m",
      "\u001b[0;31mNameError\u001b[0m                                 Traceback (most recent call last)",
      "\u001b[0;32m<ipython-input-19-34e5abab99ba>\u001b[0m in \u001b[0;36m<module>\u001b[0;34m()\u001b[0m\n\u001b[1;32m     17\u001b[0m     \u001b[0mcountry_names\u001b[0m \u001b[0;34m=\u001b[0m \u001b[0;34m[\u001b[0m\u001b[0;34m]\u001b[0m\u001b[0;34m\u001b[0m\u001b[0m\n\u001b[1;32m     18\u001b[0m     \u001b[0;32mfor\u001b[0m \u001b[0mcc\u001b[0m \u001b[0;32min\u001b[0m \u001b[0map\u001b[0m\u001b[0;34m.\u001b[0m\u001b[0mattrib\u001b[0m\u001b[0;34m[\u001b[0m\u001b[0;34m'country'\u001b[0m\u001b[0;34m]\u001b[0m\u001b[0;34m.\u001b[0m\u001b[0msplit\u001b[0m\u001b[0;34m(\u001b[0m\u001b[0;34m' '\u001b[0m\u001b[0;34m)\u001b[0m\u001b[0;34m:\u001b[0m\u001b[0;34m\u001b[0m\u001b[0m\n\u001b[0;32m---> 19\u001b[0;31m         \u001b[0mcountry_names\u001b[0m\u001b[0;34m.\u001b[0m\u001b[0mappend\u001b[0m\u001b[0;34m(\u001b[0m\u001b[0mdfcc\u001b[0m\u001b[0;34m.\u001b[0m\u001b[0mloc\u001b[0m\u001b[0;34m[\u001b[0m\u001b[0mcc\u001b[0m\u001b[0;34m]\u001b[0m\u001b[0;34m[\u001b[0m\u001b[0;34m'index'\u001b[0m\u001b[0;34m]\u001b[0m\u001b[0;34m)\u001b[0m\u001b[0;34m\u001b[0m\u001b[0m\n\u001b[0m\u001b[1;32m     20\u001b[0m \u001b[0;34m\u001b[0m\u001b[0m\n\u001b[1;32m     21\u001b[0m     \u001b[0mairport\u001b[0m\u001b[0;34m[\u001b[0m\u001b[0;34m'country_names'\u001b[0m\u001b[0;34m]\u001b[0m \u001b[0;34m=\u001b[0m \u001b[0mcountry_names\u001b[0m\u001b[0;34m\u001b[0m\u001b[0m\n",
      "\u001b[0;31mNameError\u001b[0m: name 'dfcc' is not defined"
     ]
    }
   ],
   "source": [
    "# Name and Country of c) airport at highest elevation\n",
    "# TODO: Write a function to generate these dicts.\n",
    "\n",
    "air_dict = {}\n",
    "for ap in root.iter('airport'):\n",
    "    airport = {}\n",
    "    aid = ap.attrib['iatacode']\n",
    "    airport['name'] = ap.find('name').text\n",
    "    airport['ccodes'] = ap.attrib['country']\n",
    "    \n",
    "    try:\n",
    "        airport['elevation'] = float(ap.find('elevation').text)\n",
    "    except:\n",
    "        airport['elevation'] = np.nan\n",
    "        \n",
    "    \n",
    "    country_names = []\n",
    "    for cc in ap.attrib['country'].split(' '):\n",
    "        country_names.append(dfcc.loc[cc]['index'])\n",
    "    \n",
    "    airport['country_names'] = country_names\n",
    "    air_dict[aid] = airport\n",
    "\n",
    "dfair = pd.DataFrame.from_dict(air_dict, orient='index')\n",
    "dfair.area = dfair.elevation.astype(float)\n",
    "dfair.sort_values(by='elevation', ascending=False).head(10)[['name', 'elevation', 'country_names']]"
   ]
  }
 ],
 "metadata": {
  "kernelspec": {
   "display_name": "Python 3",
   "language": "python",
   "name": "python3"
  },
  "language_info": {
   "codemirror_mode": {
    "name": "ipython",
    "version": 3
   },
   "file_extension": ".py",
   "mimetype": "text/x-python",
   "name": "python",
   "nbconvert_exporter": "python",
   "pygments_lexer": "ipython3",
   "version": "3.5.1"
  }
 },
 "nbformat": 4,
 "nbformat_minor": 0
}
